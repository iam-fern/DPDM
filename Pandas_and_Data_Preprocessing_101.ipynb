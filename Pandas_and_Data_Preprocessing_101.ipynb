{
  "nbformat": 4,
  "nbformat_minor": 0,
  "metadata": {
    "colab": {
      "name": "Pandas and Data Preprocessing 101.ipynb",
      "provenance": [],
      "authorship_tag": "ABX9TyNkE7Jg+hAT1lAWOqpkEsWN",
      "include_colab_link": true
    },
    "kernelspec": {
      "name": "python3",
      "display_name": "Python 3"
    }
  },
  "cells": [
    {
      "cell_type": "markdown",
      "metadata": {
        "id": "view-in-github",
        "colab_type": "text"
      },
      "source": [
        "<a href=\"https://colab.research.google.com/github/iam-fern/DPDM/blob/master/Pandas_and_Data_Preprocessing_101.ipynb\" target=\"_parent\"><img src=\"https://colab.research.google.com/assets/colab-badge.svg\" alt=\"Open In Colab\"/></a>"
      ]
    },
    {
      "cell_type": "markdown",
      "metadata": {
        "id": "JCHD-jvfc3yX",
        "colab_type": "text"
      },
      "source": [
        "![panda.jpg](data:image/jpeg;base64,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)"
      ]
    },
    {
      "cell_type": "code",
      "metadata": {
        "id": "FPs2GBkUcKPV",
        "colab_type": "code",
        "colab": {
          "base_uri": "https://localhost:8080/",
          "height": 121
        },
        "outputId": "631ce336-d69b-4cf3-f929-5d80048919f9"
      },
      "source": [
        "from google.colab import drive\n",
        "drive.mount('/content/drive')\n",
        "\n",
        "base_path = '/content/drive/My Drive/DWDM_material'"
      ],
      "execution_count": 3,
      "outputs": [
        {
          "output_type": "stream",
          "text": [
            "Go to this URL in a browser: https://accounts.google.com/o/oauth2/auth?client_id=947318989803-6bn6qk8qdgf4n4g3pfee6491hc0brc4i.apps.googleusercontent.com&redirect_uri=urn%3aietf%3awg%3aoauth%3a2.0%3aoob&scope=email%20https%3a%2f%2fwww.googleapis.com%2fauth%2fdocs.test%20https%3a%2f%2fwww.googleapis.com%2fauth%2fdrive%20https%3a%2f%2fwww.googleapis.com%2fauth%2fdrive.photos.readonly%20https%3a%2f%2fwww.googleapis.com%2fauth%2fpeopleapi.readonly&response_type=code\n",
            "\n",
            "Enter your authorization code:\n",
            "··········\n",
            "Mounted at /content/drive\n"
          ],
          "name": "stdout"
        }
      ]
    },
    {
      "cell_type": "code",
      "metadata": {
        "id": "_QHxDyMyjnB-",
        "colab_type": "code",
        "colab": {}
      },
      "source": [
        "import os\n",
        "import pandas as pd"
      ],
      "execution_count": 8,
      "outputs": []
    },
    {
      "cell_type": "code",
      "metadata": {
        "id": "_DjsUYxRkqJO",
        "colab_type": "code",
        "colab": {}
      },
      "source": [
        "search_click = os.path.join(base_path, 'search_click.csv')\n",
        "w_restaurant = os.path.join(base_path, 'w_restaurant.csv')"
      ],
      "execution_count": 10,
      "outputs": []
    },
    {
      "cell_type": "code",
      "metadata": {
        "id": "dudfIDXMlLJF",
        "colab_type": "code",
        "colab": {
          "base_uri": "https://localhost:8080/",
          "height": 195
        },
        "outputId": "ff4a16ff-96fd-4c2d-bb1c-b87380ab75a6"
      },
      "source": [
        "search_click_df = pd.read_csv(search_click)   \n",
        "search_click_df.head()                          # show head of the data table"
      ],
      "execution_count": 13,
      "outputs": [
        {
          "output_type": "execute_result",
          "data": {
            "text/html": [
              "<div>\n",
              "<style scoped>\n",
              "    .dataframe tbody tr th:only-of-type {\n",
              "        vertical-align: middle;\n",
              "    }\n",
              "\n",
              "    .dataframe tbody tr th {\n",
              "        vertical-align: top;\n",
              "    }\n",
              "\n",
              "    .dataframe thead th {\n",
              "        text-align: right;\n",
              "    }\n",
              "</style>\n",
              "<table border=\"1\" class=\"dataframe\">\n",
              "  <thead>\n",
              "    <tr style=\"text-align: right;\">\n",
              "      <th></th>\n",
              "      <th>click_timestamp</th>\n",
              "      <th>search_id</th>\n",
              "      <th>business_id</th>\n",
              "      <th>display_position</th>\n",
              "      <th>time_diff_nanos</th>\n",
              "      <th>ads</th>\n",
              "    </tr>\n",
              "  </thead>\n",
              "  <tbody>\n",
              "    <tr>\n",
              "      <th>0</th>\n",
              "      <td>11:38.9</td>\n",
              "      <td>5c004472-5ecc-4159-9698-9f329b8e26e1</td>\n",
              "      <td>298839.0</td>\n",
              "      <td>0</td>\n",
              "      <td>2.222400e+15</td>\n",
              "      <td>True</td>\n",
              "    </tr>\n",
              "    <tr>\n",
              "      <th>1</th>\n",
              "      <td>30:51.3</td>\n",
              "      <td>5f34eca0-c04e-4c10-b600-54aa447dbd8e</td>\n",
              "      <td>171372.0</td>\n",
              "      <td>0</td>\n",
              "      <td>4.608380e+14</td>\n",
              "      <td>True</td>\n",
              "    </tr>\n",
              "    <tr>\n",
              "      <th>2</th>\n",
              "      <td>32:09.6</td>\n",
              "      <td>8dc6d1f0-11f1-4239-9dd2-5c1674c81224</td>\n",
              "      <td>16157.0</td>\n",
              "      <td>0</td>\n",
              "      <td>2.581490e+15</td>\n",
              "      <td>True</td>\n",
              "    </tr>\n",
              "    <tr>\n",
              "      <th>3</th>\n",
              "      <td>00:59.8</td>\n",
              "      <td>1a5810e9-3d1f-44b9-9a2e-26ede21c524b</td>\n",
              "      <td>89741.0</td>\n",
              "      <td>1</td>\n",
              "      <td>1.404580e+15</td>\n",
              "      <td>True</td>\n",
              "    </tr>\n",
              "    <tr>\n",
              "      <th>4</th>\n",
              "      <td>23:36.8</td>\n",
              "      <td>6bc75e0d-fc65-471e-9926-ff6be6708639</td>\n",
              "      <td>189564.0</td>\n",
              "      <td>1</td>\n",
              "      <td>9.333590e+14</td>\n",
              "      <td>True</td>\n",
              "    </tr>\n",
              "  </tbody>\n",
              "</table>\n",
              "</div>"
            ],
            "text/plain": [
              "  click_timestamp                             search_id  ...  time_diff_nanos   ads\n",
              "0         11:38.9  5c004472-5ecc-4159-9698-9f329b8e26e1  ...     2.222400e+15  True\n",
              "1         30:51.3  5f34eca0-c04e-4c10-b600-54aa447dbd8e  ...     4.608380e+14  True\n",
              "2         32:09.6  8dc6d1f0-11f1-4239-9dd2-5c1674c81224  ...     2.581490e+15  True\n",
              "3         00:59.8  1a5810e9-3d1f-44b9-9a2e-26ede21c524b  ...     1.404580e+15  True\n",
              "4         23:36.8  6bc75e0d-fc65-471e-9926-ff6be6708639  ...     9.333590e+14  True\n",
              "\n",
              "[5 rows x 6 columns]"
            ]
          },
          "metadata": {
            "tags": []
          },
          "execution_count": 13
        }
      ]
    },
    {
      "cell_type": "code",
      "metadata": {
        "id": "xuwu3yXameih",
        "colab_type": "code",
        "colab": {
          "base_uri": "https://localhost:8080/",
          "height": 366
        },
        "outputId": "0e863a7c-bda9-437a-c3b3-be430eba9f4d"
      },
      "source": [
        "w_restaurant_df = pd.read_csv(w_restaurant)\n",
        "w_restaurant_df.head()                          # show head of the data table"
      ],
      "execution_count": 14,
      "outputs": [
        {
          "output_type": "execute_result",
          "data": {
            "text/html": [
              "<div>\n",
              "<style scoped>\n",
              "    .dataframe tbody tr th:only-of-type {\n",
              "        vertical-align: middle;\n",
              "    }\n",
              "\n",
              "    .dataframe tbody tr th {\n",
              "        vertical-align: top;\n",
              "    }\n",
              "\n",
              "    .dataframe thead th {\n",
              "        text-align: right;\n",
              "    }\n",
              "</style>\n",
              "<table border=\"1\" class=\"dataframe\">\n",
              "  <thead>\n",
              "    <tr style=\"text-align: right;\">\n",
              "      <th></th>\n",
              "      <th>id</th>\n",
              "      <th>name</th>\n",
              "      <th>domain_id</th>\n",
              "      <th>closed</th>\n",
              "      <th>city_name</th>\n",
              "      <th>zipcode</th>\n",
              "      <th>geohash</th>\n",
              "      <th>new_open</th>\n",
              "      <th>weighted_average_rating</th>\n",
              "      <th>number_of_chains</th>\n",
              "      <th>number_of_bookmarks</th>\n",
              "      <th>number_of_reviews</th>\n",
              "      <th>number_of_product_tags</th>\n",
              "      <th>total_number_of_views</th>\n",
              "      <th>number_of_checkins</th>\n",
              "      <th>number_of_menu_groups</th>\n",
              "      <th>number_of_menu_photos</th>\n",
              "      <th>category_name</th>\n",
              "      <th>price_range</th>\n",
              "      <th>avg_price</th>\n",
              "      <th>parking</th>\n",
              "      <th>credit_card_accepted</th>\n",
              "      <th>good_for_groups</th>\n",
              "      <th>good_for_kids</th>\n",
              "      <th>bookable</th>\n",
              "      <th>best_of_wongnai</th>\n",
              "      <th>wifi</th>\n",
              "      <th>number_of_seats</th>\n",
              "      <th>music_venue</th>\n",
              "      <th>hotel_restaurant</th>\n",
              "      <th>pet_friendly</th>\n",
              "      <th>delivery</th>\n",
              "    </tr>\n",
              "  </thead>\n",
              "  <tbody>\n",
              "    <tr>\n",
              "      <th>0</th>\n",
              "      <td>2</td>\n",
              "      <td>นครินทร์ทันตกรรม</td>\n",
              "      <td>2</td>\n",
              "      <td>0</td>\n",
              "      <td>Samut Songkhram</td>\n",
              "      <td>75000</td>\n",
              "      <td>w4rh7g3</td>\n",
              "      <td>0</td>\n",
              "      <td>5.000000</td>\n",
              "      <td>NaN</td>\n",
              "      <td>NaN</td>\n",
              "      <td>1</td>\n",
              "      <td>0</td>\n",
              "      <td>3016</td>\n",
              "      <td>0</td>\n",
              "      <td>0</td>\n",
              "      <td>0</td>\n",
              "      <td>Orthodontic</td>\n",
              "      <td>NaN</td>\n",
              "      <td>NaN</td>\n",
              "      <td>3.0</td>\n",
              "      <td>0.0</td>\n",
              "      <td>NaN</td>\n",
              "      <td>NaN</td>\n",
              "      <td>NaN</td>\n",
              "      <td>NaN</td>\n",
              "      <td>NaN</td>\n",
              "      <td>13.0</td>\n",
              "      <td>NaN</td>\n",
              "      <td>NaN</td>\n",
              "      <td>NaN</td>\n",
              "      <td>NaN</td>\n",
              "    </tr>\n",
              "    <tr>\n",
              "      <th>1</th>\n",
              "      <td>4</td>\n",
              "      <td>Corner House</td>\n",
              "      <td>1</td>\n",
              "      <td>0</td>\n",
              "      <td>Bangkok Metropolitan Region</td>\n",
              "      <td>12150</td>\n",
              "      <td>w4rx73h</td>\n",
              "      <td>0</td>\n",
              "      <td>2.000000</td>\n",
              "      <td>NaN</td>\n",
              "      <td>NaN</td>\n",
              "      <td>1</td>\n",
              "      <td>0</td>\n",
              "      <td>321</td>\n",
              "      <td>0</td>\n",
              "      <td>0</td>\n",
              "      <td>1</td>\n",
              "      <td>Quick Meal</td>\n",
              "      <td>1.0</td>\n",
              "      <td>NaN</td>\n",
              "      <td>1.0</td>\n",
              "      <td>NaN</td>\n",
              "      <td>NaN</td>\n",
              "      <td>NaN</td>\n",
              "      <td>NaN</td>\n",
              "      <td>NaN</td>\n",
              "      <td>NaN</td>\n",
              "      <td>NaN</td>\n",
              "      <td>NaN</td>\n",
              "      <td>NaN</td>\n",
              "      <td>NaN</td>\n",
              "      <td>NaN</td>\n",
              "    </tr>\n",
              "    <tr>\n",
              "      <th>2</th>\n",
              "      <td>5</td>\n",
              "      <td>วัดโลกยสุธาราม</td>\n",
              "      <td>4</td>\n",
              "      <td>0</td>\n",
              "      <td>Phra Nakhon Si Ayutthaya</td>\n",
              "      <td>13000</td>\n",
              "      <td>w4x98jk</td>\n",
              "      <td>0</td>\n",
              "      <td>4.000000</td>\n",
              "      <td>NaN</td>\n",
              "      <td>1.0</td>\n",
              "      <td>0</td>\n",
              "      <td>0</td>\n",
              "      <td>167</td>\n",
              "      <td>0</td>\n",
              "      <td>0</td>\n",
              "      <td>0</td>\n",
              "      <td>Historical/Religion</td>\n",
              "      <td>NaN</td>\n",
              "      <td>NaN</td>\n",
              "      <td>1.0</td>\n",
              "      <td>NaN</td>\n",
              "      <td>NaN</td>\n",
              "      <td>NaN</td>\n",
              "      <td>NaN</td>\n",
              "      <td>NaN</td>\n",
              "      <td>NaN</td>\n",
              "      <td>NaN</td>\n",
              "      <td>NaN</td>\n",
              "      <td>NaN</td>\n",
              "      <td>NaN</td>\n",
              "      <td>NaN</td>\n",
              "    </tr>\n",
              "    <tr>\n",
              "      <th>3</th>\n",
              "      <td>6</td>\n",
              "      <td>นันท์คาราโอเกะ</td>\n",
              "      <td>1</td>\n",
              "      <td>0</td>\n",
              "      <td>Bangkok Metropolitan Region</td>\n",
              "      <td>10700</td>\n",
              "      <td>w4rqw9q</td>\n",
              "      <td>0</td>\n",
              "      <td>0.000000</td>\n",
              "      <td>NaN</td>\n",
              "      <td>NaN</td>\n",
              "      <td>0</td>\n",
              "      <td>0</td>\n",
              "      <td>901</td>\n",
              "      <td>0</td>\n",
              "      <td>0</td>\n",
              "      <td>0</td>\n",
              "      <td>Karaoke</td>\n",
              "      <td>NaN</td>\n",
              "      <td>NaN</td>\n",
              "      <td>NaN</td>\n",
              "      <td>NaN</td>\n",
              "      <td>NaN</td>\n",
              "      <td>NaN</td>\n",
              "      <td>NaN</td>\n",
              "      <td>NaN</td>\n",
              "      <td>NaN</td>\n",
              "      <td>NaN</td>\n",
              "      <td>NaN</td>\n",
              "      <td>NaN</td>\n",
              "      <td>NaN</td>\n",
              "      <td>NaN</td>\n",
              "    </tr>\n",
              "    <tr>\n",
              "      <th>4</th>\n",
              "      <td>7</td>\n",
              "      <td>Buono Caffe</td>\n",
              "      <td>1</td>\n",
              "      <td>0</td>\n",
              "      <td>Bangkok Metropolitan Region</td>\n",
              "      <td>10220</td>\n",
              "      <td>w4rx4gd</td>\n",
              "      <td>0</td>\n",
              "      <td>3.738462</td>\n",
              "      <td>NaN</td>\n",
              "      <td>15.0</td>\n",
              "      <td>3</td>\n",
              "      <td>0</td>\n",
              "      <td>2360</td>\n",
              "      <td>1</td>\n",
              "      <td>0</td>\n",
              "      <td>2</td>\n",
              "      <td>Café/Coffee Shop</td>\n",
              "      <td>1.0</td>\n",
              "      <td>NaN</td>\n",
              "      <td>1.0</td>\n",
              "      <td>0.0</td>\n",
              "      <td>NaN</td>\n",
              "      <td>NaN</td>\n",
              "      <td>NaN</td>\n",
              "      <td>NaN</td>\n",
              "      <td>1.0</td>\n",
              "      <td>2.0</td>\n",
              "      <td>NaN</td>\n",
              "      <td>NaN</td>\n",
              "      <td>NaN</td>\n",
              "      <td>NaN</td>\n",
              "    </tr>\n",
              "  </tbody>\n",
              "</table>\n",
              "</div>"
            ],
            "text/plain": [
              "   id              name  domain_id  ...  hotel_restaurant pet_friendly delivery\n",
              "0   2  นครินทร์ทันตกรรม          2  ...               NaN          NaN      NaN\n",
              "1   4      Corner House          1  ...               NaN          NaN      NaN\n",
              "2   5    วัดโลกยสุธาราม          4  ...               NaN          NaN      NaN\n",
              "3   6    นันท์คาราโอเกะ          1  ...               NaN          NaN      NaN\n",
              "4   7       Buono Caffe          1  ...               NaN          NaN      NaN\n",
              "\n",
              "[5 rows x 32 columns]"
            ]
          },
          "metadata": {
            "tags": []
          },
          "execution_count": 14
        }
      ]
    },
    {
      "cell_type": "markdown",
      "metadata": {
        "id": "yRDQPwgRpUmL",
        "colab_type": "text"
      },
      "source": [
        "shape คือดูรูปร่างของตารางว่าเป็นอย่างไร"
      ]
    },
    {
      "cell_type": "code",
      "metadata": {
        "id": "eyAK1u9am0Ff",
        "colab_type": "code",
        "colab": {
          "base_uri": "https://localhost:8080/",
          "height": 34
        },
        "outputId": "454ffce8-3032-4d2f-db69-7e570f1c0625"
      },
      "source": [
        "search_click_df.shape"
      ],
      "execution_count": 15,
      "outputs": [
        {
          "output_type": "execute_result",
          "data": {
            "text/plain": [
              "(1048575, 6)"
            ]
          },
          "metadata": {
            "tags": []
          },
          "execution_count": 15
        }
      ]
    },
    {
      "cell_type": "code",
      "metadata": {
        "id": "2OUDyZuFpNn9",
        "colab_type": "code",
        "colab": {
          "base_uri": "https://localhost:8080/",
          "height": 34
        },
        "outputId": "88aed683-77bd-4b8c-bf2f-a42b86cee8b6"
      },
      "source": [
        "w_restaurant_df.shape     # จำนวน row กับจำนวน colum มี 32 แอคทิบิว/ฟีเจอร์"
      ],
      "execution_count": 16,
      "outputs": [
        {
          "output_type": "execute_result",
          "data": {
            "text/plain": [
              "(246847, 32)"
            ]
          },
          "metadata": {
            "tags": []
          },
          "execution_count": 16
        }
      ]
    },
    {
      "cell_type": "code",
      "metadata": {
        "id": "3K1gkgQ1pSeV",
        "colab_type": "code",
        "colab": {
          "base_uri": "https://localhost:8080/",
          "height": 34
        },
        "outputId": "67fc8f8c-8050-461c-91e4-ef22979b1a69"
      },
      "source": [
        "search_click_df.shape[0]"
      ],
      "execution_count": 17,
      "outputs": [
        {
          "output_type": "execute_result",
          "data": {
            "text/plain": [
              "1048575"
            ]
          },
          "metadata": {
            "tags": []
          },
          "execution_count": 17
        }
      ]
    },
    {
      "cell_type": "markdown",
      "metadata": {
        "id": "VbXjbwW8p49C",
        "colab_type": "text"
      },
      "source": [
        "## 0. Point to data in the table"
      ]
    },
    {
      "cell_type": "code",
      "metadata": {
        "id": "PVjJUeu_puD3",
        "colab_type": "code",
        "colab": {
          "base_uri": "https://localhost:8080/",
          "height": 218
        },
        "outputId": "6c16149b-d862-4f6d-dba4-bc1d509252e3"
      },
      "source": [
        "search_click_df['search_id']"
      ],
      "execution_count": 18,
      "outputs": [
        {
          "output_type": "execute_result",
          "data": {
            "text/plain": [
              "0          5c004472-5ecc-4159-9698-9f329b8e26e1\n",
              "1          5f34eca0-c04e-4c10-b600-54aa447dbd8e\n",
              "2          8dc6d1f0-11f1-4239-9dd2-5c1674c81224\n",
              "3          1a5810e9-3d1f-44b9-9a2e-26ede21c524b\n",
              "4          6bc75e0d-fc65-471e-9926-ff6be6708639\n",
              "                           ...                 \n",
              "1048570    99aab616-6fc5-4fbf-994b-4aebee7bb360\n",
              "1048571    d70a2c5d-ee94-4e4c-9f7c-c5faac6db12a\n",
              "1048572    4c1de7fe-300e-41aa-9d01-914344fc3753\n",
              "1048573    2ec0ddec-e450-4b98-9779-42b77aa7eda5\n",
              "1048574    5741d9cf-b9f1-441d-aa83-d2b0179bf874\n",
              "Name: search_id, Length: 1048575, dtype: object"
            ]
          },
          "metadata": {
            "tags": []
          },
          "execution_count": 18
        }
      ]
    },
    {
      "cell_type": "code",
      "metadata": {
        "id": "8N74_YspqWsY",
        "colab_type": "code",
        "colab": {
          "base_uri": "https://localhost:8080/",
          "height": 35
        },
        "outputId": "afd03350-5d3c-4fa7-c18e-281c963fd65e"
      },
      "source": [
        "search_click_df['search_id'][0]         # เรียกใช้เฉพาะบาง colum"
      ],
      "execution_count": 19,
      "outputs": [
        {
          "output_type": "execute_result",
          "data": {
            "application/vnd.google.colaboratory.intrinsic+json": {
              "type": "string"
            },
            "text/plain": [
              "'5c004472-5ecc-4159-9698-9f329b8e26e1'"
            ]
          },
          "metadata": {
            "tags": []
          },
          "execution_count": 19
        }
      ]
    },
    {
      "cell_type": "code",
      "metadata": {
        "id": "01zqv880qaqJ",
        "colab_type": "code",
        "colab": {
          "base_uri": "https://localhost:8080/",
          "height": 402
        },
        "outputId": "67ed5b2c-98e5-4f46-ca62-ecfc19089273"
      },
      "source": [
        "w_restaurant_df[['name', 'city_name', 'weighted_average_rating']]"
      ],
      "execution_count": 20,
      "outputs": [
        {
          "output_type": "execute_result",
          "data": {
            "text/html": [
              "<div>\n",
              "<style scoped>\n",
              "    .dataframe tbody tr th:only-of-type {\n",
              "        vertical-align: middle;\n",
              "    }\n",
              "\n",
              "    .dataframe tbody tr th {\n",
              "        vertical-align: top;\n",
              "    }\n",
              "\n",
              "    .dataframe thead th {\n",
              "        text-align: right;\n",
              "    }\n",
              "</style>\n",
              "<table border=\"1\" class=\"dataframe\">\n",
              "  <thead>\n",
              "    <tr style=\"text-align: right;\">\n",
              "      <th></th>\n",
              "      <th>name</th>\n",
              "      <th>city_name</th>\n",
              "      <th>weighted_average_rating</th>\n",
              "    </tr>\n",
              "  </thead>\n",
              "  <tbody>\n",
              "    <tr>\n",
              "      <th>0</th>\n",
              "      <td>นครินทร์ทันตกรรม</td>\n",
              "      <td>Samut Songkhram</td>\n",
              "      <td>5.000000</td>\n",
              "    </tr>\n",
              "    <tr>\n",
              "      <th>1</th>\n",
              "      <td>Corner House</td>\n",
              "      <td>Bangkok Metropolitan Region</td>\n",
              "      <td>2.000000</td>\n",
              "    </tr>\n",
              "    <tr>\n",
              "      <th>2</th>\n",
              "      <td>วัดโลกยสุธาราม</td>\n",
              "      <td>Phra Nakhon Si Ayutthaya</td>\n",
              "      <td>4.000000</td>\n",
              "    </tr>\n",
              "    <tr>\n",
              "      <th>3</th>\n",
              "      <td>นันท์คาราโอเกะ</td>\n",
              "      <td>Bangkok Metropolitan Region</td>\n",
              "      <td>0.000000</td>\n",
              "    </tr>\n",
              "    <tr>\n",
              "      <th>4</th>\n",
              "      <td>Buono Caffe</td>\n",
              "      <td>Bangkok Metropolitan Region</td>\n",
              "      <td>3.738462</td>\n",
              "    </tr>\n",
              "    <tr>\n",
              "      <th>...</th>\n",
              "      <td>...</td>\n",
              "      <td>...</td>\n",
              "      <td>...</td>\n",
              "    </tr>\n",
              "    <tr>\n",
              "      <th>246842</th>\n",
              "      <td>Sushi Tama</td>\n",
              "      <td>Bangkok Metropolitan Region</td>\n",
              "      <td>3.663522</td>\n",
              "    </tr>\n",
              "    <tr>\n",
              "      <th>246843</th>\n",
              "      <td>สะบายดี คาราโอเกะ</td>\n",
              "      <td>Bangkok Metropolitan Region</td>\n",
              "      <td>0.000000</td>\n",
              "    </tr>\n",
              "    <tr>\n",
              "      <th>246844</th>\n",
              "      <td>สเต็กแม่&amp;กาแฟลูก</td>\n",
              "      <td>Bangkok Metropolitan Region</td>\n",
              "      <td>4.000000</td>\n",
              "    </tr>\n",
              "    <tr>\n",
              "      <th>246845</th>\n",
              "      <td>Mom Made</td>\n",
              "      <td>Nakhon Si Thammarat</td>\n",
              "      <td>5.000000</td>\n",
              "    </tr>\n",
              "    <tr>\n",
              "      <th>246846</th>\n",
              "      <td>ก๋วยเตี๋ยวหมูน้ำตก ก๋วยเตี๋ยวเรือทอง</td>\n",
              "      <td>Suphan Buri</td>\n",
              "      <td>3.000000</td>\n",
              "    </tr>\n",
              "  </tbody>\n",
              "</table>\n",
              "<p>246847 rows × 3 columns</p>\n",
              "</div>"
            ],
            "text/plain": [
              "                                        name  ... weighted_average_rating\n",
              "0                           นครินทร์ทันตกรรม  ...                5.000000\n",
              "1                               Corner House  ...                2.000000\n",
              "2                             วัดโลกยสุธาราม  ...                4.000000\n",
              "3                             นันท์คาราโอเกะ  ...                0.000000\n",
              "4                                Buono Caffe  ...                3.738462\n",
              "...                                      ...  ...                     ...\n",
              "246842                            Sushi Tama  ...                3.663522\n",
              "246843                     สะบายดี คาราโอเกะ  ...                0.000000\n",
              "246844                      สเต็กแม่&กาแฟลูก  ...                4.000000\n",
              "246845                              Mom Made  ...                5.000000\n",
              "246846  ก๋วยเตี๋ยวหมูน้ำตก ก๋วยเตี๋ยวเรือทอง  ...                3.000000\n",
              "\n",
              "[246847 rows x 3 columns]"
            ]
          },
          "metadata": {
            "tags": []
          },
          "execution_count": 20
        }
      ]
    },
    {
      "cell_type": "markdown",
      "metadata": {
        "id": "s1wy6ivarYpt",
        "colab_type": "text"
      },
      "source": [
        "# .iloc จะมองตัวตารางเป็นเมทริกซ์ หน้าคือแถว หลังคือหลัก"
      ]
    },
    {
      "cell_type": "code",
      "metadata": {
        "id": "BOZW3jC5rKVk",
        "colab_type": "code",
        "colab": {
          "base_uri": "https://localhost:8080/",
          "height": 35
        },
        "outputId": "4f739668-ffa7-4e29-fb7a-8586e5f8c076"
      },
      "source": [
        "search_click_df.iloc[0, 1]"
      ],
      "execution_count": 21,
      "outputs": [
        {
          "output_type": "execute_result",
          "data": {
            "application/vnd.google.colaboratory.intrinsic+json": {
              "type": "string"
            },
            "text/plain": [
              "'5c004472-5ecc-4159-9698-9f329b8e26e1'"
            ]
          },
          "metadata": {
            "tags": []
          },
          "execution_count": 21
        }
      ]
    },
    {
      "cell_type": "code",
      "metadata": {
        "id": "ttoHSv32rQzI",
        "colab_type": "code",
        "colab": {
          "base_uri": "https://localhost:8080/",
          "height": 343
        },
        "outputId": "7e12284c-7383-4eb4-da4f-c99cbb73d79a"
      },
      "source": [
        "search_click_df.iloc[:10 , :2]"
      ],
      "execution_count": 22,
      "outputs": [
        {
          "output_type": "execute_result",
          "data": {
            "text/html": [
              "<div>\n",
              "<style scoped>\n",
              "    .dataframe tbody tr th:only-of-type {\n",
              "        vertical-align: middle;\n",
              "    }\n",
              "\n",
              "    .dataframe tbody tr th {\n",
              "        vertical-align: top;\n",
              "    }\n",
              "\n",
              "    .dataframe thead th {\n",
              "        text-align: right;\n",
              "    }\n",
              "</style>\n",
              "<table border=\"1\" class=\"dataframe\">\n",
              "  <thead>\n",
              "    <tr style=\"text-align: right;\">\n",
              "      <th></th>\n",
              "      <th>click_timestamp</th>\n",
              "      <th>search_id</th>\n",
              "    </tr>\n",
              "  </thead>\n",
              "  <tbody>\n",
              "    <tr>\n",
              "      <th>0</th>\n",
              "      <td>11:38.9</td>\n",
              "      <td>5c004472-5ecc-4159-9698-9f329b8e26e1</td>\n",
              "    </tr>\n",
              "    <tr>\n",
              "      <th>1</th>\n",
              "      <td>30:51.3</td>\n",
              "      <td>5f34eca0-c04e-4c10-b600-54aa447dbd8e</td>\n",
              "    </tr>\n",
              "    <tr>\n",
              "      <th>2</th>\n",
              "      <td>32:09.6</td>\n",
              "      <td>8dc6d1f0-11f1-4239-9dd2-5c1674c81224</td>\n",
              "    </tr>\n",
              "    <tr>\n",
              "      <th>3</th>\n",
              "      <td>00:59.8</td>\n",
              "      <td>1a5810e9-3d1f-44b9-9a2e-26ede21c524b</td>\n",
              "    </tr>\n",
              "    <tr>\n",
              "      <th>4</th>\n",
              "      <td>23:36.8</td>\n",
              "      <td>6bc75e0d-fc65-471e-9926-ff6be6708639</td>\n",
              "    </tr>\n",
              "    <tr>\n",
              "      <th>5</th>\n",
              "      <td>48:16.7</td>\n",
              "      <td>92ea02ba-2c89-4efd-973c-e23526c531de</td>\n",
              "    </tr>\n",
              "    <tr>\n",
              "      <th>6</th>\n",
              "      <td>39:18.4</td>\n",
              "      <td>79d61918-fb3e-4181-99b6-7a7abddfcdb1</td>\n",
              "    </tr>\n",
              "    <tr>\n",
              "      <th>7</th>\n",
              "      <td>33:39.0</td>\n",
              "      <td>7f8b2b57-dea1-4fe1-84c8-5a7d63750e47</td>\n",
              "    </tr>\n",
              "    <tr>\n",
              "      <th>8</th>\n",
              "      <td>07:48.3</td>\n",
              "      <td>3d9217bb-3eae-42b5-8cf3-a756efae2cfa</td>\n",
              "    </tr>\n",
              "    <tr>\n",
              "      <th>9</th>\n",
              "      <td>41:25.4</td>\n",
              "      <td>a2cb0d41-6e1f-4169-9140-cb671fbb41dc</td>\n",
              "    </tr>\n",
              "  </tbody>\n",
              "</table>\n",
              "</div>"
            ],
            "text/plain": [
              "  click_timestamp                             search_id\n",
              "0         11:38.9  5c004472-5ecc-4159-9698-9f329b8e26e1\n",
              "1         30:51.3  5f34eca0-c04e-4c10-b600-54aa447dbd8e\n",
              "2         32:09.6  8dc6d1f0-11f1-4239-9dd2-5c1674c81224\n",
              "3         00:59.8  1a5810e9-3d1f-44b9-9a2e-26ede21c524b\n",
              "4         23:36.8  6bc75e0d-fc65-471e-9926-ff6be6708639\n",
              "5         48:16.7  92ea02ba-2c89-4efd-973c-e23526c531de\n",
              "6         39:18.4  79d61918-fb3e-4181-99b6-7a7abddfcdb1\n",
              "7         33:39.0  7f8b2b57-dea1-4fe1-84c8-5a7d63750e47\n",
              "8         07:48.3  3d9217bb-3eae-42b5-8cf3-a756efae2cfa\n",
              "9         41:25.4  a2cb0d41-6e1f-4169-9140-cb671fbb41dc"
            ]
          },
          "metadata": {
            "tags": []
          },
          "execution_count": 22
        }
      ]
    },
    {
      "cell_type": "markdown",
      "metadata": {
        "id": "qn54UdHirrU_",
        "colab_type": "text"
      },
      "source": [
        "## 1. Missing Value"
      ]
    },
    {
      "cell_type": "code",
      "metadata": {
        "id": "ePx8GxZhrpmM",
        "colab_type": "code",
        "colab": {
          "base_uri": "https://localhost:8080/",
          "height": 402
        },
        "outputId": "e684a3f4-3181-4d58-e0c1-0ebd21b9822b"
      },
      "source": [
        "search_click_df.isnull()          # จะเป็นการเช็คว่าเจอ missing value หรือไม่ ถ้าไม่มีก็จะขึ้นว่า false ว่าไม่เจอ"
      ],
      "execution_count": 23,
      "outputs": [
        {
          "output_type": "execute_result",
          "data": {
            "text/html": [
              "<div>\n",
              "<style scoped>\n",
              "    .dataframe tbody tr th:only-of-type {\n",
              "        vertical-align: middle;\n",
              "    }\n",
              "\n",
              "    .dataframe tbody tr th {\n",
              "        vertical-align: top;\n",
              "    }\n",
              "\n",
              "    .dataframe thead th {\n",
              "        text-align: right;\n",
              "    }\n",
              "</style>\n",
              "<table border=\"1\" class=\"dataframe\">\n",
              "  <thead>\n",
              "    <tr style=\"text-align: right;\">\n",
              "      <th></th>\n",
              "      <th>click_timestamp</th>\n",
              "      <th>search_id</th>\n",
              "      <th>business_id</th>\n",
              "      <th>display_position</th>\n",
              "      <th>time_diff_nanos</th>\n",
              "      <th>ads</th>\n",
              "    </tr>\n",
              "  </thead>\n",
              "  <tbody>\n",
              "    <tr>\n",
              "      <th>0</th>\n",
              "      <td>False</td>\n",
              "      <td>False</td>\n",
              "      <td>False</td>\n",
              "      <td>False</td>\n",
              "      <td>False</td>\n",
              "      <td>False</td>\n",
              "    </tr>\n",
              "    <tr>\n",
              "      <th>1</th>\n",
              "      <td>False</td>\n",
              "      <td>False</td>\n",
              "      <td>False</td>\n",
              "      <td>False</td>\n",
              "      <td>False</td>\n",
              "      <td>False</td>\n",
              "    </tr>\n",
              "    <tr>\n",
              "      <th>2</th>\n",
              "      <td>False</td>\n",
              "      <td>False</td>\n",
              "      <td>False</td>\n",
              "      <td>False</td>\n",
              "      <td>False</td>\n",
              "      <td>False</td>\n",
              "    </tr>\n",
              "    <tr>\n",
              "      <th>3</th>\n",
              "      <td>False</td>\n",
              "      <td>False</td>\n",
              "      <td>False</td>\n",
              "      <td>False</td>\n",
              "      <td>False</td>\n",
              "      <td>False</td>\n",
              "    </tr>\n",
              "    <tr>\n",
              "      <th>4</th>\n",
              "      <td>False</td>\n",
              "      <td>False</td>\n",
              "      <td>False</td>\n",
              "      <td>False</td>\n",
              "      <td>False</td>\n",
              "      <td>False</td>\n",
              "    </tr>\n",
              "    <tr>\n",
              "      <th>...</th>\n",
              "      <td>...</td>\n",
              "      <td>...</td>\n",
              "      <td>...</td>\n",
              "      <td>...</td>\n",
              "      <td>...</td>\n",
              "      <td>...</td>\n",
              "    </tr>\n",
              "    <tr>\n",
              "      <th>1048570</th>\n",
              "      <td>False</td>\n",
              "      <td>False</td>\n",
              "      <td>False</td>\n",
              "      <td>False</td>\n",
              "      <td>False</td>\n",
              "      <td>False</td>\n",
              "    </tr>\n",
              "    <tr>\n",
              "      <th>1048571</th>\n",
              "      <td>False</td>\n",
              "      <td>False</td>\n",
              "      <td>False</td>\n",
              "      <td>False</td>\n",
              "      <td>False</td>\n",
              "      <td>False</td>\n",
              "    </tr>\n",
              "    <tr>\n",
              "      <th>1048572</th>\n",
              "      <td>False</td>\n",
              "      <td>False</td>\n",
              "      <td>False</td>\n",
              "      <td>False</td>\n",
              "      <td>False</td>\n",
              "      <td>False</td>\n",
              "    </tr>\n",
              "    <tr>\n",
              "      <th>1048573</th>\n",
              "      <td>False</td>\n",
              "      <td>False</td>\n",
              "      <td>False</td>\n",
              "      <td>False</td>\n",
              "      <td>False</td>\n",
              "      <td>False</td>\n",
              "    </tr>\n",
              "    <tr>\n",
              "      <th>1048574</th>\n",
              "      <td>False</td>\n",
              "      <td>False</td>\n",
              "      <td>False</td>\n",
              "      <td>False</td>\n",
              "      <td>False</td>\n",
              "      <td>False</td>\n",
              "    </tr>\n",
              "  </tbody>\n",
              "</table>\n",
              "<p>1048575 rows × 6 columns</p>\n",
              "</div>"
            ],
            "text/plain": [
              "         click_timestamp  search_id  ...  time_diff_nanos    ads\n",
              "0                  False      False  ...            False  False\n",
              "1                  False      False  ...            False  False\n",
              "2                  False      False  ...            False  False\n",
              "3                  False      False  ...            False  False\n",
              "4                  False      False  ...            False  False\n",
              "...                  ...        ...  ...              ...    ...\n",
              "1048570            False      False  ...            False  False\n",
              "1048571            False      False  ...            False  False\n",
              "1048572            False      False  ...            False  False\n",
              "1048573            False      False  ...            False  False\n",
              "1048574            False      False  ...            False  False\n",
              "\n",
              "[1048575 rows x 6 columns]"
            ]
          },
          "metadata": {
            "tags": []
          },
          "execution_count": 23
        }
      ]
    },
    {
      "cell_type": "code",
      "metadata": {
        "id": "bfvoTl4_r2E7",
        "colab_type": "code",
        "colab": {
          "base_uri": "https://localhost:8080/",
          "height": 134
        },
        "outputId": "207f9daf-d880-4511-a7e5-430ee7814d2e"
      },
      "source": [
        "search_click_df.isnull().any()        # สรุปความจริงทั้งหมดในฝั่ง colum"
      ],
      "execution_count": 24,
      "outputs": [
        {
          "output_type": "execute_result",
          "data": {
            "text/plain": [
              "click_timestamp     False\n",
              "search_id            True\n",
              "business_id          True\n",
              "display_position    False\n",
              "time_diff_nanos     False\n",
              "ads                 False\n",
              "dtype: bool"
            ]
          },
          "metadata": {
            "tags": []
          },
          "execution_count": 24
        }
      ]
    },
    {
      "cell_type": "code",
      "metadata": {
        "id": "NrSgopBLsjtr",
        "colab_type": "code",
        "colab": {
          "base_uri": "https://localhost:8080/",
          "height": 134
        },
        "outputId": "8183a695-2c77-4f75-fadb-ebf1aaf08eca"
      },
      "source": [
        "search_click_df.isnull().all()"
      ],
      "execution_count": 25,
      "outputs": [
        {
          "output_type": "execute_result",
          "data": {
            "text/plain": [
              "click_timestamp     False\n",
              "search_id           False\n",
              "business_id         False\n",
              "display_position    False\n",
              "time_diff_nanos     False\n",
              "ads                 False\n",
              "dtype: bool"
            ]
          },
          "metadata": {
            "tags": []
          },
          "execution_count": 25
        }
      ]
    },
    {
      "cell_type": "code",
      "metadata": {
        "id": "NS7Iuw7vtG9e",
        "colab_type": "code",
        "colab": {
          "base_uri": "https://localhost:8080/",
          "height": 34
        },
        "outputId": "1abdd1e7-1428-48e6-c044-7d66c169cf1d"
      },
      "source": [
        "search_click_df.isnull().any().any()"
      ],
      "execution_count": 27,
      "outputs": [
        {
          "output_type": "execute_result",
          "data": {
            "text/plain": [
              "True"
            ]
          },
          "metadata": {
            "tags": []
          },
          "execution_count": 27
        }
      ]
    },
    {
      "cell_type": "code",
      "metadata": {
        "id": "Ak-4-hhctUsb",
        "colab_type": "code",
        "colab": {}
      },
      "source": [
        "search_click_df_nm = search_click_df.dropna()  # ลบแถวที่มี missing ออก"
      ],
      "execution_count": 28,
      "outputs": []
    },
    {
      "cell_type": "code",
      "metadata": {
        "id": "B9MQbnh8tt0G",
        "colab_type": "code",
        "colab": {
          "base_uri": "https://localhost:8080/",
          "height": 34
        },
        "outputId": "1f90c3e4-a08c-418f-e51c-235cc5a5aed4"
      },
      "source": [
        "search_click_df_nm.isnull().any().any()"
      ],
      "execution_count": 29,
      "outputs": [
        {
          "output_type": "execute_result",
          "data": {
            "text/plain": [
              "False"
            ]
          },
          "metadata": {
            "tags": []
          },
          "execution_count": 29
        }
      ]
    },
    {
      "cell_type": "code",
      "metadata": {
        "id": "mcszmCm8t1As",
        "colab_type": "code",
        "colab": {
          "base_uri": "https://localhost:8080/",
          "height": 50
        },
        "outputId": "4e07e5e4-869a-4216-87ed-52d4d28bdd3b"
      },
      "source": [
        "print(search_click_df.shape)\n",
        "print(search_click_df_nm.shape)"
      ],
      "execution_count": 30,
      "outputs": [
        {
          "output_type": "stream",
          "text": [
            "(1048575, 6)\n",
            "(1048206, 6)\n"
          ],
          "name": "stdout"
        }
      ]
    },
    {
      "cell_type": "code",
      "metadata": {
        "id": "xhR-glN3uAfJ",
        "colab_type": "code",
        "colab": {
          "base_uri": "https://localhost:8080/",
          "height": 34
        },
        "outputId": "f64b6635-fa0a-4180-bf21-60a4c6251924"
      },
      "source": [
        "search_click_df.shape[0] - search_click_df_nm.shape[0]"
      ],
      "execution_count": 33,
      "outputs": [
        {
          "output_type": "execute_result",
          "data": {
            "text/plain": [
              "369"
            ]
          },
          "metadata": {
            "tags": []
          },
          "execution_count": 33
        }
      ]
    },
    {
      "cell_type": "markdown",
      "metadata": {
        "id": "nGJ9F9MbuY0D",
        "colab_type": "text"
      },
      "source": [
        "## Excercise 1 ตรวจสอบว่าการลบข้อมูล missing ออกจากตาราง w_restarant จะทำให้ข้อมูลลดลงกี่ %"
      ]
    },
    {
      "cell_type": "code",
      "metadata": {
        "id": "JieqIM19uJvm",
        "colab_type": "code",
        "colab": {
          "base_uri": "https://localhost:8080/",
          "height": 422
        },
        "outputId": "a1ce00a6-0fb2-420b-9937-1929a691a521"
      },
      "source": [
        "w_restaurant_df.isnull()"
      ],
      "execution_count": 36,
      "outputs": [
        {
          "output_type": "execute_result",
          "data": {
            "text/html": [
              "<div>\n",
              "<style scoped>\n",
              "    .dataframe tbody tr th:only-of-type {\n",
              "        vertical-align: middle;\n",
              "    }\n",
              "\n",
              "    .dataframe tbody tr th {\n",
              "        vertical-align: top;\n",
              "    }\n",
              "\n",
              "    .dataframe thead th {\n",
              "        text-align: right;\n",
              "    }\n",
              "</style>\n",
              "<table border=\"1\" class=\"dataframe\">\n",
              "  <thead>\n",
              "    <tr style=\"text-align: right;\">\n",
              "      <th></th>\n",
              "      <th>id</th>\n",
              "      <th>name</th>\n",
              "      <th>domain_id</th>\n",
              "      <th>closed</th>\n",
              "      <th>city_name</th>\n",
              "      <th>zipcode</th>\n",
              "      <th>geohash</th>\n",
              "      <th>new_open</th>\n",
              "      <th>weighted_average_rating</th>\n",
              "      <th>number_of_chains</th>\n",
              "      <th>number_of_bookmarks</th>\n",
              "      <th>number_of_reviews</th>\n",
              "      <th>number_of_product_tags</th>\n",
              "      <th>total_number_of_views</th>\n",
              "      <th>number_of_checkins</th>\n",
              "      <th>number_of_menu_groups</th>\n",
              "      <th>number_of_menu_photos</th>\n",
              "      <th>category_name</th>\n",
              "      <th>price_range</th>\n",
              "      <th>avg_price</th>\n",
              "      <th>parking</th>\n",
              "      <th>credit_card_accepted</th>\n",
              "      <th>good_for_groups</th>\n",
              "      <th>good_for_kids</th>\n",
              "      <th>bookable</th>\n",
              "      <th>best_of_wongnai</th>\n",
              "      <th>wifi</th>\n",
              "      <th>number_of_seats</th>\n",
              "      <th>music_venue</th>\n",
              "      <th>hotel_restaurant</th>\n",
              "      <th>pet_friendly</th>\n",
              "      <th>delivery</th>\n",
              "    </tr>\n",
              "  </thead>\n",
              "  <tbody>\n",
              "    <tr>\n",
              "      <th>0</th>\n",
              "      <td>False</td>\n",
              "      <td>False</td>\n",
              "      <td>False</td>\n",
              "      <td>False</td>\n",
              "      <td>False</td>\n",
              "      <td>False</td>\n",
              "      <td>False</td>\n",
              "      <td>False</td>\n",
              "      <td>False</td>\n",
              "      <td>True</td>\n",
              "      <td>True</td>\n",
              "      <td>False</td>\n",
              "      <td>False</td>\n",
              "      <td>False</td>\n",
              "      <td>False</td>\n",
              "      <td>False</td>\n",
              "      <td>False</td>\n",
              "      <td>False</td>\n",
              "      <td>True</td>\n",
              "      <td>True</td>\n",
              "      <td>False</td>\n",
              "      <td>False</td>\n",
              "      <td>True</td>\n",
              "      <td>True</td>\n",
              "      <td>True</td>\n",
              "      <td>True</td>\n",
              "      <td>True</td>\n",
              "      <td>False</td>\n",
              "      <td>True</td>\n",
              "      <td>True</td>\n",
              "      <td>True</td>\n",
              "      <td>True</td>\n",
              "    </tr>\n",
              "    <tr>\n",
              "      <th>1</th>\n",
              "      <td>False</td>\n",
              "      <td>False</td>\n",
              "      <td>False</td>\n",
              "      <td>False</td>\n",
              "      <td>False</td>\n",
              "      <td>False</td>\n",
              "      <td>False</td>\n",
              "      <td>False</td>\n",
              "      <td>False</td>\n",
              "      <td>True</td>\n",
              "      <td>True</td>\n",
              "      <td>False</td>\n",
              "      <td>False</td>\n",
              "      <td>False</td>\n",
              "      <td>False</td>\n",
              "      <td>False</td>\n",
              "      <td>False</td>\n",
              "      <td>False</td>\n",
              "      <td>False</td>\n",
              "      <td>True</td>\n",
              "      <td>False</td>\n",
              "      <td>True</td>\n",
              "      <td>True</td>\n",
              "      <td>True</td>\n",
              "      <td>True</td>\n",
              "      <td>True</td>\n",
              "      <td>True</td>\n",
              "      <td>True</td>\n",
              "      <td>True</td>\n",
              "      <td>True</td>\n",
              "      <td>True</td>\n",
              "      <td>True</td>\n",
              "    </tr>\n",
              "    <tr>\n",
              "      <th>2</th>\n",
              "      <td>False</td>\n",
              "      <td>False</td>\n",
              "      <td>False</td>\n",
              "      <td>False</td>\n",
              "      <td>False</td>\n",
              "      <td>False</td>\n",
              "      <td>False</td>\n",
              "      <td>False</td>\n",
              "      <td>False</td>\n",
              "      <td>True</td>\n",
              "      <td>False</td>\n",
              "      <td>False</td>\n",
              "      <td>False</td>\n",
              "      <td>False</td>\n",
              "      <td>False</td>\n",
              "      <td>False</td>\n",
              "      <td>False</td>\n",
              "      <td>False</td>\n",
              "      <td>True</td>\n",
              "      <td>True</td>\n",
              "      <td>False</td>\n",
              "      <td>True</td>\n",
              "      <td>True</td>\n",
              "      <td>True</td>\n",
              "      <td>True</td>\n",
              "      <td>True</td>\n",
              "      <td>True</td>\n",
              "      <td>True</td>\n",
              "      <td>True</td>\n",
              "      <td>True</td>\n",
              "      <td>True</td>\n",
              "      <td>True</td>\n",
              "    </tr>\n",
              "    <tr>\n",
              "      <th>3</th>\n",
              "      <td>False</td>\n",
              "      <td>False</td>\n",
              "      <td>False</td>\n",
              "      <td>False</td>\n",
              "      <td>False</td>\n",
              "      <td>False</td>\n",
              "      <td>False</td>\n",
              "      <td>False</td>\n",
              "      <td>False</td>\n",
              "      <td>True</td>\n",
              "      <td>True</td>\n",
              "      <td>False</td>\n",
              "      <td>False</td>\n",
              "      <td>False</td>\n",
              "      <td>False</td>\n",
              "      <td>False</td>\n",
              "      <td>False</td>\n",
              "      <td>False</td>\n",
              "      <td>True</td>\n",
              "      <td>True</td>\n",
              "      <td>True</td>\n",
              "      <td>True</td>\n",
              "      <td>True</td>\n",
              "      <td>True</td>\n",
              "      <td>True</td>\n",
              "      <td>True</td>\n",
              "      <td>True</td>\n",
              "      <td>True</td>\n",
              "      <td>True</td>\n",
              "      <td>True</td>\n",
              "      <td>True</td>\n",
              "      <td>True</td>\n",
              "    </tr>\n",
              "    <tr>\n",
              "      <th>4</th>\n",
              "      <td>False</td>\n",
              "      <td>False</td>\n",
              "      <td>False</td>\n",
              "      <td>False</td>\n",
              "      <td>False</td>\n",
              "      <td>False</td>\n",
              "      <td>False</td>\n",
              "      <td>False</td>\n",
              "      <td>False</td>\n",
              "      <td>True</td>\n",
              "      <td>False</td>\n",
              "      <td>False</td>\n",
              "      <td>False</td>\n",
              "      <td>False</td>\n",
              "      <td>False</td>\n",
              "      <td>False</td>\n",
              "      <td>False</td>\n",
              "      <td>False</td>\n",
              "      <td>False</td>\n",
              "      <td>True</td>\n",
              "      <td>False</td>\n",
              "      <td>False</td>\n",
              "      <td>True</td>\n",
              "      <td>True</td>\n",
              "      <td>True</td>\n",
              "      <td>True</td>\n",
              "      <td>False</td>\n",
              "      <td>False</td>\n",
              "      <td>True</td>\n",
              "      <td>True</td>\n",
              "      <td>True</td>\n",
              "      <td>True</td>\n",
              "    </tr>\n",
              "    <tr>\n",
              "      <th>...</th>\n",
              "      <td>...</td>\n",
              "      <td>...</td>\n",
              "      <td>...</td>\n",
              "      <td>...</td>\n",
              "      <td>...</td>\n",
              "      <td>...</td>\n",
              "      <td>...</td>\n",
              "      <td>...</td>\n",
              "      <td>...</td>\n",
              "      <td>...</td>\n",
              "      <td>...</td>\n",
              "      <td>...</td>\n",
              "      <td>...</td>\n",
              "      <td>...</td>\n",
              "      <td>...</td>\n",
              "      <td>...</td>\n",
              "      <td>...</td>\n",
              "      <td>...</td>\n",
              "      <td>...</td>\n",
              "      <td>...</td>\n",
              "      <td>...</td>\n",
              "      <td>...</td>\n",
              "      <td>...</td>\n",
              "      <td>...</td>\n",
              "      <td>...</td>\n",
              "      <td>...</td>\n",
              "      <td>...</td>\n",
              "      <td>...</td>\n",
              "      <td>...</td>\n",
              "      <td>...</td>\n",
              "      <td>...</td>\n",
              "      <td>...</td>\n",
              "    </tr>\n",
              "    <tr>\n",
              "      <th>246842</th>\n",
              "      <td>False</td>\n",
              "      <td>False</td>\n",
              "      <td>False</td>\n",
              "      <td>False</td>\n",
              "      <td>False</td>\n",
              "      <td>False</td>\n",
              "      <td>False</td>\n",
              "      <td>False</td>\n",
              "      <td>False</td>\n",
              "      <td>False</td>\n",
              "      <td>False</td>\n",
              "      <td>False</td>\n",
              "      <td>False</td>\n",
              "      <td>False</td>\n",
              "      <td>False</td>\n",
              "      <td>False</td>\n",
              "      <td>False</td>\n",
              "      <td>False</td>\n",
              "      <td>False</td>\n",
              "      <td>True</td>\n",
              "      <td>False</td>\n",
              "      <td>False</td>\n",
              "      <td>False</td>\n",
              "      <td>False</td>\n",
              "      <td>False</td>\n",
              "      <td>True</td>\n",
              "      <td>False</td>\n",
              "      <td>True</td>\n",
              "      <td>True</td>\n",
              "      <td>True</td>\n",
              "      <td>True</td>\n",
              "      <td>True</td>\n",
              "    </tr>\n",
              "    <tr>\n",
              "      <th>246843</th>\n",
              "      <td>False</td>\n",
              "      <td>False</td>\n",
              "      <td>False</td>\n",
              "      <td>False</td>\n",
              "      <td>False</td>\n",
              "      <td>True</td>\n",
              "      <td>False</td>\n",
              "      <td>False</td>\n",
              "      <td>False</td>\n",
              "      <td>True</td>\n",
              "      <td>False</td>\n",
              "      <td>False</td>\n",
              "      <td>False</td>\n",
              "      <td>False</td>\n",
              "      <td>False</td>\n",
              "      <td>False</td>\n",
              "      <td>False</td>\n",
              "      <td>False</td>\n",
              "      <td>False</td>\n",
              "      <td>True</td>\n",
              "      <td>False</td>\n",
              "      <td>False</td>\n",
              "      <td>False</td>\n",
              "      <td>True</td>\n",
              "      <td>False</td>\n",
              "      <td>True</td>\n",
              "      <td>True</td>\n",
              "      <td>False</td>\n",
              "      <td>True</td>\n",
              "      <td>True</td>\n",
              "      <td>True</td>\n",
              "      <td>True</td>\n",
              "    </tr>\n",
              "    <tr>\n",
              "      <th>246844</th>\n",
              "      <td>False</td>\n",
              "      <td>False</td>\n",
              "      <td>False</td>\n",
              "      <td>False</td>\n",
              "      <td>False</td>\n",
              "      <td>False</td>\n",
              "      <td>False</td>\n",
              "      <td>False</td>\n",
              "      <td>False</td>\n",
              "      <td>True</td>\n",
              "      <td>False</td>\n",
              "      <td>False</td>\n",
              "      <td>False</td>\n",
              "      <td>False</td>\n",
              "      <td>False</td>\n",
              "      <td>False</td>\n",
              "      <td>False</td>\n",
              "      <td>False</td>\n",
              "      <td>False</td>\n",
              "      <td>True</td>\n",
              "      <td>False</td>\n",
              "      <td>False</td>\n",
              "      <td>False</td>\n",
              "      <td>False</td>\n",
              "      <td>False</td>\n",
              "      <td>True</td>\n",
              "      <td>True</td>\n",
              "      <td>True</td>\n",
              "      <td>True</td>\n",
              "      <td>True</td>\n",
              "      <td>True</td>\n",
              "      <td>True</td>\n",
              "    </tr>\n",
              "    <tr>\n",
              "      <th>246845</th>\n",
              "      <td>False</td>\n",
              "      <td>False</td>\n",
              "      <td>False</td>\n",
              "      <td>False</td>\n",
              "      <td>False</td>\n",
              "      <td>False</td>\n",
              "      <td>False</td>\n",
              "      <td>False</td>\n",
              "      <td>False</td>\n",
              "      <td>True</td>\n",
              "      <td>False</td>\n",
              "      <td>False</td>\n",
              "      <td>False</td>\n",
              "      <td>False</td>\n",
              "      <td>False</td>\n",
              "      <td>False</td>\n",
              "      <td>False</td>\n",
              "      <td>False</td>\n",
              "      <td>False</td>\n",
              "      <td>True</td>\n",
              "      <td>False</td>\n",
              "      <td>False</td>\n",
              "      <td>False</td>\n",
              "      <td>False</td>\n",
              "      <td>False</td>\n",
              "      <td>True</td>\n",
              "      <td>True</td>\n",
              "      <td>True</td>\n",
              "      <td>True</td>\n",
              "      <td>True</td>\n",
              "      <td>True</td>\n",
              "      <td>True</td>\n",
              "    </tr>\n",
              "    <tr>\n",
              "      <th>246846</th>\n",
              "      <td>False</td>\n",
              "      <td>False</td>\n",
              "      <td>False</td>\n",
              "      <td>False</td>\n",
              "      <td>False</td>\n",
              "      <td>False</td>\n",
              "      <td>False</td>\n",
              "      <td>False</td>\n",
              "      <td>False</td>\n",
              "      <td>True</td>\n",
              "      <td>True</td>\n",
              "      <td>False</td>\n",
              "      <td>False</td>\n",
              "      <td>False</td>\n",
              "      <td>False</td>\n",
              "      <td>False</td>\n",
              "      <td>False</td>\n",
              "      <td>False</td>\n",
              "      <td>False</td>\n",
              "      <td>True</td>\n",
              "      <td>True</td>\n",
              "      <td>True</td>\n",
              "      <td>True</td>\n",
              "      <td>True</td>\n",
              "      <td>True</td>\n",
              "      <td>True</td>\n",
              "      <td>True</td>\n",
              "      <td>True</td>\n",
              "      <td>True</td>\n",
              "      <td>True</td>\n",
              "      <td>True</td>\n",
              "      <td>True</td>\n",
              "    </tr>\n",
              "  </tbody>\n",
              "</table>\n",
              "<p>246847 rows × 32 columns</p>\n",
              "</div>"
            ],
            "text/plain": [
              "           id   name  domain_id  ...  hotel_restaurant  pet_friendly  delivery\n",
              "0       False  False      False  ...              True          True      True\n",
              "1       False  False      False  ...              True          True      True\n",
              "2       False  False      False  ...              True          True      True\n",
              "3       False  False      False  ...              True          True      True\n",
              "4       False  False      False  ...              True          True      True\n",
              "...       ...    ...        ...  ...               ...           ...       ...\n",
              "246842  False  False      False  ...              True          True      True\n",
              "246843  False  False      False  ...              True          True      True\n",
              "246844  False  False      False  ...              True          True      True\n",
              "246845  False  False      False  ...              True          True      True\n",
              "246846  False  False      False  ...              True          True      True\n",
              "\n",
              "[246847 rows x 32 columns]"
            ]
          },
          "metadata": {
            "tags": []
          },
          "execution_count": 36
        }
      ]
    },
    {
      "cell_type": "code",
      "metadata": {
        "id": "FcaM-gBru8oD",
        "colab_type": "code",
        "colab": {
          "base_uri": "https://localhost:8080/",
          "height": 571
        },
        "outputId": "2da6e850-74bf-47a7-be0e-7dc02a5292d9"
      },
      "source": [
        "w_restaurant_df.isnull().any()"
      ],
      "execution_count": 37,
      "outputs": [
        {
          "output_type": "execute_result",
          "data": {
            "text/plain": [
              "id                         False\n",
              "name                       False\n",
              "domain_id                  False\n",
              "closed                     False\n",
              "city_name                  False\n",
              "zipcode                     True\n",
              "geohash                    False\n",
              "new_open                   False\n",
              "weighted_average_rating    False\n",
              "number_of_chains            True\n",
              "number_of_bookmarks         True\n",
              "number_of_reviews          False\n",
              "number_of_product_tags     False\n",
              "total_number_of_views      False\n",
              "number_of_checkins         False\n",
              "number_of_menu_groups      False\n",
              "number_of_menu_photos      False\n",
              "category_name              False\n",
              "price_range                 True\n",
              "avg_price                   True\n",
              "parking                     True\n",
              "credit_card_accepted        True\n",
              "good_for_groups             True\n",
              "good_for_kids               True\n",
              "bookable                    True\n",
              "best_of_wongnai             True\n",
              "wifi                        True\n",
              "number_of_seats             True\n",
              "music_venue                 True\n",
              "hotel_restaurant            True\n",
              "pet_friendly                True\n",
              "delivery                    True\n",
              "dtype: bool"
            ]
          },
          "metadata": {
            "tags": []
          },
          "execution_count": 37
        }
      ]
    },
    {
      "cell_type": "code",
      "metadata": {
        "id": "Vns-MDsDvYtB",
        "colab_type": "code",
        "colab": {
          "base_uri": "https://localhost:8080/",
          "height": 286
        },
        "outputId": "a25ac10b-8039-4750-9c98-92bb2df475ee"
      },
      "source": [
        "w_restaurant_df_nm = w_restaurant_df.dropna()\n",
        "w_restaurant_df_nm"
      ],
      "execution_count": 39,
      "outputs": [
        {
          "output_type": "execute_result",
          "data": {
            "text/html": [
              "<div>\n",
              "<style scoped>\n",
              "    .dataframe tbody tr th:only-of-type {\n",
              "        vertical-align: middle;\n",
              "    }\n",
              "\n",
              "    .dataframe tbody tr th {\n",
              "        vertical-align: top;\n",
              "    }\n",
              "\n",
              "    .dataframe thead th {\n",
              "        text-align: right;\n",
              "    }\n",
              "</style>\n",
              "<table border=\"1\" class=\"dataframe\">\n",
              "  <thead>\n",
              "    <tr style=\"text-align: right;\">\n",
              "      <th></th>\n",
              "      <th>id</th>\n",
              "      <th>name</th>\n",
              "      <th>domain_id</th>\n",
              "      <th>closed</th>\n",
              "      <th>city_name</th>\n",
              "      <th>zipcode</th>\n",
              "      <th>geohash</th>\n",
              "      <th>new_open</th>\n",
              "      <th>weighted_average_rating</th>\n",
              "      <th>number_of_chains</th>\n",
              "      <th>number_of_bookmarks</th>\n",
              "      <th>number_of_reviews</th>\n",
              "      <th>number_of_product_tags</th>\n",
              "      <th>total_number_of_views</th>\n",
              "      <th>number_of_checkins</th>\n",
              "      <th>number_of_menu_groups</th>\n",
              "      <th>number_of_menu_photos</th>\n",
              "      <th>category_name</th>\n",
              "      <th>price_range</th>\n",
              "      <th>avg_price</th>\n",
              "      <th>parking</th>\n",
              "      <th>credit_card_accepted</th>\n",
              "      <th>good_for_groups</th>\n",
              "      <th>good_for_kids</th>\n",
              "      <th>bookable</th>\n",
              "      <th>best_of_wongnai</th>\n",
              "      <th>wifi</th>\n",
              "      <th>number_of_seats</th>\n",
              "      <th>music_venue</th>\n",
              "      <th>hotel_restaurant</th>\n",
              "      <th>pet_friendly</th>\n",
              "      <th>delivery</th>\n",
              "    </tr>\n",
              "  </thead>\n",
              "  <tbody>\n",
              "    <tr>\n",
              "      <th>23976</th>\n",
              "      <td>36475</td>\n",
              "      <td>เซี๊ยะก๋วยเตี๋ยวเป็ด</td>\n",
              "      <td>1</td>\n",
              "      <td>0</td>\n",
              "      <td>Bangkok Metropolitan Region</td>\n",
              "      <td>10110</td>\n",
              "      <td>w4rw03t</td>\n",
              "      <td>0</td>\n",
              "      <td>3.930765</td>\n",
              "      <td>2.0</td>\n",
              "      <td>557.0</td>\n",
              "      <td>116</td>\n",
              "      <td>8</td>\n",
              "      <td>58700</td>\n",
              "      <td>82</td>\n",
              "      <td>12</td>\n",
              "      <td>61</td>\n",
              "      <td>Noodles</td>\n",
              "      <td>1.0</td>\n",
              "      <td>175.0</td>\n",
              "      <td>1.0</td>\n",
              "      <td>0.0</td>\n",
              "      <td>1.0</td>\n",
              "      <td>1.0</td>\n",
              "      <td>0.0</td>\n",
              "      <td>2018.0</td>\n",
              "      <td>0.0</td>\n",
              "      <td>4.0</td>\n",
              "      <td>0.0</td>\n",
              "      <td>0.0</td>\n",
              "      <td>0.0</td>\n",
              "      <td>1.0</td>\n",
              "    </tr>\n",
              "    <tr>\n",
              "      <th>81107</th>\n",
              "      <td>126467</td>\n",
              "      <td>Cheevit Cheeva</td>\n",
              "      <td>1</td>\n",
              "      <td>0</td>\n",
              "      <td>Chiang Mai</td>\n",
              "      <td>50200</td>\n",
              "      <td>w5q6ujs</td>\n",
              "      <td>0</td>\n",
              "      <td>4.243770</td>\n",
              "      <td>6.0</td>\n",
              "      <td>2163.0</td>\n",
              "      <td>287</td>\n",
              "      <td>1</td>\n",
              "      <td>93745</td>\n",
              "      <td>141</td>\n",
              "      <td>0</td>\n",
              "      <td>149</td>\n",
              "      <td>Café/Coffee Shop</td>\n",
              "      <td>2.0</td>\n",
              "      <td>175.0</td>\n",
              "      <td>3.0</td>\n",
              "      <td>0.0</td>\n",
              "      <td>1.0</td>\n",
              "      <td>1.0</td>\n",
              "      <td>0.0</td>\n",
              "      <td>2018.0</td>\n",
              "      <td>1.0</td>\n",
              "      <td>2.0</td>\n",
              "      <td>0.0</td>\n",
              "      <td>0.0</td>\n",
              "      <td>0.0</td>\n",
              "      <td>0.0</td>\n",
              "    </tr>\n",
              "    <tr>\n",
              "      <th>100828</th>\n",
              "      <td>152705</td>\n",
              "      <td>Cafe' Kantary</td>\n",
              "      <td>1</td>\n",
              "      <td>0</td>\n",
              "      <td>Phuket</td>\n",
              "      <td>83000</td>\n",
              "      <td>w1murkc</td>\n",
              "      <td>0</td>\n",
              "      <td>3.917660</td>\n",
              "      <td>7.0</td>\n",
              "      <td>362.0</td>\n",
              "      <td>69</td>\n",
              "      <td>6</td>\n",
              "      <td>35313</td>\n",
              "      <td>32</td>\n",
              "      <td>0</td>\n",
              "      <td>18</td>\n",
              "      <td>Cafe</td>\n",
              "      <td>2.0</td>\n",
              "      <td>175.0</td>\n",
              "      <td>1.0</td>\n",
              "      <td>1.0</td>\n",
              "      <td>1.0</td>\n",
              "      <td>1.0</td>\n",
              "      <td>1.0</td>\n",
              "      <td>2018.0</td>\n",
              "      <td>1.0</td>\n",
              "      <td>4.0</td>\n",
              "      <td>0.0</td>\n",
              "      <td>1.0</td>\n",
              "      <td>0.0</td>\n",
              "      <td>0.0</td>\n",
              "    </tr>\n",
              "    <tr>\n",
              "      <th>220216</th>\n",
              "      <td>304296</td>\n",
              "      <td>ครัวอัปษร</td>\n",
              "      <td>1</td>\n",
              "      <td>0</td>\n",
              "      <td>Bangkok Metropolitan Region</td>\n",
              "      <td>10200</td>\n",
              "      <td>w4rqqbp</td>\n",
              "      <td>0</td>\n",
              "      <td>4.072248</td>\n",
              "      <td>6.0</td>\n",
              "      <td>1918.0</td>\n",
              "      <td>163</td>\n",
              "      <td>14</td>\n",
              "      <td>174171</td>\n",
              "      <td>118</td>\n",
              "      <td>12</td>\n",
              "      <td>87</td>\n",
              "      <td>Thai</td>\n",
              "      <td>2.0</td>\n",
              "      <td>375.0</td>\n",
              "      <td>0.0</td>\n",
              "      <td>0.0</td>\n",
              "      <td>1.0</td>\n",
              "      <td>1.0</td>\n",
              "      <td>1.0</td>\n",
              "      <td>2018.0</td>\n",
              "      <td>1.0</td>\n",
              "      <td>4.0</td>\n",
              "      <td>0.0</td>\n",
              "      <td>0.0</td>\n",
              "      <td>0.0</td>\n",
              "      <td>1.0</td>\n",
              "    </tr>\n",
              "  </tbody>\n",
              "</table>\n",
              "</div>"
            ],
            "text/plain": [
              "            id                  name  ...  pet_friendly  delivery\n",
              "23976    36475  เซี๊ยะก๋วยเตี๋ยวเป็ด  ...           0.0       1.0\n",
              "81107   126467        Cheevit Cheeva  ...           0.0       0.0\n",
              "100828  152705         Cafe' Kantary  ...           0.0       0.0\n",
              "220216  304296             ครัวอัปษร  ...           0.0       1.0\n",
              "\n",
              "[4 rows x 32 columns]"
            ]
          },
          "metadata": {
            "tags": []
          },
          "execution_count": 39
        }
      ]
    },
    {
      "cell_type": "code",
      "metadata": {
        "id": "6wGrMDklvpIE",
        "colab_type": "code",
        "colab": {
          "base_uri": "https://localhost:8080/",
          "height": 50
        },
        "outputId": "c594bd7a-29f3-4418-97ae-066d3f6572de"
      },
      "source": [
        "print(w_restaurant_df.shape)\n",
        "print(w_restaurant_df_nm.shape)"
      ],
      "execution_count": 40,
      "outputs": [
        {
          "output_type": "stream",
          "text": [
            "(246847, 32)\n",
            "(4, 32)\n"
          ],
          "name": "stdout"
        }
      ]
    },
    {
      "cell_type": "code",
      "metadata": {
        "id": "LbhDyKSwwNkd",
        "colab_type": "code",
        "colab": {
          "base_uri": "https://localhost:8080/",
          "height": 34
        },
        "outputId": "2080f548-bcb5-4dea-c5d7-b1e5413a5737"
      },
      "source": [
        "w_restaurant_df.shape[0] - w_restaurant_df_nm.shape[0]"
      ],
      "execution_count": 41,
      "outputs": [
        {
          "output_type": "execute_result",
          "data": {
            "text/plain": [
              "246843"
            ]
          },
          "metadata": {
            "tags": []
          },
          "execution_count": 41
        }
      ]
    },
    {
      "cell_type": "code",
      "metadata": {
        "id": "kThDIl2SwUY7",
        "colab_type": "code",
        "colab": {
          "base_uri": "https://localhost:8080/",
          "height": 34
        },
        "outputId": "e6089c95-ac79-4701-a595-5590bf4d15b2"
      },
      "source": [
        "(w_restaurant_df.shape[0] - w_restaurant_df_nm.shape[0])/(w_restaurant_df.shape[0])*100"
      ],
      "execution_count": 42,
      "outputs": [
        {
          "output_type": "execute_result",
          "data": {
            "text/plain": [
              "99.99837956304918"
            ]
          },
          "metadata": {
            "tags": []
          },
          "execution_count": 42
        }
      ]
    },
    {
      "cell_type": "markdown",
      "metadata": {
        "id": "lFi00F5hw0Sv",
        "colab_type": "text"
      },
      "source": [
        "## Method 1.5"
      ]
    },
    {
      "cell_type": "code",
      "metadata": {
        "id": "j4Ejqf8jwivT",
        "colab_type": "code",
        "colab": {
          "base_uri": "https://localhost:8080/",
          "height": 571
        },
        "outputId": "124064a1-2076-4b3a-ddfa-990eb3db3210"
      },
      "source": [
        "w_restaurant_df.isnull().any()"
      ],
      "execution_count": 43,
      "outputs": [
        {
          "output_type": "execute_result",
          "data": {
            "text/plain": [
              "id                         False\n",
              "name                       False\n",
              "domain_id                  False\n",
              "closed                     False\n",
              "city_name                  False\n",
              "zipcode                     True\n",
              "geohash                    False\n",
              "new_open                   False\n",
              "weighted_average_rating    False\n",
              "number_of_chains            True\n",
              "number_of_bookmarks         True\n",
              "number_of_reviews          False\n",
              "number_of_product_tags     False\n",
              "total_number_of_views      False\n",
              "number_of_checkins         False\n",
              "number_of_menu_groups      False\n",
              "number_of_menu_photos      False\n",
              "category_name              False\n",
              "price_range                 True\n",
              "avg_price                   True\n",
              "parking                     True\n",
              "credit_card_accepted        True\n",
              "good_for_groups             True\n",
              "good_for_kids               True\n",
              "bookable                    True\n",
              "best_of_wongnai             True\n",
              "wifi                        True\n",
              "number_of_seats             True\n",
              "music_venue                 True\n",
              "hotel_restaurant            True\n",
              "pet_friendly                True\n",
              "delivery                    True\n",
              "dtype: bool"
            ]
          },
          "metadata": {
            "tags": []
          },
          "execution_count": 43
        }
      ]
    },
    {
      "cell_type": "code",
      "metadata": {
        "id": "BLpwiUHCxGE2",
        "colab_type": "code",
        "colab": {
          "base_uri": "https://localhost:8080/",
          "height": 34
        },
        "outputId": "103ea69d-3620-410d-ee58-f1b3533e00c2"
      },
      "source": [
        "w_restaurant_df.dropna(subset=['id', 'name', 'avg_price']).shape        # เลือกดูเฉพาะ 'id', 'name', 'avg_price'"
      ],
      "execution_count": 44,
      "outputs": [
        {
          "output_type": "execute_result",
          "data": {
            "text/plain": [
              "(4572, 32)"
            ]
          },
          "metadata": {
            "tags": []
          },
          "execution_count": 44
        }
      ]
    },
    {
      "cell_type": "code",
      "metadata": {
        "id": "kZRjH-cVxyuV",
        "colab_type": "code",
        "colab": {
          "base_uri": "https://localhost:8080/",
          "height": 333
        },
        "outputId": "c2f310c3-9890-473e-9d7b-e1fde4ef3434"
      },
      "source": [
        "w_rest_dropped_avgprice = w_restaurant_df.dropna(subset=['id', 'name', 'avg_price'])\n",
        "w_rest_dropped_avgprice.head()"
      ],
      "execution_count": 47,
      "outputs": [
        {
          "output_type": "execute_result",
          "data": {
            "text/html": [
              "<div>\n",
              "<style scoped>\n",
              "    .dataframe tbody tr th:only-of-type {\n",
              "        vertical-align: middle;\n",
              "    }\n",
              "\n",
              "    .dataframe tbody tr th {\n",
              "        vertical-align: top;\n",
              "    }\n",
              "\n",
              "    .dataframe thead th {\n",
              "        text-align: right;\n",
              "    }\n",
              "</style>\n",
              "<table border=\"1\" class=\"dataframe\">\n",
              "  <thead>\n",
              "    <tr style=\"text-align: right;\">\n",
              "      <th></th>\n",
              "      <th>id</th>\n",
              "      <th>name</th>\n",
              "      <th>domain_id</th>\n",
              "      <th>closed</th>\n",
              "      <th>city_name</th>\n",
              "      <th>zipcode</th>\n",
              "      <th>geohash</th>\n",
              "      <th>new_open</th>\n",
              "      <th>weighted_average_rating</th>\n",
              "      <th>number_of_chains</th>\n",
              "      <th>number_of_bookmarks</th>\n",
              "      <th>number_of_reviews</th>\n",
              "      <th>number_of_product_tags</th>\n",
              "      <th>total_number_of_views</th>\n",
              "      <th>number_of_checkins</th>\n",
              "      <th>number_of_menu_groups</th>\n",
              "      <th>number_of_menu_photos</th>\n",
              "      <th>category_name</th>\n",
              "      <th>price_range</th>\n",
              "      <th>avg_price</th>\n",
              "      <th>parking</th>\n",
              "      <th>credit_card_accepted</th>\n",
              "      <th>good_for_groups</th>\n",
              "      <th>good_for_kids</th>\n",
              "      <th>bookable</th>\n",
              "      <th>best_of_wongnai</th>\n",
              "      <th>wifi</th>\n",
              "      <th>number_of_seats</th>\n",
              "      <th>music_venue</th>\n",
              "      <th>hotel_restaurant</th>\n",
              "      <th>pet_friendly</th>\n",
              "      <th>delivery</th>\n",
              "    </tr>\n",
              "  </thead>\n",
              "  <tbody>\n",
              "    <tr>\n",
              "      <th>11</th>\n",
              "      <td>27</td>\n",
              "      <td>แพอาหารธาราบุรี</td>\n",
              "      <td>1</td>\n",
              "      <td>0</td>\n",
              "      <td>Kanchanaburi</td>\n",
              "      <td>71000</td>\n",
              "      <td>w4qzbb4</td>\n",
              "      <td>0</td>\n",
              "      <td>3.568245</td>\n",
              "      <td>NaN</td>\n",
              "      <td>107.0</td>\n",
              "      <td>34</td>\n",
              "      <td>3</td>\n",
              "      <td>22277</td>\n",
              "      <td>26</td>\n",
              "      <td>0</td>\n",
              "      <td>0</td>\n",
              "      <td>Thai</td>\n",
              "      <td>3.0</td>\n",
              "      <td>375.0</td>\n",
              "      <td>3.0</td>\n",
              "      <td>1.0</td>\n",
              "      <td>1.0</td>\n",
              "      <td>1.0</td>\n",
              "      <td>1.0</td>\n",
              "      <td>NaN</td>\n",
              "      <td>NaN</td>\n",
              "      <td>2.0</td>\n",
              "      <td>NaN</td>\n",
              "      <td>NaN</td>\n",
              "      <td>NaN</td>\n",
              "      <td>NaN</td>\n",
              "    </tr>\n",
              "    <tr>\n",
              "      <th>67</th>\n",
              "      <td>123</td>\n",
              "      <td>เล็กกุ้งเผา</td>\n",
              "      <td>1</td>\n",
              "      <td>0</td>\n",
              "      <td>Bangkok Metropolitan Region</td>\n",
              "      <td>10310</td>\n",
              "      <td>w4rw9mc</td>\n",
              "      <td>0</td>\n",
              "      <td>3.685552</td>\n",
              "      <td>NaN</td>\n",
              "      <td>272.0</td>\n",
              "      <td>29</td>\n",
              "      <td>7</td>\n",
              "      <td>28697</td>\n",
              "      <td>26</td>\n",
              "      <td>0</td>\n",
              "      <td>15</td>\n",
              "      <td>Thai</td>\n",
              "      <td>3.0</td>\n",
              "      <td>375.0</td>\n",
              "      <td>1.0</td>\n",
              "      <td>0.0</td>\n",
              "      <td>NaN</td>\n",
              "      <td>NaN</td>\n",
              "      <td>NaN</td>\n",
              "      <td>NaN</td>\n",
              "      <td>NaN</td>\n",
              "      <td>NaN</td>\n",
              "      <td>NaN</td>\n",
              "      <td>NaN</td>\n",
              "      <td>NaN</td>\n",
              "      <td>NaN</td>\n",
              "    </tr>\n",
              "    <tr>\n",
              "      <th>91</th>\n",
              "      <td>175</td>\n",
              "      <td>ใต้ต้นมะม่วง</td>\n",
              "      <td>1</td>\n",
              "      <td>0</td>\n",
              "      <td>Phuket</td>\n",
              "      <td>83000</td>\n",
              "      <td>w1muz5d</td>\n",
              "      <td>0</td>\n",
              "      <td>3.857143</td>\n",
              "      <td>NaN</td>\n",
              "      <td>17.0</td>\n",
              "      <td>15</td>\n",
              "      <td>2</td>\n",
              "      <td>3278</td>\n",
              "      <td>6</td>\n",
              "      <td>0</td>\n",
              "      <td>3</td>\n",
              "      <td>Thai</td>\n",
              "      <td>1.0</td>\n",
              "      <td>50.0</td>\n",
              "      <td>1.0</td>\n",
              "      <td>0.0</td>\n",
              "      <td>1.0</td>\n",
              "      <td>1.0</td>\n",
              "      <td>0.0</td>\n",
              "      <td>NaN</td>\n",
              "      <td>0.0</td>\n",
              "      <td>2.0</td>\n",
              "      <td>NaN</td>\n",
              "      <td>NaN</td>\n",
              "      <td>NaN</td>\n",
              "      <td>NaN</td>\n",
              "    </tr>\n",
              "    <tr>\n",
              "      <th>129</th>\n",
              "      <td>262</td>\n",
              "      <td>Oniku Shabushabu &amp; Yakiniku</td>\n",
              "      <td>1</td>\n",
              "      <td>0</td>\n",
              "      <td>Surat Thani</td>\n",
              "      <td>84000</td>\n",
              "      <td>w1weuxg</td>\n",
              "      <td>0</td>\n",
              "      <td>3.633588</td>\n",
              "      <td>NaN</td>\n",
              "      <td>40.0</td>\n",
              "      <td>19</td>\n",
              "      <td>2</td>\n",
              "      <td>10349</td>\n",
              "      <td>7</td>\n",
              "      <td>0</td>\n",
              "      <td>11</td>\n",
              "      <td>Sukiyaki/Shabu</td>\n",
              "      <td>3.0</td>\n",
              "      <td>375.0</td>\n",
              "      <td>3.0</td>\n",
              "      <td>1.0</td>\n",
              "      <td>1.0</td>\n",
              "      <td>1.0</td>\n",
              "      <td>1.0</td>\n",
              "      <td>NaN</td>\n",
              "      <td>1.0</td>\n",
              "      <td>5.0</td>\n",
              "      <td>NaN</td>\n",
              "      <td>0.0</td>\n",
              "      <td>NaN</td>\n",
              "      <td>1.0</td>\n",
              "    </tr>\n",
              "    <tr>\n",
              "      <th>134</th>\n",
              "      <td>271</td>\n",
              "      <td>Cafe Cha</td>\n",
              "      <td>1</td>\n",
              "      <td>0</td>\n",
              "      <td>Bangkok Metropolitan Region</td>\n",
              "      <td>10300</td>\n",
              "      <td>w4rqrhf</td>\n",
              "      <td>0</td>\n",
              "      <td>4.094527</td>\n",
              "      <td>NaN</td>\n",
              "      <td>251.0</td>\n",
              "      <td>12</td>\n",
              "      <td>0</td>\n",
              "      <td>17775</td>\n",
              "      <td>11</td>\n",
              "      <td>0</td>\n",
              "      <td>7</td>\n",
              "      <td>Café/Coffee Shop</td>\n",
              "      <td>4.0</td>\n",
              "      <td>175.0</td>\n",
              "      <td>3.0</td>\n",
              "      <td>1.0</td>\n",
              "      <td>NaN</td>\n",
              "      <td>NaN</td>\n",
              "      <td>NaN</td>\n",
              "      <td>NaN</td>\n",
              "      <td>1.0</td>\n",
              "      <td>NaN</td>\n",
              "      <td>NaN</td>\n",
              "      <td>NaN</td>\n",
              "      <td>NaN</td>\n",
              "      <td>NaN</td>\n",
              "    </tr>\n",
              "  </tbody>\n",
              "</table>\n",
              "</div>"
            ],
            "text/plain": [
              "      id                         name  ...  pet_friendly  delivery\n",
              "11    27              แพอาหารธาราบุรี  ...           NaN       NaN\n",
              "67   123                  เล็กกุ้งเผา  ...           NaN       NaN\n",
              "91   175                 ใต้ต้นมะม่วง  ...           NaN       NaN\n",
              "129  262  Oniku Shabushabu & Yakiniku  ...           NaN       1.0\n",
              "134  271                     Cafe Cha  ...           NaN       NaN\n",
              "\n",
              "[5 rows x 32 columns]"
            ]
          },
          "metadata": {
            "tags": []
          },
          "execution_count": 47
        }
      ]
    },
    {
      "cell_type": "code",
      "metadata": {
        "id": "lyyg93LDxpSl",
        "colab_type": "code",
        "colab": {
          "base_uri": "https://localhost:8080/",
          "height": 34
        },
        "outputId": "24a87a24-c4d7-4225-f0fe-43587fbc82a3"
      },
      "source": [
        "w_restaurant_df.dropna(subset=['id', 'name', 'avg_price'])['avg_price'].mean()          # หา mean เฉพาะ colum"
      ],
      "execution_count": 49,
      "outputs": [
        {
          "output_type": "execute_result",
          "data": {
            "text/plain": [
              "327.44728783902013"
            ]
          },
          "metadata": {
            "tags": []
          },
          "execution_count": 49
        }
      ]
    },
    {
      "cell_type": "markdown",
      "metadata": {
        "id": "DD0oTlPGzJvq",
        "colab_type": "text"
      },
      "source": [
        "## Method 2 (replace with reasonable value) : เติมเลขที่สมเหตุสมผล\n",
        "we are replacing missing value in the number of chains with 0   #number of chains : จำนวนสาขา"
      ]
    },
    {
      "cell_type": "code",
      "metadata": {
        "id": "osz0LerGyxvc",
        "colab_type": "code",
        "colab": {}
      },
      "source": [
        "w_restaurant_df[['number_of_chains']] = w_restaurant_df[['number_of_chains']].fillna(0)       # แก้ด้วยการแทนค่าเลขที่เราต้องการ ชื่อนี้ ตารางนี้ จะถูกแทนค่าด้วย 0 แต่เติมด้วยเลขนี้เพราะว่าอะไร"
      ],
      "execution_count": 51,
      "outputs": []
    },
    {
      "cell_type": "code",
      "metadata": {
        "id": "h7H8BoKv0XsO",
        "colab_type": "code",
        "colab": {
          "base_uri": "https://localhost:8080/",
          "height": 571
        },
        "outputId": "4d9d2033-a48c-4018-ba4d-42e72ca26a35"
      },
      "source": [
        "w_restaurant_df.isnull().any()"
      ],
      "execution_count": 52,
      "outputs": [
        {
          "output_type": "execute_result",
          "data": {
            "text/plain": [
              "id                         False\n",
              "name                       False\n",
              "domain_id                  False\n",
              "closed                     False\n",
              "city_name                  False\n",
              "zipcode                     True\n",
              "geohash                    False\n",
              "new_open                   False\n",
              "weighted_average_rating    False\n",
              "number_of_chains           False\n",
              "number_of_bookmarks         True\n",
              "number_of_reviews          False\n",
              "number_of_product_tags     False\n",
              "total_number_of_views      False\n",
              "number_of_checkins         False\n",
              "number_of_menu_groups      False\n",
              "number_of_menu_photos      False\n",
              "category_name              False\n",
              "price_range                 True\n",
              "avg_price                   True\n",
              "parking                     True\n",
              "credit_card_accepted        True\n",
              "good_for_groups             True\n",
              "good_for_kids               True\n",
              "bookable                    True\n",
              "best_of_wongnai             True\n",
              "wifi                        True\n",
              "number_of_seats             True\n",
              "music_venue                 True\n",
              "hotel_restaurant            True\n",
              "pet_friendly                True\n",
              "delivery                    True\n",
              "dtype: bool"
            ]
          },
          "metadata": {
            "tags": []
          },
          "execution_count": 52
        }
      ]
    },
    {
      "cell_type": "markdown",
      "metadata": {
        "id": "0PAFYrQd1Yak",
        "colab_type": "text"
      },
      "source": [
        "## Method 2.1 (replace with unknown value) : เติมด้วย unknown\n",
        "## Method 2.2 (replace with mean) : เติมด้วยค่าเฉลี่ยของช่องนั้น"
      ]
    },
    {
      "cell_type": "markdown",
      "metadata": {
        "id": "GXZZLLBj12sF",
        "colab_type": "text"
      },
      "source": [
        "## Method 3 "
      ]
    },
    {
      "cell_type": "code",
      "metadata": {
        "id": "BAINv7mE0gNS",
        "colab_type": "code",
        "colab": {}
      },
      "source": [
        "new_table = w_restaurant_df\n",
        "new_table"
      ],
      "execution_count": null,
      "outputs": []
    },
    {
      "cell_type": "markdown",
      "metadata": {
        "id": "f260f5Sd3UzL",
        "colab_type": "text"
      },
      "source": [
        "## [PD] selected"
      ]
    },
    {
      "cell_type": "code",
      "metadata": {
        "id": "ZEz2xHS03dYm",
        "colab_type": "code",
        "colab": {
          "base_uri": "https://localhost:8080/",
          "height": 178
        },
        "outputId": "2d547d29-d835-42ba-8e55-265ab1351472"
      },
      "source": [
        "selected_list = new_table['city_name'] == 'Bangkok Metropolitan Region'         # list ของชื่อในคอลัมเนม ค่าไหนเท่ากับ กทม. ก็จะเป็น true\n",
        "selected_list"
      ],
      "execution_count": 53,
      "outputs": [
        {
          "output_type": "error",
          "ename": "NameError",
          "evalue": "ignored",
          "traceback": [
            "\u001b[0;31m---------------------------------------------------------------------------\u001b[0m",
            "\u001b[0;31mNameError\u001b[0m                                 Traceback (most recent call last)",
            "\u001b[0;32m<ipython-input-53-64e013895e83>\u001b[0m in \u001b[0;36m<module>\u001b[0;34m()\u001b[0m\n\u001b[0;32m----> 1\u001b[0;31m \u001b[0mselected_list\u001b[0m \u001b[0;34m=\u001b[0m \u001b[0mnew_table\u001b[0m\u001b[0;34m[\u001b[0m\u001b[0;34m'city_name'\u001b[0m\u001b[0;34m]\u001b[0m \u001b[0;34m==\u001b[0m \u001b[0;34m'Bangkok Metropolitan Region'\u001b[0m         \u001b[0;31m# list ของชื่อในคอลัมเนม ค่าไหนเท่ากับ กทม. ก็จะเป็น true\u001b[0m\u001b[0;34m\u001b[0m\u001b[0;34m\u001b[0m\u001b[0m\n\u001b[0m\u001b[1;32m      2\u001b[0m \u001b[0mselected_list\u001b[0m\u001b[0;34m\u001b[0m\u001b[0;34m\u001b[0m\u001b[0m\n",
            "\u001b[0;31mNameError\u001b[0m: name 'new_table' is not defined"
          ]
        }
      ]
    },
    {
      "cell_type": "code",
      "metadata": {
        "id": "49qsdFmm4Bb3",
        "colab_type": "code",
        "colab": {}
      },
      "source": [
        "new_table[selected_list].head()"
      ],
      "execution_count": null,
      "outputs": []
    },
    {
      "cell_type": "code",
      "metadata": {
        "id": "-OqZooep4vdj",
        "colab_type": "code",
        "colab": {}
      },
      "source": [
        "new_table[new_table['city_name'] == 'Bangkok Metropolitan Region'].head()"
      ],
      "execution_count": null,
      "outputs": []
    },
    {
      "cell_type": "markdown",
      "metadata": {
        "id": "-EVzqpT05nM3",
        "colab_type": "text"
      },
      "source": [
        "## หาราคาเฉลี่ยของร้านในจังหวัดกรุงเทพ"
      ]
    },
    {
      "cell_type": "code",
      "metadata": {
        "id": "ro39XoCW5y8X",
        "colab_type": "code",
        "colab": {}
      },
      "source": [
        ""
      ],
      "execution_count": null,
      "outputs": []
    },
    {
      "cell_type": "markdown",
      "metadata": {
        "id": "s-2uWL4h6mwg",
        "colab_type": "text"
      },
      "source": [
        "## EX9 : หาราคาเฉลี่ยของร้านในภูเก็ต และเติมแทนค่า missing ของจังหวัดภูเก็ต"
      ]
    },
    {
      "cell_type": "code",
      "metadata": {
        "id": "FbHLHy0i7lxk",
        "colab_type": "code",
        "colab": {}
      },
      "source": [
        ""
      ],
      "execution_count": null,
      "outputs": []
    }
  ]
}
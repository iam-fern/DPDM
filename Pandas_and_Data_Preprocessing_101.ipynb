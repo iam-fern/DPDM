{
  "nbformat": 4,
  "nbformat_minor": 0,
  "metadata": {
    "colab": {
      "name": "Pandas and Data Preprocessing 101.ipynb",
      "provenance": [],
      "authorship_tag": "ABX9TyML1Erao4J/yQiM6UMAH0e0",
      "include_colab_link": true
    },
    "kernelspec": {
      "name": "python3",
      "display_name": "Python 3"
    }
  },
  "cells": [
    {
      "cell_type": "markdown",
      "metadata": {
        "id": "view-in-github",
        "colab_type": "text"
      },
      "source": [
        "<a href=\"https://colab.research.google.com/github/iam-fern/DPDM/blob/master/Pandas_and_Data_Preprocessing_101.ipynb\" target=\"_parent\"><img src=\"https://colab.research.google.com/assets/colab-badge.svg\" alt=\"Open In Colab\"/></a>"
      ]
    },
    {
      "cell_type": "markdown",
      "metadata": {
        "id": "JCHD-jvfc3yX",
        "colab_type": "text"
      },
      "source": [
        "![panda.jpg](data:image/jpeg;base64,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)"
      ]
    },
    {
      "cell_type": "markdown",
      "metadata": {
        "id": "x6csQwyXh_4D",
        "colab_type": "text"
      },
      "source": [
        "## Connect with Google drive"
      ]
    },
    {
      "cell_type": "code",
      "metadata": {
        "id": "FPs2GBkUcKPV",
        "colab_type": "code",
        "colab": {
          "base_uri": "https://localhost:8080/",
          "height": 121
        },
        "outputId": "28da664c-e0eb-44f5-a53f-e326e1e9c8b2"
      },
      "source": [
        "from google.colab import drive\n",
        "drive.mount('/content/drive')\n",
        "\n",
        "base_path = '/content/drive/My Drive/DWDM_material'"
      ],
      "execution_count": 1,
      "outputs": [
        {
          "output_type": "stream",
          "text": [
            "Go to this URL in a browser: https://accounts.google.com/o/oauth2/auth?client_id=947318989803-6bn6qk8qdgf4n4g3pfee6491hc0brc4i.apps.googleusercontent.com&redirect_uri=urn%3aietf%3awg%3aoauth%3a2.0%3aoob&scope=email%20https%3a%2f%2fwww.googleapis.com%2fauth%2fdocs.test%20https%3a%2f%2fwww.googleapis.com%2fauth%2fdrive%20https%3a%2f%2fwww.googleapis.com%2fauth%2fdrive.photos.readonly%20https%3a%2f%2fwww.googleapis.com%2fauth%2fpeopleapi.readonly&response_type=code\n",
            "\n",
            "Enter your authorization code:\n",
            "4/4AFDk9WEJj-lHVQtahDNoBevC9jtneqBqIA5T6FWIpdgPezejkqbaDM\n",
            "Mounted at /content/drive\n"
          ],
          "name": "stdout"
        }
      ]
    },
    {
      "cell_type": "markdown",
      "metadata": {
        "id": "apjEV9XAiFa-",
        "colab_type": "text"
      },
      "source": [
        "## Create path variables to store where is the data files"
      ]
    },
    {
      "cell_type": "code",
      "metadata": {
        "id": "_QHxDyMyjnB-",
        "colab_type": "code",
        "colab": {}
      },
      "source": [
        "import os\n",
        "import pandas as pd"
      ],
      "execution_count": 2,
      "outputs": []
    },
    {
      "cell_type": "code",
      "metadata": {
        "id": "_DjsUYxRkqJO",
        "colab_type": "code",
        "colab": {}
      },
      "source": [
        "search_click = os.path.join(base_path, 'search_click.csv')\n",
        "w_restaurant = os.path.join(base_path, 'w_restaurant.csv')"
      ],
      "execution_count": 3,
      "outputs": []
    },
    {
      "cell_type": "markdown",
      "metadata": {
        "id": "QAhmfYUAiLRq",
        "colab_type": "text"
      },
      "source": [
        "## Then use pandas to load the data into the environment"
      ]
    },
    {
      "cell_type": "code",
      "metadata": {
        "id": "dudfIDXMlLJF",
        "colab_type": "code",
        "colab": {
          "base_uri": "https://localhost:8080/",
          "height": 195
        },
        "outputId": "ad15cf9d-3ee0-4727-b752-8a7d1b6b764c"
      },
      "source": [
        "search_click_df = pd.read_csv(search_click)   \n",
        "search_click_df.head()                          # show head of the data table"
      ],
      "execution_count": 4,
      "outputs": [
        {
          "output_type": "execute_result",
          "data": {
            "text/html": [
              "<div>\n",
              "<style scoped>\n",
              "    .dataframe tbody tr th:only-of-type {\n",
              "        vertical-align: middle;\n",
              "    }\n",
              "\n",
              "    .dataframe tbody tr th {\n",
              "        vertical-align: top;\n",
              "    }\n",
              "\n",
              "    .dataframe thead th {\n",
              "        text-align: right;\n",
              "    }\n",
              "</style>\n",
              "<table border=\"1\" class=\"dataframe\">\n",
              "  <thead>\n",
              "    <tr style=\"text-align: right;\">\n",
              "      <th></th>\n",
              "      <th>click_timestamp</th>\n",
              "      <th>search_id</th>\n",
              "      <th>business_id</th>\n",
              "      <th>display_position</th>\n",
              "      <th>time_diff_nanos</th>\n",
              "      <th>ads</th>\n",
              "    </tr>\n",
              "  </thead>\n",
              "  <tbody>\n",
              "    <tr>\n",
              "      <th>0</th>\n",
              "      <td>11:38.9</td>\n",
              "      <td>5c004472-5ecc-4159-9698-9f329b8e26e1</td>\n",
              "      <td>298839.0</td>\n",
              "      <td>0</td>\n",
              "      <td>2.222400e+15</td>\n",
              "      <td>True</td>\n",
              "    </tr>\n",
              "    <tr>\n",
              "      <th>1</th>\n",
              "      <td>30:51.3</td>\n",
              "      <td>5f34eca0-c04e-4c10-b600-54aa447dbd8e</td>\n",
              "      <td>171372.0</td>\n",
              "      <td>0</td>\n",
              "      <td>4.608380e+14</td>\n",
              "      <td>True</td>\n",
              "    </tr>\n",
              "    <tr>\n",
              "      <th>2</th>\n",
              "      <td>32:09.6</td>\n",
              "      <td>8dc6d1f0-11f1-4239-9dd2-5c1674c81224</td>\n",
              "      <td>16157.0</td>\n",
              "      <td>0</td>\n",
              "      <td>2.581490e+15</td>\n",
              "      <td>True</td>\n",
              "    </tr>\n",
              "    <tr>\n",
              "      <th>3</th>\n",
              "      <td>00:59.8</td>\n",
              "      <td>1a5810e9-3d1f-44b9-9a2e-26ede21c524b</td>\n",
              "      <td>89741.0</td>\n",
              "      <td>1</td>\n",
              "      <td>1.404580e+15</td>\n",
              "      <td>True</td>\n",
              "    </tr>\n",
              "    <tr>\n",
              "      <th>4</th>\n",
              "      <td>23:36.8</td>\n",
              "      <td>6bc75e0d-fc65-471e-9926-ff6be6708639</td>\n",
              "      <td>189564.0</td>\n",
              "      <td>1</td>\n",
              "      <td>9.333590e+14</td>\n",
              "      <td>True</td>\n",
              "    </tr>\n",
              "  </tbody>\n",
              "</table>\n",
              "</div>"
            ],
            "text/plain": [
              "  click_timestamp                             search_id  ...  time_diff_nanos   ads\n",
              "0         11:38.9  5c004472-5ecc-4159-9698-9f329b8e26e1  ...     2.222400e+15  True\n",
              "1         30:51.3  5f34eca0-c04e-4c10-b600-54aa447dbd8e  ...     4.608380e+14  True\n",
              "2         32:09.6  8dc6d1f0-11f1-4239-9dd2-5c1674c81224  ...     2.581490e+15  True\n",
              "3         00:59.8  1a5810e9-3d1f-44b9-9a2e-26ede21c524b  ...     1.404580e+15  True\n",
              "4         23:36.8  6bc75e0d-fc65-471e-9926-ff6be6708639  ...     9.333590e+14  True\n",
              "\n",
              "[5 rows x 6 columns]"
            ]
          },
          "metadata": {
            "tags": []
          },
          "execution_count": 4
        }
      ]
    },
    {
      "cell_type": "code",
      "metadata": {
        "id": "xuwu3yXameih",
        "colab_type": "code",
        "colab": {
          "base_uri": "https://localhost:8080/",
          "height": 366
        },
        "outputId": "74bdfaba-a745-4cb4-aa74-6c53935baedd"
      },
      "source": [
        "w_restaurant_df = pd.read_csv(w_restaurant)\n",
        "w_restaurant_df.head()                          # show head of the data table"
      ],
      "execution_count": 5,
      "outputs": [
        {
          "output_type": "execute_result",
          "data": {
            "text/html": [
              "<div>\n",
              "<style scoped>\n",
              "    .dataframe tbody tr th:only-of-type {\n",
              "        vertical-align: middle;\n",
              "    }\n",
              "\n",
              "    .dataframe tbody tr th {\n",
              "        vertical-align: top;\n",
              "    }\n",
              "\n",
              "    .dataframe thead th {\n",
              "        text-align: right;\n",
              "    }\n",
              "</style>\n",
              "<table border=\"1\" class=\"dataframe\">\n",
              "  <thead>\n",
              "    <tr style=\"text-align: right;\">\n",
              "      <th></th>\n",
              "      <th>id</th>\n",
              "      <th>name</th>\n",
              "      <th>domain_id</th>\n",
              "      <th>closed</th>\n",
              "      <th>city_name</th>\n",
              "      <th>zipcode</th>\n",
              "      <th>geohash</th>\n",
              "      <th>new_open</th>\n",
              "      <th>weighted_average_rating</th>\n",
              "      <th>number_of_chains</th>\n",
              "      <th>number_of_bookmarks</th>\n",
              "      <th>number_of_reviews</th>\n",
              "      <th>number_of_product_tags</th>\n",
              "      <th>total_number_of_views</th>\n",
              "      <th>number_of_checkins</th>\n",
              "      <th>number_of_menu_groups</th>\n",
              "      <th>number_of_menu_photos</th>\n",
              "      <th>category_name</th>\n",
              "      <th>price_range</th>\n",
              "      <th>avg_price</th>\n",
              "      <th>parking</th>\n",
              "      <th>credit_card_accepted</th>\n",
              "      <th>good_for_groups</th>\n",
              "      <th>good_for_kids</th>\n",
              "      <th>bookable</th>\n",
              "      <th>best_of_wongnai</th>\n",
              "      <th>wifi</th>\n",
              "      <th>number_of_seats</th>\n",
              "      <th>music_venue</th>\n",
              "      <th>hotel_restaurant</th>\n",
              "      <th>pet_friendly</th>\n",
              "      <th>delivery</th>\n",
              "    </tr>\n",
              "  </thead>\n",
              "  <tbody>\n",
              "    <tr>\n",
              "      <th>0</th>\n",
              "      <td>2</td>\n",
              "      <td>นครินทร์ทันตกรรม</td>\n",
              "      <td>2</td>\n",
              "      <td>0</td>\n",
              "      <td>Samut Songkhram</td>\n",
              "      <td>75000</td>\n",
              "      <td>w4rh7g3</td>\n",
              "      <td>0</td>\n",
              "      <td>5.000000</td>\n",
              "      <td>NaN</td>\n",
              "      <td>NaN</td>\n",
              "      <td>1</td>\n",
              "      <td>0</td>\n",
              "      <td>3016</td>\n",
              "      <td>0</td>\n",
              "      <td>0</td>\n",
              "      <td>0</td>\n",
              "      <td>Orthodontic</td>\n",
              "      <td>NaN</td>\n",
              "      <td>NaN</td>\n",
              "      <td>3.0</td>\n",
              "      <td>0.0</td>\n",
              "      <td>NaN</td>\n",
              "      <td>NaN</td>\n",
              "      <td>NaN</td>\n",
              "      <td>NaN</td>\n",
              "      <td>NaN</td>\n",
              "      <td>13.0</td>\n",
              "      <td>NaN</td>\n",
              "      <td>NaN</td>\n",
              "      <td>NaN</td>\n",
              "      <td>NaN</td>\n",
              "    </tr>\n",
              "    <tr>\n",
              "      <th>1</th>\n",
              "      <td>4</td>\n",
              "      <td>Corner House</td>\n",
              "      <td>1</td>\n",
              "      <td>0</td>\n",
              "      <td>Bangkok Metropolitan Region</td>\n",
              "      <td>12150</td>\n",
              "      <td>w4rx73h</td>\n",
              "      <td>0</td>\n",
              "      <td>2.000000</td>\n",
              "      <td>NaN</td>\n",
              "      <td>NaN</td>\n",
              "      <td>1</td>\n",
              "      <td>0</td>\n",
              "      <td>321</td>\n",
              "      <td>0</td>\n",
              "      <td>0</td>\n",
              "      <td>1</td>\n",
              "      <td>Quick Meal</td>\n",
              "      <td>1.0</td>\n",
              "      <td>NaN</td>\n",
              "      <td>1.0</td>\n",
              "      <td>NaN</td>\n",
              "      <td>NaN</td>\n",
              "      <td>NaN</td>\n",
              "      <td>NaN</td>\n",
              "      <td>NaN</td>\n",
              "      <td>NaN</td>\n",
              "      <td>NaN</td>\n",
              "      <td>NaN</td>\n",
              "      <td>NaN</td>\n",
              "      <td>NaN</td>\n",
              "      <td>NaN</td>\n",
              "    </tr>\n",
              "    <tr>\n",
              "      <th>2</th>\n",
              "      <td>5</td>\n",
              "      <td>วัดโลกยสุธาราม</td>\n",
              "      <td>4</td>\n",
              "      <td>0</td>\n",
              "      <td>Phra Nakhon Si Ayutthaya</td>\n",
              "      <td>13000</td>\n",
              "      <td>w4x98jk</td>\n",
              "      <td>0</td>\n",
              "      <td>4.000000</td>\n",
              "      <td>NaN</td>\n",
              "      <td>1.0</td>\n",
              "      <td>0</td>\n",
              "      <td>0</td>\n",
              "      <td>167</td>\n",
              "      <td>0</td>\n",
              "      <td>0</td>\n",
              "      <td>0</td>\n",
              "      <td>Historical/Religion</td>\n",
              "      <td>NaN</td>\n",
              "      <td>NaN</td>\n",
              "      <td>1.0</td>\n",
              "      <td>NaN</td>\n",
              "      <td>NaN</td>\n",
              "      <td>NaN</td>\n",
              "      <td>NaN</td>\n",
              "      <td>NaN</td>\n",
              "      <td>NaN</td>\n",
              "      <td>NaN</td>\n",
              "      <td>NaN</td>\n",
              "      <td>NaN</td>\n",
              "      <td>NaN</td>\n",
              "      <td>NaN</td>\n",
              "    </tr>\n",
              "    <tr>\n",
              "      <th>3</th>\n",
              "      <td>6</td>\n",
              "      <td>นันท์คาราโอเกะ</td>\n",
              "      <td>1</td>\n",
              "      <td>0</td>\n",
              "      <td>Bangkok Metropolitan Region</td>\n",
              "      <td>10700</td>\n",
              "      <td>w4rqw9q</td>\n",
              "      <td>0</td>\n",
              "      <td>0.000000</td>\n",
              "      <td>NaN</td>\n",
              "      <td>NaN</td>\n",
              "      <td>0</td>\n",
              "      <td>0</td>\n",
              "      <td>901</td>\n",
              "      <td>0</td>\n",
              "      <td>0</td>\n",
              "      <td>0</td>\n",
              "      <td>Karaoke</td>\n",
              "      <td>NaN</td>\n",
              "      <td>NaN</td>\n",
              "      <td>NaN</td>\n",
              "      <td>NaN</td>\n",
              "      <td>NaN</td>\n",
              "      <td>NaN</td>\n",
              "      <td>NaN</td>\n",
              "      <td>NaN</td>\n",
              "      <td>NaN</td>\n",
              "      <td>NaN</td>\n",
              "      <td>NaN</td>\n",
              "      <td>NaN</td>\n",
              "      <td>NaN</td>\n",
              "      <td>NaN</td>\n",
              "    </tr>\n",
              "    <tr>\n",
              "      <th>4</th>\n",
              "      <td>7</td>\n",
              "      <td>Buono Caffe</td>\n",
              "      <td>1</td>\n",
              "      <td>0</td>\n",
              "      <td>Bangkok Metropolitan Region</td>\n",
              "      <td>10220</td>\n",
              "      <td>w4rx4gd</td>\n",
              "      <td>0</td>\n",
              "      <td>3.738462</td>\n",
              "      <td>NaN</td>\n",
              "      <td>15.0</td>\n",
              "      <td>3</td>\n",
              "      <td>0</td>\n",
              "      <td>2360</td>\n",
              "      <td>1</td>\n",
              "      <td>0</td>\n",
              "      <td>2</td>\n",
              "      <td>Café/Coffee Shop</td>\n",
              "      <td>1.0</td>\n",
              "      <td>NaN</td>\n",
              "      <td>1.0</td>\n",
              "      <td>0.0</td>\n",
              "      <td>NaN</td>\n",
              "      <td>NaN</td>\n",
              "      <td>NaN</td>\n",
              "      <td>NaN</td>\n",
              "      <td>1.0</td>\n",
              "      <td>2.0</td>\n",
              "      <td>NaN</td>\n",
              "      <td>NaN</td>\n",
              "      <td>NaN</td>\n",
              "      <td>NaN</td>\n",
              "    </tr>\n",
              "  </tbody>\n",
              "</table>\n",
              "</div>"
            ],
            "text/plain": [
              "   id              name  domain_id  ...  hotel_restaurant pet_friendly delivery\n",
              "0   2  นครินทร์ทันตกรรม          2  ...               NaN          NaN      NaN\n",
              "1   4      Corner House          1  ...               NaN          NaN      NaN\n",
              "2   5    วัดโลกยสุธาราม          4  ...               NaN          NaN      NaN\n",
              "3   6    นันท์คาราโอเกะ          1  ...               NaN          NaN      NaN\n",
              "4   7       Buono Caffe          1  ...               NaN          NaN      NaN\n",
              "\n",
              "[5 rows x 32 columns]"
            ]
          },
          "metadata": {
            "tags": []
          },
          "execution_count": 5
        }
      ]
    },
    {
      "cell_type": "markdown",
      "metadata": {
        "id": "yRDQPwgRpUmL",
        "colab_type": "text"
      },
      "source": [
        "## To check if the dimension of loaded data is correct as described in the description\n",
        "shape คือดูรูปร่างของตารางว่าเป็นอย่างไร"
      ]
    },
    {
      "cell_type": "code",
      "metadata": {
        "id": "eyAK1u9am0Ff",
        "colab_type": "code",
        "colab": {
          "base_uri": "https://localhost:8080/",
          "height": 34
        },
        "outputId": "6590e932-f23d-46d6-d48e-23a00bd15e7c"
      },
      "source": [
        "search_click_df.shape"
      ],
      "execution_count": 6,
      "outputs": [
        {
          "output_type": "execute_result",
          "data": {
            "text/plain": [
              "(1048575, 6)"
            ]
          },
          "metadata": {
            "tags": []
          },
          "execution_count": 6
        }
      ]
    },
    {
      "cell_type": "code",
      "metadata": {
        "id": "2OUDyZuFpNn9",
        "colab_type": "code",
        "colab": {
          "base_uri": "https://localhost:8080/",
          "height": 34
        },
        "outputId": "4a44d0c5-d53e-48e1-c4a3-93638e19e85b"
      },
      "source": [
        "w_restaurant_df.shape     # จำนวน row กับจำนวน colum มี 32 แอคทิบิว/ฟีเจอร์"
      ],
      "execution_count": 7,
      "outputs": [
        {
          "output_type": "execute_result",
          "data": {
            "text/plain": [
              "(246847, 32)"
            ]
          },
          "metadata": {
            "tags": []
          },
          "execution_count": 7
        }
      ]
    },
    {
      "cell_type": "code",
      "metadata": {
        "id": "3K1gkgQ1pSeV",
        "colab_type": "code",
        "colab": {
          "base_uri": "https://localhost:8080/",
          "height": 34
        },
        "outputId": "cce82d13-bd91-4a57-de43-e7dc6f2fe075"
      },
      "source": [
        "search_click_df.shape[0]"
      ],
      "execution_count": 8,
      "outputs": [
        {
          "output_type": "execute_result",
          "data": {
            "text/plain": [
              "1048575"
            ]
          },
          "metadata": {
            "tags": []
          },
          "execution_count": 8
        }
      ]
    },
    {
      "cell_type": "markdown",
      "metadata": {
        "id": "VbXjbwW8p49C",
        "colab_type": "text"
      },
      "source": [
        "## It seem everything is ok, let's have fun with data\n",
        "## 0. Point to data in the table\n",
        "### normal indexing"
      ]
    },
    {
      "cell_type": "code",
      "metadata": {
        "id": "PVjJUeu_puD3",
        "colab_type": "code",
        "colab": {
          "base_uri": "https://localhost:8080/",
          "height": 218
        },
        "outputId": "fbdf3a75-b00b-42cc-f706-a51664921c41"
      },
      "source": [
        "search_click_df['search_id']"
      ],
      "execution_count": 9,
      "outputs": [
        {
          "output_type": "execute_result",
          "data": {
            "text/plain": [
              "0          5c004472-5ecc-4159-9698-9f329b8e26e1\n",
              "1          5f34eca0-c04e-4c10-b600-54aa447dbd8e\n",
              "2          8dc6d1f0-11f1-4239-9dd2-5c1674c81224\n",
              "3          1a5810e9-3d1f-44b9-9a2e-26ede21c524b\n",
              "4          6bc75e0d-fc65-471e-9926-ff6be6708639\n",
              "                           ...                 \n",
              "1048570    99aab616-6fc5-4fbf-994b-4aebee7bb360\n",
              "1048571    d70a2c5d-ee94-4e4c-9f7c-c5faac6db12a\n",
              "1048572    4c1de7fe-300e-41aa-9d01-914344fc3753\n",
              "1048573    2ec0ddec-e450-4b98-9779-42b77aa7eda5\n",
              "1048574    5741d9cf-b9f1-441d-aa83-d2b0179bf874\n",
              "Name: search_id, Length: 1048575, dtype: object"
            ]
          },
          "metadata": {
            "tags": []
          },
          "execution_count": 9
        }
      ]
    },
    {
      "cell_type": "code",
      "metadata": {
        "id": "8N74_YspqWsY",
        "colab_type": "code",
        "colab": {
          "base_uri": "https://localhost:8080/",
          "height": 35
        },
        "outputId": "7764f1f8-85ce-4788-8be8-c0b71f8e1dba"
      },
      "source": [
        "search_click_df['search_id'][0]         # เรียกใช้เฉพาะบาง colum"
      ],
      "execution_count": 10,
      "outputs": [
        {
          "output_type": "execute_result",
          "data": {
            "application/vnd.google.colaboratory.intrinsic+json": {
              "type": "string"
            },
            "text/plain": [
              "'5c004472-5ecc-4159-9698-9f329b8e26e1'"
            ]
          },
          "metadata": {
            "tags": []
          },
          "execution_count": 10
        }
      ]
    },
    {
      "cell_type": "code",
      "metadata": {
        "id": "01zqv880qaqJ",
        "colab_type": "code",
        "colab": {
          "base_uri": "https://localhost:8080/",
          "height": 402
        },
        "outputId": "cac06907-7823-4190-8817-a1904d22c4ba"
      },
      "source": [
        "w_restaurant_df[['name', 'city_name', 'weighted_average_rating']]"
      ],
      "execution_count": 11,
      "outputs": [
        {
          "output_type": "execute_result",
          "data": {
            "text/html": [
              "<div>\n",
              "<style scoped>\n",
              "    .dataframe tbody tr th:only-of-type {\n",
              "        vertical-align: middle;\n",
              "    }\n",
              "\n",
              "    .dataframe tbody tr th {\n",
              "        vertical-align: top;\n",
              "    }\n",
              "\n",
              "    .dataframe thead th {\n",
              "        text-align: right;\n",
              "    }\n",
              "</style>\n",
              "<table border=\"1\" class=\"dataframe\">\n",
              "  <thead>\n",
              "    <tr style=\"text-align: right;\">\n",
              "      <th></th>\n",
              "      <th>name</th>\n",
              "      <th>city_name</th>\n",
              "      <th>weighted_average_rating</th>\n",
              "    </tr>\n",
              "  </thead>\n",
              "  <tbody>\n",
              "    <tr>\n",
              "      <th>0</th>\n",
              "      <td>นครินทร์ทันตกรรม</td>\n",
              "      <td>Samut Songkhram</td>\n",
              "      <td>5.000000</td>\n",
              "    </tr>\n",
              "    <tr>\n",
              "      <th>1</th>\n",
              "      <td>Corner House</td>\n",
              "      <td>Bangkok Metropolitan Region</td>\n",
              "      <td>2.000000</td>\n",
              "    </tr>\n",
              "    <tr>\n",
              "      <th>2</th>\n",
              "      <td>วัดโลกยสุธาราม</td>\n",
              "      <td>Phra Nakhon Si Ayutthaya</td>\n",
              "      <td>4.000000</td>\n",
              "    </tr>\n",
              "    <tr>\n",
              "      <th>3</th>\n",
              "      <td>นันท์คาราโอเกะ</td>\n",
              "      <td>Bangkok Metropolitan Region</td>\n",
              "      <td>0.000000</td>\n",
              "    </tr>\n",
              "    <tr>\n",
              "      <th>4</th>\n",
              "      <td>Buono Caffe</td>\n",
              "      <td>Bangkok Metropolitan Region</td>\n",
              "      <td>3.738462</td>\n",
              "    </tr>\n",
              "    <tr>\n",
              "      <th>...</th>\n",
              "      <td>...</td>\n",
              "      <td>...</td>\n",
              "      <td>...</td>\n",
              "    </tr>\n",
              "    <tr>\n",
              "      <th>246842</th>\n",
              "      <td>Sushi Tama</td>\n",
              "      <td>Bangkok Metropolitan Region</td>\n",
              "      <td>3.663522</td>\n",
              "    </tr>\n",
              "    <tr>\n",
              "      <th>246843</th>\n",
              "      <td>สะบายดี คาราโอเกะ</td>\n",
              "      <td>Bangkok Metropolitan Region</td>\n",
              "      <td>0.000000</td>\n",
              "    </tr>\n",
              "    <tr>\n",
              "      <th>246844</th>\n",
              "      <td>สเต็กแม่&amp;กาแฟลูก</td>\n",
              "      <td>Bangkok Metropolitan Region</td>\n",
              "      <td>4.000000</td>\n",
              "    </tr>\n",
              "    <tr>\n",
              "      <th>246845</th>\n",
              "      <td>Mom Made</td>\n",
              "      <td>Nakhon Si Thammarat</td>\n",
              "      <td>5.000000</td>\n",
              "    </tr>\n",
              "    <tr>\n",
              "      <th>246846</th>\n",
              "      <td>ก๋วยเตี๋ยวหมูน้ำตก ก๋วยเตี๋ยวเรือทอง</td>\n",
              "      <td>Suphan Buri</td>\n",
              "      <td>3.000000</td>\n",
              "    </tr>\n",
              "  </tbody>\n",
              "</table>\n",
              "<p>246847 rows × 3 columns</p>\n",
              "</div>"
            ],
            "text/plain": [
              "                                        name  ... weighted_average_rating\n",
              "0                           นครินทร์ทันตกรรม  ...                5.000000\n",
              "1                               Corner House  ...                2.000000\n",
              "2                             วัดโลกยสุธาราม  ...                4.000000\n",
              "3                             นันท์คาราโอเกะ  ...                0.000000\n",
              "4                                Buono Caffe  ...                3.738462\n",
              "...                                      ...  ...                     ...\n",
              "246842                            Sushi Tama  ...                3.663522\n",
              "246843                     สะบายดี คาราโอเกะ  ...                0.000000\n",
              "246844                      สเต็กแม่&กาแฟลูก  ...                4.000000\n",
              "246845                              Mom Made  ...                5.000000\n",
              "246846  ก๋วยเตี๋ยวหมูน้ำตก ก๋วยเตี๋ยวเรือทอง  ...                3.000000\n",
              "\n",
              "[246847 rows x 3 columns]"
            ]
          },
          "metadata": {
            "tags": []
          },
          "execution_count": 11
        }
      ]
    },
    {
      "cell_type": "markdown",
      "metadata": {
        "id": "s1wy6ivarYpt",
        "colab_type": "text"
      },
      "source": [
        "# .iloc จะมองตัวตารางเป็นเมทริกซ์ หน้าคือแถว หลังคือหลัก"
      ]
    },
    {
      "cell_type": "code",
      "metadata": {
        "id": "BOZW3jC5rKVk",
        "colab_type": "code",
        "colab": {
          "base_uri": "https://localhost:8080/",
          "height": 35
        },
        "outputId": "1f3c61e6-9c5a-4d9e-9312-28087f66e646"
      },
      "source": [
        "search_click_df.iloc[0, 1]"
      ],
      "execution_count": 12,
      "outputs": [
        {
          "output_type": "execute_result",
          "data": {
            "application/vnd.google.colaboratory.intrinsic+json": {
              "type": "string"
            },
            "text/plain": [
              "'5c004472-5ecc-4159-9698-9f329b8e26e1'"
            ]
          },
          "metadata": {
            "tags": []
          },
          "execution_count": 12
        }
      ]
    },
    {
      "cell_type": "code",
      "metadata": {
        "id": "ttoHSv32rQzI",
        "colab_type": "code",
        "colab": {
          "base_uri": "https://localhost:8080/",
          "height": 343
        },
        "outputId": "dade2bcc-f106-4c3b-de1b-c856bc6324c1"
      },
      "source": [
        "search_click_df.iloc[:10 , :2]"
      ],
      "execution_count": 13,
      "outputs": [
        {
          "output_type": "execute_result",
          "data": {
            "text/html": [
              "<div>\n",
              "<style scoped>\n",
              "    .dataframe tbody tr th:only-of-type {\n",
              "        vertical-align: middle;\n",
              "    }\n",
              "\n",
              "    .dataframe tbody tr th {\n",
              "        vertical-align: top;\n",
              "    }\n",
              "\n",
              "    .dataframe thead th {\n",
              "        text-align: right;\n",
              "    }\n",
              "</style>\n",
              "<table border=\"1\" class=\"dataframe\">\n",
              "  <thead>\n",
              "    <tr style=\"text-align: right;\">\n",
              "      <th></th>\n",
              "      <th>click_timestamp</th>\n",
              "      <th>search_id</th>\n",
              "    </tr>\n",
              "  </thead>\n",
              "  <tbody>\n",
              "    <tr>\n",
              "      <th>0</th>\n",
              "      <td>11:38.9</td>\n",
              "      <td>5c004472-5ecc-4159-9698-9f329b8e26e1</td>\n",
              "    </tr>\n",
              "    <tr>\n",
              "      <th>1</th>\n",
              "      <td>30:51.3</td>\n",
              "      <td>5f34eca0-c04e-4c10-b600-54aa447dbd8e</td>\n",
              "    </tr>\n",
              "    <tr>\n",
              "      <th>2</th>\n",
              "      <td>32:09.6</td>\n",
              "      <td>8dc6d1f0-11f1-4239-9dd2-5c1674c81224</td>\n",
              "    </tr>\n",
              "    <tr>\n",
              "      <th>3</th>\n",
              "      <td>00:59.8</td>\n",
              "      <td>1a5810e9-3d1f-44b9-9a2e-26ede21c524b</td>\n",
              "    </tr>\n",
              "    <tr>\n",
              "      <th>4</th>\n",
              "      <td>23:36.8</td>\n",
              "      <td>6bc75e0d-fc65-471e-9926-ff6be6708639</td>\n",
              "    </tr>\n",
              "    <tr>\n",
              "      <th>5</th>\n",
              "      <td>48:16.7</td>\n",
              "      <td>92ea02ba-2c89-4efd-973c-e23526c531de</td>\n",
              "    </tr>\n",
              "    <tr>\n",
              "      <th>6</th>\n",
              "      <td>39:18.4</td>\n",
              "      <td>79d61918-fb3e-4181-99b6-7a7abddfcdb1</td>\n",
              "    </tr>\n",
              "    <tr>\n",
              "      <th>7</th>\n",
              "      <td>33:39.0</td>\n",
              "      <td>7f8b2b57-dea1-4fe1-84c8-5a7d63750e47</td>\n",
              "    </tr>\n",
              "    <tr>\n",
              "      <th>8</th>\n",
              "      <td>07:48.3</td>\n",
              "      <td>3d9217bb-3eae-42b5-8cf3-a756efae2cfa</td>\n",
              "    </tr>\n",
              "    <tr>\n",
              "      <th>9</th>\n",
              "      <td>41:25.4</td>\n",
              "      <td>a2cb0d41-6e1f-4169-9140-cb671fbb41dc</td>\n",
              "    </tr>\n",
              "  </tbody>\n",
              "</table>\n",
              "</div>"
            ],
            "text/plain": [
              "  click_timestamp                             search_id\n",
              "0         11:38.9  5c004472-5ecc-4159-9698-9f329b8e26e1\n",
              "1         30:51.3  5f34eca0-c04e-4c10-b600-54aa447dbd8e\n",
              "2         32:09.6  8dc6d1f0-11f1-4239-9dd2-5c1674c81224\n",
              "3         00:59.8  1a5810e9-3d1f-44b9-9a2e-26ede21c524b\n",
              "4         23:36.8  6bc75e0d-fc65-471e-9926-ff6be6708639\n",
              "5         48:16.7  92ea02ba-2c89-4efd-973c-e23526c531de\n",
              "6         39:18.4  79d61918-fb3e-4181-99b6-7a7abddfcdb1\n",
              "7         33:39.0  7f8b2b57-dea1-4fe1-84c8-5a7d63750e47\n",
              "8         07:48.3  3d9217bb-3eae-42b5-8cf3-a756efae2cfa\n",
              "9         41:25.4  a2cb0d41-6e1f-4169-9140-cb671fbb41dc"
            ]
          },
          "metadata": {
            "tags": []
          },
          "execution_count": 13
        }
      ]
    },
    {
      "cell_type": "markdown",
      "metadata": {
        "id": "qn54UdHirrU_",
        "colab_type": "text"
      },
      "source": [
        "## 1. Missing Value"
      ]
    },
    {
      "cell_type": "code",
      "metadata": {
        "id": "ePx8GxZhrpmM",
        "colab_type": "code",
        "colab": {
          "base_uri": "https://localhost:8080/",
          "height": 402
        },
        "outputId": "94529681-a9e8-4fb6-e079-835dba697150"
      },
      "source": [
        "search_click_df.isnull()          # จะเป็นการเช็คว่าเจอ missing value หรือไม่ ถ้าไม่มีก็จะขึ้นว่า false ว่าไม่เจอ"
      ],
      "execution_count": 14,
      "outputs": [
        {
          "output_type": "execute_result",
          "data": {
            "text/html": [
              "<div>\n",
              "<style scoped>\n",
              "    .dataframe tbody tr th:only-of-type {\n",
              "        vertical-align: middle;\n",
              "    }\n",
              "\n",
              "    .dataframe tbody tr th {\n",
              "        vertical-align: top;\n",
              "    }\n",
              "\n",
              "    .dataframe thead th {\n",
              "        text-align: right;\n",
              "    }\n",
              "</style>\n",
              "<table border=\"1\" class=\"dataframe\">\n",
              "  <thead>\n",
              "    <tr style=\"text-align: right;\">\n",
              "      <th></th>\n",
              "      <th>click_timestamp</th>\n",
              "      <th>search_id</th>\n",
              "      <th>business_id</th>\n",
              "      <th>display_position</th>\n",
              "      <th>time_diff_nanos</th>\n",
              "      <th>ads</th>\n",
              "    </tr>\n",
              "  </thead>\n",
              "  <tbody>\n",
              "    <tr>\n",
              "      <th>0</th>\n",
              "      <td>False</td>\n",
              "      <td>False</td>\n",
              "      <td>False</td>\n",
              "      <td>False</td>\n",
              "      <td>False</td>\n",
              "      <td>False</td>\n",
              "    </tr>\n",
              "    <tr>\n",
              "      <th>1</th>\n",
              "      <td>False</td>\n",
              "      <td>False</td>\n",
              "      <td>False</td>\n",
              "      <td>False</td>\n",
              "      <td>False</td>\n",
              "      <td>False</td>\n",
              "    </tr>\n",
              "    <tr>\n",
              "      <th>2</th>\n",
              "      <td>False</td>\n",
              "      <td>False</td>\n",
              "      <td>False</td>\n",
              "      <td>False</td>\n",
              "      <td>False</td>\n",
              "      <td>False</td>\n",
              "    </tr>\n",
              "    <tr>\n",
              "      <th>3</th>\n",
              "      <td>False</td>\n",
              "      <td>False</td>\n",
              "      <td>False</td>\n",
              "      <td>False</td>\n",
              "      <td>False</td>\n",
              "      <td>False</td>\n",
              "    </tr>\n",
              "    <tr>\n",
              "      <th>4</th>\n",
              "      <td>False</td>\n",
              "      <td>False</td>\n",
              "      <td>False</td>\n",
              "      <td>False</td>\n",
              "      <td>False</td>\n",
              "      <td>False</td>\n",
              "    </tr>\n",
              "    <tr>\n",
              "      <th>...</th>\n",
              "      <td>...</td>\n",
              "      <td>...</td>\n",
              "      <td>...</td>\n",
              "      <td>...</td>\n",
              "      <td>...</td>\n",
              "      <td>...</td>\n",
              "    </tr>\n",
              "    <tr>\n",
              "      <th>1048570</th>\n",
              "      <td>False</td>\n",
              "      <td>False</td>\n",
              "      <td>False</td>\n",
              "      <td>False</td>\n",
              "      <td>False</td>\n",
              "      <td>False</td>\n",
              "    </tr>\n",
              "    <tr>\n",
              "      <th>1048571</th>\n",
              "      <td>False</td>\n",
              "      <td>False</td>\n",
              "      <td>False</td>\n",
              "      <td>False</td>\n",
              "      <td>False</td>\n",
              "      <td>False</td>\n",
              "    </tr>\n",
              "    <tr>\n",
              "      <th>1048572</th>\n",
              "      <td>False</td>\n",
              "      <td>False</td>\n",
              "      <td>False</td>\n",
              "      <td>False</td>\n",
              "      <td>False</td>\n",
              "      <td>False</td>\n",
              "    </tr>\n",
              "    <tr>\n",
              "      <th>1048573</th>\n",
              "      <td>False</td>\n",
              "      <td>False</td>\n",
              "      <td>False</td>\n",
              "      <td>False</td>\n",
              "      <td>False</td>\n",
              "      <td>False</td>\n",
              "    </tr>\n",
              "    <tr>\n",
              "      <th>1048574</th>\n",
              "      <td>False</td>\n",
              "      <td>False</td>\n",
              "      <td>False</td>\n",
              "      <td>False</td>\n",
              "      <td>False</td>\n",
              "      <td>False</td>\n",
              "    </tr>\n",
              "  </tbody>\n",
              "</table>\n",
              "<p>1048575 rows × 6 columns</p>\n",
              "</div>"
            ],
            "text/plain": [
              "         click_timestamp  search_id  ...  time_diff_nanos    ads\n",
              "0                  False      False  ...            False  False\n",
              "1                  False      False  ...            False  False\n",
              "2                  False      False  ...            False  False\n",
              "3                  False      False  ...            False  False\n",
              "4                  False      False  ...            False  False\n",
              "...                  ...        ...  ...              ...    ...\n",
              "1048570            False      False  ...            False  False\n",
              "1048571            False      False  ...            False  False\n",
              "1048572            False      False  ...            False  False\n",
              "1048573            False      False  ...            False  False\n",
              "1048574            False      False  ...            False  False\n",
              "\n",
              "[1048575 rows x 6 columns]"
            ]
          },
          "metadata": {
            "tags": []
          },
          "execution_count": 14
        }
      ]
    },
    {
      "cell_type": "code",
      "metadata": {
        "id": "bfvoTl4_r2E7",
        "colab_type": "code",
        "colab": {
          "base_uri": "https://localhost:8080/",
          "height": 134
        },
        "outputId": "fc82c8af-9e03-40e1-c5ac-5ed7dee45056"
      },
      "source": [
        "search_click_df.isnull().any()        # สรุปความจริงทั้งหมดในฝั่ง colum"
      ],
      "execution_count": 15,
      "outputs": [
        {
          "output_type": "execute_result",
          "data": {
            "text/plain": [
              "click_timestamp     False\n",
              "search_id            True\n",
              "business_id          True\n",
              "display_position    False\n",
              "time_diff_nanos     False\n",
              "ads                 False\n",
              "dtype: bool"
            ]
          },
          "metadata": {
            "tags": []
          },
          "execution_count": 15
        }
      ]
    },
    {
      "cell_type": "code",
      "metadata": {
        "id": "NrSgopBLsjtr",
        "colab_type": "code",
        "colab": {
          "base_uri": "https://localhost:8080/",
          "height": 134
        },
        "outputId": "60941258-dfca-4dc1-e65e-cfa8eb4384fd"
      },
      "source": [
        "search_click_df.isnull().all()"
      ],
      "execution_count": 16,
      "outputs": [
        {
          "output_type": "execute_result",
          "data": {
            "text/plain": [
              "click_timestamp     False\n",
              "search_id           False\n",
              "business_id         False\n",
              "display_position    False\n",
              "time_diff_nanos     False\n",
              "ads                 False\n",
              "dtype: bool"
            ]
          },
          "metadata": {
            "tags": []
          },
          "execution_count": 16
        }
      ]
    },
    {
      "cell_type": "code",
      "metadata": {
        "id": "NS7Iuw7vtG9e",
        "colab_type": "code",
        "colab": {
          "base_uri": "https://localhost:8080/",
          "height": 34
        },
        "outputId": "39325fdd-5834-4c8c-cdae-0a2531820655"
      },
      "source": [
        "search_click_df.isnull().any().any()"
      ],
      "execution_count": 17,
      "outputs": [
        {
          "output_type": "execute_result",
          "data": {
            "text/plain": [
              "True"
            ]
          },
          "metadata": {
            "tags": []
          },
          "execution_count": 17
        }
      ]
    },
    {
      "cell_type": "markdown",
      "metadata": {
        "id": "p0bB_dDiitHn",
        "colab_type": "text"
      },
      "source": [
        "## Handling missing values 1"
      ]
    },
    {
      "cell_type": "code",
      "metadata": {
        "id": "Ak-4-hhctUsb",
        "colab_type": "code",
        "colab": {}
      },
      "source": [
        "search_click_df_nm = search_click_df.dropna()  # ลบแถวที่มี missing ออก"
      ],
      "execution_count": 18,
      "outputs": []
    },
    {
      "cell_type": "code",
      "metadata": {
        "id": "B9MQbnh8tt0G",
        "colab_type": "code",
        "colab": {
          "base_uri": "https://localhost:8080/",
          "height": 34
        },
        "outputId": "4b7a7eac-5918-4aa8-db94-772e6e495422"
      },
      "source": [
        "search_click_df_nm.isnull().any().any()"
      ],
      "execution_count": 19,
      "outputs": [
        {
          "output_type": "execute_result",
          "data": {
            "text/plain": [
              "False"
            ]
          },
          "metadata": {
            "tags": []
          },
          "execution_count": 19
        }
      ]
    },
    {
      "cell_type": "code",
      "metadata": {
        "id": "mcszmCm8t1As",
        "colab_type": "code",
        "colab": {
          "base_uri": "https://localhost:8080/",
          "height": 50
        },
        "outputId": "0d36ccfd-4619-49b7-e53b-e664539aa223"
      },
      "source": [
        "print(search_click_df.shape)\n",
        "print(search_click_df_nm.shape)"
      ],
      "execution_count": 20,
      "outputs": [
        {
          "output_type": "stream",
          "text": [
            "(1048575, 6)\n",
            "(1048206, 6)\n"
          ],
          "name": "stdout"
        }
      ]
    },
    {
      "cell_type": "code",
      "metadata": {
        "id": "xhR-glN3uAfJ",
        "colab_type": "code",
        "colab": {
          "base_uri": "https://localhost:8080/",
          "height": 34
        },
        "outputId": "4b7b8d1f-7723-472e-fce6-ef3c1cd6e7b8"
      },
      "source": [
        "search_click_df.shape[0] - search_click_df_nm.shape[0]"
      ],
      "execution_count": 21,
      "outputs": [
        {
          "output_type": "execute_result",
          "data": {
            "text/plain": [
              "369"
            ]
          },
          "metadata": {
            "tags": []
          },
          "execution_count": 21
        }
      ]
    },
    {
      "cell_type": "markdown",
      "metadata": {
        "id": "nGJ9F9MbuY0D",
        "colab_type": "text"
      },
      "source": [
        "## Excercise 1 ตรวจสอบว่าการลบข้อมูล missing ออกจากตาราง w_restarant จะทำให้ข้อมูลลดลงกี่ %"
      ]
    },
    {
      "cell_type": "code",
      "metadata": {
        "id": "JieqIM19uJvm",
        "colab_type": "code",
        "colab": {
          "base_uri": "https://localhost:8080/",
          "height": 422
        },
        "outputId": "9ab79d9a-c931-49dd-f7d3-feff42beaf70"
      },
      "source": [
        "w_restaurant_df.isnull()"
      ],
      "execution_count": 22,
      "outputs": [
        {
          "output_type": "execute_result",
          "data": {
            "text/html": [
              "<div>\n",
              "<style scoped>\n",
              "    .dataframe tbody tr th:only-of-type {\n",
              "        vertical-align: middle;\n",
              "    }\n",
              "\n",
              "    .dataframe tbody tr th {\n",
              "        vertical-align: top;\n",
              "    }\n",
              "\n",
              "    .dataframe thead th {\n",
              "        text-align: right;\n",
              "    }\n",
              "</style>\n",
              "<table border=\"1\" class=\"dataframe\">\n",
              "  <thead>\n",
              "    <tr style=\"text-align: right;\">\n",
              "      <th></th>\n",
              "      <th>id</th>\n",
              "      <th>name</th>\n",
              "      <th>domain_id</th>\n",
              "      <th>closed</th>\n",
              "      <th>city_name</th>\n",
              "      <th>zipcode</th>\n",
              "      <th>geohash</th>\n",
              "      <th>new_open</th>\n",
              "      <th>weighted_average_rating</th>\n",
              "      <th>number_of_chains</th>\n",
              "      <th>number_of_bookmarks</th>\n",
              "      <th>number_of_reviews</th>\n",
              "      <th>number_of_product_tags</th>\n",
              "      <th>total_number_of_views</th>\n",
              "      <th>number_of_checkins</th>\n",
              "      <th>number_of_menu_groups</th>\n",
              "      <th>number_of_menu_photos</th>\n",
              "      <th>category_name</th>\n",
              "      <th>price_range</th>\n",
              "      <th>avg_price</th>\n",
              "      <th>parking</th>\n",
              "      <th>credit_card_accepted</th>\n",
              "      <th>good_for_groups</th>\n",
              "      <th>good_for_kids</th>\n",
              "      <th>bookable</th>\n",
              "      <th>best_of_wongnai</th>\n",
              "      <th>wifi</th>\n",
              "      <th>number_of_seats</th>\n",
              "      <th>music_venue</th>\n",
              "      <th>hotel_restaurant</th>\n",
              "      <th>pet_friendly</th>\n",
              "      <th>delivery</th>\n",
              "    </tr>\n",
              "  </thead>\n",
              "  <tbody>\n",
              "    <tr>\n",
              "      <th>0</th>\n",
              "      <td>False</td>\n",
              "      <td>False</td>\n",
              "      <td>False</td>\n",
              "      <td>False</td>\n",
              "      <td>False</td>\n",
              "      <td>False</td>\n",
              "      <td>False</td>\n",
              "      <td>False</td>\n",
              "      <td>False</td>\n",
              "      <td>True</td>\n",
              "      <td>True</td>\n",
              "      <td>False</td>\n",
              "      <td>False</td>\n",
              "      <td>False</td>\n",
              "      <td>False</td>\n",
              "      <td>False</td>\n",
              "      <td>False</td>\n",
              "      <td>False</td>\n",
              "      <td>True</td>\n",
              "      <td>True</td>\n",
              "      <td>False</td>\n",
              "      <td>False</td>\n",
              "      <td>True</td>\n",
              "      <td>True</td>\n",
              "      <td>True</td>\n",
              "      <td>True</td>\n",
              "      <td>True</td>\n",
              "      <td>False</td>\n",
              "      <td>True</td>\n",
              "      <td>True</td>\n",
              "      <td>True</td>\n",
              "      <td>True</td>\n",
              "    </tr>\n",
              "    <tr>\n",
              "      <th>1</th>\n",
              "      <td>False</td>\n",
              "      <td>False</td>\n",
              "      <td>False</td>\n",
              "      <td>False</td>\n",
              "      <td>False</td>\n",
              "      <td>False</td>\n",
              "      <td>False</td>\n",
              "      <td>False</td>\n",
              "      <td>False</td>\n",
              "      <td>True</td>\n",
              "      <td>True</td>\n",
              "      <td>False</td>\n",
              "      <td>False</td>\n",
              "      <td>False</td>\n",
              "      <td>False</td>\n",
              "      <td>False</td>\n",
              "      <td>False</td>\n",
              "      <td>False</td>\n",
              "      <td>False</td>\n",
              "      <td>True</td>\n",
              "      <td>False</td>\n",
              "      <td>True</td>\n",
              "      <td>True</td>\n",
              "      <td>True</td>\n",
              "      <td>True</td>\n",
              "      <td>True</td>\n",
              "      <td>True</td>\n",
              "      <td>True</td>\n",
              "      <td>True</td>\n",
              "      <td>True</td>\n",
              "      <td>True</td>\n",
              "      <td>True</td>\n",
              "    </tr>\n",
              "    <tr>\n",
              "      <th>2</th>\n",
              "      <td>False</td>\n",
              "      <td>False</td>\n",
              "      <td>False</td>\n",
              "      <td>False</td>\n",
              "      <td>False</td>\n",
              "      <td>False</td>\n",
              "      <td>False</td>\n",
              "      <td>False</td>\n",
              "      <td>False</td>\n",
              "      <td>True</td>\n",
              "      <td>False</td>\n",
              "      <td>False</td>\n",
              "      <td>False</td>\n",
              "      <td>False</td>\n",
              "      <td>False</td>\n",
              "      <td>False</td>\n",
              "      <td>False</td>\n",
              "      <td>False</td>\n",
              "      <td>True</td>\n",
              "      <td>True</td>\n",
              "      <td>False</td>\n",
              "      <td>True</td>\n",
              "      <td>True</td>\n",
              "      <td>True</td>\n",
              "      <td>True</td>\n",
              "      <td>True</td>\n",
              "      <td>True</td>\n",
              "      <td>True</td>\n",
              "      <td>True</td>\n",
              "      <td>True</td>\n",
              "      <td>True</td>\n",
              "      <td>True</td>\n",
              "    </tr>\n",
              "    <tr>\n",
              "      <th>3</th>\n",
              "      <td>False</td>\n",
              "      <td>False</td>\n",
              "      <td>False</td>\n",
              "      <td>False</td>\n",
              "      <td>False</td>\n",
              "      <td>False</td>\n",
              "      <td>False</td>\n",
              "      <td>False</td>\n",
              "      <td>False</td>\n",
              "      <td>True</td>\n",
              "      <td>True</td>\n",
              "      <td>False</td>\n",
              "      <td>False</td>\n",
              "      <td>False</td>\n",
              "      <td>False</td>\n",
              "      <td>False</td>\n",
              "      <td>False</td>\n",
              "      <td>False</td>\n",
              "      <td>True</td>\n",
              "      <td>True</td>\n",
              "      <td>True</td>\n",
              "      <td>True</td>\n",
              "      <td>True</td>\n",
              "      <td>True</td>\n",
              "      <td>True</td>\n",
              "      <td>True</td>\n",
              "      <td>True</td>\n",
              "      <td>True</td>\n",
              "      <td>True</td>\n",
              "      <td>True</td>\n",
              "      <td>True</td>\n",
              "      <td>True</td>\n",
              "    </tr>\n",
              "    <tr>\n",
              "      <th>4</th>\n",
              "      <td>False</td>\n",
              "      <td>False</td>\n",
              "      <td>False</td>\n",
              "      <td>False</td>\n",
              "      <td>False</td>\n",
              "      <td>False</td>\n",
              "      <td>False</td>\n",
              "      <td>False</td>\n",
              "      <td>False</td>\n",
              "      <td>True</td>\n",
              "      <td>False</td>\n",
              "      <td>False</td>\n",
              "      <td>False</td>\n",
              "      <td>False</td>\n",
              "      <td>False</td>\n",
              "      <td>False</td>\n",
              "      <td>False</td>\n",
              "      <td>False</td>\n",
              "      <td>False</td>\n",
              "      <td>True</td>\n",
              "      <td>False</td>\n",
              "      <td>False</td>\n",
              "      <td>True</td>\n",
              "      <td>True</td>\n",
              "      <td>True</td>\n",
              "      <td>True</td>\n",
              "      <td>False</td>\n",
              "      <td>False</td>\n",
              "      <td>True</td>\n",
              "      <td>True</td>\n",
              "      <td>True</td>\n",
              "      <td>True</td>\n",
              "    </tr>\n",
              "    <tr>\n",
              "      <th>...</th>\n",
              "      <td>...</td>\n",
              "      <td>...</td>\n",
              "      <td>...</td>\n",
              "      <td>...</td>\n",
              "      <td>...</td>\n",
              "      <td>...</td>\n",
              "      <td>...</td>\n",
              "      <td>...</td>\n",
              "      <td>...</td>\n",
              "      <td>...</td>\n",
              "      <td>...</td>\n",
              "      <td>...</td>\n",
              "      <td>...</td>\n",
              "      <td>...</td>\n",
              "      <td>...</td>\n",
              "      <td>...</td>\n",
              "      <td>...</td>\n",
              "      <td>...</td>\n",
              "      <td>...</td>\n",
              "      <td>...</td>\n",
              "      <td>...</td>\n",
              "      <td>...</td>\n",
              "      <td>...</td>\n",
              "      <td>...</td>\n",
              "      <td>...</td>\n",
              "      <td>...</td>\n",
              "      <td>...</td>\n",
              "      <td>...</td>\n",
              "      <td>...</td>\n",
              "      <td>...</td>\n",
              "      <td>...</td>\n",
              "      <td>...</td>\n",
              "    </tr>\n",
              "    <tr>\n",
              "      <th>246842</th>\n",
              "      <td>False</td>\n",
              "      <td>False</td>\n",
              "      <td>False</td>\n",
              "      <td>False</td>\n",
              "      <td>False</td>\n",
              "      <td>False</td>\n",
              "      <td>False</td>\n",
              "      <td>False</td>\n",
              "      <td>False</td>\n",
              "      <td>False</td>\n",
              "      <td>False</td>\n",
              "      <td>False</td>\n",
              "      <td>False</td>\n",
              "      <td>False</td>\n",
              "      <td>False</td>\n",
              "      <td>False</td>\n",
              "      <td>False</td>\n",
              "      <td>False</td>\n",
              "      <td>False</td>\n",
              "      <td>True</td>\n",
              "      <td>False</td>\n",
              "      <td>False</td>\n",
              "      <td>False</td>\n",
              "      <td>False</td>\n",
              "      <td>False</td>\n",
              "      <td>True</td>\n",
              "      <td>False</td>\n",
              "      <td>True</td>\n",
              "      <td>True</td>\n",
              "      <td>True</td>\n",
              "      <td>True</td>\n",
              "      <td>True</td>\n",
              "    </tr>\n",
              "    <tr>\n",
              "      <th>246843</th>\n",
              "      <td>False</td>\n",
              "      <td>False</td>\n",
              "      <td>False</td>\n",
              "      <td>False</td>\n",
              "      <td>False</td>\n",
              "      <td>True</td>\n",
              "      <td>False</td>\n",
              "      <td>False</td>\n",
              "      <td>False</td>\n",
              "      <td>True</td>\n",
              "      <td>False</td>\n",
              "      <td>False</td>\n",
              "      <td>False</td>\n",
              "      <td>False</td>\n",
              "      <td>False</td>\n",
              "      <td>False</td>\n",
              "      <td>False</td>\n",
              "      <td>False</td>\n",
              "      <td>False</td>\n",
              "      <td>True</td>\n",
              "      <td>False</td>\n",
              "      <td>False</td>\n",
              "      <td>False</td>\n",
              "      <td>True</td>\n",
              "      <td>False</td>\n",
              "      <td>True</td>\n",
              "      <td>True</td>\n",
              "      <td>False</td>\n",
              "      <td>True</td>\n",
              "      <td>True</td>\n",
              "      <td>True</td>\n",
              "      <td>True</td>\n",
              "    </tr>\n",
              "    <tr>\n",
              "      <th>246844</th>\n",
              "      <td>False</td>\n",
              "      <td>False</td>\n",
              "      <td>False</td>\n",
              "      <td>False</td>\n",
              "      <td>False</td>\n",
              "      <td>False</td>\n",
              "      <td>False</td>\n",
              "      <td>False</td>\n",
              "      <td>False</td>\n",
              "      <td>True</td>\n",
              "      <td>False</td>\n",
              "      <td>False</td>\n",
              "      <td>False</td>\n",
              "      <td>False</td>\n",
              "      <td>False</td>\n",
              "      <td>False</td>\n",
              "      <td>False</td>\n",
              "      <td>False</td>\n",
              "      <td>False</td>\n",
              "      <td>True</td>\n",
              "      <td>False</td>\n",
              "      <td>False</td>\n",
              "      <td>False</td>\n",
              "      <td>False</td>\n",
              "      <td>False</td>\n",
              "      <td>True</td>\n",
              "      <td>True</td>\n",
              "      <td>True</td>\n",
              "      <td>True</td>\n",
              "      <td>True</td>\n",
              "      <td>True</td>\n",
              "      <td>True</td>\n",
              "    </tr>\n",
              "    <tr>\n",
              "      <th>246845</th>\n",
              "      <td>False</td>\n",
              "      <td>False</td>\n",
              "      <td>False</td>\n",
              "      <td>False</td>\n",
              "      <td>False</td>\n",
              "      <td>False</td>\n",
              "      <td>False</td>\n",
              "      <td>False</td>\n",
              "      <td>False</td>\n",
              "      <td>True</td>\n",
              "      <td>False</td>\n",
              "      <td>False</td>\n",
              "      <td>False</td>\n",
              "      <td>False</td>\n",
              "      <td>False</td>\n",
              "      <td>False</td>\n",
              "      <td>False</td>\n",
              "      <td>False</td>\n",
              "      <td>False</td>\n",
              "      <td>True</td>\n",
              "      <td>False</td>\n",
              "      <td>False</td>\n",
              "      <td>False</td>\n",
              "      <td>False</td>\n",
              "      <td>False</td>\n",
              "      <td>True</td>\n",
              "      <td>True</td>\n",
              "      <td>True</td>\n",
              "      <td>True</td>\n",
              "      <td>True</td>\n",
              "      <td>True</td>\n",
              "      <td>True</td>\n",
              "    </tr>\n",
              "    <tr>\n",
              "      <th>246846</th>\n",
              "      <td>False</td>\n",
              "      <td>False</td>\n",
              "      <td>False</td>\n",
              "      <td>False</td>\n",
              "      <td>False</td>\n",
              "      <td>False</td>\n",
              "      <td>False</td>\n",
              "      <td>False</td>\n",
              "      <td>False</td>\n",
              "      <td>True</td>\n",
              "      <td>True</td>\n",
              "      <td>False</td>\n",
              "      <td>False</td>\n",
              "      <td>False</td>\n",
              "      <td>False</td>\n",
              "      <td>False</td>\n",
              "      <td>False</td>\n",
              "      <td>False</td>\n",
              "      <td>False</td>\n",
              "      <td>True</td>\n",
              "      <td>True</td>\n",
              "      <td>True</td>\n",
              "      <td>True</td>\n",
              "      <td>True</td>\n",
              "      <td>True</td>\n",
              "      <td>True</td>\n",
              "      <td>True</td>\n",
              "      <td>True</td>\n",
              "      <td>True</td>\n",
              "      <td>True</td>\n",
              "      <td>True</td>\n",
              "      <td>True</td>\n",
              "    </tr>\n",
              "  </tbody>\n",
              "</table>\n",
              "<p>246847 rows × 32 columns</p>\n",
              "</div>"
            ],
            "text/plain": [
              "           id   name  domain_id  ...  hotel_restaurant  pet_friendly  delivery\n",
              "0       False  False      False  ...              True          True      True\n",
              "1       False  False      False  ...              True          True      True\n",
              "2       False  False      False  ...              True          True      True\n",
              "3       False  False      False  ...              True          True      True\n",
              "4       False  False      False  ...              True          True      True\n",
              "...       ...    ...        ...  ...               ...           ...       ...\n",
              "246842  False  False      False  ...              True          True      True\n",
              "246843  False  False      False  ...              True          True      True\n",
              "246844  False  False      False  ...              True          True      True\n",
              "246845  False  False      False  ...              True          True      True\n",
              "246846  False  False      False  ...              True          True      True\n",
              "\n",
              "[246847 rows x 32 columns]"
            ]
          },
          "metadata": {
            "tags": []
          },
          "execution_count": 22
        }
      ]
    },
    {
      "cell_type": "code",
      "metadata": {
        "id": "FcaM-gBru8oD",
        "colab_type": "code",
        "colab": {
          "base_uri": "https://localhost:8080/",
          "height": 571
        },
        "outputId": "5a97d1ba-d816-41ac-b32e-159db80e4c85"
      },
      "source": [
        "w_restaurant_df.isnull().any()"
      ],
      "execution_count": 23,
      "outputs": [
        {
          "output_type": "execute_result",
          "data": {
            "text/plain": [
              "id                         False\n",
              "name                       False\n",
              "domain_id                  False\n",
              "closed                     False\n",
              "city_name                  False\n",
              "zipcode                     True\n",
              "geohash                    False\n",
              "new_open                   False\n",
              "weighted_average_rating    False\n",
              "number_of_chains            True\n",
              "number_of_bookmarks         True\n",
              "number_of_reviews          False\n",
              "number_of_product_tags     False\n",
              "total_number_of_views      False\n",
              "number_of_checkins         False\n",
              "number_of_menu_groups      False\n",
              "number_of_menu_photos      False\n",
              "category_name              False\n",
              "price_range                 True\n",
              "avg_price                   True\n",
              "parking                     True\n",
              "credit_card_accepted        True\n",
              "good_for_groups             True\n",
              "good_for_kids               True\n",
              "bookable                    True\n",
              "best_of_wongnai             True\n",
              "wifi                        True\n",
              "number_of_seats             True\n",
              "music_venue                 True\n",
              "hotel_restaurant            True\n",
              "pet_friendly                True\n",
              "delivery                    True\n",
              "dtype: bool"
            ]
          },
          "metadata": {
            "tags": []
          },
          "execution_count": 23
        }
      ]
    },
    {
      "cell_type": "code",
      "metadata": {
        "id": "Vns-MDsDvYtB",
        "colab_type": "code",
        "colab": {
          "base_uri": "https://localhost:8080/",
          "height": 286
        },
        "outputId": "1ea66205-6c43-4e40-c7ba-e81f24b5d10c"
      },
      "source": [
        "w_restaurant_df_nm = w_restaurant_df.dropna()\n",
        "w_restaurant_df_nm"
      ],
      "execution_count": 24,
      "outputs": [
        {
          "output_type": "execute_result",
          "data": {
            "text/html": [
              "<div>\n",
              "<style scoped>\n",
              "    .dataframe tbody tr th:only-of-type {\n",
              "        vertical-align: middle;\n",
              "    }\n",
              "\n",
              "    .dataframe tbody tr th {\n",
              "        vertical-align: top;\n",
              "    }\n",
              "\n",
              "    .dataframe thead th {\n",
              "        text-align: right;\n",
              "    }\n",
              "</style>\n",
              "<table border=\"1\" class=\"dataframe\">\n",
              "  <thead>\n",
              "    <tr style=\"text-align: right;\">\n",
              "      <th></th>\n",
              "      <th>id</th>\n",
              "      <th>name</th>\n",
              "      <th>domain_id</th>\n",
              "      <th>closed</th>\n",
              "      <th>city_name</th>\n",
              "      <th>zipcode</th>\n",
              "      <th>geohash</th>\n",
              "      <th>new_open</th>\n",
              "      <th>weighted_average_rating</th>\n",
              "      <th>number_of_chains</th>\n",
              "      <th>number_of_bookmarks</th>\n",
              "      <th>number_of_reviews</th>\n",
              "      <th>number_of_product_tags</th>\n",
              "      <th>total_number_of_views</th>\n",
              "      <th>number_of_checkins</th>\n",
              "      <th>number_of_menu_groups</th>\n",
              "      <th>number_of_menu_photos</th>\n",
              "      <th>category_name</th>\n",
              "      <th>price_range</th>\n",
              "      <th>avg_price</th>\n",
              "      <th>parking</th>\n",
              "      <th>credit_card_accepted</th>\n",
              "      <th>good_for_groups</th>\n",
              "      <th>good_for_kids</th>\n",
              "      <th>bookable</th>\n",
              "      <th>best_of_wongnai</th>\n",
              "      <th>wifi</th>\n",
              "      <th>number_of_seats</th>\n",
              "      <th>music_venue</th>\n",
              "      <th>hotel_restaurant</th>\n",
              "      <th>pet_friendly</th>\n",
              "      <th>delivery</th>\n",
              "    </tr>\n",
              "  </thead>\n",
              "  <tbody>\n",
              "    <tr>\n",
              "      <th>23976</th>\n",
              "      <td>36475</td>\n",
              "      <td>เซี๊ยะก๋วยเตี๋ยวเป็ด</td>\n",
              "      <td>1</td>\n",
              "      <td>0</td>\n",
              "      <td>Bangkok Metropolitan Region</td>\n",
              "      <td>10110</td>\n",
              "      <td>w4rw03t</td>\n",
              "      <td>0</td>\n",
              "      <td>3.930765</td>\n",
              "      <td>2.0</td>\n",
              "      <td>557.0</td>\n",
              "      <td>116</td>\n",
              "      <td>8</td>\n",
              "      <td>58700</td>\n",
              "      <td>82</td>\n",
              "      <td>12</td>\n",
              "      <td>61</td>\n",
              "      <td>Noodles</td>\n",
              "      <td>1.0</td>\n",
              "      <td>175.0</td>\n",
              "      <td>1.0</td>\n",
              "      <td>0.0</td>\n",
              "      <td>1.0</td>\n",
              "      <td>1.0</td>\n",
              "      <td>0.0</td>\n",
              "      <td>2018.0</td>\n",
              "      <td>0.0</td>\n",
              "      <td>4.0</td>\n",
              "      <td>0.0</td>\n",
              "      <td>0.0</td>\n",
              "      <td>0.0</td>\n",
              "      <td>1.0</td>\n",
              "    </tr>\n",
              "    <tr>\n",
              "      <th>81107</th>\n",
              "      <td>126467</td>\n",
              "      <td>Cheevit Cheeva</td>\n",
              "      <td>1</td>\n",
              "      <td>0</td>\n",
              "      <td>Chiang Mai</td>\n",
              "      <td>50200</td>\n",
              "      <td>w5q6ujs</td>\n",
              "      <td>0</td>\n",
              "      <td>4.243770</td>\n",
              "      <td>6.0</td>\n",
              "      <td>2163.0</td>\n",
              "      <td>287</td>\n",
              "      <td>1</td>\n",
              "      <td>93745</td>\n",
              "      <td>141</td>\n",
              "      <td>0</td>\n",
              "      <td>149</td>\n",
              "      <td>Café/Coffee Shop</td>\n",
              "      <td>2.0</td>\n",
              "      <td>175.0</td>\n",
              "      <td>3.0</td>\n",
              "      <td>0.0</td>\n",
              "      <td>1.0</td>\n",
              "      <td>1.0</td>\n",
              "      <td>0.0</td>\n",
              "      <td>2018.0</td>\n",
              "      <td>1.0</td>\n",
              "      <td>2.0</td>\n",
              "      <td>0.0</td>\n",
              "      <td>0.0</td>\n",
              "      <td>0.0</td>\n",
              "      <td>0.0</td>\n",
              "    </tr>\n",
              "    <tr>\n",
              "      <th>100828</th>\n",
              "      <td>152705</td>\n",
              "      <td>Cafe' Kantary</td>\n",
              "      <td>1</td>\n",
              "      <td>0</td>\n",
              "      <td>Phuket</td>\n",
              "      <td>83000</td>\n",
              "      <td>w1murkc</td>\n",
              "      <td>0</td>\n",
              "      <td>3.917660</td>\n",
              "      <td>7.0</td>\n",
              "      <td>362.0</td>\n",
              "      <td>69</td>\n",
              "      <td>6</td>\n",
              "      <td>35313</td>\n",
              "      <td>32</td>\n",
              "      <td>0</td>\n",
              "      <td>18</td>\n",
              "      <td>Cafe</td>\n",
              "      <td>2.0</td>\n",
              "      <td>175.0</td>\n",
              "      <td>1.0</td>\n",
              "      <td>1.0</td>\n",
              "      <td>1.0</td>\n",
              "      <td>1.0</td>\n",
              "      <td>1.0</td>\n",
              "      <td>2018.0</td>\n",
              "      <td>1.0</td>\n",
              "      <td>4.0</td>\n",
              "      <td>0.0</td>\n",
              "      <td>1.0</td>\n",
              "      <td>0.0</td>\n",
              "      <td>0.0</td>\n",
              "    </tr>\n",
              "    <tr>\n",
              "      <th>220216</th>\n",
              "      <td>304296</td>\n",
              "      <td>ครัวอัปษร</td>\n",
              "      <td>1</td>\n",
              "      <td>0</td>\n",
              "      <td>Bangkok Metropolitan Region</td>\n",
              "      <td>10200</td>\n",
              "      <td>w4rqqbp</td>\n",
              "      <td>0</td>\n",
              "      <td>4.072248</td>\n",
              "      <td>6.0</td>\n",
              "      <td>1918.0</td>\n",
              "      <td>163</td>\n",
              "      <td>14</td>\n",
              "      <td>174171</td>\n",
              "      <td>118</td>\n",
              "      <td>12</td>\n",
              "      <td>87</td>\n",
              "      <td>Thai</td>\n",
              "      <td>2.0</td>\n",
              "      <td>375.0</td>\n",
              "      <td>0.0</td>\n",
              "      <td>0.0</td>\n",
              "      <td>1.0</td>\n",
              "      <td>1.0</td>\n",
              "      <td>1.0</td>\n",
              "      <td>2018.0</td>\n",
              "      <td>1.0</td>\n",
              "      <td>4.0</td>\n",
              "      <td>0.0</td>\n",
              "      <td>0.0</td>\n",
              "      <td>0.0</td>\n",
              "      <td>1.0</td>\n",
              "    </tr>\n",
              "  </tbody>\n",
              "</table>\n",
              "</div>"
            ],
            "text/plain": [
              "            id                  name  ...  pet_friendly  delivery\n",
              "23976    36475  เซี๊ยะก๋วยเตี๋ยวเป็ด  ...           0.0       1.0\n",
              "81107   126467        Cheevit Cheeva  ...           0.0       0.0\n",
              "100828  152705         Cafe' Kantary  ...           0.0       0.0\n",
              "220216  304296             ครัวอัปษร  ...           0.0       1.0\n",
              "\n",
              "[4 rows x 32 columns]"
            ]
          },
          "metadata": {
            "tags": []
          },
          "execution_count": 24
        }
      ]
    },
    {
      "cell_type": "code",
      "metadata": {
        "id": "6wGrMDklvpIE",
        "colab_type": "code",
        "colab": {
          "base_uri": "https://localhost:8080/",
          "height": 50
        },
        "outputId": "a3fd2a73-9ec9-4d0d-b5b6-a3d777fbaf91"
      },
      "source": [
        "print(w_restaurant_df.shape)\n",
        "print(w_restaurant_df_nm.shape)"
      ],
      "execution_count": 25,
      "outputs": [
        {
          "output_type": "stream",
          "text": [
            "(246847, 32)\n",
            "(4, 32)\n"
          ],
          "name": "stdout"
        }
      ]
    },
    {
      "cell_type": "code",
      "metadata": {
        "id": "LbhDyKSwwNkd",
        "colab_type": "code",
        "colab": {
          "base_uri": "https://localhost:8080/",
          "height": 34
        },
        "outputId": "1e4208b8-2a87-495d-bbdf-b446f379b4c8"
      },
      "source": [
        "w_restaurant_df.shape[0] - w_restaurant_df_nm.shape[0]"
      ],
      "execution_count": 26,
      "outputs": [
        {
          "output_type": "execute_result",
          "data": {
            "text/plain": [
              "246843"
            ]
          },
          "metadata": {
            "tags": []
          },
          "execution_count": 26
        }
      ]
    },
    {
      "cell_type": "code",
      "metadata": {
        "id": "kThDIl2SwUY7",
        "colab_type": "code",
        "colab": {
          "base_uri": "https://localhost:8080/",
          "height": 34
        },
        "outputId": "ed654c99-3338-4b52-8d5c-81d2aaf71404"
      },
      "source": [
        "(w_restaurant_df.shape[0] - w_restaurant_df_nm.shape[0])/(w_restaurant_df.shape[0])*100"
      ],
      "execution_count": 27,
      "outputs": [
        {
          "output_type": "execute_result",
          "data": {
            "text/plain": [
              "99.99837956304918"
            ]
          },
          "metadata": {
            "tags": []
          },
          "execution_count": 27
        }
      ]
    },
    {
      "cell_type": "markdown",
      "metadata": {
        "id": "lFi00F5hw0Sv",
        "colab_type": "text"
      },
      "source": [
        "## Method 1.5"
      ]
    },
    {
      "cell_type": "code",
      "metadata": {
        "id": "j4Ejqf8jwivT",
        "colab_type": "code",
        "colab": {
          "base_uri": "https://localhost:8080/",
          "height": 571
        },
        "outputId": "01515b76-4f0c-4bc2-ebf1-e7a7052f6eb7"
      },
      "source": [
        "w_restaurant_df.isnull().any()"
      ],
      "execution_count": 28,
      "outputs": [
        {
          "output_type": "execute_result",
          "data": {
            "text/plain": [
              "id                         False\n",
              "name                       False\n",
              "domain_id                  False\n",
              "closed                     False\n",
              "city_name                  False\n",
              "zipcode                     True\n",
              "geohash                    False\n",
              "new_open                   False\n",
              "weighted_average_rating    False\n",
              "number_of_chains            True\n",
              "number_of_bookmarks         True\n",
              "number_of_reviews          False\n",
              "number_of_product_tags     False\n",
              "total_number_of_views      False\n",
              "number_of_checkins         False\n",
              "number_of_menu_groups      False\n",
              "number_of_menu_photos      False\n",
              "category_name              False\n",
              "price_range                 True\n",
              "avg_price                   True\n",
              "parking                     True\n",
              "credit_card_accepted        True\n",
              "good_for_groups             True\n",
              "good_for_kids               True\n",
              "bookable                    True\n",
              "best_of_wongnai             True\n",
              "wifi                        True\n",
              "number_of_seats             True\n",
              "music_venue                 True\n",
              "hotel_restaurant            True\n",
              "pet_friendly                True\n",
              "delivery                    True\n",
              "dtype: bool"
            ]
          },
          "metadata": {
            "tags": []
          },
          "execution_count": 28
        }
      ]
    },
    {
      "cell_type": "code",
      "metadata": {
        "id": "BLpwiUHCxGE2",
        "colab_type": "code",
        "colab": {
          "base_uri": "https://localhost:8080/",
          "height": 34
        },
        "outputId": "a0d54b1b-593a-4601-83c4-e539b1cd73e4"
      },
      "source": [
        "w_restaurant_df.dropna(subset=['id', 'name', 'avg_price']).shape        # เลือกดูเฉพาะ 'id', 'name', 'avg_price'"
      ],
      "execution_count": 29,
      "outputs": [
        {
          "output_type": "execute_result",
          "data": {
            "text/plain": [
              "(4572, 32)"
            ]
          },
          "metadata": {
            "tags": []
          },
          "execution_count": 29
        }
      ]
    },
    {
      "cell_type": "code",
      "metadata": {
        "id": "kZRjH-cVxyuV",
        "colab_type": "code",
        "colab": {
          "base_uri": "https://localhost:8080/",
          "height": 333
        },
        "outputId": "15bcd52e-9bf7-4c5e-dcf4-aca10ce49891"
      },
      "source": [
        "w_rest_dropped_avgprice = w_restaurant_df.dropna(subset=['id', 'name', 'avg_price'])\n",
        "w_rest_dropped_avgprice.head()"
      ],
      "execution_count": 30,
      "outputs": [
        {
          "output_type": "execute_result",
          "data": {
            "text/html": [
              "<div>\n",
              "<style scoped>\n",
              "    .dataframe tbody tr th:only-of-type {\n",
              "        vertical-align: middle;\n",
              "    }\n",
              "\n",
              "    .dataframe tbody tr th {\n",
              "        vertical-align: top;\n",
              "    }\n",
              "\n",
              "    .dataframe thead th {\n",
              "        text-align: right;\n",
              "    }\n",
              "</style>\n",
              "<table border=\"1\" class=\"dataframe\">\n",
              "  <thead>\n",
              "    <tr style=\"text-align: right;\">\n",
              "      <th></th>\n",
              "      <th>id</th>\n",
              "      <th>name</th>\n",
              "      <th>domain_id</th>\n",
              "      <th>closed</th>\n",
              "      <th>city_name</th>\n",
              "      <th>zipcode</th>\n",
              "      <th>geohash</th>\n",
              "      <th>new_open</th>\n",
              "      <th>weighted_average_rating</th>\n",
              "      <th>number_of_chains</th>\n",
              "      <th>number_of_bookmarks</th>\n",
              "      <th>number_of_reviews</th>\n",
              "      <th>number_of_product_tags</th>\n",
              "      <th>total_number_of_views</th>\n",
              "      <th>number_of_checkins</th>\n",
              "      <th>number_of_menu_groups</th>\n",
              "      <th>number_of_menu_photos</th>\n",
              "      <th>category_name</th>\n",
              "      <th>price_range</th>\n",
              "      <th>avg_price</th>\n",
              "      <th>parking</th>\n",
              "      <th>credit_card_accepted</th>\n",
              "      <th>good_for_groups</th>\n",
              "      <th>good_for_kids</th>\n",
              "      <th>bookable</th>\n",
              "      <th>best_of_wongnai</th>\n",
              "      <th>wifi</th>\n",
              "      <th>number_of_seats</th>\n",
              "      <th>music_venue</th>\n",
              "      <th>hotel_restaurant</th>\n",
              "      <th>pet_friendly</th>\n",
              "      <th>delivery</th>\n",
              "    </tr>\n",
              "  </thead>\n",
              "  <tbody>\n",
              "    <tr>\n",
              "      <th>11</th>\n",
              "      <td>27</td>\n",
              "      <td>แพอาหารธาราบุรี</td>\n",
              "      <td>1</td>\n",
              "      <td>0</td>\n",
              "      <td>Kanchanaburi</td>\n",
              "      <td>71000</td>\n",
              "      <td>w4qzbb4</td>\n",
              "      <td>0</td>\n",
              "      <td>3.568245</td>\n",
              "      <td>NaN</td>\n",
              "      <td>107.0</td>\n",
              "      <td>34</td>\n",
              "      <td>3</td>\n",
              "      <td>22277</td>\n",
              "      <td>26</td>\n",
              "      <td>0</td>\n",
              "      <td>0</td>\n",
              "      <td>Thai</td>\n",
              "      <td>3.0</td>\n",
              "      <td>375.0</td>\n",
              "      <td>3.0</td>\n",
              "      <td>1.0</td>\n",
              "      <td>1.0</td>\n",
              "      <td>1.0</td>\n",
              "      <td>1.0</td>\n",
              "      <td>NaN</td>\n",
              "      <td>NaN</td>\n",
              "      <td>2.0</td>\n",
              "      <td>NaN</td>\n",
              "      <td>NaN</td>\n",
              "      <td>NaN</td>\n",
              "      <td>NaN</td>\n",
              "    </tr>\n",
              "    <tr>\n",
              "      <th>67</th>\n",
              "      <td>123</td>\n",
              "      <td>เล็กกุ้งเผา</td>\n",
              "      <td>1</td>\n",
              "      <td>0</td>\n",
              "      <td>Bangkok Metropolitan Region</td>\n",
              "      <td>10310</td>\n",
              "      <td>w4rw9mc</td>\n",
              "      <td>0</td>\n",
              "      <td>3.685552</td>\n",
              "      <td>NaN</td>\n",
              "      <td>272.0</td>\n",
              "      <td>29</td>\n",
              "      <td>7</td>\n",
              "      <td>28697</td>\n",
              "      <td>26</td>\n",
              "      <td>0</td>\n",
              "      <td>15</td>\n",
              "      <td>Thai</td>\n",
              "      <td>3.0</td>\n",
              "      <td>375.0</td>\n",
              "      <td>1.0</td>\n",
              "      <td>0.0</td>\n",
              "      <td>NaN</td>\n",
              "      <td>NaN</td>\n",
              "      <td>NaN</td>\n",
              "      <td>NaN</td>\n",
              "      <td>NaN</td>\n",
              "      <td>NaN</td>\n",
              "      <td>NaN</td>\n",
              "      <td>NaN</td>\n",
              "      <td>NaN</td>\n",
              "      <td>NaN</td>\n",
              "    </tr>\n",
              "    <tr>\n",
              "      <th>91</th>\n",
              "      <td>175</td>\n",
              "      <td>ใต้ต้นมะม่วง</td>\n",
              "      <td>1</td>\n",
              "      <td>0</td>\n",
              "      <td>Phuket</td>\n",
              "      <td>83000</td>\n",
              "      <td>w1muz5d</td>\n",
              "      <td>0</td>\n",
              "      <td>3.857143</td>\n",
              "      <td>NaN</td>\n",
              "      <td>17.0</td>\n",
              "      <td>15</td>\n",
              "      <td>2</td>\n",
              "      <td>3278</td>\n",
              "      <td>6</td>\n",
              "      <td>0</td>\n",
              "      <td>3</td>\n",
              "      <td>Thai</td>\n",
              "      <td>1.0</td>\n",
              "      <td>50.0</td>\n",
              "      <td>1.0</td>\n",
              "      <td>0.0</td>\n",
              "      <td>1.0</td>\n",
              "      <td>1.0</td>\n",
              "      <td>0.0</td>\n",
              "      <td>NaN</td>\n",
              "      <td>0.0</td>\n",
              "      <td>2.0</td>\n",
              "      <td>NaN</td>\n",
              "      <td>NaN</td>\n",
              "      <td>NaN</td>\n",
              "      <td>NaN</td>\n",
              "    </tr>\n",
              "    <tr>\n",
              "      <th>129</th>\n",
              "      <td>262</td>\n",
              "      <td>Oniku Shabushabu &amp; Yakiniku</td>\n",
              "      <td>1</td>\n",
              "      <td>0</td>\n",
              "      <td>Surat Thani</td>\n",
              "      <td>84000</td>\n",
              "      <td>w1weuxg</td>\n",
              "      <td>0</td>\n",
              "      <td>3.633588</td>\n",
              "      <td>NaN</td>\n",
              "      <td>40.0</td>\n",
              "      <td>19</td>\n",
              "      <td>2</td>\n",
              "      <td>10349</td>\n",
              "      <td>7</td>\n",
              "      <td>0</td>\n",
              "      <td>11</td>\n",
              "      <td>Sukiyaki/Shabu</td>\n",
              "      <td>3.0</td>\n",
              "      <td>375.0</td>\n",
              "      <td>3.0</td>\n",
              "      <td>1.0</td>\n",
              "      <td>1.0</td>\n",
              "      <td>1.0</td>\n",
              "      <td>1.0</td>\n",
              "      <td>NaN</td>\n",
              "      <td>1.0</td>\n",
              "      <td>5.0</td>\n",
              "      <td>NaN</td>\n",
              "      <td>0.0</td>\n",
              "      <td>NaN</td>\n",
              "      <td>1.0</td>\n",
              "    </tr>\n",
              "    <tr>\n",
              "      <th>134</th>\n",
              "      <td>271</td>\n",
              "      <td>Cafe Cha</td>\n",
              "      <td>1</td>\n",
              "      <td>0</td>\n",
              "      <td>Bangkok Metropolitan Region</td>\n",
              "      <td>10300</td>\n",
              "      <td>w4rqrhf</td>\n",
              "      <td>0</td>\n",
              "      <td>4.094527</td>\n",
              "      <td>NaN</td>\n",
              "      <td>251.0</td>\n",
              "      <td>12</td>\n",
              "      <td>0</td>\n",
              "      <td>17775</td>\n",
              "      <td>11</td>\n",
              "      <td>0</td>\n",
              "      <td>7</td>\n",
              "      <td>Café/Coffee Shop</td>\n",
              "      <td>4.0</td>\n",
              "      <td>175.0</td>\n",
              "      <td>3.0</td>\n",
              "      <td>1.0</td>\n",
              "      <td>NaN</td>\n",
              "      <td>NaN</td>\n",
              "      <td>NaN</td>\n",
              "      <td>NaN</td>\n",
              "      <td>1.0</td>\n",
              "      <td>NaN</td>\n",
              "      <td>NaN</td>\n",
              "      <td>NaN</td>\n",
              "      <td>NaN</td>\n",
              "      <td>NaN</td>\n",
              "    </tr>\n",
              "  </tbody>\n",
              "</table>\n",
              "</div>"
            ],
            "text/plain": [
              "      id                         name  ...  pet_friendly  delivery\n",
              "11    27              แพอาหารธาราบุรี  ...           NaN       NaN\n",
              "67   123                  เล็กกุ้งเผา  ...           NaN       NaN\n",
              "91   175                 ใต้ต้นมะม่วง  ...           NaN       NaN\n",
              "129  262  Oniku Shabushabu & Yakiniku  ...           NaN       1.0\n",
              "134  271                     Cafe Cha  ...           NaN       NaN\n",
              "\n",
              "[5 rows x 32 columns]"
            ]
          },
          "metadata": {
            "tags": []
          },
          "execution_count": 30
        }
      ]
    },
    {
      "cell_type": "code",
      "metadata": {
        "id": "lyyg93LDxpSl",
        "colab_type": "code",
        "colab": {
          "base_uri": "https://localhost:8080/",
          "height": 34
        },
        "outputId": "dfb3837c-9707-44be-af7f-54b40abc95f8"
      },
      "source": [
        "w_restaurant_df.dropna(subset=['id', 'name', 'avg_price'])['avg_price'].mean()          # หา mean เฉพาะ colum"
      ],
      "execution_count": 31,
      "outputs": [
        {
          "output_type": "execute_result",
          "data": {
            "text/plain": [
              "327.44728783902013"
            ]
          },
          "metadata": {
            "tags": []
          },
          "execution_count": 31
        }
      ]
    },
    {
      "cell_type": "markdown",
      "metadata": {
        "id": "DD0oTlPGzJvq",
        "colab_type": "text"
      },
      "source": [
        "## Method 2 (replace with reasonable value) : เติมเลขที่สมเหตุสมผล\n",
        "we are replacing missing value in the number of chains with 0   #number of chains : จำนวนสาขา"
      ]
    },
    {
      "cell_type": "code",
      "metadata": {
        "id": "osz0LerGyxvc",
        "colab_type": "code",
        "colab": {}
      },
      "source": [
        "w_restaurant_df[['number_of_chains']] = w_restaurant_df[['number_of_chains']].fillna(0)       # แก้ด้วยการแทนค่าเลขที่เราต้องการ ชื่อนี้ ตารางนี้ จะถูกแทนค่าด้วย 0 แต่เติมด้วยเลขนี้เพราะว่าอะไร ร้านส่วนใหญ่มีสาขาหรือเปล่า                                                                                                "
      ],
      "execution_count": 32,
      "outputs": []
    },
    {
      "cell_type": "code",
      "metadata": {
        "id": "h7H8BoKv0XsO",
        "colab_type": "code",
        "colab": {
          "base_uri": "https://localhost:8080/",
          "height": 571
        },
        "outputId": "9c14661c-7981-46fa-d6f3-e5d34a351684"
      },
      "source": [
        "w_restaurant_df.isnull().any()"
      ],
      "execution_count": 33,
      "outputs": [
        {
          "output_type": "execute_result",
          "data": {
            "text/plain": [
              "id                         False\n",
              "name                       False\n",
              "domain_id                  False\n",
              "closed                     False\n",
              "city_name                  False\n",
              "zipcode                     True\n",
              "geohash                    False\n",
              "new_open                   False\n",
              "weighted_average_rating    False\n",
              "number_of_chains           False\n",
              "number_of_bookmarks         True\n",
              "number_of_reviews          False\n",
              "number_of_product_tags     False\n",
              "total_number_of_views      False\n",
              "number_of_checkins         False\n",
              "number_of_menu_groups      False\n",
              "number_of_menu_photos      False\n",
              "category_name              False\n",
              "price_range                 True\n",
              "avg_price                   True\n",
              "parking                     True\n",
              "credit_card_accepted        True\n",
              "good_for_groups             True\n",
              "good_for_kids               True\n",
              "bookable                    True\n",
              "best_of_wongnai             True\n",
              "wifi                        True\n",
              "number_of_seats             True\n",
              "music_venue                 True\n",
              "hotel_restaurant            True\n",
              "pet_friendly                True\n",
              "delivery                    True\n",
              "dtype: bool"
            ]
          },
          "metadata": {
            "tags": []
          },
          "execution_count": 33
        }
      ]
    },
    {
      "cell_type": "markdown",
      "metadata": {
        "id": "0PAFYrQd1Yak",
        "colab_type": "text"
      },
      "source": [
        "## Method 2.1 (replace with unknown value) : เติมด้วย unknown\n",
        "## Method 2.2 (replace with mean) : เติมด้วยค่าเฉลี่ยของช่องนั้น"
      ]
    },
    {
      "cell_type": "markdown",
      "metadata": {
        "id": "GXZZLLBj12sF",
        "colab_type": "text"
      },
      "source": [
        "## Method 3 "
      ]
    },
    {
      "cell_type": "code",
      "metadata": {
        "id": "BAINv7mE0gNS",
        "colab_type": "code",
        "colab": {
          "base_uri": "https://localhost:8080/",
          "height": 402
        },
        "outputId": "48b53531-7833-4b03-83c5-3d367ce248dd"
      },
      "source": [
        "new_table = w_restaurant_df[['name','city_name','avg_price']]\n",
        "new_table"
      ],
      "execution_count": 34,
      "outputs": [
        {
          "output_type": "execute_result",
          "data": {
            "text/html": [
              "<div>\n",
              "<style scoped>\n",
              "    .dataframe tbody tr th:only-of-type {\n",
              "        vertical-align: middle;\n",
              "    }\n",
              "\n",
              "    .dataframe tbody tr th {\n",
              "        vertical-align: top;\n",
              "    }\n",
              "\n",
              "    .dataframe thead th {\n",
              "        text-align: right;\n",
              "    }\n",
              "</style>\n",
              "<table border=\"1\" class=\"dataframe\">\n",
              "  <thead>\n",
              "    <tr style=\"text-align: right;\">\n",
              "      <th></th>\n",
              "      <th>name</th>\n",
              "      <th>city_name</th>\n",
              "      <th>avg_price</th>\n",
              "    </tr>\n",
              "  </thead>\n",
              "  <tbody>\n",
              "    <tr>\n",
              "      <th>0</th>\n",
              "      <td>นครินทร์ทันตกรรม</td>\n",
              "      <td>Samut Songkhram</td>\n",
              "      <td>NaN</td>\n",
              "    </tr>\n",
              "    <tr>\n",
              "      <th>1</th>\n",
              "      <td>Corner House</td>\n",
              "      <td>Bangkok Metropolitan Region</td>\n",
              "      <td>NaN</td>\n",
              "    </tr>\n",
              "    <tr>\n",
              "      <th>2</th>\n",
              "      <td>วัดโลกยสุธาราม</td>\n",
              "      <td>Phra Nakhon Si Ayutthaya</td>\n",
              "      <td>NaN</td>\n",
              "    </tr>\n",
              "    <tr>\n",
              "      <th>3</th>\n",
              "      <td>นันท์คาราโอเกะ</td>\n",
              "      <td>Bangkok Metropolitan Region</td>\n",
              "      <td>NaN</td>\n",
              "    </tr>\n",
              "    <tr>\n",
              "      <th>4</th>\n",
              "      <td>Buono Caffe</td>\n",
              "      <td>Bangkok Metropolitan Region</td>\n",
              "      <td>NaN</td>\n",
              "    </tr>\n",
              "    <tr>\n",
              "      <th>...</th>\n",
              "      <td>...</td>\n",
              "      <td>...</td>\n",
              "      <td>...</td>\n",
              "    </tr>\n",
              "    <tr>\n",
              "      <th>246842</th>\n",
              "      <td>Sushi Tama</td>\n",
              "      <td>Bangkok Metropolitan Region</td>\n",
              "      <td>NaN</td>\n",
              "    </tr>\n",
              "    <tr>\n",
              "      <th>246843</th>\n",
              "      <td>สะบายดี คาราโอเกะ</td>\n",
              "      <td>Bangkok Metropolitan Region</td>\n",
              "      <td>NaN</td>\n",
              "    </tr>\n",
              "    <tr>\n",
              "      <th>246844</th>\n",
              "      <td>สเต็กแม่&amp;กาแฟลูก</td>\n",
              "      <td>Bangkok Metropolitan Region</td>\n",
              "      <td>NaN</td>\n",
              "    </tr>\n",
              "    <tr>\n",
              "      <th>246845</th>\n",
              "      <td>Mom Made</td>\n",
              "      <td>Nakhon Si Thammarat</td>\n",
              "      <td>NaN</td>\n",
              "    </tr>\n",
              "    <tr>\n",
              "      <th>246846</th>\n",
              "      <td>ก๋วยเตี๋ยวหมูน้ำตก ก๋วยเตี๋ยวเรือทอง</td>\n",
              "      <td>Suphan Buri</td>\n",
              "      <td>NaN</td>\n",
              "    </tr>\n",
              "  </tbody>\n",
              "</table>\n",
              "<p>246847 rows × 3 columns</p>\n",
              "</div>"
            ],
            "text/plain": [
              "                                        name  ... avg_price\n",
              "0                           นครินทร์ทันตกรรม  ...       NaN\n",
              "1                               Corner House  ...       NaN\n",
              "2                             วัดโลกยสุธาราม  ...       NaN\n",
              "3                             นันท์คาราโอเกะ  ...       NaN\n",
              "4                                Buono Caffe  ...       NaN\n",
              "...                                      ...  ...       ...\n",
              "246842                            Sushi Tama  ...       NaN\n",
              "246843                     สะบายดี คาราโอเกะ  ...       NaN\n",
              "246844                      สเต็กแม่&กาแฟลูก  ...       NaN\n",
              "246845                              Mom Made  ...       NaN\n",
              "246846  ก๋วยเตี๋ยวหมูน้ำตก ก๋วยเตี๋ยวเรือทอง  ...       NaN\n",
              "\n",
              "[246847 rows x 3 columns]"
            ]
          },
          "metadata": {
            "tags": []
          },
          "execution_count": 34
        }
      ]
    },
    {
      "cell_type": "markdown",
      "metadata": {
        "id": "f260f5Sd3UzL",
        "colab_type": "text"
      },
      "source": [
        "## [PD] selected"
      ]
    },
    {
      "cell_type": "code",
      "metadata": {
        "id": "ZEz2xHS03dYm",
        "colab_type": "code",
        "colab": {
          "base_uri": "https://localhost:8080/",
          "height": 218
        },
        "outputId": "4dc7df59-2967-4b24-84c2-536bf4875723"
      },
      "source": [
        "selected_list = new_table['city_name'] == 'Bangkok Metropolitan Region'         # list ของชื่อในคอลัมเนม ค่าไหนเท่ากับ กทม. ก็จะเป็น true\n",
        "selected_list"
      ],
      "execution_count": 35,
      "outputs": [
        {
          "output_type": "execute_result",
          "data": {
            "text/plain": [
              "0         False\n",
              "1          True\n",
              "2         False\n",
              "3          True\n",
              "4          True\n",
              "          ...  \n",
              "246842     True\n",
              "246843     True\n",
              "246844     True\n",
              "246845    False\n",
              "246846    False\n",
              "Name: city_name, Length: 246847, dtype: bool"
            ]
          },
          "metadata": {
            "tags": []
          },
          "execution_count": 35
        }
      ]
    },
    {
      "cell_type": "code",
      "metadata": {
        "id": "49qsdFmm4Bb3",
        "colab_type": "code",
        "colab": {
          "base_uri": "https://localhost:8080/",
          "height": 195
        },
        "outputId": "10d44637-ac2d-479c-e43c-f466d56b02de"
      },
      "source": [
        "new_table[selected_list].head()"
      ],
      "execution_count": 36,
      "outputs": [
        {
          "output_type": "execute_result",
          "data": {
            "text/html": [
              "<div>\n",
              "<style scoped>\n",
              "    .dataframe tbody tr th:only-of-type {\n",
              "        vertical-align: middle;\n",
              "    }\n",
              "\n",
              "    .dataframe tbody tr th {\n",
              "        vertical-align: top;\n",
              "    }\n",
              "\n",
              "    .dataframe thead th {\n",
              "        text-align: right;\n",
              "    }\n",
              "</style>\n",
              "<table border=\"1\" class=\"dataframe\">\n",
              "  <thead>\n",
              "    <tr style=\"text-align: right;\">\n",
              "      <th></th>\n",
              "      <th>name</th>\n",
              "      <th>city_name</th>\n",
              "      <th>avg_price</th>\n",
              "    </tr>\n",
              "  </thead>\n",
              "  <tbody>\n",
              "    <tr>\n",
              "      <th>1</th>\n",
              "      <td>Corner House</td>\n",
              "      <td>Bangkok Metropolitan Region</td>\n",
              "      <td>NaN</td>\n",
              "    </tr>\n",
              "    <tr>\n",
              "      <th>3</th>\n",
              "      <td>นันท์คาราโอเกะ</td>\n",
              "      <td>Bangkok Metropolitan Region</td>\n",
              "      <td>NaN</td>\n",
              "    </tr>\n",
              "    <tr>\n",
              "      <th>4</th>\n",
              "      <td>Buono Caffe</td>\n",
              "      <td>Bangkok Metropolitan Region</td>\n",
              "      <td>NaN</td>\n",
              "    </tr>\n",
              "    <tr>\n",
              "      <th>7</th>\n",
              "      <td>Sazanami</td>\n",
              "      <td>Bangkok Metropolitan Region</td>\n",
              "      <td>NaN</td>\n",
              "    </tr>\n",
              "    <tr>\n",
              "      <th>10</th>\n",
              "      <td>Rotee Me Chabu</td>\n",
              "      <td>Bangkok Metropolitan Region</td>\n",
              "      <td>NaN</td>\n",
              "    </tr>\n",
              "  </tbody>\n",
              "</table>\n",
              "</div>"
            ],
            "text/plain": [
              "              name                    city_name  avg_price\n",
              "1     Corner House  Bangkok Metropolitan Region        NaN\n",
              "3   นันท์คาราโอเกะ  Bangkok Metropolitan Region        NaN\n",
              "4      Buono Caffe  Bangkok Metropolitan Region        NaN\n",
              "7         Sazanami  Bangkok Metropolitan Region        NaN\n",
              "10  Rotee Me Chabu  Bangkok Metropolitan Region        NaN"
            ]
          },
          "metadata": {
            "tags": []
          },
          "execution_count": 36
        }
      ]
    },
    {
      "cell_type": "code",
      "metadata": {
        "id": "-OqZooep4vdj",
        "colab_type": "code",
        "colab": {
          "base_uri": "https://localhost:8080/",
          "height": 195
        },
        "outputId": "b64125fd-06e3-4f88-9526-decf6fdea536"
      },
      "source": [
        "new_table[new_table['city_name'] == 'Bangkok Metropolitan Region'].head()"
      ],
      "execution_count": 37,
      "outputs": [
        {
          "output_type": "execute_result",
          "data": {
            "text/html": [
              "<div>\n",
              "<style scoped>\n",
              "    .dataframe tbody tr th:only-of-type {\n",
              "        vertical-align: middle;\n",
              "    }\n",
              "\n",
              "    .dataframe tbody tr th {\n",
              "        vertical-align: top;\n",
              "    }\n",
              "\n",
              "    .dataframe thead th {\n",
              "        text-align: right;\n",
              "    }\n",
              "</style>\n",
              "<table border=\"1\" class=\"dataframe\">\n",
              "  <thead>\n",
              "    <tr style=\"text-align: right;\">\n",
              "      <th></th>\n",
              "      <th>name</th>\n",
              "      <th>city_name</th>\n",
              "      <th>avg_price</th>\n",
              "    </tr>\n",
              "  </thead>\n",
              "  <tbody>\n",
              "    <tr>\n",
              "      <th>1</th>\n",
              "      <td>Corner House</td>\n",
              "      <td>Bangkok Metropolitan Region</td>\n",
              "      <td>NaN</td>\n",
              "    </tr>\n",
              "    <tr>\n",
              "      <th>3</th>\n",
              "      <td>นันท์คาราโอเกะ</td>\n",
              "      <td>Bangkok Metropolitan Region</td>\n",
              "      <td>NaN</td>\n",
              "    </tr>\n",
              "    <tr>\n",
              "      <th>4</th>\n",
              "      <td>Buono Caffe</td>\n",
              "      <td>Bangkok Metropolitan Region</td>\n",
              "      <td>NaN</td>\n",
              "    </tr>\n",
              "    <tr>\n",
              "      <th>7</th>\n",
              "      <td>Sazanami</td>\n",
              "      <td>Bangkok Metropolitan Region</td>\n",
              "      <td>NaN</td>\n",
              "    </tr>\n",
              "    <tr>\n",
              "      <th>10</th>\n",
              "      <td>Rotee Me Chabu</td>\n",
              "      <td>Bangkok Metropolitan Region</td>\n",
              "      <td>NaN</td>\n",
              "    </tr>\n",
              "  </tbody>\n",
              "</table>\n",
              "</div>"
            ],
            "text/plain": [
              "              name                    city_name  avg_price\n",
              "1     Corner House  Bangkok Metropolitan Region        NaN\n",
              "3   นันท์คาราโอเกะ  Bangkok Metropolitan Region        NaN\n",
              "4      Buono Caffe  Bangkok Metropolitan Region        NaN\n",
              "7         Sazanami  Bangkok Metropolitan Region        NaN\n",
              "10  Rotee Me Chabu  Bangkok Metropolitan Region        NaN"
            ]
          },
          "metadata": {
            "tags": []
          },
          "execution_count": 37
        }
      ]
    },
    {
      "cell_type": "markdown",
      "metadata": {
        "id": "-EVzqpT05nM3",
        "colab_type": "text"
      },
      "source": [
        "## หาราคาเฉลี่ยของร้านในจังหวัดกรุงเทพ"
      ]
    },
    {
      "cell_type": "code",
      "metadata": {
        "id": "ro39XoCW5y8X",
        "colab_type": "code",
        "colab": {
          "base_uri": "https://localhost:8080/",
          "height": 34
        },
        "outputId": "f60bee46-11bc-42c2-f8e1-d6bec1709bf5"
      },
      "source": [
        "new_table[new_table['city_name']=='Bangkok Metropolitan Region'].dropna()['avg_price'].mean()"
      ],
      "execution_count": 38,
      "outputs": [
        {
          "output_type": "execute_result",
          "data": {
            "text/plain": [
              "392.5854715094968"
            ]
          },
          "metadata": {
            "tags": []
          },
          "execution_count": 38
        }
      ]
    },
    {
      "cell_type": "markdown",
      "metadata": {
        "id": "UbBcocKcjttI",
        "colab_type": "text"
      },
      "source": [
        "### 1. เลือกเฉพาะ กทม"
      ]
    },
    {
      "cell_type": "code",
      "metadata": {
        "id": "8Ug-RVyhjv9k",
        "colab_type": "code",
        "colab": {
          "base_uri": "https://localhost:8080/",
          "height": 195
        },
        "outputId": "6f83e3f0-c9f7-4a1b-a65c-aecf6b4b936a"
      },
      "source": [
        "bkk_table = new_table[new_table['city_name']=='Bangkok Metropolitan Region']\n",
        "bkk_table.head()"
      ],
      "execution_count": 39,
      "outputs": [
        {
          "output_type": "execute_result",
          "data": {
            "text/html": [
              "<div>\n",
              "<style scoped>\n",
              "    .dataframe tbody tr th:only-of-type {\n",
              "        vertical-align: middle;\n",
              "    }\n",
              "\n",
              "    .dataframe tbody tr th {\n",
              "        vertical-align: top;\n",
              "    }\n",
              "\n",
              "    .dataframe thead th {\n",
              "        text-align: right;\n",
              "    }\n",
              "</style>\n",
              "<table border=\"1\" class=\"dataframe\">\n",
              "  <thead>\n",
              "    <tr style=\"text-align: right;\">\n",
              "      <th></th>\n",
              "      <th>name</th>\n",
              "      <th>city_name</th>\n",
              "      <th>avg_price</th>\n",
              "    </tr>\n",
              "  </thead>\n",
              "  <tbody>\n",
              "    <tr>\n",
              "      <th>1</th>\n",
              "      <td>Corner House</td>\n",
              "      <td>Bangkok Metropolitan Region</td>\n",
              "      <td>NaN</td>\n",
              "    </tr>\n",
              "    <tr>\n",
              "      <th>3</th>\n",
              "      <td>นันท์คาราโอเกะ</td>\n",
              "      <td>Bangkok Metropolitan Region</td>\n",
              "      <td>NaN</td>\n",
              "    </tr>\n",
              "    <tr>\n",
              "      <th>4</th>\n",
              "      <td>Buono Caffe</td>\n",
              "      <td>Bangkok Metropolitan Region</td>\n",
              "      <td>NaN</td>\n",
              "    </tr>\n",
              "    <tr>\n",
              "      <th>7</th>\n",
              "      <td>Sazanami</td>\n",
              "      <td>Bangkok Metropolitan Region</td>\n",
              "      <td>NaN</td>\n",
              "    </tr>\n",
              "    <tr>\n",
              "      <th>10</th>\n",
              "      <td>Rotee Me Chabu</td>\n",
              "      <td>Bangkok Metropolitan Region</td>\n",
              "      <td>NaN</td>\n",
              "    </tr>\n",
              "  </tbody>\n",
              "</table>\n",
              "</div>"
            ],
            "text/plain": [
              "              name                    city_name  avg_price\n",
              "1     Corner House  Bangkok Metropolitan Region        NaN\n",
              "3   นันท์คาราโอเกะ  Bangkok Metropolitan Region        NaN\n",
              "4      Buono Caffe  Bangkok Metropolitan Region        NaN\n",
              "7         Sazanami  Bangkok Metropolitan Region        NaN\n",
              "10  Rotee Me Chabu  Bangkok Metropolitan Region        NaN"
            ]
          },
          "metadata": {
            "tags": []
          },
          "execution_count": 39
        }
      ]
    },
    {
      "cell_type": "markdown",
      "metadata": {
        "id": "n4keDh3Uj35x",
        "colab_type": "text"
      },
      "source": [
        "### 2. ลบ missing"
      ]
    },
    {
      "cell_type": "code",
      "metadata": {
        "id": "J77KsrCNj5rY",
        "colab_type": "code",
        "colab": {
          "base_uri": "https://localhost:8080/",
          "height": 195
        },
        "outputId": "5f57b397-7329-48e8-f37e-3519f238e288"
      },
      "source": [
        "bkk_table_dp = bkk_table.dropna()\n",
        "bkk_table_dp.head()"
      ],
      "execution_count": 40,
      "outputs": [
        {
          "output_type": "execute_result",
          "data": {
            "text/html": [
              "<div>\n",
              "<style scoped>\n",
              "    .dataframe tbody tr th:only-of-type {\n",
              "        vertical-align: middle;\n",
              "    }\n",
              "\n",
              "    .dataframe tbody tr th {\n",
              "        vertical-align: top;\n",
              "    }\n",
              "\n",
              "    .dataframe thead th {\n",
              "        text-align: right;\n",
              "    }\n",
              "</style>\n",
              "<table border=\"1\" class=\"dataframe\">\n",
              "  <thead>\n",
              "    <tr style=\"text-align: right;\">\n",
              "      <th></th>\n",
              "      <th>name</th>\n",
              "      <th>city_name</th>\n",
              "      <th>avg_price</th>\n",
              "    </tr>\n",
              "  </thead>\n",
              "  <tbody>\n",
              "    <tr>\n",
              "      <th>67</th>\n",
              "      <td>เล็กกุ้งเผา</td>\n",
              "      <td>Bangkok Metropolitan Region</td>\n",
              "      <td>375.0</td>\n",
              "    </tr>\n",
              "    <tr>\n",
              "      <th>134</th>\n",
              "      <td>Cafe Cha</td>\n",
              "      <td>Bangkok Metropolitan Region</td>\n",
              "      <td>175.0</td>\n",
              "    </tr>\n",
              "    <tr>\n",
              "      <th>247</th>\n",
              "      <td>Masterpiece clinic</td>\n",
              "      <td>Bangkok Metropolitan Region</td>\n",
              "      <td>1500.0</td>\n",
              "    </tr>\n",
              "    <tr>\n",
              "      <th>319</th>\n",
              "      <td>Chaba Nails &amp; Eyelashes Pro</td>\n",
              "      <td>Bangkok Metropolitan Region</td>\n",
              "      <td>375.0</td>\n",
              "    </tr>\n",
              "    <tr>\n",
              "      <th>382</th>\n",
              "      <td>Panlee Bakery</td>\n",
              "      <td>Bangkok Metropolitan Region</td>\n",
              "      <td>175.0</td>\n",
              "    </tr>\n",
              "  </tbody>\n",
              "</table>\n",
              "</div>"
            ],
            "text/plain": [
              "                            name                    city_name  avg_price\n",
              "67                   เล็กกุ้งเผา  Bangkok Metropolitan Region      375.0\n",
              "134                     Cafe Cha  Bangkok Metropolitan Region      175.0\n",
              "247           Masterpiece clinic  Bangkok Metropolitan Region     1500.0\n",
              "319  Chaba Nails & Eyelashes Pro  Bangkok Metropolitan Region      375.0\n",
              "382                Panlee Bakery  Bangkok Metropolitan Region      175.0"
            ]
          },
          "metadata": {
            "tags": []
          },
          "execution_count": 40
        }
      ]
    },
    {
      "cell_type": "markdown",
      "metadata": {
        "id": "Aeu2aOF6kAjU",
        "colab_type": "text"
      },
      "source": [
        "### 3. เลือกเฉพาะ column 'avg_price'"
      ]
    },
    {
      "cell_type": "code",
      "metadata": {
        "id": "s8p-pYtCkCGl",
        "colab_type": "code",
        "colab": {
          "base_uri": "https://localhost:8080/",
          "height": 218
        },
        "outputId": "2d2befdb-1999-4b81-d439-1c0353661236"
      },
      "source": [
        "bkk_table_dp_avg_price = bkk_table_dp['avg_price']\n",
        "bkk_table_dp_avg_price"
      ],
      "execution_count": 41,
      "outputs": [
        {
          "output_type": "execute_result",
          "data": {
            "text/plain": [
              "67         375.0\n",
              "134        175.0\n",
              "247       1500.0\n",
              "319        375.0\n",
              "382        175.0\n",
              "           ...  \n",
              "246458      50.0\n",
              "246472    1500.0\n",
              "246508     375.0\n",
              "246666     375.0\n",
              "246721     375.0\n",
              "Name: avg_price, Length: 3001, dtype: float64"
            ]
          },
          "metadata": {
            "tags": []
          },
          "execution_count": 41
        }
      ]
    },
    {
      "cell_type": "markdown",
      "metadata": {
        "id": "ubysw5_CkLtt",
        "colab_type": "text"
      },
      "source": [
        "### 4. หาค่าเฉลี่ย"
      ]
    },
    {
      "cell_type": "code",
      "metadata": {
        "id": "iz4kt9C-kNr5",
        "colab_type": "code",
        "colab": {
          "base_uri": "https://localhost:8080/",
          "height": 34
        },
        "outputId": "27da68b4-c461-486b-e4cb-8a81bc592fa1"
      },
      "source": [
        "bkk_table_dp_avg_price.mean()"
      ],
      "execution_count": 42,
      "outputs": [
        {
          "output_type": "execute_result",
          "data": {
            "text/plain": [
              "392.5854715094968"
            ]
          },
          "metadata": {
            "tags": []
          },
          "execution_count": 42
        }
      ]
    },
    {
      "cell_type": "markdown",
      "metadata": {
        "id": "gFC4apMAkVHF",
        "colab_type": "text"
      },
      "source": [
        "## แก้ missing method 3 เติมค่าที่เหมาะสมตามกลุ่มของมัน"
      ]
    },
    {
      "cell_type": "code",
      "metadata": {
        "id": "HcljNMfykWw4",
        "colab_type": "code",
        "colab": {
          "base_uri": "https://localhost:8080/",
          "height": 296
        },
        "outputId": "3ad5f45f-1a3e-450e-eeab-eaecd2a755df"
      },
      "source": [
        "bkk_table[['avg_price']] = bkk_table[['avg_price']].fillna(bkk_table_dp_avg_price.mean())\n",
        "bkk_table.head()"
      ],
      "execution_count": 43,
      "outputs": [
        {
          "output_type": "stream",
          "text": [
            "/usr/local/lib/python3.6/dist-packages/pandas/core/frame.py:2963: SettingWithCopyWarning: \n",
            "A value is trying to be set on a copy of a slice from a DataFrame.\n",
            "Try using .loc[row_indexer,col_indexer] = value instead\n",
            "\n",
            "See the caveats in the documentation: https://pandas.pydata.org/pandas-docs/stable/user_guide/indexing.html#returning-a-view-versus-a-copy\n",
            "  self[k1] = value[k2]\n"
          ],
          "name": "stderr"
        },
        {
          "output_type": "execute_result",
          "data": {
            "text/html": [
              "<div>\n",
              "<style scoped>\n",
              "    .dataframe tbody tr th:only-of-type {\n",
              "        vertical-align: middle;\n",
              "    }\n",
              "\n",
              "    .dataframe tbody tr th {\n",
              "        vertical-align: top;\n",
              "    }\n",
              "\n",
              "    .dataframe thead th {\n",
              "        text-align: right;\n",
              "    }\n",
              "</style>\n",
              "<table border=\"1\" class=\"dataframe\">\n",
              "  <thead>\n",
              "    <tr style=\"text-align: right;\">\n",
              "      <th></th>\n",
              "      <th>name</th>\n",
              "      <th>city_name</th>\n",
              "      <th>avg_price</th>\n",
              "    </tr>\n",
              "  </thead>\n",
              "  <tbody>\n",
              "    <tr>\n",
              "      <th>1</th>\n",
              "      <td>Corner House</td>\n",
              "      <td>Bangkok Metropolitan Region</td>\n",
              "      <td>392.585472</td>\n",
              "    </tr>\n",
              "    <tr>\n",
              "      <th>3</th>\n",
              "      <td>นันท์คาราโอเกะ</td>\n",
              "      <td>Bangkok Metropolitan Region</td>\n",
              "      <td>392.585472</td>\n",
              "    </tr>\n",
              "    <tr>\n",
              "      <th>4</th>\n",
              "      <td>Buono Caffe</td>\n",
              "      <td>Bangkok Metropolitan Region</td>\n",
              "      <td>392.585472</td>\n",
              "    </tr>\n",
              "    <tr>\n",
              "      <th>7</th>\n",
              "      <td>Sazanami</td>\n",
              "      <td>Bangkok Metropolitan Region</td>\n",
              "      <td>392.585472</td>\n",
              "    </tr>\n",
              "    <tr>\n",
              "      <th>10</th>\n",
              "      <td>Rotee Me Chabu</td>\n",
              "      <td>Bangkok Metropolitan Region</td>\n",
              "      <td>392.585472</td>\n",
              "    </tr>\n",
              "  </tbody>\n",
              "</table>\n",
              "</div>"
            ],
            "text/plain": [
              "              name                    city_name   avg_price\n",
              "1     Corner House  Bangkok Metropolitan Region  392.585472\n",
              "3   นันท์คาราโอเกะ  Bangkok Metropolitan Region  392.585472\n",
              "4      Buono Caffe  Bangkok Metropolitan Region  392.585472\n",
              "7         Sazanami  Bangkok Metropolitan Region  392.585472\n",
              "10  Rotee Me Chabu  Bangkok Metropolitan Region  392.585472"
            ]
          },
          "metadata": {
            "tags": []
          },
          "execution_count": 43
        }
      ]
    },
    {
      "cell_type": "code",
      "metadata": {
        "id": "-8i6Fe6pki21",
        "colab_type": "code",
        "colab": {}
      },
      "source": [
        "#bkk_table[['avg_price']].fillna(bkk_table_dp_avg_price.mean(),inplace=True)\n",
        "#bkk_table.head()"
      ],
      "execution_count": 44,
      "outputs": []
    },
    {
      "cell_type": "markdown",
      "metadata": {
        "id": "s-2uWL4h6mwg",
        "colab_type": "text"
      },
      "source": [
        "## EX9 : หาราคาเฉลี่ยของร้านในภูเก็ต และเติมแทนค่า missing ของจังหวัดภูเก็ต"
      ]
    },
    {
      "cell_type": "code",
      "metadata": {
        "id": "FbHLHy0i7lxk",
        "colab_type": "code",
        "colab": {
          "base_uri": "https://localhost:8080/",
          "height": 402
        },
        "outputId": "8937d10d-846f-4976-dafd-59fe8d50e666"
      },
      "source": [
        "new_table = w_restaurant_df[['name','city_name','avg_price']]\n",
        "new_table"
      ],
      "execution_count": 45,
      "outputs": [
        {
          "output_type": "execute_result",
          "data": {
            "text/html": [
              "<div>\n",
              "<style scoped>\n",
              "    .dataframe tbody tr th:only-of-type {\n",
              "        vertical-align: middle;\n",
              "    }\n",
              "\n",
              "    .dataframe tbody tr th {\n",
              "        vertical-align: top;\n",
              "    }\n",
              "\n",
              "    .dataframe thead th {\n",
              "        text-align: right;\n",
              "    }\n",
              "</style>\n",
              "<table border=\"1\" class=\"dataframe\">\n",
              "  <thead>\n",
              "    <tr style=\"text-align: right;\">\n",
              "      <th></th>\n",
              "      <th>name</th>\n",
              "      <th>city_name</th>\n",
              "      <th>avg_price</th>\n",
              "    </tr>\n",
              "  </thead>\n",
              "  <tbody>\n",
              "    <tr>\n",
              "      <th>0</th>\n",
              "      <td>นครินทร์ทันตกรรม</td>\n",
              "      <td>Samut Songkhram</td>\n",
              "      <td>NaN</td>\n",
              "    </tr>\n",
              "    <tr>\n",
              "      <th>1</th>\n",
              "      <td>Corner House</td>\n",
              "      <td>Bangkok Metropolitan Region</td>\n",
              "      <td>NaN</td>\n",
              "    </tr>\n",
              "    <tr>\n",
              "      <th>2</th>\n",
              "      <td>วัดโลกยสุธาราม</td>\n",
              "      <td>Phra Nakhon Si Ayutthaya</td>\n",
              "      <td>NaN</td>\n",
              "    </tr>\n",
              "    <tr>\n",
              "      <th>3</th>\n",
              "      <td>นันท์คาราโอเกะ</td>\n",
              "      <td>Bangkok Metropolitan Region</td>\n",
              "      <td>NaN</td>\n",
              "    </tr>\n",
              "    <tr>\n",
              "      <th>4</th>\n",
              "      <td>Buono Caffe</td>\n",
              "      <td>Bangkok Metropolitan Region</td>\n",
              "      <td>NaN</td>\n",
              "    </tr>\n",
              "    <tr>\n",
              "      <th>...</th>\n",
              "      <td>...</td>\n",
              "      <td>...</td>\n",
              "      <td>...</td>\n",
              "    </tr>\n",
              "    <tr>\n",
              "      <th>246842</th>\n",
              "      <td>Sushi Tama</td>\n",
              "      <td>Bangkok Metropolitan Region</td>\n",
              "      <td>NaN</td>\n",
              "    </tr>\n",
              "    <tr>\n",
              "      <th>246843</th>\n",
              "      <td>สะบายดี คาราโอเกะ</td>\n",
              "      <td>Bangkok Metropolitan Region</td>\n",
              "      <td>NaN</td>\n",
              "    </tr>\n",
              "    <tr>\n",
              "      <th>246844</th>\n",
              "      <td>สเต็กแม่&amp;กาแฟลูก</td>\n",
              "      <td>Bangkok Metropolitan Region</td>\n",
              "      <td>NaN</td>\n",
              "    </tr>\n",
              "    <tr>\n",
              "      <th>246845</th>\n",
              "      <td>Mom Made</td>\n",
              "      <td>Nakhon Si Thammarat</td>\n",
              "      <td>NaN</td>\n",
              "    </tr>\n",
              "    <tr>\n",
              "      <th>246846</th>\n",
              "      <td>ก๋วยเตี๋ยวหมูน้ำตก ก๋วยเตี๋ยวเรือทอง</td>\n",
              "      <td>Suphan Buri</td>\n",
              "      <td>NaN</td>\n",
              "    </tr>\n",
              "  </tbody>\n",
              "</table>\n",
              "<p>246847 rows × 3 columns</p>\n",
              "</div>"
            ],
            "text/plain": [
              "                                        name  ... avg_price\n",
              "0                           นครินทร์ทันตกรรม  ...       NaN\n",
              "1                               Corner House  ...       NaN\n",
              "2                             วัดโลกยสุธาราม  ...       NaN\n",
              "3                             นันท์คาราโอเกะ  ...       NaN\n",
              "4                                Buono Caffe  ...       NaN\n",
              "...                                      ...  ...       ...\n",
              "246842                            Sushi Tama  ...       NaN\n",
              "246843                     สะบายดี คาราโอเกะ  ...       NaN\n",
              "246844                      สเต็กแม่&กาแฟลูก  ...       NaN\n",
              "246845                              Mom Made  ...       NaN\n",
              "246846  ก๋วยเตี๋ยวหมูน้ำตก ก๋วยเตี๋ยวเรือทอง  ...       NaN\n",
              "\n",
              "[246847 rows x 3 columns]"
            ]
          },
          "metadata": {
            "tags": []
          },
          "execution_count": 45
        }
      ]
    },
    {
      "cell_type": "code",
      "metadata": {
        "id": "pQ6Ts_SrmmKI",
        "colab_type": "code",
        "colab": {
          "base_uri": "https://localhost:8080/",
          "height": 218
        },
        "outputId": "6a169b52-b567-492a-fe9f-53f5bdc6c730"
      },
      "source": [
        "selected_list = new_table['city_name']=='Phuket'\n",
        "selected_list"
      ],
      "execution_count": 46,
      "outputs": [
        {
          "output_type": "execute_result",
          "data": {
            "text/plain": [
              "0         False\n",
              "1         False\n",
              "2         False\n",
              "3         False\n",
              "4         False\n",
              "          ...  \n",
              "246842    False\n",
              "246843    False\n",
              "246844    False\n",
              "246845    False\n",
              "246846    False\n",
              "Name: city_name, Length: 246847, dtype: bool"
            ]
          },
          "metadata": {
            "tags": []
          },
          "execution_count": 46
        }
      ]
    },
    {
      "cell_type": "code",
      "metadata": {
        "id": "-iV40fZfnFhz",
        "colab_type": "code",
        "colab": {
          "base_uri": "https://localhost:8080/",
          "height": 195
        },
        "outputId": "b896508f-360c-4183-a237-b7c2aa234536"
      },
      "source": [
        "# 1. เลือกเฉพาะร้านในภูเก็ต\n",
        "phuket_table = new_table[new_table['city_name']=='Phuket']\n",
        "phuket_table.head()"
      ],
      "execution_count": 47,
      "outputs": [
        {
          "output_type": "execute_result",
          "data": {
            "text/html": [
              "<div>\n",
              "<style scoped>\n",
              "    .dataframe tbody tr th:only-of-type {\n",
              "        vertical-align: middle;\n",
              "    }\n",
              "\n",
              "    .dataframe tbody tr th {\n",
              "        vertical-align: top;\n",
              "    }\n",
              "\n",
              "    .dataframe thead th {\n",
              "        text-align: right;\n",
              "    }\n",
              "</style>\n",
              "<table border=\"1\" class=\"dataframe\">\n",
              "  <thead>\n",
              "    <tr style=\"text-align: right;\">\n",
              "      <th></th>\n",
              "      <th>name</th>\n",
              "      <th>city_name</th>\n",
              "      <th>avg_price</th>\n",
              "    </tr>\n",
              "  </thead>\n",
              "  <tbody>\n",
              "    <tr>\n",
              "      <th>53</th>\n",
              "      <td>เดอะฟอร์เต้ไอซ์แลนด์</td>\n",
              "      <td>Phuket</td>\n",
              "      <td>NaN</td>\n",
              "    </tr>\n",
              "    <tr>\n",
              "      <th>74</th>\n",
              "      <td>ร้านอาหารในยางปาร์ค</td>\n",
              "      <td>Phuket</td>\n",
              "      <td>NaN</td>\n",
              "    </tr>\n",
              "    <tr>\n",
              "      <th>91</th>\n",
              "      <td>ใต้ต้นมะม่วง</td>\n",
              "      <td>Phuket</td>\n",
              "      <td>50.0</td>\n",
              "    </tr>\n",
              "    <tr>\n",
              "      <th>96</th>\n",
              "      <td>อาหารเกาหลีชินจอง</td>\n",
              "      <td>Phuket</td>\n",
              "      <td>NaN</td>\n",
              "    </tr>\n",
              "    <tr>\n",
              "      <th>190</th>\n",
              "      <td>ไชน่าอินน์</td>\n",
              "      <td>Phuket</td>\n",
              "      <td>NaN</td>\n",
              "    </tr>\n",
              "  </tbody>\n",
              "</table>\n",
              "</div>"
            ],
            "text/plain": [
              "                     name city_name  avg_price\n",
              "53   เดอะฟอร์เต้ไอซ์แลนด์    Phuket        NaN\n",
              "74    ร้านอาหารในยางปาร์ค    Phuket        NaN\n",
              "91           ใต้ต้นมะม่วง    Phuket       50.0\n",
              "96      อาหารเกาหลีชินจอง    Phuket        NaN\n",
              "190            ไชน่าอินน์    Phuket        NaN"
            ]
          },
          "metadata": {
            "tags": []
          },
          "execution_count": 47
        }
      ]
    },
    {
      "cell_type": "code",
      "metadata": {
        "id": "Wc2CGYjTnmy2",
        "colab_type": "code",
        "colab": {
          "base_uri": "https://localhost:8080/",
          "height": 195
        },
        "outputId": "d6acb109-59d6-4cf3-f36d-9f5742e48a0b"
      },
      "source": [
        "# 2. ลบ missing\n",
        "phuket_table_dp = phuket_table.dropna()\n",
        "phuket_table_dp.head()"
      ],
      "execution_count": 48,
      "outputs": [
        {
          "output_type": "execute_result",
          "data": {
            "text/html": [
              "<div>\n",
              "<style scoped>\n",
              "    .dataframe tbody tr th:only-of-type {\n",
              "        vertical-align: middle;\n",
              "    }\n",
              "\n",
              "    .dataframe tbody tr th {\n",
              "        vertical-align: top;\n",
              "    }\n",
              "\n",
              "    .dataframe thead th {\n",
              "        text-align: right;\n",
              "    }\n",
              "</style>\n",
              "<table border=\"1\" class=\"dataframe\">\n",
              "  <thead>\n",
              "    <tr style=\"text-align: right;\">\n",
              "      <th></th>\n",
              "      <th>name</th>\n",
              "      <th>city_name</th>\n",
              "      <th>avg_price</th>\n",
              "    </tr>\n",
              "  </thead>\n",
              "  <tbody>\n",
              "    <tr>\n",
              "      <th>91</th>\n",
              "      <td>ใต้ต้นมะม่วง</td>\n",
              "      <td>Phuket</td>\n",
              "      <td>50.0</td>\n",
              "    </tr>\n",
              "    <tr>\n",
              "      <th>470</th>\n",
              "      <td>Ang Ku Tea House</td>\n",
              "      <td>Phuket</td>\n",
              "      <td>175.0</td>\n",
              "    </tr>\n",
              "    <tr>\n",
              "      <th>1552</th>\n",
              "      <td>ตู้กับข้าว</td>\n",
              "      <td>Phuket</td>\n",
              "      <td>175.0</td>\n",
              "    </tr>\n",
              "    <tr>\n",
              "      <th>1779</th>\n",
              "      <td>บุญรัตน์ ติ่มซำ</td>\n",
              "      <td>Phuket</td>\n",
              "      <td>50.0</td>\n",
              "    </tr>\n",
              "    <tr>\n",
              "      <th>2080</th>\n",
              "      <td>โพงพางซีฟู้ด</td>\n",
              "      <td>Phuket</td>\n",
              "      <td>375.0</td>\n",
              "    </tr>\n",
              "  </tbody>\n",
              "</table>\n",
              "</div>"
            ],
            "text/plain": [
              "                  name city_name  avg_price\n",
              "91        ใต้ต้นมะม่วง    Phuket       50.0\n",
              "470   Ang Ku Tea House    Phuket      175.0\n",
              "1552        ตู้กับข้าว    Phuket      175.0\n",
              "1779   บุญรัตน์ ติ่มซำ    Phuket       50.0\n",
              "2080      โพงพางซีฟู้ด    Phuket      375.0"
            ]
          },
          "metadata": {
            "tags": []
          },
          "execution_count": 48
        }
      ]
    },
    {
      "cell_type": "code",
      "metadata": {
        "id": "_8u_dr8poHmG",
        "colab_type": "code",
        "colab": {
          "base_uri": "https://localhost:8080/",
          "height": 218
        },
        "outputId": "d76a5afc-17db-4504-e6c5-a8cc31993ab0"
      },
      "source": [
        "# 3. เลือกเฉพาะ column 'avg_price'\n",
        "phuket_table_dp_avg_price = phuket_table_dp['avg_price']\n",
        "phuket_table_dp_avg_price"
      ],
      "execution_count": 49,
      "outputs": [
        {
          "output_type": "execute_result",
          "data": {
            "text/plain": [
              "91         50.0\n",
              "470       175.0\n",
              "1552      175.0\n",
              "1779       50.0\n",
              "2080      375.0\n",
              "          ...  \n",
              "244655     50.0\n",
              "245848     50.0\n",
              "245935     50.0\n",
              "246093     50.0\n",
              "246660     50.0\n",
              "Name: avg_price, Length: 378, dtype: float64"
            ]
          },
          "metadata": {
            "tags": []
          },
          "execution_count": 49
        }
      ]
    },
    {
      "cell_type": "code",
      "metadata": {
        "id": "VaAtikGzojGZ",
        "colab_type": "code",
        "colab": {
          "base_uri": "https://localhost:8080/",
          "height": 34
        },
        "outputId": "ebec07df-96a2-4de3-8a11-5fe118cdd42b"
      },
      "source": [
        "# 4. หาค่าเฉลี่ย\n",
        "phuket_table_dp_avg_price.mean()"
      ],
      "execution_count": 50,
      "outputs": [
        {
          "output_type": "execute_result",
          "data": {
            "text/plain": [
              "181.4814814814815"
            ]
          },
          "metadata": {
            "tags": []
          },
          "execution_count": 50
        }
      ]
    },
    {
      "cell_type": "code",
      "metadata": {
        "id": "XjtGqQVQow97",
        "colab_type": "code",
        "colab": {
          "base_uri": "https://localhost:8080/",
          "height": 296
        },
        "outputId": "f56bd141-3465-4f98-e366-074e11713903"
      },
      "source": [
        "# 5. แก้ missing method 3 เติมค่าที่เหมาะสมตามกลุ่มของมัน\n",
        "phuket_table[['avg_price']] = phuket_table[['avg_price']].fillna(phuket_table_dp_avg_price.mean())\n",
        "phuket_table.head()"
      ],
      "execution_count": 51,
      "outputs": [
        {
          "output_type": "stream",
          "text": [
            "/usr/local/lib/python3.6/dist-packages/pandas/core/frame.py:2963: SettingWithCopyWarning: \n",
            "A value is trying to be set on a copy of a slice from a DataFrame.\n",
            "Try using .loc[row_indexer,col_indexer] = value instead\n",
            "\n",
            "See the caveats in the documentation: https://pandas.pydata.org/pandas-docs/stable/user_guide/indexing.html#returning-a-view-versus-a-copy\n",
            "  self[k1] = value[k2]\n"
          ],
          "name": "stderr"
        },
        {
          "output_type": "execute_result",
          "data": {
            "text/html": [
              "<div>\n",
              "<style scoped>\n",
              "    .dataframe tbody tr th:only-of-type {\n",
              "        vertical-align: middle;\n",
              "    }\n",
              "\n",
              "    .dataframe tbody tr th {\n",
              "        vertical-align: top;\n",
              "    }\n",
              "\n",
              "    .dataframe thead th {\n",
              "        text-align: right;\n",
              "    }\n",
              "</style>\n",
              "<table border=\"1\" class=\"dataframe\">\n",
              "  <thead>\n",
              "    <tr style=\"text-align: right;\">\n",
              "      <th></th>\n",
              "      <th>name</th>\n",
              "      <th>city_name</th>\n",
              "      <th>avg_price</th>\n",
              "    </tr>\n",
              "  </thead>\n",
              "  <tbody>\n",
              "    <tr>\n",
              "      <th>53</th>\n",
              "      <td>เดอะฟอร์เต้ไอซ์แลนด์</td>\n",
              "      <td>Phuket</td>\n",
              "      <td>181.481481</td>\n",
              "    </tr>\n",
              "    <tr>\n",
              "      <th>74</th>\n",
              "      <td>ร้านอาหารในยางปาร์ค</td>\n",
              "      <td>Phuket</td>\n",
              "      <td>181.481481</td>\n",
              "    </tr>\n",
              "    <tr>\n",
              "      <th>91</th>\n",
              "      <td>ใต้ต้นมะม่วง</td>\n",
              "      <td>Phuket</td>\n",
              "      <td>50.000000</td>\n",
              "    </tr>\n",
              "    <tr>\n",
              "      <th>96</th>\n",
              "      <td>อาหารเกาหลีชินจอง</td>\n",
              "      <td>Phuket</td>\n",
              "      <td>181.481481</td>\n",
              "    </tr>\n",
              "    <tr>\n",
              "      <th>190</th>\n",
              "      <td>ไชน่าอินน์</td>\n",
              "      <td>Phuket</td>\n",
              "      <td>181.481481</td>\n",
              "    </tr>\n",
              "  </tbody>\n",
              "</table>\n",
              "</div>"
            ],
            "text/plain": [
              "                     name city_name   avg_price\n",
              "53   เดอะฟอร์เต้ไอซ์แลนด์    Phuket  181.481481\n",
              "74    ร้านอาหารในยางปาร์ค    Phuket  181.481481\n",
              "91           ใต้ต้นมะม่วง    Phuket   50.000000\n",
              "96      อาหารเกาหลีชินจอง    Phuket  181.481481\n",
              "190            ไชน่าอินน์    Phuket  181.481481"
            ]
          },
          "metadata": {
            "tags": []
          },
          "execution_count": 51
        }
      ]
    },
    {
      "cell_type": "markdown",
      "metadata": {
        "id": "P79mEDM1-Sis",
        "colab_type": "text"
      },
      "source": [
        "## หาราคาเฉลี่ยของร้านในชลบุรี และเติมแทนค่า missing ของจังหวัดชลบุรี"
      ]
    },
    {
      "cell_type": "code",
      "metadata": {
        "id": "YxVK_QEcpo1F",
        "colab_type": "code",
        "colab": {
          "base_uri": "https://localhost:8080/",
          "height": 296
        },
        "outputId": "7fecdfb3-300e-4274-c01a-ef84b9552011"
      },
      "source": [
        "ch_table = new_table[new_table['city_name']=='Chon Buri']\n",
        "ch_table[['avg_price']] = ch_table[['avg_price']].fillna(ch_table.mean())\n",
        "ch_table.head()"
      ],
      "execution_count": 53,
      "outputs": [
        {
          "output_type": "stream",
          "text": [
            "/usr/local/lib/python3.6/dist-packages/pandas/core/frame.py:2963: SettingWithCopyWarning: \n",
            "A value is trying to be set on a copy of a slice from a DataFrame.\n",
            "Try using .loc[row_indexer,col_indexer] = value instead\n",
            "\n",
            "See the caveats in the documentation: https://pandas.pydata.org/pandas-docs/stable/user_guide/indexing.html#returning-a-view-versus-a-copy\n",
            "  self[k1] = value[k2]\n"
          ],
          "name": "stderr"
        },
        {
          "output_type": "execute_result",
          "data": {
            "text/html": [
              "<div>\n",
              "<style scoped>\n",
              "    .dataframe tbody tr th:only-of-type {\n",
              "        vertical-align: middle;\n",
              "    }\n",
              "\n",
              "    .dataframe tbody tr th {\n",
              "        vertical-align: top;\n",
              "    }\n",
              "\n",
              "    .dataframe thead th {\n",
              "        text-align: right;\n",
              "    }\n",
              "</style>\n",
              "<table border=\"1\" class=\"dataframe\">\n",
              "  <thead>\n",
              "    <tr style=\"text-align: right;\">\n",
              "      <th></th>\n",
              "      <th>name</th>\n",
              "      <th>city_name</th>\n",
              "      <th>avg_price</th>\n",
              "    </tr>\n",
              "  </thead>\n",
              "  <tbody>\n",
              "    <tr>\n",
              "      <th>5</th>\n",
              "      <td>บ้านมุมสบาย</td>\n",
              "      <td>Chon Buri</td>\n",
              "      <td>283.547619</td>\n",
              "    </tr>\n",
              "    <tr>\n",
              "      <th>15</th>\n",
              "      <td>The Rabbit หมูกระทะนานาชาติ</td>\n",
              "      <td>Chon Buri</td>\n",
              "      <td>283.547619</td>\n",
              "    </tr>\n",
              "    <tr>\n",
              "      <th>42</th>\n",
              "      <td>ก๋วยเตี๋ยวเป็ด ณ.พัทยา</td>\n",
              "      <td>Chon Buri</td>\n",
              "      <td>283.547619</td>\n",
              "    </tr>\n",
              "    <tr>\n",
              "      <th>45</th>\n",
              "      <td>ซันเซ็ทพาร์ครีสอร์ตแอนด์สปา</td>\n",
              "      <td>Chon Buri</td>\n",
              "      <td>283.547619</td>\n",
              "    </tr>\n",
              "    <tr>\n",
              "      <th>68</th>\n",
              "      <td>Oldies Bar &amp; Bistro</td>\n",
              "      <td>Chon Buri</td>\n",
              "      <td>283.547619</td>\n",
              "    </tr>\n",
              "  </tbody>\n",
              "</table>\n",
              "</div>"
            ],
            "text/plain": [
              "                           name  city_name   avg_price\n",
              "5                   บ้านมุมสบาย  Chon Buri  283.547619\n",
              "15  The Rabbit หมูกระทะนานาชาติ  Chon Buri  283.547619\n",
              "42       ก๋วยเตี๋ยวเป็ด ณ.พัทยา  Chon Buri  283.547619\n",
              "45  ซันเซ็ทพาร์ครีสอร์ตแอนด์สปา  Chon Buri  283.547619\n",
              "68          Oldies Bar & Bistro  Chon Buri  283.547619"
            ]
          },
          "metadata": {
            "tags": []
          },
          "execution_count": 53
        }
      ]
    },
    {
      "cell_type": "markdown",
      "metadata": {
        "id": "1h2nlzS6_IiJ",
        "colab_type": "text"
      },
      "source": [
        "## [PD] ต่อตารางในแนวแกน Y (เพิ่มจำนวน data) pd.concat"
      ]
    },
    {
      "cell_type": "code",
      "metadata": {
        "id": "NMMWxzyNAOux",
        "colab_type": "code",
        "colab": {
          "base_uri": "https://localhost:8080/",
          "height": 402
        },
        "outputId": "dc9cde37-b8ed-40bb-a569-c66af5a5efa3"
      },
      "source": [
        "pd.concat([bkk_table, phuket_table, ch_table])          # list ของตารางของแต่ละจังหวัด คือการรวมกันเป็นตารางใหญ่"
      ],
      "execution_count": 56,
      "outputs": [
        {
          "output_type": "execute_result",
          "data": {
            "text/html": [
              "<div>\n",
              "<style scoped>\n",
              "    .dataframe tbody tr th:only-of-type {\n",
              "        vertical-align: middle;\n",
              "    }\n",
              "\n",
              "    .dataframe tbody tr th {\n",
              "        vertical-align: top;\n",
              "    }\n",
              "\n",
              "    .dataframe thead th {\n",
              "        text-align: right;\n",
              "    }\n",
              "</style>\n",
              "<table border=\"1\" class=\"dataframe\">\n",
              "  <thead>\n",
              "    <tr style=\"text-align: right;\">\n",
              "      <th></th>\n",
              "      <th>name</th>\n",
              "      <th>city_name</th>\n",
              "      <th>avg_price</th>\n",
              "    </tr>\n",
              "  </thead>\n",
              "  <tbody>\n",
              "    <tr>\n",
              "      <th>1</th>\n",
              "      <td>Corner House</td>\n",
              "      <td>Bangkok Metropolitan Region</td>\n",
              "      <td>392.585472</td>\n",
              "    </tr>\n",
              "    <tr>\n",
              "      <th>3</th>\n",
              "      <td>นันท์คาราโอเกะ</td>\n",
              "      <td>Bangkok Metropolitan Region</td>\n",
              "      <td>392.585472</td>\n",
              "    </tr>\n",
              "    <tr>\n",
              "      <th>4</th>\n",
              "      <td>Buono Caffe</td>\n",
              "      <td>Bangkok Metropolitan Region</td>\n",
              "      <td>392.585472</td>\n",
              "    </tr>\n",
              "    <tr>\n",
              "      <th>7</th>\n",
              "      <td>Sazanami</td>\n",
              "      <td>Bangkok Metropolitan Region</td>\n",
              "      <td>392.585472</td>\n",
              "    </tr>\n",
              "    <tr>\n",
              "      <th>10</th>\n",
              "      <td>Rotee Me Chabu</td>\n",
              "      <td>Bangkok Metropolitan Region</td>\n",
              "      <td>392.585472</td>\n",
              "    </tr>\n",
              "    <tr>\n",
              "      <th>...</th>\n",
              "      <td>...</td>\n",
              "      <td>...</td>\n",
              "      <td>...</td>\n",
              "    </tr>\n",
              "    <tr>\n",
              "      <th>246754</th>\n",
              "      <td>บะหมี่หยก เป็ดย่าง</td>\n",
              "      <td>Chon Buri</td>\n",
              "      <td>283.547619</td>\n",
              "    </tr>\n",
              "    <tr>\n",
              "      <th>246770</th>\n",
              "      <td>Café Terrace</td>\n",
              "      <td>Chon Buri</td>\n",
              "      <td>283.547619</td>\n",
              "    </tr>\n",
              "    <tr>\n",
              "      <th>246782</th>\n",
              "      <td>CoCoICHIBANYA</td>\n",
              "      <td>Chon Buri</td>\n",
              "      <td>283.547619</td>\n",
              "    </tr>\n",
              "    <tr>\n",
              "      <th>246804</th>\n",
              "      <td>Reva Beach</td>\n",
              "      <td>Chon Buri</td>\n",
              "      <td>283.547619</td>\n",
              "    </tr>\n",
              "    <tr>\n",
              "      <th>246824</th>\n",
              "      <td>โรงแรมทาวน์อินทาวน์พัทยา</td>\n",
              "      <td>Chon Buri</td>\n",
              "      <td>283.547619</td>\n",
              "    </tr>\n",
              "  </tbody>\n",
              "</table>\n",
              "<p>119755 rows × 3 columns</p>\n",
              "</div>"
            ],
            "text/plain": [
              "                            name                    city_name   avg_price\n",
              "1                   Corner House  Bangkok Metropolitan Region  392.585472\n",
              "3                 นันท์คาราโอเกะ  Bangkok Metropolitan Region  392.585472\n",
              "4                    Buono Caffe  Bangkok Metropolitan Region  392.585472\n",
              "7                       Sazanami  Bangkok Metropolitan Region  392.585472\n",
              "10                Rotee Me Chabu  Bangkok Metropolitan Region  392.585472\n",
              "...                          ...                          ...         ...\n",
              "246754        บะหมี่หยก เป็ดย่าง                    Chon Buri  283.547619\n",
              "246770              Café Terrace                    Chon Buri  283.547619\n",
              "246782             CoCoICHIBANYA                    Chon Buri  283.547619\n",
              "246804                Reva Beach                    Chon Buri  283.547619\n",
              "246824  โรงแรมทาวน์อินทาวน์พัทยา                    Chon Buri  283.547619\n",
              "\n",
              "[119755 rows x 3 columns]"
            ]
          },
          "metadata": {
            "tags": []
          },
          "execution_count": 56
        }
      ]
    },
    {
      "cell_type": "code",
      "metadata": {
        "id": "jlOyLKajAkc0",
        "colab_type": "code",
        "colab": {
          "base_uri": "https://localhost:8080/",
          "height": 84
        },
        "outputId": "72facf70-15f4-4a12-c960-eb612eb8f485"
      },
      "source": [
        "pd.concat([bkk_table, phuket_table, ch_table]).isnull().any()"
      ],
      "execution_count": 57,
      "outputs": [
        {
          "output_type": "execute_result",
          "data": {
            "text/plain": [
              "name         False\n",
              "city_name    False\n",
              "avg_price    False\n",
              "dtype: bool"
            ]
          },
          "metadata": {
            "tags": []
          },
          "execution_count": 57
        }
      ]
    },
    {
      "cell_type": "markdown",
      "metadata": {
        "id": "jDHY6gmHA_MS",
        "colab_type": "text"
      },
      "source": [
        "## Looping (concat)"
      ]
    },
    {
      "cell_type": "markdown",
      "metadata": {
        "id": "lB5738gzBYQJ",
        "colab_type": "text"
      },
      "source": [
        "### 1. ดึงจังหวัดที่มีอยู่ทั้งหมดในตารางออกมา"
      ]
    },
    {
      "cell_type": "code",
      "metadata": {
        "id": "zHjn7hnfA67z",
        "colab_type": "code",
        "colab": {
          "base_uri": "https://localhost:8080/",
          "height": 218
        },
        "outputId": "ae3363c3-8597-4af2-ad94-2d7bcfb4e2f5"
      },
      "source": [
        "new_table['city_name']"
      ],
      "execution_count": 58,
      "outputs": [
        {
          "output_type": "execute_result",
          "data": {
            "text/plain": [
              "0                     Samut Songkhram\n",
              "1         Bangkok Metropolitan Region\n",
              "2            Phra Nakhon Si Ayutthaya\n",
              "3         Bangkok Metropolitan Region\n",
              "4         Bangkok Metropolitan Region\n",
              "                     ...             \n",
              "246842    Bangkok Metropolitan Region\n",
              "246843    Bangkok Metropolitan Region\n",
              "246844    Bangkok Metropolitan Region\n",
              "246845            Nakhon Si Thammarat\n",
              "246846                    Suphan Buri\n",
              "Name: city_name, Length: 246847, dtype: object"
            ]
          },
          "metadata": {
            "tags": []
          },
          "execution_count": 58
        }
      ]
    },
    {
      "cell_type": "markdown",
      "metadata": {
        "id": "6Hkr4R90CitW",
        "colab_type": "text"
      },
      "source": [
        "### set คือตัวซ้ำนับแค่ครั้งเดียว"
      ]
    },
    {
      "cell_type": "code",
      "metadata": {
        "id": "g4-FR7wuCBnU",
        "colab_type": "code",
        "colab": {
          "base_uri": "https://localhost:8080/",
          "height": 1000
        },
        "outputId": "5f51a1a5-c405-418a-82d2-49dca00f43d6"
      },
      "source": [
        "all_cities = set(new_table['city_name'])\n",
        "print(len(all_cities))\n",
        "all_cities"
      ],
      "execution_count": 60,
      "outputs": [
        {
          "output_type": "stream",
          "text": [
            "479\n"
          ],
          "name": "stdout"
        },
        {
          "output_type": "execute_result",
          "data": {
            "text/plain": [
              "{'Abu Dhabi',\n",
              " 'Aichi-ken',\n",
              " 'Akershus',\n",
              " 'Akita-ken',\n",
              " 'Al Farwaniyah Governorate',\n",
              " 'Alabama',\n",
              " 'Alaska',\n",
              " 'Alberta',\n",
              " 'Amnat Charoen',\n",
              " 'Andalucía',\n",
              " 'Ang Thong',\n",
              " 'Aomori-ken',\n",
              " 'Appenzell Ausserrhoden',\n",
              " 'Appenzell Innerrhoden',\n",
              " 'Aragón',\n",
              " 'Argyll and Bute',\n",
              " 'Arizona',\n",
              " 'Attica',\n",
              " 'Auckland',\n",
              " 'Australia',\n",
              " 'Auvergne-Rhône-Alpes',\n",
              " 'Aydın',\n",
              " 'Ba Ria - Vung Tau',\n",
              " 'Baden-Wurttemberg',\n",
              " 'Bago Region',\n",
              " 'Bahia',\n",
              " 'Bali',\n",
              " 'Balochistan',\n",
              " 'Bangkok Metropolitan Region',\n",
              " 'Banteay Meanchey Province',\n",
              " 'Banten',\n",
              " 'Basel-Stadt',\n",
              " 'Basilicata',\n",
              " 'Basrah',\n",
              " 'Battambang',\n",
              " 'Bay Of Plenty',\n",
              " 'Bayern',\n",
              " 'Berlin',\n",
              " 'Bern',\n",
              " 'Bihar',\n",
              " 'Binh Thuan',\n",
              " 'Binh Thuan province',\n",
              " 'Borno',\n",
              " 'Bratislava',\n",
              " 'Bremen',\n",
              " 'Bretagne',\n",
              " 'British Columbia',\n",
              " 'Brussels Hoofdstedelijk Gewest',\n",
              " 'Buckinghamshire',\n",
              " 'Budapest',\n",
              " 'Bueng Kan',\n",
              " 'Buri Ram',\n",
              " 'Busan',\n",
              " 'Buskerud',\n",
              " 'C2 MALL',\n",
              " 'CALABARZON',\n",
              " 'Cairo Governorate',\n",
              " 'California',\n",
              " 'Cambodia',\n",
              " 'Canterbury',\n",
              " 'Capital Governorate',\n",
              " 'Capital Region',\n",
              " 'Capital Region of Denmark',\n",
              " 'Castilla-La Mancha',\n",
              " 'Catalonia',\n",
              " 'Central Development Region',\n",
              " 'Central Visayas',\n",
              " 'Centre-Val de Loire',\n",
              " 'Chachoengsao',\n",
              " 'Chai Nat',\n",
              " 'Chaiyaphum',\n",
              " 'Champasak Province',\n",
              " 'Changhua County',\n",
              " 'Chanthaburi',\n",
              " 'Chiang Mai',\n",
              " 'Chiang Rai',\n",
              " 'Chiayi City',\n",
              " 'Chiayi County',\n",
              " 'Chiba-ken',\n",
              " 'China',\n",
              " 'Chon Buri',\n",
              " 'Chongqing Shi',\n",
              " 'Chumphon',\n",
              " 'Chungcheongnam-do',\n",
              " 'City of Zagreb',\n",
              " 'Colorado',\n",
              " 'Comunidad de Madrid',\n",
              " 'County Cork',\n",
              " 'County Dublin',\n",
              " 'County Galway',\n",
              " 'County Kerry',\n",
              " 'Cusco',\n",
              " 'Daegu',\n",
              " 'Daejeon',\n",
              " 'Daerah Brunei-Muara',\n",
              " 'Daerah Istimewa Yogyakarta',\n",
              " 'Dar es Salaam',\n",
              " 'Delhi',\n",
              " 'Denizli',\n",
              " 'Departamento de La Paz',\n",
              " 'Departamento de Potosí',\n",
              " 'District of Columbia',\n",
              " 'Dubai',\n",
              " 'Dubrovačko-neretvanska županija',\n",
              " 'Ehime-ken',\n",
              " 'England',\n",
              " 'Espoo',\n",
              " 'Federal',\n",
              " 'Finland',\n",
              " 'Finnmark',\n",
              " 'Florida',\n",
              " 'Fribourg',\n",
              " 'Fujian Sheng',\n",
              " 'Fukui-ken',\n",
              " 'Fukuoka-ken',\n",
              " 'Fukushima-ken',\n",
              " 'Gangwon-do',\n",
              " 'Gelderland',\n",
              " 'Geneva',\n",
              " 'George Town',\n",
              " 'Georgia',\n",
              " 'Gifu-ken',\n",
              " 'Gloucestershire',\n",
              " 'Gombe',\n",
              " 'Grand Est',\n",
              " 'Graubünden',\n",
              " 'Greater London',\n",
              " 'Greater Manchester',\n",
              " 'Guangdong Sheng',\n",
              " 'Guangxi Zhuangzuzizhiqu',\n",
              " 'Guinea',\n",
              " 'Gunma-ken',\n",
              " 'Gyeonggi-do',\n",
              " 'Gyeongsangbuk-do',\n",
              " 'Hainan Sheng',\n",
              " 'Hampshire',\n",
              " 'Harju maakond',\n",
              " 'Hauts-de-France',\n",
              " 'Hawaii',\n",
              " 'Hessen',\n",
              " 'Hiiraan',\n",
              " 'Hiroshima-ken',\n",
              " 'Hokkaido',\n",
              " 'Hordaland',\n",
              " 'Hsinchu City',\n",
              " 'Hsinchu County',\n",
              " 'Hua Hin',\n",
              " 'Hunan',\n",
              " 'Hyogo-ken',\n",
              " 'Hà Nội',\n",
              " 'Höfn í Hornafirði',\n",
              " 'Hồ Chí Minh',\n",
              " 'Ibaraki-ken',\n",
              " 'Iceland',\n",
              " 'Illinois',\n",
              " 'Incheon',\n",
              " 'India',\n",
              " 'Inner Mongolia',\n",
              " 'Ireland',\n",
              " 'Ishikawa-ken',\n",
              " 'Istanbul',\n",
              " 'Iwate-ken',\n",
              " 'Jakarta Capital Region',\n",
              " 'Jawa Barat',\n",
              " 'Jawa Timur',\n",
              " 'Jeju-do',\n",
              " 'Jeollabuk-do',\n",
              " 'Jharkhand',\n",
              " 'Jiangsu Sheng',\n",
              " 'Jiangxi Sheng',\n",
              " 'Jihočeský kraj',\n",
              " 'Johor',\n",
              " 'Județul Constanța',\n",
              " 'Kagoshima',\n",
              " 'Kalasin',\n",
              " 'Kamphaeng Phet',\n",
              " 'Kanagawa-ken',\n",
              " 'Kanchanaburi',\n",
              " 'Kaohsiung City',\n",
              " 'Karlovy Vary Region',\n",
              " 'Karnataka',\n",
              " 'Kayes',\n",
              " 'Kedah',\n",
              " 'Keelung City',\n",
              " 'Kelantan',\n",
              " 'Kepulauan Riau',\n",
              " 'Khammouane Province',\n",
              " 'Khartoum',\n",
              " 'Khon Kaen',\n",
              " 'Khánh Hoà',\n",
              " 'Kinshasa',\n",
              " 'Koh Kong Province',\n",
              " 'Kowloon',\n",
              " 'Krabi',\n",
              " 'Kumamoto-ken',\n",
              " 'Kyoto-fu',\n",
              " 'København',\n",
              " 'Lac',\n",
              " 'Lampang',\n",
              " 'Lamphun',\n",
              " 'Lancashire',\n",
              " 'Lao Cai',\n",
              " 'Lazio',\n",
              " \"Leningradskaya oblast'\",\n",
              " 'Liaoning',\n",
              " 'Liguria',\n",
              " 'Lima',\n",
              " 'Limerick',\n",
              " 'Lisboa',\n",
              " 'Lithuania',\n",
              " 'Ličko-senjska županija',\n",
              " 'Loei',\n",
              " 'Lombardia',\n",
              " 'Lopburi',\n",
              " 'Louisiana',\n",
              " 'Luang Prabang Province',\n",
              " 'Luxembourg',\n",
              " 'Luxor Governorate',\n",
              " 'Luzern',\n",
              " 'Lâm Đồng',\n",
              " 'Macau',\n",
              " 'Madrid',\n",
              " 'Magway Region',\n",
              " 'Maha Sarakham',\n",
              " 'Maharashtra',\n",
              " 'Malacca',\n",
              " 'Maldives',\n",
              " 'Mandalay Region',\n",
              " 'Marlborough',\n",
              " 'Maryland',\n",
              " 'Masovian Voivodeship',\n",
              " 'Massachusetts',\n",
              " 'Mayo',\n",
              " 'Metro Manila',\n",
              " 'Michigan',\n",
              " 'Mid-Western Development Region',\n",
              " 'Mie-ken',\n",
              " 'Minnesota',\n",
              " 'Miyagi-ken',\n",
              " 'Mon State',\n",
              " 'Moscow',\n",
              " \"Moskovskaya oblast'\",\n",
              " 'Mukdahan',\n",
              " 'Munxar',\n",
              " \"Murmanskaya oblast'\",\n",
              " 'Nagano-ken',\n",
              " 'Nagasaki-ken',\n",
              " 'Nakhon Nayok',\n",
              " 'Nakhon Phanom',\n",
              " 'Nakhon Ratchasima',\n",
              " 'Nakhon Sawan',\n",
              " 'Nakhon Si Thammarat',\n",
              " 'Nan',\n",
              " 'Nantou County',\n",
              " 'Nara-ken',\n",
              " 'Narathiwat',\n",
              " 'Naxos',\n",
              " 'Negeri Sembilan',\n",
              " 'Nevada',\n",
              " 'Nevsehir',\n",
              " 'New Hampshire',\n",
              " 'New Jersey',\n",
              " 'New South Wales',\n",
              " 'New Taipei City',\n",
              " 'New Territories',\n",
              " 'New York',\n",
              " 'New Zealand',\n",
              " 'Newfoundland and Labrador',\n",
              " 'Nghệ An',\n",
              " 'Niedersachsen',\n",
              " 'Niederösterreich',\n",
              " 'Niigata-ken',\n",
              " 'Nong Bua Lam Phu',\n",
              " 'Nong Khai',\n",
              " 'Noord-Holland',\n",
              " 'Nordrhein-Westfalen',\n",
              " 'Normandie',\n",
              " 'North Central Province',\n",
              " 'Northern Ireland',\n",
              " 'Northern Territory',\n",
              " 'Nouvelle-Aquitaine',\n",
              " \"Novosibirskaya oblast'\",\n",
              " 'Nusa Tenggara Barat',\n",
              " 'Oaxaca',\n",
              " 'Oberösterreich',\n",
              " 'Obwalden',\n",
              " 'Ohio',\n",
              " 'Okayama-ken',\n",
              " 'Okinawa-ken',\n",
              " 'Oklahoma',\n",
              " 'Ontario',\n",
              " 'Oregon',\n",
              " 'Oslo',\n",
              " 'Otago',\n",
              " 'Pahang',\n",
              " 'Pakistan',\n",
              " 'Palau',\n",
              " 'Pardubice Region',\n",
              " 'Pattani',\n",
              " 'Penang',\n",
              " 'Pennsylvania',\n",
              " 'Perak',\n",
              " 'Phang-nga',\n",
              " 'Phatthalung',\n",
              " 'Phayao',\n",
              " 'Phetchabun',\n",
              " 'Phetchaburi',\n",
              " 'Phichit',\n",
              " 'Phitsanulok',\n",
              " 'Phnom Penh',\n",
              " 'Phra Nakhon Si Ayutthaya',\n",
              " 'Phrae',\n",
              " 'Phuket',\n",
              " 'Piemonte',\n",
              " 'Plzeň Region',\n",
              " 'Porto',\n",
              " 'Postojna',\n",
              " 'Prachin Buri',\n",
              " 'Prachuap Khiri Khan',\n",
              " 'Prague',\n",
              " 'Preah Sihanouk',\n",
              " 'Primorskiy kray',\n",
              " 'Primorsko-goranska županija',\n",
              " \"Provence-Alpes-Côte d'Azur\",\n",
              " 'Pulau Pinang',\n",
              " 'Punjab',\n",
              " 'Qatar',\n",
              " 'Qinghai Sheng',\n",
              " 'Quebec',\n",
              " 'Queensland',\n",
              " 'Quảng Nam',\n",
              " 'Quảng Ninh',\n",
              " 'Ranong',\n",
              " 'Ratchaburi',\n",
              " 'Rayong',\n",
              " 'Region Zealand',\n",
              " 'Rheinland-Pfalz',\n",
              " 'Riau',\n",
              " 'Roi Et',\n",
              " 'Région de Kidal',\n",
              " 'Rīgas pilsēta',\n",
              " 'Sa Kaeo',\n",
              " 'Sabah',\n",
              " 'Sachsen-Anhalt',\n",
              " 'Saga-ken',\n",
              " 'Saint Petersburg',\n",
              " 'Sainyabuli Province',\n",
              " 'Saitama-ken',\n",
              " 'Sakon Nakhon',\n",
              " 'Salzburg',\n",
              " 'Samut Songkhram',\n",
              " 'Sankt Gallen',\n",
              " 'Saraburi',\n",
              " 'Satun',\n",
              " 'Savannakhet Province',\n",
              " 'Saxony',\n",
              " 'Schaffhausen',\n",
              " 'Scotland',\n",
              " 'Selangor',\n",
              " 'Seoul',\n",
              " 'Setúbal',\n",
              " 'Shaanxi Sheng',\n",
              " 'Shan',\n",
              " 'Shandong Sheng',\n",
              " 'Shanghai',\n",
              " 'Shanxi Sheng',\n",
              " 'Shiga-ken',\n",
              " 'Shizuoka-ken',\n",
              " 'Si Sa Ket',\n",
              " 'Sichuan Sheng',\n",
              " 'Siem Reap',\n",
              " 'Sing Buri',\n",
              " 'Singapore',\n",
              " 'Slough',\n",
              " 'South Carolina',\n",
              " 'Southern Islands',\n",
              " 'Southland',\n",
              " 'Splitsko-dalmatinska županija',\n",
              " 'Stavropolskiy kray',\n",
              " 'Stockholms län',\n",
              " 'Sukhothai',\n",
              " 'Sumatera Utara',\n",
              " 'Suphan Buri',\n",
              " 'Surat Thani',\n",
              " 'Surin',\n",
              " 'Svay Rieng',\n",
              " 'Taichung City',\n",
              " 'Tainan City',\n",
              " 'Taipei City',\n",
              " 'Tak',\n",
              " 'Tamil Nadu',\n",
              " 'Tanintharyi Region',\n",
              " 'Taoyuan City',\n",
              " 'Tasmania',\n",
              " 'Tehran',\n",
              " 'Telangana',\n",
              " 'Texas',\n",
              " 'Thailand',\n",
              " 'Thimphu',\n",
              " 'Thua Thien Hue',\n",
              " 'Tianjin',\n",
              " 'Ticino',\n",
              " 'Tirol',\n",
              " 'Tochigi-ken',\n",
              " 'Tokyo-to',\n",
              " 'Tottori-ken',\n",
              " 'Toyama-ken',\n",
              " 'Trabzon',\n",
              " 'Trang',\n",
              " 'Trat',\n",
              " 'Troms',\n",
              " 'Tuscany',\n",
              " 'Ubon Ratchathani',\n",
              " 'Udon Thani',\n",
              " 'Uri',\n",
              " 'Utah',\n",
              " 'Uthai Thani',\n",
              " 'Utrecht',\n",
              " 'Uttar Pradesh',\n",
              " 'Uttaradit',\n",
              " 'Vaduz',\n",
              " 'Valais',\n",
              " 'Valletta',\n",
              " 'Vantaa',\n",
              " 'Vaud',\n",
              " 'Veneto',\n",
              " 'Victoria',\n",
              " 'Vientiane Prefecture',\n",
              " 'Vientiane Province',\n",
              " 'Virginia',\n",
              " 'Vlaanderen',\n",
              " \"Vladimirskaya oblast'\",\n",
              " 'Vorarlberg',\n",
              " 'Waikato',\n",
              " 'Wakayama-ken',\n",
              " 'Wales',\n",
              " 'Wallonie',\n",
              " 'Washington',\n",
              " 'Waterford',\n",
              " 'West Bengal',\n",
              " 'West Midlands',\n",
              " 'West Sussex',\n",
              " 'Western Australia',\n",
              " 'Western Cape',\n",
              " 'Wien',\n",
              " 'Wilayah Persekutuan Putrajaya',\n",
              " 'Wisconsin',\n",
              " 'Województwo podkarpackie',\n",
              " 'Xinjiang Weiwuerzizhiqu',\n",
              " 'Xizang (Tibet)',\n",
              " 'Yala',\n",
              " 'Yamagata-ken',\n",
              " 'Yamaguchi-ken',\n",
              " 'Yamanashi-ken',\n",
              " 'Yangon',\n",
              " 'Yasothon',\n",
              " 'Yilan County',\n",
              " 'Yunlin County',\n",
              " 'Yunnan Sheng',\n",
              " 'Zhejiang',\n",
              " 'Zuid-Holland',\n",
              " 'Zurich',\n",
              " 'kujawsko-pomorskie',\n",
              " 'lubelskie',\n",
              " 'małopolskie',\n",
              " 'pomorskie',\n",
              " 'tỉnh Kiên Giang',\n",
              " 'wielkopolskie',\n",
              " 'Çanakkale',\n",
              " 'Île-de-France',\n",
              " 'Điện Biên',\n",
              " 'Đà Nẵng',\n",
              " 'İstanbul',\n",
              " 'İzmir',\n",
              " 'Ōita-ken',\n",
              " 'Ōsaka-fu',\n",
              " 'محافظة المحرق',\n",
              " 'สงขลา',\n",
              " 'เขาใหญ่'}"
            ]
          },
          "metadata": {
            "tags": []
          },
          "execution_count": 60
        }
      ]
    },
    {
      "cell_type": "markdown",
      "metadata": {
        "id": "JAJvpyS6DtZ7",
        "colab_type": "text"
      },
      "source": [
        "### 2. จะคำนวณค่า mean ของ column 'city_name' เพื่อเก็บไว้เติมใส่เมืองที่เป็น missing ทุกร้าน"
      ]
    },
    {
      "cell_type": "code",
      "metadata": {
        "id": "wLWXgK-HC472",
        "colab_type": "code",
        "colab": {
          "base_uri": "https://localhost:8080/",
          "height": 34
        },
        "outputId": "3de40b10-04af-4300-897a-da5e92ba2d39"
      },
      "source": [
        "all_mean = new_table.dropna(subset=['avg_price'])['avg_price'].mean()\n",
        "all_mean"
      ],
      "execution_count": 62,
      "outputs": [
        {
          "output_type": "execute_result",
          "data": {
            "text/plain": [
              "327.44728783902013"
            ]
          },
          "metadata": {
            "tags": []
          },
          "execution_count": 62
        }
      ]
    },
    {
      "cell_type": "markdown",
      "metadata": {
        "id": "v05h_IjpFNd-",
        "colab_type": "text"
      },
      "source": [
        "### 3. สร้าง list ของตารางของทุกๆจังหวัด"
      ]
    },
    {
      "cell_type": "code",
      "metadata": {
        "id": "hVH7iaAzE-G9",
        "colab_type": "code",
        "colab": {
          "base_uri": "https://localhost:8080/",
          "height": 118
        },
        "outputId": "92fa7f90-bab0-421a-ea28-bc9ec9b97d48"
      },
      "source": [
        "all_cities_list = []\n",
        "for each_city in sorted(list(all_cities)):           # sorted คือเรียงลำดับ\n",
        "  temp_table = new_table[new_table['city_name']==each_city]\n",
        "  temp_table[['avg_price']] = temp_table[['avg_price']].fillna(new_table[new_table['city_name']==each_city].dropna()['avg_price'].mean())\n",
        "  all_cities_list.append(temp_table)"
      ],
      "execution_count": 74,
      "outputs": [
        {
          "output_type": "stream",
          "text": [
            "/usr/local/lib/python3.6/dist-packages/pandas/core/frame.py:2963: SettingWithCopyWarning: \n",
            "A value is trying to be set on a copy of a slice from a DataFrame.\n",
            "Try using .loc[row_indexer,col_indexer] = value instead\n",
            "\n",
            "See the caveats in the documentation: https://pandas.pydata.org/pandas-docs/stable/user_guide/indexing.html#returning-a-view-versus-a-copy\n",
            "  self[k1] = value[k2]\n"
          ],
          "name": "stderr"
        }
      ]
    },
    {
      "cell_type": "code",
      "metadata": {
        "id": "uwQAnXGqGyji",
        "colab_type": "code",
        "colab": {
          "base_uri": "https://localhost:8080/",
          "height": 402
        },
        "outputId": "129564b0-b67b-4a78-9c71-5389b5e6ef84"
      },
      "source": [
        "no_missing = pd.concat(all_cities_list).fillna(all_mean)           # fillna คือแทนค่า mean ที่มีอยู่แล้วใน Na (missing)\n",
        "no_missing"
      ],
      "execution_count": 77,
      "outputs": [
        {
          "output_type": "execute_result",
          "data": {
            "text/html": [
              "<div>\n",
              "<style scoped>\n",
              "    .dataframe tbody tr th:only-of-type {\n",
              "        vertical-align: middle;\n",
              "    }\n",
              "\n",
              "    .dataframe tbody tr th {\n",
              "        vertical-align: top;\n",
              "    }\n",
              "\n",
              "    .dataframe thead th {\n",
              "        text-align: right;\n",
              "    }\n",
              "</style>\n",
              "<table border=\"1\" class=\"dataframe\">\n",
              "  <thead>\n",
              "    <tr style=\"text-align: right;\">\n",
              "      <th></th>\n",
              "      <th>name</th>\n",
              "      <th>city_name</th>\n",
              "      <th>avg_price</th>\n",
              "    </tr>\n",
              "  </thead>\n",
              "  <tbody>\n",
              "    <tr>\n",
              "      <th>56391</th>\n",
              "      <td>Smoking Doll Nation Galleria</td>\n",
              "      <td>Abu Dhabi</td>\n",
              "      <td>327.447288</td>\n",
              "    </tr>\n",
              "    <tr>\n",
              "      <th>67914</th>\n",
              "      <td>PRET TO GO (Terminal 1)</td>\n",
              "      <td>Abu Dhabi</td>\n",
              "      <td>327.447288</td>\n",
              "    </tr>\n",
              "    <tr>\n",
              "      <th>123536</th>\n",
              "      <td>Keway Mai</td>\n",
              "      <td>Abu Dhabi</td>\n",
              "      <td>327.447288</td>\n",
              "    </tr>\n",
              "    <tr>\n",
              "      <th>142972</th>\n",
              "      <td>La Brioche</td>\n",
              "      <td>Abu Dhabi</td>\n",
              "      <td>327.447288</td>\n",
              "    </tr>\n",
              "    <tr>\n",
              "      <th>223144</th>\n",
              "      <td>White Dot Table</td>\n",
              "      <td>Abu Dhabi</td>\n",
              "      <td>327.447288</td>\n",
              "    </tr>\n",
              "    <tr>\n",
              "      <th>...</th>\n",
              "      <td>...</td>\n",
              "      <td>...</td>\n",
              "      <td>...</td>\n",
              "    </tr>\n",
              "    <tr>\n",
              "      <th>246412</th>\n",
              "      <td>ครัวข้าวสวย</td>\n",
              "      <td>เขาใหญ่</td>\n",
              "      <td>327.447288</td>\n",
              "    </tr>\n",
              "    <tr>\n",
              "      <th>246418</th>\n",
              "      <td>ร้านอาหารดาวเดือน</td>\n",
              "      <td>เขาใหญ่</td>\n",
              "      <td>327.447288</td>\n",
              "    </tr>\n",
              "    <tr>\n",
              "      <th>246780</th>\n",
              "      <td>กาแฟสด</td>\n",
              "      <td>เขาใหญ่</td>\n",
              "      <td>327.447288</td>\n",
              "    </tr>\n",
              "    <tr>\n",
              "      <th>246791</th>\n",
              "      <td>ยู้ ลูกชิ้นปลาเยาวราช</td>\n",
              "      <td>เขาใหญ่</td>\n",
              "      <td>327.447288</td>\n",
              "    </tr>\n",
              "    <tr>\n",
              "      <th>246832</th>\n",
              "      <td>โชคดีกาแฟ</td>\n",
              "      <td>เขาใหญ่</td>\n",
              "      <td>327.447288</td>\n",
              "    </tr>\n",
              "  </tbody>\n",
              "</table>\n",
              "<p>246847 rows × 3 columns</p>\n",
              "</div>"
            ],
            "text/plain": [
              "                                name  city_name   avg_price\n",
              "56391   Smoking Doll Nation Galleria  Abu Dhabi  327.447288\n",
              "67914        PRET TO GO (Terminal 1)  Abu Dhabi  327.447288\n",
              "123536                     Keway Mai  Abu Dhabi  327.447288\n",
              "142972                    La Brioche  Abu Dhabi  327.447288\n",
              "223144               White Dot Table  Abu Dhabi  327.447288\n",
              "...                              ...        ...         ...\n",
              "246412                   ครัวข้าวสวย    เขาใหญ่  327.447288\n",
              "246418             ร้านอาหารดาวเดือน    เขาใหญ่  327.447288\n",
              "246780                        กาแฟสด    เขาใหญ่  327.447288\n",
              "246791         ยู้ ลูกชิ้นปลาเยาวราช    เขาใหญ่  327.447288\n",
              "246832                     โชคดีกาแฟ    เขาใหญ่  327.447288\n",
              "\n",
              "[246847 rows x 3 columns]"
            ]
          },
          "metadata": {
            "tags": []
          },
          "execution_count": 77
        }
      ]
    },
    {
      "cell_type": "code",
      "metadata": {
        "id": "J-7ZRvnQMmW0",
        "colab_type": "code",
        "colab": {
          "base_uri": "https://localhost:8080/",
          "height": 402
        },
        "outputId": "c0de2068-4ecf-4663-9291-077d00421984"
      },
      "source": [
        "london_index_list = no_missing['city_name']=='Greater London'        \n",
        "no_missing[london_index_list]"
      ],
      "execution_count": 81,
      "outputs": [
        {
          "output_type": "execute_result",
          "data": {
            "text/html": [
              "<div>\n",
              "<style scoped>\n",
              "    .dataframe tbody tr th:only-of-type {\n",
              "        vertical-align: middle;\n",
              "    }\n",
              "\n",
              "    .dataframe tbody tr th {\n",
              "        vertical-align: top;\n",
              "    }\n",
              "\n",
              "    .dataframe thead th {\n",
              "        text-align: right;\n",
              "    }\n",
              "</style>\n",
              "<table border=\"1\" class=\"dataframe\">\n",
              "  <thead>\n",
              "    <tr style=\"text-align: right;\">\n",
              "      <th></th>\n",
              "      <th>name</th>\n",
              "      <th>city_name</th>\n",
              "      <th>avg_price</th>\n",
              "    </tr>\n",
              "  </thead>\n",
              "  <tbody>\n",
              "    <tr>\n",
              "      <th>3580</th>\n",
              "      <td>Greene King</td>\n",
              "      <td>Greater London</td>\n",
              "      <td>327.447288</td>\n",
              "    </tr>\n",
              "    <tr>\n",
              "      <th>5402</th>\n",
              "      <td>Miyama</td>\n",
              "      <td>Greater London</td>\n",
              "      <td>327.447288</td>\n",
              "    </tr>\n",
              "    <tr>\n",
              "      <th>6375</th>\n",
              "      <td>Misato</td>\n",
              "      <td>Greater London</td>\n",
              "      <td>327.447288</td>\n",
              "    </tr>\n",
              "    <tr>\n",
              "      <th>7644</th>\n",
              "      <td>Duck And Waffle</td>\n",
              "      <td>Greater London</td>\n",
              "      <td>327.447288</td>\n",
              "    </tr>\n",
              "    <tr>\n",
              "      <th>8343</th>\n",
              "      <td>L'Atelier De Joel Robuchon</td>\n",
              "      <td>Greater London</td>\n",
              "      <td>327.447288</td>\n",
              "    </tr>\n",
              "    <tr>\n",
              "      <th>...</th>\n",
              "      <td>...</td>\n",
              "      <td>...</td>\n",
              "      <td>...</td>\n",
              "    </tr>\n",
              "    <tr>\n",
              "      <th>238648</th>\n",
              "      <td>CnR</td>\n",
              "      <td>Greater London</td>\n",
              "      <td>327.447288</td>\n",
              "    </tr>\n",
              "    <tr>\n",
              "      <th>241688</th>\n",
              "      <td>nando's</td>\n",
              "      <td>Greater London</td>\n",
              "      <td>327.447288</td>\n",
              "    </tr>\n",
              "    <tr>\n",
              "      <th>243077</th>\n",
              "      <td>Cakehole</td>\n",
              "      <td>Greater London</td>\n",
              "      <td>327.447288</td>\n",
              "    </tr>\n",
              "    <tr>\n",
              "      <th>243749</th>\n",
              "      <td>The Refinery</td>\n",
              "      <td>Greater London</td>\n",
              "      <td>327.447288</td>\n",
              "    </tr>\n",
              "    <tr>\n",
              "      <th>246443</th>\n",
              "      <td>Park Grand London Kensington</td>\n",
              "      <td>Greater London</td>\n",
              "      <td>327.447288</td>\n",
              "    </tr>\n",
              "  </tbody>\n",
              "</table>\n",
              "<p>166 rows × 3 columns</p>\n",
              "</div>"
            ],
            "text/plain": [
              "                                name       city_name   avg_price\n",
              "3580                     Greene King  Greater London  327.447288\n",
              "5402                          Miyama  Greater London  327.447288\n",
              "6375                          Misato  Greater London  327.447288\n",
              "7644                 Duck And Waffle  Greater London  327.447288\n",
              "8343      L'Atelier De Joel Robuchon  Greater London  327.447288\n",
              "...                              ...             ...         ...\n",
              "238648                           CnR  Greater London  327.447288\n",
              "241688                       nando's  Greater London  327.447288\n",
              "243077                      Cakehole  Greater London  327.447288\n",
              "243749                  The Refinery  Greater London  327.447288\n",
              "246443  Park Grand London Kensington  Greater London  327.447288\n",
              "\n",
              "[166 rows x 3 columns]"
            ]
          },
          "metadata": {
            "tags": []
          },
          "execution_count": 81
        }
      ]
    },
    {
      "cell_type": "code",
      "metadata": {
        "id": "Z9uBB3GcOE1Q",
        "colab_type": "code",
        "colab": {
          "base_uri": "https://localhost:8080/",
          "height": 195
        },
        "outputId": "54657c73-c9f2-4d33-d153-9661a038162d"
      },
      "source": [
        "index_list = no_missing['avg_price'] < 15\n",
        "no_missing[index_list]"
      ],
      "execution_count": 83,
      "outputs": [
        {
          "output_type": "execute_result",
          "data": {
            "text/html": [
              "<div>\n",
              "<style scoped>\n",
              "    .dataframe tbody tr th:only-of-type {\n",
              "        vertical-align: middle;\n",
              "    }\n",
              "\n",
              "    .dataframe tbody tr th {\n",
              "        vertical-align: top;\n",
              "    }\n",
              "\n",
              "    .dataframe thead th {\n",
              "        text-align: right;\n",
              "    }\n",
              "</style>\n",
              "<table border=\"1\" class=\"dataframe\">\n",
              "  <thead>\n",
              "    <tr style=\"text-align: right;\">\n",
              "      <th></th>\n",
              "      <th>name</th>\n",
              "      <th>city_name</th>\n",
              "      <th>avg_price</th>\n",
              "    </tr>\n",
              "  </thead>\n",
              "  <tbody>\n",
              "    <tr>\n",
              "      <th>18161</th>\n",
              "      <td>ดรีมเวิลด์</td>\n",
              "      <td>Bangkok Metropolitan Region</td>\n",
              "      <td>0.0</td>\n",
              "    </tr>\n",
              "    <tr>\n",
              "      <th>58579</th>\n",
              "      <td>รามคลินิกแพทย์</td>\n",
              "      <td>Bangkok Metropolitan Region</td>\n",
              "      <td>0.0</td>\n",
              "    </tr>\n",
              "    <tr>\n",
              "      <th>139618</th>\n",
              "      <td>Klong Lat Mayom floating market</td>\n",
              "      <td>Bangkok Metropolitan Region</td>\n",
              "      <td>0.0</td>\n",
              "    </tr>\n",
              "    <tr>\n",
              "      <th>204196</th>\n",
              "      <td>โภชนากร หนองมน</td>\n",
              "      <td>Chon Buri</td>\n",
              "      <td>11.0</td>\n",
              "    </tr>\n",
              "    <tr>\n",
              "      <th>167551</th>\n",
              "      <td>ทรีท็อปแอดเวนเจอร์พาร์ค กาญจนบุรี</td>\n",
              "      <td>Kanchanaburi</td>\n",
              "      <td>4.0</td>\n",
              "    </tr>\n",
              "  </tbody>\n",
              "</table>\n",
              "</div>"
            ],
            "text/plain": [
              "                                     name  ... avg_price\n",
              "18161                          ดรีมเวิลด์  ...       0.0\n",
              "58579                      รามคลินิกแพทย์  ...       0.0\n",
              "139618    Klong Lat Mayom floating market  ...       0.0\n",
              "204196                     โภชนากร หนองมน  ...      11.0\n",
              "167551  ทรีท็อปแอดเวนเจอร์พาร์ค กาญจนบุรี  ...       4.0\n",
              "\n",
              "[5 rows x 3 columns]"
            ]
          },
          "metadata": {
            "tags": []
          },
          "execution_count": 83
        }
      ]
    },
    {
      "cell_type": "code",
      "metadata": {
        "id": "pLit4gF0OfIl",
        "colab_type": "code",
        "colab": {
          "base_uri": "https://localhost:8080/",
          "height": 402
        },
        "outputId": "9e8d319b-bbcc-4c21-837f-6ec2860106e7"
      },
      "source": [
        "index_list = no_missing['avg_price'] > 1000\n",
        "no_missing[index_list]"
      ],
      "execution_count": 86,
      "outputs": [
        {
          "output_type": "execute_result",
          "data": {
            "text/html": [
              "<div>\n",
              "<style scoped>\n",
              "    .dataframe tbody tr th:only-of-type {\n",
              "        vertical-align: middle;\n",
              "    }\n",
              "\n",
              "    .dataframe tbody tr th {\n",
              "        vertical-align: top;\n",
              "    }\n",
              "\n",
              "    .dataframe thead th {\n",
              "        text-align: right;\n",
              "    }\n",
              "</style>\n",
              "<table border=\"1\" class=\"dataframe\">\n",
              "  <thead>\n",
              "    <tr style=\"text-align: right;\">\n",
              "      <th></th>\n",
              "      <th>name</th>\n",
              "      <th>city_name</th>\n",
              "      <th>avg_price</th>\n",
              "    </tr>\n",
              "  </thead>\n",
              "  <tbody>\n",
              "    <tr>\n",
              "      <th>247</th>\n",
              "      <td>Masterpiece clinic</td>\n",
              "      <td>Bangkok Metropolitan Region</td>\n",
              "      <td>1500.0</td>\n",
              "    </tr>\n",
              "    <tr>\n",
              "      <th>3022</th>\n",
              "      <td>J'AIME by Jean-Michel Lorain</td>\n",
              "      <td>Bangkok Metropolitan Region</td>\n",
              "      <td>1500.0</td>\n",
              "    </tr>\n",
              "    <tr>\n",
              "      <th>4798</th>\n",
              "      <td>Xin Tian Di</td>\n",
              "      <td>Bangkok Metropolitan Region</td>\n",
              "      <td>1500.0</td>\n",
              "    </tr>\n",
              "    <tr>\n",
              "      <th>5804</th>\n",
              "      <td>P10 Clinic ( Surgery Cosmetic )</td>\n",
              "      <td>Bangkok Metropolitan Region</td>\n",
              "      <td>1500.0</td>\n",
              "    </tr>\n",
              "    <tr>\n",
              "      <th>7186</th>\n",
              "      <td>THYME Eatery&amp;Bar</td>\n",
              "      <td>Bangkok Metropolitan Region</td>\n",
              "      <td>1500.0</td>\n",
              "    </tr>\n",
              "    <tr>\n",
              "      <th>...</th>\n",
              "      <td>...</td>\n",
              "      <td>...</td>\n",
              "      <td>...</td>\n",
              "    </tr>\n",
              "    <tr>\n",
              "      <th>62474</th>\n",
              "      <td>Acqua</td>\n",
              "      <td>Phuket</td>\n",
              "      <td>1500.0</td>\n",
              "    </tr>\n",
              "    <tr>\n",
              "      <th>160729</th>\n",
              "      <td>Haven Love Cake By Love Andaman</td>\n",
              "      <td>Phuket</td>\n",
              "      <td>1500.0</td>\n",
              "    </tr>\n",
              "    <tr>\n",
              "      <th>221495</th>\n",
              "      <td>Panache (Angsana Villa Reaort Phuket)</td>\n",
              "      <td>Phuket</td>\n",
              "      <td>1500.0</td>\n",
              "    </tr>\n",
              "    <tr>\n",
              "      <th>57063</th>\n",
              "      <td>Jahn restaurant @Conrad Koh samui</td>\n",
              "      <td>Surat Thani</td>\n",
              "      <td>1500.0</td>\n",
              "    </tr>\n",
              "    <tr>\n",
              "      <th>203721</th>\n",
              "      <td>WOO BAR  W Retreat Koh Samui</td>\n",
              "      <td>Surat Thani</td>\n",
              "      <td>1500.0</td>\n",
              "    </tr>\n",
              "  </tbody>\n",
              "</table>\n",
              "<p>185 rows × 3 columns</p>\n",
              "</div>"
            ],
            "text/plain": [
              "                                         name  ... avg_price\n",
              "247                        Masterpiece clinic  ...    1500.0\n",
              "3022             J'AIME by Jean-Michel Lorain  ...    1500.0\n",
              "4798                              Xin Tian Di  ...    1500.0\n",
              "5804          P10 Clinic ( Surgery Cosmetic )  ...    1500.0\n",
              "7186                         THYME Eatery&Bar  ...    1500.0\n",
              "...                                       ...  ...       ...\n",
              "62474                                   Acqua  ...    1500.0\n",
              "160729        Haven Love Cake By Love Andaman  ...    1500.0\n",
              "221495  Panache (Angsana Villa Reaort Phuket)  ...    1500.0\n",
              "57063       Jahn restaurant @Conrad Koh samui  ...    1500.0\n",
              "203721           WOO BAR  W Retreat Koh Samui  ...    1500.0\n",
              "\n",
              "[185 rows x 3 columns]"
            ]
          },
          "metadata": {
            "tags": []
          },
          "execution_count": 86
        }
      ]
    },
    {
      "cell_type": "markdown",
      "metadata": {
        "id": "nB5OnE-GTl8w",
        "colab_type": "text"
      },
      "source": [
        "## HW10 : ทำ Binning smooth by mean ค่า 'avg_price' ในตาราง no_missing\n",
        "## แบ่งเป็น 50 กลุ่ม (bins = 50 : ตอนจบมี 50 ค่า)"
      ]
    },
    {
      "cell_type": "code",
      "metadata": {
        "id": "f3B3xewlOtDR",
        "colab_type": "code",
        "colab": {}
      },
      "source": [
        ""
      ],
      "execution_count": null,
      "outputs": []
    }
  ]
}
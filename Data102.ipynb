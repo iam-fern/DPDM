{
  "nbformat": 4,
  "nbformat_minor": 0,
  "metadata": {
    "colab": {
      "name": "Data102.ipynb",
      "provenance": [],
      "authorship_tag": "ABX9TyO7kfa7wI+u+NYEGWj+Zml4",
      "include_colab_link": true
    },
    "kernelspec": {
      "name": "python3",
      "display_name": "Python 3"
    }
  },
  "cells": [
    {
      "cell_type": "markdown",
      "metadata": {
        "id": "view-in-github",
        "colab_type": "text"
      },
      "source": [
        "<a href=\"https://colab.research.google.com/github/iam-fern/DPDM/blob/master/Data102.ipynb\" target=\"_parent\"><img src=\"https://colab.research.google.com/assets/colab-badge.svg\" alt=\"Open In Colab\"/></a>"
      ]
    },
    {
      "cell_type": "markdown",
      "metadata": {
        "id": "4av3GSJCc7O8",
        "colab_type": "text"
      },
      "source": [
        "#Visualization\n",
        "\n",
        "* Understanding Matplotlib Functions\n",
        "* Boxplot\n",
        "*\n",
        "*\n",
        "*\n",
        "*\n",
        "\n"
      ]
    },
    {
      "cell_type": "code",
      "metadata": {
        "id": "i0hrlrYQc045",
        "colab_type": "code",
        "colab": {
          "base_uri": "https://localhost:8080/",
          "height": 121
        },
        "outputId": "ab43953e-2633-4198-a260-253ddf3d453c"
      },
      "source": [
        "from google.colab import drive\n",
        "drive.mount('/content/drive')"
      ],
      "execution_count": 6,
      "outputs": [
        {
          "output_type": "stream",
          "text": [
            "Go to this URL in a browser: https://accounts.google.com/o/oauth2/auth?client_id=947318989803-6bn6qk8qdgf4n4g3pfee6491hc0brc4i.apps.googleusercontent.com&redirect_uri=urn%3aietf%3awg%3aoauth%3a2.0%3aoob&scope=email%20https%3a%2f%2fwww.googleapis.com%2fauth%2fdocs.test%20https%3a%2f%2fwww.googleapis.com%2fauth%2fdrive%20https%3a%2f%2fwww.googleapis.com%2fauth%2fdrive.photos.readonly%20https%3a%2f%2fwww.googleapis.com%2fauth%2fpeopleapi.readonly&response_type=code\n",
            "\n",
            "Enter your authorization code:\n",
            "··········\n",
            "Mounted at /content/drive\n"
          ],
          "name": "stdout"
        }
      ]
    },
    {
      "cell_type": "code",
      "metadata": {
        "id": "nA1oaikheXl5",
        "colab_type": "code",
        "colab": {
          "base_uri": "https://localhost:8080/",
          "height": 195
        },
        "outputId": "b50623ff-2e0d-4a0e-ab94-d81946f16454"
      },
      "source": [
        "# import os for file manipulation\n",
        "import os\n",
        "# import pandas for tabular or dataframe manipulation\n",
        "import pandas as pd\n",
        "# สร้างตัวแปรสำหรับเก็บที่อยู่ของ data ทั้งหมด\n",
        "base_path = '/content/drive/My Drive/DWDM_material'\n",
        "# load data from test.csv to data\n",
        "data = pd.read_csv(os.path.join(base_path, 'test.csv'))\n",
        "# show head of the data table\n",
        "data.head()"
      ],
      "execution_count": 7,
      "outputs": [
        {
          "output_type": "execute_result",
          "data": {
            "text/html": [
              "<div>\n",
              "<style scoped>\n",
              "    .dataframe tbody tr th:only-of-type {\n",
              "        vertical-align: middle;\n",
              "    }\n",
              "\n",
              "    .dataframe tbody tr th {\n",
              "        vertical-align: top;\n",
              "    }\n",
              "\n",
              "    .dataframe thead th {\n",
              "        text-align: right;\n",
              "    }\n",
              "</style>\n",
              "<table border=\"1\" class=\"dataframe\">\n",
              "  <thead>\n",
              "    <tr style=\"text-align: right;\">\n",
              "      <th></th>\n",
              "      <th>Unnamed: 0</th>\n",
              "      <th>x</th>\n",
              "      <th>y</th>\n",
              "    </tr>\n",
              "  </thead>\n",
              "  <tbody>\n",
              "    <tr>\n",
              "      <th>0</th>\n",
              "      <td>0</td>\n",
              "      <td>55.3846</td>\n",
              "      <td>97.1795</td>\n",
              "    </tr>\n",
              "    <tr>\n",
              "      <th>1</th>\n",
              "      <td>1</td>\n",
              "      <td>51.5385</td>\n",
              "      <td>96.0256</td>\n",
              "    </tr>\n",
              "    <tr>\n",
              "      <th>2</th>\n",
              "      <td>2</td>\n",
              "      <td>46.1538</td>\n",
              "      <td>94.4872</td>\n",
              "    </tr>\n",
              "    <tr>\n",
              "      <th>3</th>\n",
              "      <td>3</td>\n",
              "      <td>42.8205</td>\n",
              "      <td>91.4103</td>\n",
              "    </tr>\n",
              "    <tr>\n",
              "      <th>4</th>\n",
              "      <td>4</td>\n",
              "      <td>40.7692</td>\n",
              "      <td>88.3333</td>\n",
              "    </tr>\n",
              "  </tbody>\n",
              "</table>\n",
              "</div>"
            ],
            "text/plain": [
              "   Unnamed: 0        x        y\n",
              "0           0  55.3846  97.1795\n",
              "1           1  51.5385  96.0256\n",
              "2           2  46.1538  94.4872\n",
              "3           3  42.8205  91.4103\n",
              "4           4  40.7692  88.3333"
            ]
          },
          "metadata": {
            "tags": []
          },
          "execution_count": 7
        }
      ]
    },
    {
      "cell_type": "markdown",
      "metadata": {
        "id": "64EYPS-php4d",
        "colab_type": "text"
      },
      "source": [
        "#boxplot"
      ]
    },
    {
      "cell_type": "code",
      "metadata": {
        "id": "8vpyEIuShfYd",
        "colab_type": "code",
        "colab": {}
      },
      "source": [
        "from matplotlib import pyplot as plt"
      ],
      "execution_count": 8,
      "outputs": []
    },
    {
      "cell_type": "code",
      "metadata": {
        "id": "M5TdwsNph5Mm",
        "colab_type": "code",
        "colab": {
          "base_uri": "https://localhost:8080/",
          "height": 399
        },
        "outputId": "e39c9f84-d486-4b19-d4a3-391159e51461"
      },
      "source": [
        "plt.boxplot(data['x'])"
      ],
      "execution_count": 9,
      "outputs": [
        {
          "output_type": "execute_result",
          "data": {
            "text/plain": [
              "{'boxes': [<matplotlib.lines.Line2D at 0x7f4e2afebe48>],\n",
              " 'caps': [<matplotlib.lines.Line2D at 0x7f4e2b001898>,\n",
              "  <matplotlib.lines.Line2D at 0x7f4e2b001c18>],\n",
              " 'fliers': [<matplotlib.lines.Line2D at 0x7f4e2b00e358>],\n",
              " 'means': [],\n",
              " 'medians': [<matplotlib.lines.Line2D at 0x7f4e2b001f98>],\n",
              " 'whiskers': [<matplotlib.lines.Line2D at 0x7f4e2b001198>,\n",
              "  <matplotlib.lines.Line2D at 0x7f4e2b001518>]}"
            ]
          },
          "metadata": {
            "tags": []
          },
          "execution_count": 9
        },
        {
          "output_type": "display_data",
          "data": {
            "image/png": "[encoded data removed]",
            "text/plain": [
              "<Figure size 432x288 with 1 Axes>"
            ]
          },
          "metadata": {
            "tags": [],
            "needs_background": "light"
          }
        }
      ]
    },
    {
      "cell_type": "code",
      "metadata": {
        "id": "LCs_JANqlOsw",
        "colab_type": "code",
        "colab": {
          "base_uri": "https://localhost:8080/",
          "height": 399
        },
        "outputId": "6c24c200-32b6-4d5c-f861-d9faf40f746b"
      },
      "source": [
        "plt.boxplot(data['x'], showmeans=True)"
      ],
      "execution_count": 10,
      "outputs": [
        {
          "output_type": "execute_result",
          "data": {
            "text/plain": [
              "{'boxes': [<matplotlib.lines.Line2D at 0x7f4e2af934a8>],\n",
              " 'caps': [<matplotlib.lines.Line2D at 0x7f4e2af93eb8>,\n",
              "  <matplotlib.lines.Line2D at 0x7f4e2aad4278>],\n",
              " 'fliers': [<matplotlib.lines.Line2D at 0x7f4e2aad4cc0>],\n",
              " 'means': [<matplotlib.lines.Line2D at 0x7f4e2aad4978>],\n",
              " 'medians': [<matplotlib.lines.Line2D at 0x7f4e2aad45f8>],\n",
              " 'whiskers': [<matplotlib.lines.Line2D at 0x7f4e2af937b8>,\n",
              "  <matplotlib.lines.Line2D at 0x7f4e2af93b38>]}"
            ]
          },
          "metadata": {
            "tags": []
          },
          "execution_count": 10
        },
        {
          "output_type": "display_data",
          "data": {
            "image/png": "[encoded data removed]",
            "text/plain": [
              "<Figure size 432x288 with 1 Axes>"
            ]
          },
          "metadata": {
            "tags": [],
            "needs_background": "light"
          }
        }
      ]
    },
    {
      "cell_type": "code",
      "metadata": {
        "id": "Ki_B9Hy1miNd",
        "colab_type": "code",
        "colab": {
          "base_uri": "https://localhost:8080/",
          "height": 399
        },
        "outputId": "b62914f6-5910-4c2f-e887-f55d6d1fe828"
      },
      "source": [
        "plt.boxplot(data['x'], whis=0.8)"
      ],
      "execution_count": 11,
      "outputs": [
        {
          "output_type": "execute_result",
          "data": {
            "text/plain": [
              "{'boxes': [<matplotlib.lines.Line2D at 0x7f4e2af73668>],\n",
              " 'caps': [<matplotlib.lines.Line2D at 0x7f4e2aaf9b70>,\n",
              "  <matplotlib.lines.Line2D at 0x7f4e2aaf9710>],\n",
              " 'fliers': [<matplotlib.lines.Line2D at 0x7f4e2aae7c88>],\n",
              " 'means': [],\n",
              " 'medians': [<matplotlib.lines.Line2D at 0x7f4e2aadf4a8>],\n",
              " 'whiskers': [<matplotlib.lines.Line2D at 0x7f4e2af73c50>,\n",
              "  <matplotlib.lines.Line2D at 0x7f4e2aaf9518>]}"
            ]
          },
          "metadata": {
            "tags": []
          },
          "execution_count": 11
        },
        {
          "output_type": "display_data",
          "data": {
            "image/png": "[encoded data removed]",
            "text/plain": [
              "<Figure size 432x288 with 1 Axes>"
            ]
          },
          "metadata": {
            "tags": [],
            "needs_background": "light"
          }
        }
      ]
    },
    {
      "cell_type": "code",
      "metadata": {
        "id": "vaqgFtzmndIs",
        "colab_type": "code",
        "colab": {
          "base_uri": "https://localhost:8080/",
          "height": 399
        },
        "outputId": "9ad6afdd-a09a-4c5b-ef79-e266d11eb686"
      },
      "source": [
        "plt.boxplot(data['x'], whis=0.8, vert=False)"
      ],
      "execution_count": 12,
      "outputs": [
        {
          "output_type": "execute_result",
          "data": {
            "text/plain": [
              "{'boxes': [<matplotlib.lines.Line2D at 0x7f4e2aa193c8>],\n",
              " 'caps': [<matplotlib.lines.Line2D at 0x7f4e2aa19dd8>,\n",
              "  <matplotlib.lines.Line2D at 0x7f4e2aa25198>],\n",
              " 'fliers': [<matplotlib.lines.Line2D at 0x7f4e2aa25898>],\n",
              " 'means': [],\n",
              " 'medians': [<matplotlib.lines.Line2D at 0x7f4e2aa25518>],\n",
              " 'whiskers': [<matplotlib.lines.Line2D at 0x7f4e2aa196d8>,\n",
              "  <matplotlib.lines.Line2D at 0x7f4e2aa19a58>]}"
            ]
          },
          "metadata": {
            "tags": []
          },
          "execution_count": 12
        },
        {
          "output_type": "display_data",
          "data": {
            "image/png": "[encoded data removed]",
            "text/plain": [
              "<Figure size 432x288 with 1 Axes>"
            ]
          },
          "metadata": {
            "tags": [],
            "needs_background": "light"
          }
        }
      ]
    },
    {
      "cell_type": "code",
      "metadata": {
        "id": "PmGg4iVsoL2G",
        "colab_type": "code",
        "colab": {
          "base_uri": "https://localhost:8080/",
          "height": 265
        },
        "outputId": "dfd55a4c-9fa7-4356-95ff-c084e10e37aa"
      },
      "source": [
        "ret = plt.boxplot(data['x'], whis=0.8, vert=False)"
      ],
      "execution_count": 13,
      "outputs": [
        {
          "output_type": "display_data",
          "data": {
            "image/png": "[encoded data removed]",
            "text/plain": [
              "<Figure size 432x288 with 1 Axes>"
            ]
          },
          "metadata": {
            "tags": [],
            "needs_background": "light"
          }
        }
      ]
    },
    {
      "cell_type": "code",
      "metadata": {
        "id": "XFCFhuxqpZGd",
        "colab_type": "code",
        "colab": {
          "base_uri": "https://localhost:8080/",
          "height": 151
        },
        "outputId": "ab33b433-e654-4107-fff2-bf47d0a675fc"
      },
      "source": [
        "# ใช้เก็บข้อมูลคล้าย list แต่ชี้ด้วยชื่อ\n",
        "ret"
      ],
      "execution_count": 14,
      "outputs": [
        {
          "output_type": "execute_result",
          "data": {
            "text/plain": [
              "{'boxes': [<matplotlib.lines.Line2D at 0x7f4e2aa04400>],\n",
              " 'caps': [<matplotlib.lines.Line2D at 0x7f4e2aa04e10>,\n",
              "  <matplotlib.lines.Line2D at 0x7f4e2a9911d0>],\n",
              " 'fliers': [<matplotlib.lines.Line2D at 0x7f4e2a9918d0>],\n",
              " 'means': [],\n",
              " 'medians': [<matplotlib.lines.Line2D at 0x7f4e2a991550>],\n",
              " 'whiskers': [<matplotlib.lines.Line2D at 0x7f4e2aa04710>,\n",
              "  <matplotlib.lines.Line2D at 0x7f4e2aa04a90>]}"
            ]
          },
          "metadata": {
            "tags": []
          },
          "execution_count": 14
        }
      ]
    },
    {
      "cell_type": "code",
      "metadata": {
        "id": "OnCq8i_rpcBu",
        "colab_type": "code",
        "colab": {
          "base_uri": "https://localhost:8080/",
          "height": 34
        },
        "outputId": "67ed4c44-9faa-4e81-afef-21cc1390bedc"
      },
      "source": [
        "# fliers คือตัว outliers\n",
        "ret['fliers']"
      ],
      "execution_count": 15,
      "outputs": [
        {
          "output_type": "execute_result",
          "data": {
            "text/plain": [
              "[<matplotlib.lines.Line2D at 0x7f4e2a9918d0>]"
            ]
          },
          "metadata": {
            "tags": []
          },
          "execution_count": 15
        }
      ]
    },
    {
      "cell_type": "code",
      "metadata": {
        "id": "HFot7B20psBq",
        "colab_type": "code",
        "colab": {
          "base_uri": "https://localhost:8080/",
          "height": 34
        },
        "outputId": "0e6922e6-55b1-4d0e-8204-4473ca3fbd1c"
      },
      "source": [
        "ret['fliers'][0]"
      ],
      "execution_count": 16,
      "outputs": [
        {
          "output_type": "execute_result",
          "data": {
            "text/plain": [
              "<matplotlib.lines.Line2D at 0x7f4e2a9918d0>"
            ]
          },
          "metadata": {
            "tags": []
          },
          "execution_count": 16
        }
      ]
    },
    {
      "cell_type": "code",
      "metadata": {
        "id": "mz5RSSpqql7D",
        "colab_type": "code",
        "colab": {
          "base_uri": "https://localhost:8080/",
          "height": 67
        },
        "outputId": "481ce176-5718-4b14-abc6-a965d26d3c6c"
      },
      "source": [
        "# get_adata() คือคำสั่งปริ้น outliers \n",
        "ret['fliers'][0].get_xdata()"
      ],
      "execution_count": 17,
      "outputs": [
        {
          "output_type": "execute_result",
          "data": {
            "text/plain": [
              "array([26.1538, 23.0769, 22.3077, 22.3077, 23.3333, 25.8974, 81.7949,\n",
              "       83.3333, 85.1282, 86.4103, 87.9487, 89.4872, 93.3333, 95.3846,\n",
              "       98.2051, 91.2821])"
            ]
          },
          "metadata": {
            "tags": []
          },
          "execution_count": 17
        }
      ]
    },
    {
      "cell_type": "code",
      "metadata": {
        "id": "Y6jJsoVwq0Z4",
        "colab_type": "code",
        "colab": {
          "base_uri": "https://localhost:8080/",
          "height": 34
        },
        "outputId": "339b7d71-0f2d-4aa9-be66-981167980f86"
      },
      "source": [
        "ret['whiskers'][0].get_xdata()"
      ],
      "execution_count": 18,
      "outputs": [
        {
          "output_type": "execute_result",
          "data": {
            "text/plain": [
              "array([44.1026, 28.9744])"
            ]
          },
          "metadata": {
            "tags": []
          },
          "execution_count": 18
        }
      ]
    },
    {
      "cell_type": "code",
      "metadata": {
        "id": "By2ikXlCrnkb",
        "colab_type": "code",
        "colab": {
          "base_uri": "https://localhost:8080/",
          "height": 34
        },
        "outputId": "17f0828b-b9d5-4d3b-8634-fd1a89594099"
      },
      "source": [
        "ret['boxes'][0].get_xdata()"
      ],
      "execution_count": 19,
      "outputs": [
        {
          "output_type": "execute_result",
          "data": {
            "text/plain": [
              "array([44.1026, 44.1026, 64.7436, 64.7436, 44.1026])"
            ]
          },
          "metadata": {
            "tags": []
          },
          "execution_count": 19
        }
      ]
    },
    {
      "cell_type": "code",
      "metadata": {
        "id": "B_daLFHTsekN",
        "colab_type": "code",
        "colab": {
          "base_uri": "https://localhost:8080/",
          "height": 34
        },
        "outputId": "c4f9ee29-074f-4a33-96f2-405c9bbd120a"
      },
      "source": [
        "ret['caps'][0].get_xdata()"
      ],
      "execution_count": 20,
      "outputs": [
        {
          "output_type": "execute_result",
          "data": {
            "text/plain": [
              "array([28.9744, 28.9744])"
            ]
          },
          "metadata": {
            "tags": []
          },
          "execution_count": 20
        }
      ]
    },
    {
      "cell_type": "code",
      "metadata": {
        "id": "1HUTeIsQsjxN",
        "colab_type": "code",
        "colab": {
          "base_uri": "https://localhost:8080/",
          "height": 282
        },
        "outputId": "7fdb8530-c2ae-444d-f843-640810ff488c"
      },
      "source": [
        "plt.scatter(data['x'], data['y'])"
      ],
      "execution_count": 21,
      "outputs": [
        {
          "output_type": "execute_result",
          "data": {
            "text/plain": [
              "<matplotlib.collections.PathCollection at 0x7f4e2a9706d8>"
            ]
          },
          "metadata": {
            "tags": []
          },
          "execution_count": 21
        },
        {
          "output_type": "display_data",
          "data": {
            "image/png": "[encoded data removed]",
            "text/plain": [
              "<Figure size 432x288 with 1 Axes>"
            ]
          },
          "metadata": {
            "tags": [],
            "needs_background": "light"
          }
        }
      ]
    },
    {
      "cell_type": "code",
      "metadata": {
        "id": "2AI83g9kuQpd",
        "colab_type": "code",
        "colab": {
          "base_uri": "https://localhost:8080/",
          "height": 282
        },
        "outputId": "33cbdbae-18fb-4bd8-9185-226f829d787f"
      },
      "source": [
        "plt.scatter(data['x'], data['y'], s=10)"
      ],
      "execution_count": 22,
      "outputs": [
        {
          "output_type": "execute_result",
          "data": {
            "text/plain": [
              "<matplotlib.collections.PathCollection at 0x7f4e2a8dfb00>"
            ]
          },
          "metadata": {
            "tags": []
          },
          "execution_count": 22
        },
        {
          "output_type": "display_data",
          "data": {
            "image/png": "[encoded data removed]",
            "text/plain": [
              "<Figure size 432x288 with 1 Axes>"
            ]
          },
          "metadata": {
            "tags": [],
            "needs_background": "light"
          }
        }
      ]
    },
    {
      "cell_type": "code",
      "metadata": {
        "id": "SfvxUPa4uwkz",
        "colab_type": "code",
        "colab": {
          "base_uri": "https://localhost:8080/",
          "height": 282
        },
        "outputId": "dc938899-9e54-4577-e354-93f1013fbbe8"
      },
      "source": [
        "plt.scatter(data['x'], data['y'], s=10, c='c')"
      ],
      "execution_count": 23,
      "outputs": [
        {
          "output_type": "execute_result",
          "data": {
            "text/plain": [
              "<matplotlib.collections.PathCollection at 0x7f4e2a8c4f60>"
            ]
          },
          "metadata": {
            "tags": []
          },
          "execution_count": 23
        },
        {
          "output_type": "display_data",
          "data": {
            "image/png": "[encoded data removed]",
            "text/plain": [
              "<Figure size 432x288 with 1 Axes>"
            ]
          },
          "metadata": {
            "tags": [],
            "needs_background": "light"
          }
        }
      ]
    },
    {
      "cell_type": "code",
      "metadata": {
        "id": "I0LLzxgNvgmO",
        "colab_type": "code",
        "colab": {
          "base_uri": "https://localhost:8080/",
          "height": 282
        },
        "outputId": "9cfe8005-22a3-4b01-efc8-a415821c9337"
      },
      "source": [
        "plt.scatter(data['x'], data['y'], s=100, c='r', marker='4')"
      ],
      "execution_count": 82,
      "outputs": [
        {
          "output_type": "execute_result",
          "data": {
            "text/plain": [
              "<matplotlib.collections.PathCollection at 0x7f4e2912ef98>"
            ]
          },
          "metadata": {
            "tags": []
          },
          "execution_count": 82
        },
        {
          "output_type": "display_data",
          "data": {
            "image/png": "[encoded data removed]",
            "text/plain": [
              "<Figure size 432x288 with 1 Axes>"
            ]
          },
          "metadata": {
            "tags": [],
            "needs_background": "light"
          }
        }
      ]
    },
    {
      "cell_type": "code",
      "metadata": {
        "id": "min-xIEbwUjs",
        "colab_type": "code",
        "colab": {
          "base_uri": "https://localhost:8080/",
          "height": 282
        },
        "outputId": "a725c188-65ae-49db-8159-f94686fca421"
      },
      "source": [
        "plt.scatter(data['x'], data['y'], s=100, c='c', alpha=0.4)"
      ],
      "execution_count": 25,
      "outputs": [
        {
          "output_type": "execute_result",
          "data": {
            "text/plain": [
              "<matplotlib.collections.PathCollection at 0x7f4e2a79b8d0>"
            ]
          },
          "metadata": {
            "tags": []
          },
          "execution_count": 25
        },
        {
          "output_type": "display_data",
          "data": {
            "image/png": "[encoded data removed]",
            "text/plain": [
              "<Figure size 432x288 with 1 Axes>"
            ]
          },
          "metadata": {
            "tags": [],
            "needs_background": "light"
          }
        }
      ]
    },
    {
      "cell_type": "code",
      "metadata": {
        "id": "j-EBwatKw8fV",
        "colab_type": "code",
        "colab": {
          "base_uri": "https://localhost:8080/",
          "height": 282
        },
        "outputId": "16883ebd-5203-49d3-e93c-26e0dae4faa5"
      },
      "source": [
        "plt.scatter(data['x'], data['y'], s=100, c='y', alpha=0.4)\n",
        "plt.scatter([30, 40], [60, 85], s=200, c='r', alpha=0.4)"
      ],
      "execution_count": 26,
      "outputs": [
        {
          "output_type": "execute_result",
          "data": {
            "text/plain": [
              "<matplotlib.collections.PathCollection at 0x7f4e2a78d438>"
            ]
          },
          "metadata": {
            "tags": []
          },
          "execution_count": 26
        },
        {
          "output_type": "display_data",
          "data": {
            "image/png": "[encoded data removed]",
            "text/plain": [
              "<Figure size 432x288 with 1 Axes>"
            ]
          },
          "metadata": {
            "tags": [],
            "needs_background": "light"
          }
        }
      ]
    },
    {
      "cell_type": "markdown",
      "metadata": {
        "id": "IYTnpK4pxocL",
        "colab_type": "text"
      },
      "source": [
        "#HW : ให้พล็อตนอให้ไดโนเสาร์"
      ]
    },
    {
      "cell_type": "code",
      "metadata": {
        "id": "VQqLmSdPxRCJ",
        "colab_type": "code",
        "colab": {
          "base_uri": "https://localhost:8080/",
          "height": 282
        },
        "outputId": "a203c747-fad4-457c-8ab2-6d76028c1644"
      },
      "source": [
        "plt.scatter(data['x'], data['y'], s=100, c='g', alpha=0.4)\n",
        "plt.scatter([20, 21, 22, 23, 24, 30, 25, 23], [90, 85, 80, 75, 70, 80, 86, 88], s=100, c='g', alpha=0.4)"
      ],
      "execution_count": 84,
      "outputs": [
        {
          "output_type": "execute_result",
          "data": {
            "text/plain": [
              "<matplotlib.collections.PathCollection at 0x7f4e28f132b0>"
            ]
          },
          "metadata": {
            "tags": []
          },
          "execution_count": 84
        },
        {
          "output_type": "display_data",
          "data": {
            "image/png": "[encoded data removed]",
            "text/plain": [
              "<Figure size 432x288 with 1 Axes>"
            ]
          },
          "metadata": {
            "tags": [],
            "needs_background": "light"
          }
        }
      ]
    },
    {
      "cell_type": "code",
      "metadata": {
        "id": "e5C4TQNLFYKN",
        "colab_type": "code",
        "colab": {}
      },
      "source": [
        ""
      ],
      "execution_count": null,
      "outputs": []
    }
  ]
}
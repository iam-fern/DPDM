{
  "nbformat": 4,
  "nbformat_minor": 0,
  "metadata": {
    "colab": {
      "name": "Data102.ipynb",
      "provenance": [],
      "authorship_tag": "ABX9TyMloeteLFtahVCiuUuB3/Q7",
      "include_colab_link": true
    },
    "kernelspec": {
      "name": "python3",
      "display_name": "Python 3"
    }
  },
  "cells": [
    {
      "cell_type": "markdown",
      "metadata": {
        "id": "view-in-github",
        "colab_type": "text"
      },
      "source": [
        "<a href=\"https://colab.research.google.com/github/iam-fern/DPDM/blob/master/Data102.ipynb\" target=\"_parent\"><img src=\"https://colab.research.google.com/assets/colab-badge.svg\" alt=\"Open In Colab\"/></a>"
      ]
    },
    {
      "cell_type": "markdown",
      "metadata": {
        "id": "4av3GSJCc7O8",
        "colab_type": "text"
      },
      "source": [
        "#Visualization\n",
        "\n",
        "* Understanding Matplotlib Functions\n",
        "* Boxplot\n",
        "* Scatter\n",
        "*\n",
        "*\n",
        "*\n",
        "\n"
      ]
    },
    {
      "cell_type": "code",
      "metadata": {
        "id": "i0hrlrYQc045",
        "colab_type": "code",
        "colab": {
          "base_uri": "https://localhost:8080/",
          "height": 121
        },
        "outputId": "3613e96a-ad6c-45ac-9474-83087b465c00"
      },
      "source": [
        "from google.colab import drive\n",
        "drive.mount('/content/drive')"
      ],
      "execution_count": 2,
      "outputs": [
        {
          "output_type": "stream",
          "text": [
            "Go to this URL in a browser: https://accounts.google.com/o/oauth2/auth?client_id=947318989803-6bn6qk8qdgf4n4g3pfee6491hc0brc4i.apps.googleusercontent.com&redirect_uri=urn%3aietf%3awg%3aoauth%3a2.0%3aoob&scope=email%20https%3a%2f%2fwww.googleapis.com%2fauth%2fdocs.test%20https%3a%2f%2fwww.googleapis.com%2fauth%2fdrive%20https%3a%2f%2fwww.googleapis.com%2fauth%2fdrive.photos.readonly%20https%3a%2f%2fwww.googleapis.com%2fauth%2fpeopleapi.readonly&response_type=code\n",
            "\n",
            "Enter your authorization code:\n",
            "··········\n",
            "Mounted at /content/drive\n"
          ],
          "name": "stdout"
        }
      ]
    },
    {
      "cell_type": "code",
      "metadata": {
        "id": "nA1oaikheXl5",
        "colab_type": "code",
        "colab": {
          "base_uri": "https://localhost:8080/",
          "height": 195
        },
        "outputId": "15146fc6-8ffc-424f-8c2a-9141be67be1a"
      },
      "source": [
        "# import os for file manipulation\n",
        "import os\n",
        "# import pandas for tabular or dataframe manipulation\n",
        "import pandas as pd\n",
        "# สร้างตัวแปรสำหรับเก็บที่อยู่ของ data ทั้งหมด\n",
        "base_path = '/content/drive/My Drive/DWDM_material'\n",
        "# load data from test.csv to data\n",
        "data = pd.read_csv(os.path.join(base_path, 'test.csv'))\n",
        "# show head of the data table\n",
        "data.head()"
      ],
      "execution_count": 3,
      "outputs": [
        {
          "output_type": "execute_result",
          "data": {
            "text/html": [
              "<div>\n",
              "<style scoped>\n",
              "    .dataframe tbody tr th:only-of-type {\n",
              "        vertical-align: middle;\n",
              "    }\n",
              "\n",
              "    .dataframe tbody tr th {\n",
              "        vertical-align: top;\n",
              "    }\n",
              "\n",
              "    .dataframe thead th {\n",
              "        text-align: right;\n",
              "    }\n",
              "</style>\n",
              "<table border=\"1\" class=\"dataframe\">\n",
              "  <thead>\n",
              "    <tr style=\"text-align: right;\">\n",
              "      <th></th>\n",
              "      <th>Unnamed: 0</th>\n",
              "      <th>x</th>\n",
              "      <th>y</th>\n",
              "    </tr>\n",
              "  </thead>\n",
              "  <tbody>\n",
              "    <tr>\n",
              "      <th>0</th>\n",
              "      <td>0</td>\n",
              "      <td>55.3846</td>\n",
              "      <td>97.1795</td>\n",
              "    </tr>\n",
              "    <tr>\n",
              "      <th>1</th>\n",
              "      <td>1</td>\n",
              "      <td>51.5385</td>\n",
              "      <td>96.0256</td>\n",
              "    </tr>\n",
              "    <tr>\n",
              "      <th>2</th>\n",
              "      <td>2</td>\n",
              "      <td>46.1538</td>\n",
              "      <td>94.4872</td>\n",
              "    </tr>\n",
              "    <tr>\n",
              "      <th>3</th>\n",
              "      <td>3</td>\n",
              "      <td>42.8205</td>\n",
              "      <td>91.4103</td>\n",
              "    </tr>\n",
              "    <tr>\n",
              "      <th>4</th>\n",
              "      <td>4</td>\n",
              "      <td>40.7692</td>\n",
              "      <td>88.3333</td>\n",
              "    </tr>\n",
              "  </tbody>\n",
              "</table>\n",
              "</div>"
            ],
            "text/plain": [
              "   Unnamed: 0        x        y\n",
              "0           0  55.3846  97.1795\n",
              "1           1  51.5385  96.0256\n",
              "2           2  46.1538  94.4872\n",
              "3           3  42.8205  91.4103\n",
              "4           4  40.7692  88.3333"
            ]
          },
          "metadata": {
            "tags": []
          },
          "execution_count": 3
        }
      ]
    },
    {
      "cell_type": "markdown",
      "metadata": {
        "id": "64EYPS-php4d",
        "colab_type": "text"
      },
      "source": [
        "# boxplot"
      ]
    },
    {
      "cell_type": "code",
      "metadata": {
        "id": "8vpyEIuShfYd",
        "colab_type": "code",
        "colab": {}
      },
      "source": [
        "from matplotlib import pyplot as plt"
      ],
      "execution_count": 4,
      "outputs": []
    },
    {
      "cell_type": "code",
      "metadata": {
        "id": "M5TdwsNph5Mm",
        "colab_type": "code",
        "colab": {
          "base_uri": "https://localhost:8080/",
          "height": 399
        },
        "outputId": "4bcdd0cb-f254-4817-98b3-4bde5a9d7863"
      },
      "source": [
        "plt.boxplot(data['x'])"
      ],
      "execution_count": 5,
      "outputs": [
        {
          "output_type": "execute_result",
          "data": {
            "text/plain": [
              "{'boxes': [<matplotlib.lines.Line2D at 0x7fdc0bf08a20>],\n",
              " 'caps': [<matplotlib.lines.Line2D at 0x7fdc0bea3470>,\n",
              "  <matplotlib.lines.Line2D at 0x7fdc0bea37f0>],\n",
              " 'fliers': [<matplotlib.lines.Line2D at 0x7fdc0bea3ef0>],\n",
              " 'means': [],\n",
              " 'medians': [<matplotlib.lines.Line2D at 0x7fdc0bea3b70>],\n",
              " 'whiskers': [<matplotlib.lines.Line2D at 0x7fdc0bf08d30>,\n",
              "  <matplotlib.lines.Line2D at 0x7fdc0bea30f0>]}"
            ]
          },
          "metadata": {
            "tags": []
          },
          "execution_count": 5
        },
        {
          "output_type": "display_data",
          "data": {
            "image/png": "[encoded data removed]",
            "text/plain": [
              "<Figure size 432x288 with 1 Axes>"
            ]
          },
          "metadata": {
            "tags": [],
            "needs_background": "light"
          }
        }
      ]
    },
    {
      "cell_type": "code",
      "metadata": {
        "id": "LCs_JANqlOsw",
        "colab_type": "code",
        "colab": {
          "base_uri": "https://localhost:8080/",
          "height": 399
        },
        "outputId": "5061d75f-e8e2-40ae-a486-29f4a92b3daa"
      },
      "source": [
        "plt.boxplot(data['x'], showmeans=True)"
      ],
      "execution_count": 6,
      "outputs": [
        {
          "output_type": "execute_result",
          "data": {
            "text/plain": [
              "{'boxes': [<matplotlib.lines.Line2D at 0x7fdc0b9ee080>],\n",
              " 'caps': [<matplotlib.lines.Line2D at 0x7fdc0b9eea90>,\n",
              "  <matplotlib.lines.Line2D at 0x7fdc0b9eee10>],\n",
              " 'fliers': [<matplotlib.lines.Line2D at 0x7fdc0b9f7898>],\n",
              " 'means': [<matplotlib.lines.Line2D at 0x7fdc0b9f7550>],\n",
              " 'medians': [<matplotlib.lines.Line2D at 0x7fdc0b9f71d0>],\n",
              " 'whiskers': [<matplotlib.lines.Line2D at 0x7fdc0b9ee390>,\n",
              "  <matplotlib.lines.Line2D at 0x7fdc0b9ee710>]}"
            ]
          },
          "metadata": {
            "tags": []
          },
          "execution_count": 6
        },
        {
          "output_type": "display_data",
          "data": {
            "image/png": "[encoded data removed]",
            "text/plain": [
              "<Figure size 432x288 with 1 Axes>"
            ]
          },
          "metadata": {
            "tags": [],
            "needs_background": "light"
          }
        }
      ]
    },
    {
      "cell_type": "code",
      "metadata": {
        "id": "Ki_B9Hy1miNd",
        "colab_type": "code",
        "colab": {
          "base_uri": "https://localhost:8080/",
          "height": 399
        },
        "outputId": "74604000-ecd2-4e39-a995-682897b32002"
      },
      "source": [
        "plt.boxplot(data['x'], whis=0.8)"
      ],
      "execution_count": 7,
      "outputs": [
        {
          "output_type": "execute_result",
          "data": {
            "text/plain": [
              "{'boxes': [<matplotlib.lines.Line2D at 0x7fdc0b954a20>],\n",
              " 'caps': [<matplotlib.lines.Line2D at 0x7fdc0b961470>,\n",
              "  <matplotlib.lines.Line2D at 0x7fdc0b9617f0>],\n",
              " 'fliers': [<matplotlib.lines.Line2D at 0x7fdc0b961ef0>],\n",
              " 'means': [],\n",
              " 'medians': [<matplotlib.lines.Line2D at 0x7fdc0b961b70>],\n",
              " 'whiskers': [<matplotlib.lines.Line2D at 0x7fdc0b954d30>,\n",
              "  <matplotlib.lines.Line2D at 0x7fdc0b9610f0>]}"
            ]
          },
          "metadata": {
            "tags": []
          },
          "execution_count": 7
        },
        {
          "output_type": "display_data",
          "data": {
            "image/png": "[encoded data removed]",
            "text/plain": [
              "<Figure size 432x288 with 1 Axes>"
            ]
          },
          "metadata": {
            "tags": [],
            "needs_background": "light"
          }
        }
      ]
    },
    {
      "cell_type": "code",
      "metadata": {
        "id": "vaqgFtzmndIs",
        "colab_type": "code",
        "colab": {
          "base_uri": "https://localhost:8080/",
          "height": 399
        },
        "outputId": "19af6c12-c6de-4162-ad47-52b1ce80416d"
      },
      "source": [
        "plt.boxplot(data['x'], whis=0.8, vert=False)"
      ],
      "execution_count": 8,
      "outputs": [
        {
          "output_type": "execute_result",
          "data": {
            "text/plain": [
              "{'boxes': [<matplotlib.lines.Line2D at 0x7fdc0b93acc0>],\n",
              " 'caps': [<matplotlib.lines.Line2D at 0x7fdc0b8c8710>,\n",
              "  <matplotlib.lines.Line2D at 0x7fdc0b8c8a90>],\n",
              " 'fliers': [<matplotlib.lines.Line2D at 0x7fdc0b8d31d0>],\n",
              " 'means': [],\n",
              " 'medians': [<matplotlib.lines.Line2D at 0x7fdc0b8c8e10>],\n",
              " 'whiskers': [<matplotlib.lines.Line2D at 0x7fdc0b93afd0>,\n",
              "  <matplotlib.lines.Line2D at 0x7fdc0b8c8390>]}"
            ]
          },
          "metadata": {
            "tags": []
          },
          "execution_count": 8
        },
        {
          "output_type": "display_data",
          "data": {
            "image/png": "[encoded data removed]",
            "text/plain": [
              "<Figure size 432x288 with 1 Axes>"
            ]
          },
          "metadata": {
            "tags": [],
            "needs_background": "light"
          }
        }
      ]
    },
    {
      "cell_type": "code",
      "metadata": {
        "id": "PmGg4iVsoL2G",
        "colab_type": "code",
        "colab": {
          "base_uri": "https://localhost:8080/",
          "height": 265
        },
        "outputId": "9e76b928-58ca-45d0-dfa8-8b98f24cb241"
      },
      "source": [
        "ret = plt.boxplot(data['x'], whis=0.8, vert=False)"
      ],
      "execution_count": 9,
      "outputs": [
        {
          "output_type": "display_data",
          "data": {
            "image/png": "[encoded data removed]",
            "text/plain": [
              "<Figure size 432x288 with 1 Axes>"
            ]
          },
          "metadata": {
            "tags": [],
            "needs_background": "light"
          }
        }
      ]
    },
    {
      "cell_type": "code",
      "metadata": {
        "id": "XFCFhuxqpZGd",
        "colab_type": "code",
        "colab": {
          "base_uri": "https://localhost:8080/",
          "height": 151
        },
        "outputId": "764a0ceb-92ef-4e88-9b1f-b0937ddbdf2b"
      },
      "source": [
        "# ใช้เก็บข้อมูลคล้าย list แต่ชี้ด้วยชื่อ\n",
        "# fliers เป็น list ของ outliers\n",
        "# whiskers \n",
        "ret"
      ],
      "execution_count": 10,
      "outputs": [
        {
          "output_type": "execute_result",
          "data": {
            "text/plain": [
              "{'boxes': [<matplotlib.lines.Line2D at 0x7fdc0b8a4cf8>],\n",
              " 'caps': [<matplotlib.lines.Line2D at 0x7fdc0b8b0748>,\n",
              "  <matplotlib.lines.Line2D at 0x7fdc0b8b0ac8>],\n",
              " 'fliers': [<matplotlib.lines.Line2D at 0x7fdc0b8ba208>],\n",
              " 'means': [],\n",
              " 'medians': [<matplotlib.lines.Line2D at 0x7fdc0b8b0e48>],\n",
              " 'whiskers': [<matplotlib.lines.Line2D at 0x7fdc0b8b0048>,\n",
              "  <matplotlib.lines.Line2D at 0x7fdc0b8b03c8>]}"
            ]
          },
          "metadata": {
            "tags": []
          },
          "execution_count": 10
        }
      ]
    },
    {
      "cell_type": "code",
      "metadata": {
        "id": "OnCq8i_rpcBu",
        "colab_type": "code",
        "colab": {
          "base_uri": "https://localhost:8080/",
          "height": 34
        },
        "outputId": "8c5c9ce0-b2c3-48e6-e002-6ed47ea1c6b9"
      },
      "source": [
        "# fliers คือตัว outliers\n",
        "ret['fliers']"
      ],
      "execution_count": 11,
      "outputs": [
        {
          "output_type": "execute_result",
          "data": {
            "text/plain": [
              "[<matplotlib.lines.Line2D at 0x7fdc0b8ba208>]"
            ]
          },
          "metadata": {
            "tags": []
          },
          "execution_count": 11
        }
      ]
    },
    {
      "cell_type": "code",
      "metadata": {
        "id": "HFot7B20psBq",
        "colab_type": "code",
        "colab": {
          "base_uri": "https://localhost:8080/",
          "height": 34
        },
        "outputId": "4dd3a267-60af-4c31-c1aa-475acaf1a469"
      },
      "source": [
        "ret['fliers'][0]"
      ],
      "execution_count": 12,
      "outputs": [
        {
          "output_type": "execute_result",
          "data": {
            "text/plain": [
              "<matplotlib.lines.Line2D at 0x7fdc0b8ba208>"
            ]
          },
          "metadata": {
            "tags": []
          },
          "execution_count": 12
        }
      ]
    },
    {
      "cell_type": "code",
      "metadata": {
        "id": "mz5RSSpqql7D",
        "colab_type": "code",
        "colab": {
          "base_uri": "https://localhost:8080/",
          "height": 67
        },
        "outputId": "78ab4460-f30a-4155-adf4-95980e3c3a54"
      },
      "source": [
        "# get_adata() คือคำสั่งปริ้น outliers \n",
        "ret['fliers'][0].get_xdata()"
      ],
      "execution_count": 13,
      "outputs": [
        {
          "output_type": "execute_result",
          "data": {
            "text/plain": [
              "array([26.1538, 23.0769, 22.3077, 22.3077, 23.3333, 25.8974, 81.7949,\n",
              "       83.3333, 85.1282, 86.4103, 87.9487, 89.4872, 93.3333, 95.3846,\n",
              "       98.2051, 91.2821])"
            ]
          },
          "metadata": {
            "tags": []
          },
          "execution_count": 13
        }
      ]
    },
    {
      "cell_type": "code",
      "metadata": {
        "id": "Y6jJsoVwq0Z4",
        "colab_type": "code",
        "colab": {
          "base_uri": "https://localhost:8080/",
          "height": 34
        },
        "outputId": "5be3ec38-ea11-49d0-e2c1-4409575f7224"
      },
      "source": [
        "# whiskers ด้านซ้าย\n",
        "ret['whiskers'][0].get_xdata()"
      ],
      "execution_count": 14,
      "outputs": [
        {
          "output_type": "execute_result",
          "data": {
            "text/plain": [
              "array([44.1026, 28.9744])"
            ]
          },
          "metadata": {
            "tags": []
          },
          "execution_count": 14
        }
      ]
    },
    {
      "cell_type": "code",
      "metadata": {
        "id": "Rs4gqDS1Hwql",
        "colab_type": "code",
        "colab": {
          "base_uri": "https://localhost:8080/",
          "height": 34
        },
        "outputId": "e6c856fb-b24b-4264-8e28-1ad7eba0a8f6"
      },
      "source": [
        "# whiskers ด้านขวา\n",
        "ret['whiskers'][1].get_xdata()"
      ],
      "execution_count": 15,
      "outputs": [
        {
          "output_type": "execute_result",
          "data": {
            "text/plain": [
              "array([64.7436, 79.7436])"
            ]
          },
          "metadata": {
            "tags": []
          },
          "execution_count": 15
        }
      ]
    },
    {
      "cell_type": "code",
      "metadata": {
        "id": "By2ikXlCrnkb",
        "colab_type": "code",
        "colab": {
          "base_uri": "https://localhost:8080/",
          "height": 34
        },
        "outputId": "454bdadb-6967-4c9f-dbe2-50c424a205ff"
      },
      "source": [
        "ret['boxes'][0].get_xdata()"
      ],
      "execution_count": 16,
      "outputs": [
        {
          "output_type": "execute_result",
          "data": {
            "text/plain": [
              "array([44.1026, 44.1026, 64.7436, 64.7436, 44.1026])"
            ]
          },
          "metadata": {
            "tags": []
          },
          "execution_count": 16
        }
      ]
    },
    {
      "cell_type": "code",
      "metadata": {
        "id": "B_daLFHTsekN",
        "colab_type": "code",
        "colab": {
          "base_uri": "https://localhost:8080/",
          "height": 34
        },
        "outputId": "2049dc55-81f6-4594-dde7-1cdb29402bd6"
      },
      "source": [
        "ret['caps'][0].get_xdata()"
      ],
      "execution_count": 17,
      "outputs": [
        {
          "output_type": "execute_result",
          "data": {
            "text/plain": [
              "array([28.9744, 28.9744])"
            ]
          },
          "metadata": {
            "tags": []
          },
          "execution_count": 17
        }
      ]
    },
    {
      "cell_type": "code",
      "metadata": {
        "id": "1HUTeIsQsjxN",
        "colab_type": "code",
        "colab": {
          "base_uri": "https://localhost:8080/",
          "height": 282
        },
        "outputId": "6c4a4084-bcae-49e5-bd6f-d2f22b2e6596"
      },
      "source": [
        "plt.scatter(data['x'], data['y'])"
      ],
      "execution_count": 18,
      "outputs": [
        {
          "output_type": "execute_result",
          "data": {
            "text/plain": [
              "<matplotlib.collections.PathCollection at 0x7fdc0b822048>"
            ]
          },
          "metadata": {
            "tags": []
          },
          "execution_count": 18
        },
        {
          "output_type": "display_data",
          "data": {
            "image/png": "[encoded data removed]",
            "text/plain": [
              "<Figure size 432x288 with 1 Axes>"
            ]
          },
          "metadata": {
            "tags": [],
            "needs_background": "light"
          }
        }
      ]
    },
    {
      "cell_type": "code",
      "metadata": {
        "id": "2AI83g9kuQpd",
        "colab_type": "code",
        "colab": {
          "base_uri": "https://localhost:8080/",
          "height": 282
        },
        "outputId": "db4e87bf-a4c5-4318-db7b-5749971477a9"
      },
      "source": [
        "plt.scatter(data['x'], data['y'], s=10)"
      ],
      "execution_count": 19,
      "outputs": [
        {
          "output_type": "execute_result",
          "data": {
            "text/plain": [
              "<matplotlib.collections.PathCollection at 0x7fdc0b78b4a8>"
            ]
          },
          "metadata": {
            "tags": []
          },
          "execution_count": 19
        },
        {
          "output_type": "display_data",
          "data": {
            "image/png": "[encoded data removed]",
            "text/plain": [
              "<Figure size 432x288 with 1 Axes>"
            ]
          },
          "metadata": {
            "tags": [],
            "needs_background": "light"
          }
        }
      ]
    },
    {
      "cell_type": "code",
      "metadata": {
        "id": "SfvxUPa4uwkz",
        "colab_type": "code",
        "colab": {
          "base_uri": "https://localhost:8080/",
          "height": 282
        },
        "outputId": "882beee8-5078-4677-ed75-e98ebf2e3e2b"
      },
      "source": [
        "# ชาแนลที่ 4 คือความโปร่งแสง\n",
        "plt.scatter(data['x'], data['y'], s=200, c=[[0, 0.5, 0.5, 0.5]])"
      ],
      "execution_count": 20,
      "outputs": [
        {
          "output_type": "execute_result",
          "data": {
            "text/plain": [
              "<matplotlib.collections.PathCollection at 0x7fdc0b76ea20>"
            ]
          },
          "metadata": {
            "tags": []
          },
          "execution_count": 20
        },
        {
          "output_type": "display_data",
          "data": {
            "image/png": "[encoded data removed]",
            "text/plain": [
              "<Figure size 432x288 with 1 Axes>"
            ]
          },
          "metadata": {
            "tags": [],
            "needs_background": "light"
          }
        }
      ]
    },
    {
      "cell_type": "code",
      "metadata": {
        "id": "I0LLzxgNvgmO",
        "colab_type": "code",
        "colab": {
          "base_uri": "https://localhost:8080/",
          "height": 282
        },
        "outputId": "aa3a3191-3689-4188-93e5-4648f0a632b2"
      },
      "source": [
        "plt.scatter(data['x'], data['y'], s=100, c='r', marker='4')"
      ],
      "execution_count": 21,
      "outputs": [
        {
          "output_type": "execute_result",
          "data": {
            "text/plain": [
              "<matplotlib.collections.PathCollection at 0x7fdc0b9b8208>"
            ]
          },
          "metadata": {
            "tags": []
          },
          "execution_count": 21
        },
        {
          "output_type": "display_data",
          "data": {
            "image/png": "[encoded data removed]",
            "text/plain": [
              "<Figure size 432x288 with 1 Axes>"
            ]
          },
          "metadata": {
            "tags": [],
            "needs_background": "light"
          }
        }
      ]
    },
    {
      "cell_type": "code",
      "metadata": {
        "id": "min-xIEbwUjs",
        "colab_type": "code",
        "colab": {
          "base_uri": "https://localhost:8080/",
          "height": 282
        },
        "outputId": "96e6399c-38f8-407b-b4df-b395e66005f5"
      },
      "source": [
        "# alpha คือความโปร่ง\n",
        "plt.scatter(data['x'], data['y'], s=100, c='c', alpha=0.4)"
      ],
      "execution_count": 22,
      "outputs": [
        {
          "output_type": "execute_result",
          "data": {
            "text/plain": [
              "<matplotlib.collections.PathCollection at 0x7fdc0b85fb70>"
            ]
          },
          "metadata": {
            "tags": []
          },
          "execution_count": 22
        },
        {
          "output_type": "display_data",
          "data": {
            "image/png": "[encoded data removed]",
            "text/plain": [
              "<Figure size 432x288 with 1 Axes>"
            ]
          },
          "metadata": {
            "tags": [],
            "needs_background": "light"
          }
        }
      ]
    },
    {
      "cell_type": "code",
      "metadata": {
        "id": "j-EBwatKw8fV",
        "colab_type": "code",
        "colab": {
          "base_uri": "https://localhost:8080/",
          "height": 282
        },
        "outputId": "1e4d6d1a-1f0b-4668-84fe-3ec667e085fb"
      },
      "source": [
        "plt.scatter(data['x'], data['y'], s=100, c='y', alpha=0.4)\n",
        "plt.scatter([30, 40], [60, 85], s=200, c='r', alpha=0.4)"
      ],
      "execution_count": 23,
      "outputs": [
        {
          "output_type": "execute_result",
          "data": {
            "text/plain": [
              "<matplotlib.collections.PathCollection at 0x7fdc0b612828>"
            ]
          },
          "metadata": {
            "tags": []
          },
          "execution_count": 23
        },
        {
          "output_type": "display_data",
          "data": {
            "image/png": "[encoded data removed]",
            "text/plain": [
              "<Figure size 432x288 with 1 Axes>"
            ]
          },
          "metadata": {
            "tags": [],
            "needs_background": "light"
          }
        }
      ]
    },
    {
      "cell_type": "markdown",
      "metadata": {
        "id": "IYTnpK4pxocL",
        "colab_type": "text"
      },
      "source": [
        "## HW : ให้พล็อตนอให้ไดโนเสาร์"
      ]
    },
    {
      "cell_type": "code",
      "metadata": {
        "id": "VQqLmSdPxRCJ",
        "colab_type": "code",
        "colab": {
          "base_uri": "https://localhost:8080/",
          "height": 282
        },
        "outputId": "d61e13d0-77fe-4629-d011-55d5555d475f"
      },
      "source": [
        "plt.scatter(data['x'], data['y'], s=100, c='g', alpha=0.4)\n",
        "plt.scatter([20, 21, 22, 23, 24, 30, 25, 23], [90, 85, 80, 75, 70, 80, 86, 88], s=100, c='g', alpha=0.4)"
      ],
      "execution_count": 24,
      "outputs": [
        {
          "output_type": "execute_result",
          "data": {
            "text/plain": [
              "<matplotlib.collections.PathCollection at 0x7fdc0b542518>"
            ]
          },
          "metadata": {
            "tags": []
          },
          "execution_count": 24
        },
        {
          "output_type": "display_data",
          "data": {
            "image/png": "[encoded data removed]",
            "text/plain": [
              "<Figure size 432x288 with 1 Axes>"
            ]
          },
          "metadata": {
            "tags": [],
            "needs_background": "light"
          }
        }
      ]
    },
    {
      "cell_type": "markdown",
      "metadata": {
        "id": "Iu9CrFr01dWq",
        "colab_type": "text"
      },
      "source": [
        "# Plot\n",
        "ลากเส้นเชื่อมตามลำดับ จากจุดแรกไปจนจุดสุดท้าย"
      ]
    },
    {
      "cell_type": "code",
      "metadata": {
        "id": "e5C4TQNLFYKN",
        "colab_type": "code",
        "colab": {
          "base_uri": "https://localhost:8080/",
          "height": 282
        },
        "outputId": "e204da86-ad15-4a13-fad9-e755675b716e"
      },
      "source": [
        "plt.plot(data['x'], data['y'])"
      ],
      "execution_count": 25,
      "outputs": [
        {
          "output_type": "execute_result",
          "data": {
            "text/plain": [
              "[<matplotlib.lines.Line2D at 0x7fdc0b52b208>]"
            ]
          },
          "metadata": {
            "tags": []
          },
          "execution_count": 25
        },
        {
          "output_type": "display_data",
          "data": {
            "image/png": "[encoded data removed]",
            "text/plain": [
              "<Figure size 432x288 with 1 Axes>"
            ]
          },
          "metadata": {
            "tags": [],
            "needs_background": "light"
          }
        }
      ]
    },
    {
      "cell_type": "code",
      "metadata": {
        "id": "nuzKLUjF2R4d",
        "colab_type": "code",
        "colab": {
          "base_uri": "https://localhost:8080/",
          "height": 282
        },
        "outputId": "5c090ae2-4a25-453e-fb06-73b91c1eeb52"
      },
      "source": [
        "#plt.plot(data['x'], data['y'])\n",
        "plt.scatter(data['x'], data['y'], s=range(5, len(data['x'])+5))"
      ],
      "execution_count": 26,
      "outputs": [
        {
          "output_type": "execute_result",
          "data": {
            "text/plain": [
              "<matplotlib.collections.PathCollection at 0x7fdc0b48ea90>"
            ]
          },
          "metadata": {
            "tags": []
          },
          "execution_count": 26
        },
        {
          "output_type": "display_data",
          "data": {
            "image/png": "[encoded data removed]",
            "text/plain": [
              "<Figure size 432x288 with 1 Axes>"
            ]
          },
          "metadata": {
            "tags": [],
            "needs_background": "light"
          }
        }
      ]
    },
    {
      "cell_type": "code",
      "metadata": {
        "id": "M8-eNTOA3K3M",
        "colab_type": "code",
        "colab": {
          "base_uri": "https://localhost:8080/",
          "height": 1000
        },
        "outputId": "ba33b064-4ee1-4ba7-db1f-950fc8ea53ff"
      },
      "source": [
        "c_list = list()                         #สร้างตัวแปร 1 ตัว ให้เป็น list ว่าง\n",
        "for i in range(len(data['x'])) :\n",
        "  c_list.append([0, 0, (50+i)/255])           #เอาค่าใส่เข้าไปใน list คือใส่ append()\n",
        "c_list"
      ],
      "execution_count": 27,
      "outputs": [
        {
          "output_type": "execute_result",
          "data": {
            "text/plain": [
              "[[0, 0, 0.19607843137254902],\n",
              " [0, 0, 0.2],\n",
              " [0, 0, 0.20392156862745098],\n",
              " [0, 0, 0.20784313725490197],\n",
              " [0, 0, 0.21176470588235294],\n",
              " [0, 0, 0.21568627450980393],\n",
              " [0, 0, 0.2196078431372549],\n",
              " [0, 0, 0.2235294117647059],\n",
              " [0, 0, 0.22745098039215686],\n",
              " [0, 0, 0.23137254901960785],\n",
              " [0, 0, 0.23529411764705882],\n",
              " [0, 0, 0.23921568627450981],\n",
              " [0, 0, 0.24313725490196078],\n",
              " [0, 0, 0.24705882352941178],\n",
              " [0, 0, 0.25098039215686274],\n",
              " [0, 0, 0.2549019607843137],\n",
              " [0, 0, 0.25882352941176473],\n",
              " [0, 0, 0.2627450980392157],\n",
              " [0, 0, 0.26666666666666666],\n",
              " [0, 0, 0.27058823529411763],\n",
              " [0, 0, 0.27450980392156865],\n",
              " [0, 0, 0.2784313725490196],\n",
              " [0, 0, 0.2823529411764706],\n",
              " [0, 0, 0.28627450980392155],\n",
              " [0, 0, 0.2901960784313726],\n",
              " [0, 0, 0.29411764705882354],\n",
              " [0, 0, 0.2980392156862745],\n",
              " [0, 0, 0.30196078431372547],\n",
              " [0, 0, 0.3058823529411765],\n",
              " [0, 0, 0.30980392156862746],\n",
              " [0, 0, 0.3137254901960784],\n",
              " [0, 0, 0.3176470588235294],\n",
              " [0, 0, 0.3215686274509804],\n",
              " [0, 0, 0.3254901960784314],\n",
              " [0, 0, 0.32941176470588235],\n",
              " [0, 0, 0.3333333333333333],\n",
              " [0, 0, 0.33725490196078434],\n",
              " [0, 0, 0.3411764705882353],\n",
              " [0, 0, 0.34509803921568627],\n",
              " [0, 0, 0.34901960784313724],\n",
              " [0, 0, 0.35294117647058826],\n",
              " [0, 0, 0.3568627450980392],\n",
              " [0, 0, 0.3607843137254902],\n",
              " [0, 0, 0.36470588235294116],\n",
              " [0, 0, 0.3686274509803922],\n",
              " [0, 0, 0.37254901960784315],\n",
              " [0, 0, 0.3764705882352941],\n",
              " [0, 0, 0.3803921568627451],\n",
              " [0, 0, 0.3843137254901961],\n",
              " [0, 0, 0.38823529411764707],\n",
              " [0, 0, 0.39215686274509803],\n",
              " [0, 0, 0.396078431372549],\n",
              " [0, 0, 0.4],\n",
              " [0, 0, 0.403921568627451],\n",
              " [0, 0, 0.40784313725490196],\n",
              " [0, 0, 0.4117647058823529],\n",
              " [0, 0, 0.41568627450980394],\n",
              " [0, 0, 0.4196078431372549],\n",
              " [0, 0, 0.4235294117647059],\n",
              " [0, 0, 0.42745098039215684],\n",
              " [0, 0, 0.43137254901960786],\n",
              " [0, 0, 0.43529411764705883],\n",
              " [0, 0, 0.4392156862745098],\n",
              " [0, 0, 0.44313725490196076],\n",
              " [0, 0, 0.4470588235294118],\n",
              " [0, 0, 0.45098039215686275],\n",
              " [0, 0, 0.4549019607843137],\n",
              " [0, 0, 0.4588235294117647],\n",
              " [0, 0, 0.4627450980392157],\n",
              " [0, 0, 0.4666666666666667],\n",
              " [0, 0, 0.47058823529411764],\n",
              " [0, 0, 0.4745098039215686],\n",
              " [0, 0, 0.47843137254901963],\n",
              " [0, 0, 0.4823529411764706],\n",
              " [0, 0, 0.48627450980392156],\n",
              " [0, 0, 0.49019607843137253],\n",
              " [0, 0, 0.49411764705882355],\n",
              " [0, 0, 0.4980392156862745],\n",
              " [0, 0, 0.5019607843137255],\n",
              " [0, 0, 0.5058823529411764],\n",
              " [0, 0, 0.5098039215686274],\n",
              " [0, 0, 0.5137254901960784],\n",
              " [0, 0, 0.5176470588235295],\n",
              " [0, 0, 0.5215686274509804],\n",
              " [0, 0, 0.5254901960784314],\n",
              " [0, 0, 0.5294117647058824],\n",
              " [0, 0, 0.5333333333333333],\n",
              " [0, 0, 0.5372549019607843],\n",
              " [0, 0, 0.5411764705882353],\n",
              " [0, 0, 0.5450980392156862],\n",
              " [0, 0, 0.5490196078431373],\n",
              " [0, 0, 0.5529411764705883],\n",
              " [0, 0, 0.5568627450980392],\n",
              " [0, 0, 0.5607843137254902],\n",
              " [0, 0, 0.5647058823529412],\n",
              " [0, 0, 0.5686274509803921],\n",
              " [0, 0, 0.5725490196078431],\n",
              " [0, 0, 0.5764705882352941],\n",
              " [0, 0, 0.5803921568627451],\n",
              " [0, 0, 0.5843137254901961],\n",
              " [0, 0, 0.5882352941176471],\n",
              " [0, 0, 0.592156862745098],\n",
              " [0, 0, 0.596078431372549],\n",
              " [0, 0, 0.6],\n",
              " [0, 0, 0.6039215686274509],\n",
              " [0, 0, 0.6078431372549019],\n",
              " [0, 0, 0.611764705882353],\n",
              " [0, 0, 0.615686274509804],\n",
              " [0, 0, 0.6196078431372549],\n",
              " [0, 0, 0.6235294117647059],\n",
              " [0, 0, 0.6274509803921569],\n",
              " [0, 0, 0.6313725490196078],\n",
              " [0, 0, 0.6352941176470588],\n",
              " [0, 0, 0.6392156862745098],\n",
              " [0, 0, 0.6431372549019608],\n",
              " [0, 0, 0.6470588235294118],\n",
              " [0, 0, 0.6509803921568628],\n",
              " [0, 0, 0.6549019607843137],\n",
              " [0, 0, 0.6588235294117647],\n",
              " [0, 0, 0.6627450980392157],\n",
              " [0, 0, 0.6666666666666666],\n",
              " [0, 0, 0.6705882352941176],\n",
              " [0, 0, 0.6745098039215687],\n",
              " [0, 0, 0.6784313725490196],\n",
              " [0, 0, 0.6823529411764706],\n",
              " [0, 0, 0.6862745098039216],\n",
              " [0, 0, 0.6901960784313725],\n",
              " [0, 0, 0.6941176470588235],\n",
              " [0, 0, 0.6980392156862745],\n",
              " [0, 0, 0.7019607843137254],\n",
              " [0, 0, 0.7058823529411765],\n",
              " [0, 0, 0.7098039215686275],\n",
              " [0, 0, 0.7137254901960784],\n",
              " [0, 0, 0.7176470588235294],\n",
              " [0, 0, 0.7215686274509804],\n",
              " [0, 0, 0.7254901960784313],\n",
              " [0, 0, 0.7294117647058823],\n",
              " [0, 0, 0.7333333333333333],\n",
              " [0, 0, 0.7372549019607844],\n",
              " [0, 0, 0.7411764705882353],\n",
              " [0, 0, 0.7450980392156863],\n",
              " [0, 0, 0.7490196078431373]]"
            ]
          },
          "metadata": {
            "tags": []
          },
          "execution_count": 27
        }
      ]
    },
    {
      "cell_type": "code",
      "metadata": {
        "id": "WbNY6VBy78nj",
        "colab_type": "code",
        "colab": {
          "base_uri": "https://localhost:8080/",
          "height": 282
        },
        "outputId": "029bfd49-0d84-425d-96ec-3d049bc2ae20"
      },
      "source": [
        "plt.scatter(data['x'], data['y'], s=range(5, len(data['x'])+5), c=c_list)"
      ],
      "execution_count": 28,
      "outputs": [
        {
          "output_type": "execute_result",
          "data": {
            "text/plain": [
              "<matplotlib.collections.PathCollection at 0x7fdc0b40b0b8>"
            ]
          },
          "metadata": {
            "tags": []
          },
          "execution_count": 28
        },
        {
          "output_type": "display_data",
          "data": {
            "image/png": "[encoded data removed]",
            "text/plain": [
              "<Figure size 432x288 with 1 Axes>"
            ]
          },
          "metadata": {
            "tags": [],
            "needs_background": "light"
          }
        }
      ]
    },
    {
      "cell_type": "code",
      "metadata": {
        "id": "yDDN7IFe82P3",
        "colab_type": "code",
        "colab": {
          "base_uri": "https://localhost:8080/",
          "height": 282
        },
        "outputId": "5f0d5669-f3fe-4eb0-d68b-891c1c21c24a"
      },
      "source": [
        "# r ตัวแรกคือสี ส่วน o- คือลักษณะเส้น\n",
        "plt.plot(data['x'], data['y'], 'ro-')"
      ],
      "execution_count": 29,
      "outputs": [
        {
          "output_type": "execute_result",
          "data": {
            "text/plain": [
              "[<matplotlib.lines.Line2D at 0x7fdc0b3ee240>]"
            ]
          },
          "metadata": {
            "tags": []
          },
          "execution_count": 29
        },
        {
          "output_type": "display_data",
          "data": {
            "image/png": "[encoded data removed]",
            "text/plain": [
              "<Figure size 432x288 with 1 Axes>"
            ]
          },
          "metadata": {
            "tags": [],
            "needs_background": "light"
          }
        }
      ]
    },
    {
      "cell_type": "markdown",
      "metadata": {
        "id": "h_tbKvD_-eDw",
        "colab_type": "text"
      },
      "source": [
        "# Barchart"
      ]
    },
    {
      "cell_type": "code",
      "metadata": {
        "id": "LFHku4pn9715",
        "colab_type": "code",
        "colab": {}
      },
      "source": [
        "import matplotlib\n",
        "import matplotlib.pyplot as plt\n",
        "import numpy as np"
      ],
      "execution_count": 30,
      "outputs": []
    },
    {
      "cell_type": "code",
      "metadata": {
        "id": "7IABILpk_1L8",
        "colab_type": "code",
        "colab": {}
      },
      "source": [
        "# สร้าง list เก็บข้อมูลที่เป็น dummy\n",
        "labels = ['G1', 'G2', 'G3', 'G4', 'G5']\n",
        "men_means = [20, 34, 30, 35, 27]\n",
        "women_means = [25, 32, 34, 20, 25]"
      ],
      "execution_count": 31,
      "outputs": []
    },
    {
      "cell_type": "markdown",
      "metadata": {
        "id": "h7nENOE4-vZL",
        "colab_type": "text"
      },
      "source": [
        "np.arange ถ้าข้อมูลเป็น array ที่เป็นตัวเลข คล้ายคำสั่ง range"
      ]
    },
    {
      "cell_type": "code",
      "metadata": {
        "id": "U8B53qCm_3Mr",
        "colab_type": "code",
        "colab": {}
      },
      "source": [
        "x = np.arange(len(labels))    # np คือทำงานเกี่ยวกับ array เก็บได้แค่ตัวเลขอย่างเดียว\n",
        "width = 0.35                  # the width of the bars คือความกว้างของกราฟ"
      ],
      "execution_count": 32,
      "outputs": []
    },
    {
      "cell_type": "code",
      "metadata": {
        "id": "xBxSPSE0BZL3",
        "colab_type": "code",
        "colab": {
          "base_uri": "https://localhost:8080/",
          "height": 298
        },
        "outputId": "3a3f5065-4b80-4fd6-e9ec-0e640844a03d"
      },
      "source": [
        "# วิธีอาจารย์สอน (แบบง่าย)\n",
        "plt.bar(x - width/2, men_means, width, label='Men')\n",
        "plt.bar(x + width/2, women_means, width, label='Women')\n",
        "plt.ylabel('Scores')\n",
        "plt.title('Scores by group and gender')\n",
        "plt.legend()"
      ],
      "execution_count": 33,
      "outputs": [
        {
          "output_type": "execute_result",
          "data": {
            "text/plain": [
              "<matplotlib.legend.Legend at 0x7fdc0b3601d0>"
            ]
          },
          "metadata": {
            "tags": []
          },
          "execution_count": 33
        },
        {
          "output_type": "display_data",
          "data": {
            "image/png": "[encoded data removed]",
            "text/plain": [
              "<Figure size 432x288 with 1 Axes>"
            ]
          },
          "metadata": {
            "tags": [],
            "needs_background": "light"
          }
        }
      ]
    },
    {
      "cell_type": "code",
      "metadata": {
        "id": "cW_heBybAQQh",
        "colab_type": "code",
        "colab": {
          "base_uri": "https://localhost:8080/",
          "height": 298
        },
        "outputId": "744f5437-2e8a-4203-bdb8-1ddb3d21df25"
      },
      "source": [
        "# ค้นจากอินเทอร์เน็ต\n",
        "fig, ax = plt.subplots()\n",
        "rects1 = ax.bar(x - width/2, men_means, width, label='Cat')\n",
        "rects2 = ax.bar(x + width/2, women_means, width, label='Dog')\n",
        "# Add some text for labels, title and custom x-axis tick labels, etc.\n",
        "ax.set_ylabel('Scores')\n",
        "ax.set_title('Scores by group and gender')\n",
        "ax.set_xticks(x)            # xticks สามารถเปลี่ยนค่าในแนวแกน x ได้\n",
        "ax.set_xticklabels(labels)\n",
        "ax.legend()"
      ],
      "execution_count": 34,
      "outputs": [
        {
          "output_type": "execute_result",
          "data": {
            "text/plain": [
              "<matplotlib.legend.Legend at 0x7fdc0b28acf8>"
            ]
          },
          "metadata": {
            "tags": []
          },
          "execution_count": 34
        },
        {
          "output_type": "display_data",
          "data": {
            "image/png": "[encoded data removed]",
            "text/plain": [
              "<Figure size 432x288 with 1 Axes>"
            ]
          },
          "metadata": {
            "tags": [],
            "needs_background": "light"
          }
        }
      ]
    },
    {
      "cell_type": "markdown",
      "metadata": {
        "id": "VJSKoq25GdLP",
        "colab_type": "text"
      },
      "source": [
        "# Histogram\n",
        "* histogram ต่างจาก barchart คือความถี่ดีกว่า จะสรุปว่ามีความถี่เท่าไหร่ แต่ละตัวมีความถี่เท่าไร่ นับได้\n",
        "ไม่ต้องบอกว่าค่า x อยู่ตำแหน่งไหน\n",
        "process : นับจำนวนที่เกิดซ้ำ"
      ]
    },
    {
      "cell_type": "code",
      "metadata": {
        "id": "uCHhptfUAw27",
        "colab_type": "code",
        "colab": {
          "base_uri": "https://localhost:8080/",
          "height": 315
        },
        "outputId": "ce09e6eb-d55f-4d75-e76a-0d390b85ebf3"
      },
      "source": [
        "x = [1, 1, 1, 1, 4, 4, 2, 2, 3]\n",
        "plt.hist(x)"
      ],
      "execution_count": 35,
      "outputs": [
        {
          "output_type": "execute_result",
          "data": {
            "text/plain": [
              "(array([4., 0., 0., 2., 0., 0., 1., 0., 0., 2.]),\n",
              " array([1. , 1.3, 1.6, 1.9, 2.2, 2.5, 2.8, 3.1, 3.4, 3.7, 4. ]),\n",
              " <a list of 10 Patch objects>)"
            ]
          },
          "metadata": {
            "tags": []
          },
          "execution_count": 35
        },
        {
          "output_type": "display_data",
          "data": {
            "image/png": "[encoded data removed]",
            "text/plain": [
              "<Figure size 432x288 with 1 Axes>"
            ]
          },
          "metadata": {
            "tags": [],
            "needs_background": "light"
          }
        }
      ]
    },
    {
      "cell_type": "markdown",
      "metadata": {
        "id": "hCl35zioIDR0",
        "colab_type": "text"
      },
      "source": [
        "# Q-Q plot\n",
        "* ตรวจสอบว่าข้อมูลกระจายตามทฤษฏีหรือไม่\n",
        "* ตรวจสอบว่าข้อมูลเป็น normal dist หรือไม่ ถ้าเป็นจะเป็นเส้นตรง เอาข้อมูลสองอันมาเทียบว่าเป็นการแจกแจงเดียวกันหรือไม่\n",
        "* https://data.library.virginia.edu/understanding-q-q-plots/\n",
        "* https://towardsdatascience.com/what-in-the-world-are-qq-plots-20d0e41dece1\n",
        "* https://stackoverflow.com/questions/13865596/quantile-quantile-plot-using-scipy\n",
        "* https://stats.stackexchange.com/questions/139708/qq-plot-in-python"
      ]
    },
    {
      "cell_type": "code",
      "metadata": {
        "id": "DLffxvTXF9Nv",
        "colab_type": "code",
        "colab": {
          "base_uri": "https://localhost:8080/",
          "height": 312
        },
        "outputId": "9a30bfaa-b70d-4fe3-ded6-12abac657ee6"
      },
      "source": [
        "N = 1200\n",
        "p = 0.53\n",
        "q = 1000\n",
        "obs = np.random.binomial(N, p, size = q)/N\n",
        "\n",
        "import scipy.stats as stats\n",
        "\n",
        "z = (obs-np.mean(obs))/np.std(obs)\n",
        "\n",
        "stats.probplot(z, dist='norm', plot=plt)        #กำหนดว่าจะเทียบกับ distribution ไหน อันนี้คือการเปรียบเทียบกับ Normal\n",
        "plt.title('Normal Q-Q plot')"
      ],
      "execution_count": 36,
      "outputs": [
        {
          "output_type": "execute_result",
          "data": {
            "text/plain": [
              "Text(0.5, 1.0, 'Normal Q-Q plot')"
            ]
          },
          "metadata": {
            "tags": []
          },
          "execution_count": 36
        },
        {
          "output_type": "display_data",
          "data": {
            "image/png": "[encoded data removed]",
            "text/plain": [
              "<Figure size 432x288 with 1 Axes>"
            ]
          },
          "metadata": {
            "tags": [],
            "needs_background": "light"
          }
        }
      ]
    },
    {
      "cell_type": "code",
      "metadata": {
        "id": "RovnCpzxLRmQ",
        "colab_type": "code",
        "colab": {
          "base_uri": "https://localhost:8080/",
          "height": 312
        },
        "outputId": "14d81fbc-8a9b-4653-f1f3-3f5bd1f33002"
      },
      "source": [
        "import numpy as np                                      #import numpy for จัดการเกี่ยวกับข้อมูลขนาดใหญ่\n",
        "import scipy.stats as stats\n",
        "x = np.random.normal(loc = 50, scale = 10, size=100)\n",
        "y = np.random.normal(loc = 20, scale = 30, size=100)   \n",
        "stats.probplot(x, dist=\"norm\", plot=plt)                #กำหนดว่าจะเทียบกับ distribution ไหน อันนี้คือการเปรียบเทียบกับ Normal\n",
        "stats.probplot(y, dist=\"norm\", plot=plt)                #กำหนดว่าจะเทียบกับ distribution ไหน อันนี้คือการเปรียบเทียบกับ Normal\n",
        "plt.title(\"Normal Q-Q plot\")"
      ],
      "execution_count": 46,
      "outputs": [
        {
          "output_type": "execute_result",
          "data": {
            "text/plain": [
              "Text(0.5, 1.0, 'Normal Q-Q plot')"
            ]
          },
          "metadata": {
            "tags": []
          },
          "execution_count": 46
        },
        {
          "output_type": "display_data",
          "data": {
            "image/png": "[encoded data removed]",
            "text/plain": [
              "<Figure size 432x288 with 1 Axes>"
            ]
          },
          "metadata": {
            "tags": [],
            "needs_background": "light"
          }
        }
      ]
    },
    {
      "cell_type": "markdown",
      "metadata": {
        "id": "ZXaI8DtyLZ0u",
        "colab_type": "text"
      },
      "source": [
        "## HW show application #2 of Q-Q plot which is compare distribution of the two datasets\n",
        "\n",
        "เปรียบเทียบข้อมูล 2 ชุดว่าอยู่ใน distribution เดียวกันหรือไม่"
      ]
    },
    {
      "cell_type": "code",
      "metadata": {
        "id": "1EfJ5FdERMmq",
        "colab_type": "code",
        "colab": {}
      },
      "source": [
        "import numpy as np                                      # numpy จัดการข้อมูลที่เป็นตัวเลขอย่างเดียว เป็นเมทริกซ์ มีแถวมีหลัก ใช้คุณสมบัติของเมทริกซ์ได้เลย\n",
        "from matplotlib import pyplot as pyplot"
      ],
      "execution_count": 43,
      "outputs": []
    },
    {
      "cell_type": "code",
      "metadata": {
        "id": "pVualO49Spjh",
        "colab_type": "code",
        "colab": {}
      },
      "source": [
        "s = np.random.normal(3, 1.5, 100)                       # mean and standard deviation and N"
      ],
      "execution_count": 59,
      "outputs": []
    },
    {
      "cell_type": "code",
      "metadata": {
        "id": "sSVRvMjKSyi_",
        "colab_type": "code",
        "colab": {
          "base_uri": "https://localhost:8080/",
          "height": 353
        },
        "outputId": "f1977fa1-a3e6-497f-a3da-48296f22fba5"
      },
      "source": [
        "s"
      ],
      "execution_count": 60,
      "outputs": [
        {
          "output_type": "execute_result",
          "data": {
            "text/plain": [
              "array([ 3.95271171, -0.37257849,  5.92845324,  2.48447234,  4.46052755,\n",
              "        2.26492898,  2.41921288,  4.66878306,  2.9384479 ,  5.83541227,\n",
              "        3.38167685,  2.05129158,  3.96721733,  1.05091292,  2.56069402,\n",
              "        4.28445149,  5.73068646,  3.34805654,  3.54158761,  3.48154836,\n",
              "        3.46141692,  1.16478354,  5.89653089,  2.41932073,  2.85932694,\n",
              "        3.90941772,  4.46078623,  3.20526979,  3.64225364,  0.77632872,\n",
              "        0.53936939,  1.36309198,  1.38295781,  2.17971456,  1.31705233,\n",
              "        1.76676259,  3.26572056,  2.06152356,  5.51341953,  0.16710706,\n",
              "        4.11080148, -0.33891291,  1.66062773,  6.96818193,  2.17616767,\n",
              "        2.9708511 ,  2.76251158,  3.54833314,  2.06489195,  1.2337978 ,\n",
              "        2.99227016,  1.69108536,  4.23019291,  2.50031222,  3.00872222,\n",
              "        2.70849471,  3.08524958,  3.29038549,  1.36881025,  1.29092722,\n",
              "        2.22956203,  4.97593853,  1.89114913,  3.7933394 ,  4.71078004,\n",
              "        2.90842405,  2.34517528,  2.15674697,  3.68521838,  0.80013621,\n",
              "        3.91497331,  2.36527828,  1.74201308,  2.78891314,  3.91679808,\n",
              "        5.36930821,  4.03031558,  5.0069315 ,  4.19480751,  0.72260139,\n",
              "        0.85329483,  4.41516803,  1.61618254,  1.84156641,  1.93262406,\n",
              "        3.34706923,  1.6692496 ,  5.30404562,  4.10104476,  1.5770337 ,\n",
              "        2.42037925,  4.24316006,  1.21377836,  3.79974731,  1.80981549,\n",
              "        2.36163635,  3.61949236,  4.84725647,  3.56574559,  5.08178509])"
            ]
          },
          "metadata": {
            "tags": []
          },
          "execution_count": 60
        }
      ]
    },
    {
      "cell_type": "code",
      "metadata": {
        "id": "iYQxvrOMS9s2",
        "colab_type": "code",
        "colab": {
          "base_uri": "https://localhost:8080/",
          "height": 349
        },
        "outputId": "d347b7b7-e484-43b4-a39a-284d0b091978"
      },
      "source": [
        "plt.hist(s)"
      ],
      "execution_count": 62,
      "outputs": [
        {
          "output_type": "execute_result",
          "data": {
            "text/plain": [
              "(array([ 3.,  6., 16., 20., 13., 19., 11.,  6.,  5.,  1.]),\n",
              " array([-0.37257849,  0.36149755,  1.09557359,  1.82964964,  2.56372568,\n",
              "         3.29780172,  4.03187776,  4.76595381,  5.50002985,  6.23410589,\n",
              "         6.96818193]),\n",
              " <a list of 10 Patch objects>)"
            ]
          },
          "metadata": {
            "tags": []
          },
          "execution_count": 62
        },
        {
          "output_type": "display_data",
          "data": {
            "image/png": "[encoded data removed]",
            "text/plain": [
              "<Figure size 432x288 with 1 Axes>"
            ]
          },
          "metadata": {
            "tags": [],
            "needs_background": "light"
          }
        }
      ]
    },
    {
      "cell_type": "code",
      "metadata": {
        "id": "2LKU0uLOUPnT",
        "colab_type": "code",
        "colab": {}
      },
      "source": [
        "s_uni = np.random.uniform(0, 6, 100)"
      ],
      "execution_count": 63,
      "outputs": []
    },
    {
      "cell_type": "code",
      "metadata": {
        "id": "U4rcco7UUzrA",
        "colab_type": "code",
        "colab": {
          "base_uri": "https://localhost:8080/",
          "height": 353
        },
        "outputId": "3d89bd68-29d0-470e-a1f6-19df28923b27"
      },
      "source": [
        "s_uni"
      ],
      "execution_count": 64,
      "outputs": [
        {
          "output_type": "execute_result",
          "data": {
            "text/plain": [
              "array([3.76296488, 5.84086882, 5.1258442 , 4.33809762, 1.75166655,\n",
              "       0.93649244, 3.07182263, 2.79500861, 2.88803035, 0.18564637,\n",
              "       2.37498938, 5.72865282, 1.79696068, 5.09138476, 2.66912472,\n",
              "       1.30217033, 1.05312213, 0.05424179, 4.88745204, 3.38117951,\n",
              "       5.72535979, 0.7708043 , 4.96747505, 4.89179367, 3.17311316,\n",
              "       0.1603912 , 1.01668004, 2.46488185, 1.22187743, 2.37819027,\n",
              "       0.19944283, 4.3363259 , 4.03291547, 1.92779465, 3.77576482,\n",
              "       3.67971255, 1.00709195, 2.4481653 , 1.17478288, 3.74008129,\n",
              "       3.62269125, 5.20200128, 1.58488751, 1.43900197, 3.69411696,\n",
              "       5.11114433, 5.74234093, 4.4992254 , 2.81291991, 0.58991269,\n",
              "       1.05742256, 3.30553003, 1.47553202, 3.61410883, 0.76566243,\n",
              "       5.81647536, 1.18951341, 5.57977002, 1.27487247, 2.67308554,\n",
              "       5.75746407, 3.84729213, 2.60377868, 5.76143294, 5.31783878,\n",
              "       2.75556118, 1.4653968 , 2.93107245, 3.36766455, 4.68433473,\n",
              "       2.90772327, 2.05157455, 5.71467836, 5.47997409, 0.93081232,\n",
              "       1.00521201, 5.98238105, 0.89198073, 5.32051903, 4.19972632,\n",
              "       0.94905542, 5.39832754, 4.14795131, 5.95269966, 5.94577732,\n",
              "       2.0152758 , 0.8770787 , 3.59961765, 1.15461574, 0.2889479 ,\n",
              "       0.54466135, 4.06623149, 3.91390337, 0.57548681, 2.79795142,\n",
              "       0.84479404, 5.62503197, 3.54265015, 0.01536718, 2.16222518])"
            ]
          },
          "metadata": {
            "tags": []
          },
          "execution_count": 64
        }
      ]
    },
    {
      "cell_type": "code",
      "metadata": {
        "id": "SIKCBZWuVjdy",
        "colab_type": "code",
        "colab": {
          "base_uri": "https://localhost:8080/",
          "height": 349
        },
        "outputId": "d00d250a-455c-46d0-c637-b7d333180d25"
      },
      "source": [
        "plt.hist(s_uni)"
      ],
      "execution_count": 65,
      "outputs": [
        {
          "output_type": "execute_result",
          "data": {
            "text/plain": [
              "(array([ 9., 16.,  9.,  6., 12.,  6., 13.,  5.,  9., 15.]),\n",
              " array([0.01536718, 0.61206857, 1.20876996, 1.80547134, 2.40217273,\n",
              "        2.99887412, 3.5955755 , 4.19227689, 4.78897828, 5.38567966,\n",
              "        5.98238105]),\n",
              " <a list of 10 Patch objects>)"
            ]
          },
          "metadata": {
            "tags": []
          },
          "execution_count": 65
        },
        {
          "output_type": "display_data",
          "data": {
            "image/png": "[encoded data removed]",
            "text/plain": [
              "<Figure size 432x288 with 1 Axes>"
            ]
          },
          "metadata": {
            "tags": [],
            "needs_background": "light"
          }
        }
      ]
    },
    {
      "cell_type": "code",
      "metadata": {
        "id": "9-U87YQlWEPK",
        "colab_type": "code",
        "colab": {}
      },
      "source": [
        "s_sorted = np.sort(s)"
      ],
      "execution_count": 68,
      "outputs": []
    },
    {
      "cell_type": "code",
      "metadata": {
        "id": "aBXKRFwhWUHh",
        "colab_type": "code",
        "colab": {}
      },
      "source": [
        "s_uni_sorted = np.sort(s_uni)"
      ],
      "execution_count": 69,
      "outputs": []
    },
    {
      "cell_type": "code",
      "metadata": {
        "id": "e7CLRRkBWp3Y",
        "colab_type": "code",
        "colab": {
          "base_uri": "https://localhost:8080/",
          "height": 297
        },
        "outputId": "4a15962a-3a0d-41b3-d917-d594b1e8afaf"
      },
      "source": [
        "plt.scatter(s_sorted, s_uni_sorted)\n",
        "plt.plot(range(7), range(7), 'r-')\n",
        "plt.ylabel('s_uni')\n",
        "plt.xlabel('s_normal')"
      ],
      "execution_count": 73,
      "outputs": [
        {
          "output_type": "execute_result",
          "data": {
            "text/plain": [
              "Text(0.5, 0, 's_normal')"
            ]
          },
          "metadata": {
            "tags": []
          },
          "execution_count": 73
        },
        {
          "output_type": "display_data",
          "data": {
            "image/png": "[encoded data removed]",
            "text/plain": [
              "<Figure size 432x288 with 1 Axes>"
            ]
          },
          "metadata": {
            "tags": [],
            "needs_background": "light"
          }
        }
      ]
    },
    {
      "cell_type": "markdown",
      "metadata": {
        "id": "vOegtLnZY8Kd",
        "colab_type": "text"
      },
      "source": [
        "# exercise\n",
        "plot Q-Q plot to compare distribution of np.random.normal(3, 2, 20000)"
      ]
    },
    {
      "cell_type": "code",
      "metadata": {
        "id": "NeXkA96T56Qw",
        "colab_type": "code",
        "colab": {}
      },
      "source": [
        "import numpy as np                                      # numpy จัดการข้อมูลที่เป็นตัวเลขอย่างเดียว เป็นเมทริกซ์ มีแถวมีหลัก ใช้คุณสมบัติของเมทริกซ์ได้เลย\n",
        "from matplotlib import pyplot as pyplot"
      ],
      "execution_count": 74,
      "outputs": []
    },
    {
      "cell_type": "code",
      "metadata": {
        "id": "WIgWoYFbYlhZ",
        "colab_type": "code",
        "colab": {
          "base_uri": "https://localhost:8080/",
          "height": 50
        },
        "outputId": "9fa4f6f9-04b1-41bc-9ddf-6872e5f0be1b"
      },
      "source": [
        "ex_norm = np.random.normal(3, 0.5, 20000)\n",
        "ex_norm"
      ],
      "execution_count": 98,
      "outputs": [
        {
          "output_type": "execute_result",
          "data": {
            "text/plain": [
              "array([3.10716224, 2.5090045 , 2.61579894, ..., 2.73548722, 2.60219312,\n",
              "       2.68243463])"
            ]
          },
          "metadata": {
            "tags": []
          },
          "execution_count": 98
        }
      ]
    },
    {
      "cell_type": "code",
      "metadata": {
        "id": "HOLLMxR-YpvO",
        "colab_type": "code",
        "colab": {
          "base_uri": "https://localhost:8080/",
          "height": 366
        },
        "outputId": "3b97a156-e9f1-4c03-f2c3-0eb7931d8074"
      },
      "source": [
        "plt.hist(ex_norm)"
      ],
      "execution_count": 99,
      "outputs": [
        {
          "output_type": "execute_result",
          "data": {
            "text/plain": [
              "(array([3.000e+00, 3.000e+01, 3.590e+02, 1.749e+03, 4.889e+03, 6.639e+03,\n",
              "        4.442e+03, 1.598e+03, 2.760e+02, 1.500e+01]),\n",
              " array([0.66123295, 1.09010044, 1.51896794, 1.94783544, 2.37670294,\n",
              "        2.80557044, 3.23443794, 3.66330543, 4.09217293, 4.52104043,\n",
              "        4.94990793]),\n",
              " <a list of 10 Patch objects>)"
            ]
          },
          "metadata": {
            "tags": []
          },
          "execution_count": 99
        },
        {
          "output_type": "display_data",
          "data": {
            "image/png": "[encoded data removed]",
            "text/plain": [
              "<Figure size 432x288 with 1 Axes>"
            ]
          },
          "metadata": {
            "tags": [],
            "needs_background": "light"
          }
        }
      ]
    },
    {
      "cell_type": "code",
      "metadata": {
        "id": "OIJFneozYw0-",
        "colab_type": "code",
        "colab": {
          "base_uri": "https://localhost:8080/",
          "height": 50
        },
        "outputId": "cc64c7c7-d84c-460a-faba-97b2877fba43"
      },
      "source": [
        "ex_uni = np.random.uniform(1, 5, 50000)\n",
        "ex_uni"
      ],
      "execution_count": 111,
      "outputs": [
        {
          "output_type": "execute_result",
          "data": {
            "text/plain": [
              "array([2.40241364, 3.37373431, 4.90791752, ..., 4.74634079, 2.48241353,\n",
              "       3.29257613])"
            ]
          },
          "metadata": {
            "tags": []
          },
          "execution_count": 111
        }
      ]
    },
    {
      "cell_type": "code",
      "metadata": {
        "id": "lhlewkx7Y5LS",
        "colab_type": "code",
        "colab": {
          "base_uri": "https://localhost:8080/",
          "height": 366
        },
        "outputId": "37b35918-4aa0-4c2d-92f0-2b50833e020b"
      },
      "source": [
        "plt.hist(ex_uni)"
      ],
      "execution_count": 112,
      "outputs": [
        {
          "output_type": "execute_result",
          "data": {
            "text/plain": [
              "(array([4984., 5021., 5035., 5116., 4935., 5133., 5021., 4900., 4991.,\n",
              "        4864.]),\n",
              " array([1.00008862, 1.40007915, 1.80006967, 2.2000602 , 2.60005072,\n",
              "        3.00004125, 3.40003177, 3.8000223 , 4.20001282, 4.60000335,\n",
              "        4.99999387]),\n",
              " <a list of 10 Patch objects>)"
            ]
          },
          "metadata": {
            "tags": []
          },
          "execution_count": 112
        },
        {
          "output_type": "display_data",
          "data": {
            "image/png": "[encoded data removed]",
            "text/plain": [
              "<Figure size 432x288 with 1 Axes>"
            ]
          },
          "metadata": {
            "tags": [],
            "needs_background": "light"
          }
        }
      ]
    },
    {
      "cell_type": "code",
      "metadata": {
        "id": "DG6W9fXEZsyV",
        "colab_type": "code",
        "colab": {}
      },
      "source": [
        "ex_norm_sorted = np.sort(ex_norm)"
      ],
      "execution_count": 113,
      "outputs": []
    },
    {
      "cell_type": "code",
      "metadata": {
        "id": "Zq27iMqZZ6zX",
        "colab_type": "code",
        "colab": {}
      },
      "source": [
        "ex_uni_sorted = np.sort(ex_uni)"
      ],
      "execution_count": 114,
      "outputs": []
    },
    {
      "cell_type": "code",
      "metadata": {
        "id": "MqQJDn0RaC3z",
        "colab_type": "code",
        "colab": {
          "base_uri": "https://localhost:8080/",
          "height": 34
        },
        "outputId": "367e6c8b-0df6-40b3-f756-e6b83bef3c29"
      },
      "source": [
        "len(list(ex_norm_sorted)[::200])"
      ],
      "execution_count": 115,
      "outputs": [
        {
          "output_type": "execute_result",
          "data": {
            "text/plain": [
              "100"
            ]
          },
          "metadata": {
            "tags": []
          },
          "execution_count": 115
        }
      ]
    },
    {
      "cell_type": "code",
      "metadata": {
        "id": "qjSBp_DNaN0i",
        "colab_type": "code",
        "colab": {
          "base_uri": "https://localhost:8080/",
          "height": 34
        },
        "outputId": "3c989be2-76c3-4db5-b6c7-da13ee94bc92"
      },
      "source": [
        "len(list(ex_uni_sorted)[::500])"
      ],
      "execution_count": 117,
      "outputs": [
        {
          "output_type": "execute_result",
          "data": {
            "text/plain": [
              "100"
            ]
          },
          "metadata": {
            "tags": []
          },
          "execution_count": 117
        }
      ]
    },
    {
      "cell_type": "code",
      "metadata": {
        "id": "HFMAQiOTd6Vo",
        "colab_type": "code",
        "colab": {
          "base_uri": "https://localhost:8080/",
          "height": 297
        },
        "outputId": "cf72792f-0340-4069-dbb8-35c65ea59f8d"
      },
      "source": [
        "plt.scatter(list(ex_norm_sorted)[::200], list(ex_uni_sorted)[::500])\n",
        "plt.plot(range(1, 5), range(1, 5), 'r-')\n",
        "plt.ylabel('ex_uni')\n",
        "plt.xlabel('ex_normal')"
      ],
      "execution_count": 126,
      "outputs": [
        {
          "output_type": "execute_result",
          "data": {
            "text/plain": [
              "Text(0.5, 0, 'ex_normal')"
            ]
          },
          "metadata": {
            "tags": []
          },
          "execution_count": 126
        },
        {
          "output_type": "display_data",
          "data": {
            "image/png": "[encoded data removed]",
            "text/plain": [
              "<Figure size 432x288 with 1 Axes>"
            ]
          },
          "metadata": {
            "tags": [],
            "needs_background": "light"
          }
        }
      ]
    },
    {
      "cell_type": "markdown",
      "metadata": {
        "id": "Klbc_q-qiDzc",
        "colab_type": "text"
      },
      "source": [
        "# Heatmap\n",
        "เปลี่ยนตัวเลขให้เป็นสี"
      ]
    },
    {
      "cell_type": "code",
      "metadata": {
        "id": "SrV_tzGpearj",
        "colab_type": "code",
        "colab": {}
      },
      "source": [
        "from sklearn import datasets"
      ],
      "execution_count": 127,
      "outputs": []
    },
    {
      "cell_type": "code",
      "metadata": {
        "id": "O8_9kJmdiRNQ",
        "colab_type": "code",
        "colab": {}
      },
      "source": [
        "iris = datasets.load_iris()"
      ],
      "execution_count": 128,
      "outputs": []
    },
    {
      "cell_type": "code",
      "metadata": {
        "id": "ux-1TOjDiSiL",
        "colab_type": "code",
        "colab": {
          "base_uri": "https://localhost:8080/",
          "height": 1000
        },
        "outputId": "741c70f6-571a-446c-e58d-53cfb1fa9403"
      },
      "source": [
        "iris.data                       #เก็บ array ของตัวเลข"
      ],
      "execution_count": 130,
      "outputs": [
        {
          "output_type": "execute_result",
          "data": {
            "text/plain": [
              "array([[5.1, 3.5, 1.4, 0.2],\n",
              "       [4.9, 3. , 1.4, 0.2],\n",
              "       [4.7, 3.2, 1.3, 0.2],\n",
              "       [4.6, 3.1, 1.5, 0.2],\n",
              "       [5. , 3.6, 1.4, 0.2],\n",
              "       [5.4, 3.9, 1.7, 0.4],\n",
              "       [4.6, 3.4, 1.4, 0.3],\n",
              "       [5. , 3.4, 1.5, 0.2],\n",
              "       [4.4, 2.9, 1.4, 0.2],\n",
              "       [4.9, 3.1, 1.5, 0.1],\n",
              "       [5.4, 3.7, 1.5, 0.2],\n",
              "       [4.8, 3.4, 1.6, 0.2],\n",
              "       [4.8, 3. , 1.4, 0.1],\n",
              "       [4.3, 3. , 1.1, 0.1],\n",
              "       [5.8, 4. , 1.2, 0.2],\n",
              "       [5.7, 4.4, 1.5, 0.4],\n",
              "       [5.4, 3.9, 1.3, 0.4],\n",
              "       [5.1, 3.5, 1.4, 0.3],\n",
              "       [5.7, 3.8, 1.7, 0.3],\n",
              "       [5.1, 3.8, 1.5, 0.3],\n",
              "       [5.4, 3.4, 1.7, 0.2],\n",
              "       [5.1, 3.7, 1.5, 0.4],\n",
              "       [4.6, 3.6, 1. , 0.2],\n",
              "       [5.1, 3.3, 1.7, 0.5],\n",
              "       [4.8, 3.4, 1.9, 0.2],\n",
              "       [5. , 3. , 1.6, 0.2],\n",
              "       [5. , 3.4, 1.6, 0.4],\n",
              "       [5.2, 3.5, 1.5, 0.2],\n",
              "       [5.2, 3.4, 1.4, 0.2],\n",
              "       [4.7, 3.2, 1.6, 0.2],\n",
              "       [4.8, 3.1, 1.6, 0.2],\n",
              "       [5.4, 3.4, 1.5, 0.4],\n",
              "       [5.2, 4.1, 1.5, 0.1],\n",
              "       [5.5, 4.2, 1.4, 0.2],\n",
              "       [4.9, 3.1, 1.5, 0.2],\n",
              "       [5. , 3.2, 1.2, 0.2],\n",
              "       [5.5, 3.5, 1.3, 0.2],\n",
              "       [4.9, 3.6, 1.4, 0.1],\n",
              "       [4.4, 3. , 1.3, 0.2],\n",
              "       [5.1, 3.4, 1.5, 0.2],\n",
              "       [5. , 3.5, 1.3, 0.3],\n",
              "       [4.5, 2.3, 1.3, 0.3],\n",
              "       [4.4, 3.2, 1.3, 0.2],\n",
              "       [5. , 3.5, 1.6, 0.6],\n",
              "       [5.1, 3.8, 1.9, 0.4],\n",
              "       [4.8, 3. , 1.4, 0.3],\n",
              "       [5.1, 3.8, 1.6, 0.2],\n",
              "       [4.6, 3.2, 1.4, 0.2],\n",
              "       [5.3, 3.7, 1.5, 0.2],\n",
              "       [5. , 3.3, 1.4, 0.2],\n",
              "       [7. , 3.2, 4.7, 1.4],\n",
              "       [6.4, 3.2, 4.5, 1.5],\n",
              "       [6.9, 3.1, 4.9, 1.5],\n",
              "       [5.5, 2.3, 4. , 1.3],\n",
              "       [6.5, 2.8, 4.6, 1.5],\n",
              "       [5.7, 2.8, 4.5, 1.3],\n",
              "       [6.3, 3.3, 4.7, 1.6],\n",
              "       [4.9, 2.4, 3.3, 1. ],\n",
              "       [6.6, 2.9, 4.6, 1.3],\n",
              "       [5.2, 2.7, 3.9, 1.4],\n",
              "       [5. , 2. , 3.5, 1. ],\n",
              "       [5.9, 3. , 4.2, 1.5],\n",
              "       [6. , 2.2, 4. , 1. ],\n",
              "       [6.1, 2.9, 4.7, 1.4],\n",
              "       [5.6, 2.9, 3.6, 1.3],\n",
              "       [6.7, 3.1, 4.4, 1.4],\n",
              "       [5.6, 3. , 4.5, 1.5],\n",
              "       [5.8, 2.7, 4.1, 1. ],\n",
              "       [6.2, 2.2, 4.5, 1.5],\n",
              "       [5.6, 2.5, 3.9, 1.1],\n",
              "       [5.9, 3.2, 4.8, 1.8],\n",
              "       [6.1, 2.8, 4. , 1.3],\n",
              "       [6.3, 2.5, 4.9, 1.5],\n",
              "       [6.1, 2.8, 4.7, 1.2],\n",
              "       [6.4, 2.9, 4.3, 1.3],\n",
              "       [6.6, 3. , 4.4, 1.4],\n",
              "       [6.8, 2.8, 4.8, 1.4],\n",
              "       [6.7, 3. , 5. , 1.7],\n",
              "       [6. , 2.9, 4.5, 1.5],\n",
              "       [5.7, 2.6, 3.5, 1. ],\n",
              "       [5.5, 2.4, 3.8, 1.1],\n",
              "       [5.5, 2.4, 3.7, 1. ],\n",
              "       [5.8, 2.7, 3.9, 1.2],\n",
              "       [6. , 2.7, 5.1, 1.6],\n",
              "       [5.4, 3. , 4.5, 1.5],\n",
              "       [6. , 3.4, 4.5, 1.6],\n",
              "       [6.7, 3.1, 4.7, 1.5],\n",
              "       [6.3, 2.3, 4.4, 1.3],\n",
              "       [5.6, 3. , 4.1, 1.3],\n",
              "       [5.5, 2.5, 4. , 1.3],\n",
              "       [5.5, 2.6, 4.4, 1.2],\n",
              "       [6.1, 3. , 4.6, 1.4],\n",
              "       [5.8, 2.6, 4. , 1.2],\n",
              "       [5. , 2.3, 3.3, 1. ],\n",
              "       [5.6, 2.7, 4.2, 1.3],\n",
              "       [5.7, 3. , 4.2, 1.2],\n",
              "       [5.7, 2.9, 4.2, 1.3],\n",
              "       [6.2, 2.9, 4.3, 1.3],\n",
              "       [5.1, 2.5, 3. , 1.1],\n",
              "       [5.7, 2.8, 4.1, 1.3],\n",
              "       [6.3, 3.3, 6. , 2.5],\n",
              "       [5.8, 2.7, 5.1, 1.9],\n",
              "       [7.1, 3. , 5.9, 2.1],\n",
              "       [6.3, 2.9, 5.6, 1.8],\n",
              "       [6.5, 3. , 5.8, 2.2],\n",
              "       [7.6, 3. , 6.6, 2.1],\n",
              "       [4.9, 2.5, 4.5, 1.7],\n",
              "       [7.3, 2.9, 6.3, 1.8],\n",
              "       [6.7, 2.5, 5.8, 1.8],\n",
              "       [7.2, 3.6, 6.1, 2.5],\n",
              "       [6.5, 3.2, 5.1, 2. ],\n",
              "       [6.4, 2.7, 5.3, 1.9],\n",
              "       [6.8, 3. , 5.5, 2.1],\n",
              "       [5.7, 2.5, 5. , 2. ],\n",
              "       [5.8, 2.8, 5.1, 2.4],\n",
              "       [6.4, 3.2, 5.3, 2.3],\n",
              "       [6.5, 3. , 5.5, 1.8],\n",
              "       [7.7, 3.8, 6.7, 2.2],\n",
              "       [7.7, 2.6, 6.9, 2.3],\n",
              "       [6. , 2.2, 5. , 1.5],\n",
              "       [6.9, 3.2, 5.7, 2.3],\n",
              "       [5.6, 2.8, 4.9, 2. ],\n",
              "       [7.7, 2.8, 6.7, 2. ],\n",
              "       [6.3, 2.7, 4.9, 1.8],\n",
              "       [6.7, 3.3, 5.7, 2.1],\n",
              "       [7.2, 3.2, 6. , 1.8],\n",
              "       [6.2, 2.8, 4.8, 1.8],\n",
              "       [6.1, 3. , 4.9, 1.8],\n",
              "       [6.4, 2.8, 5.6, 2.1],\n",
              "       [7.2, 3. , 5.8, 1.6],\n",
              "       [7.4, 2.8, 6.1, 1.9],\n",
              "       [7.9, 3.8, 6.4, 2. ],\n",
              "       [6.4, 2.8, 5.6, 2.2],\n",
              "       [6.3, 2.8, 5.1, 1.5],\n",
              "       [6.1, 2.6, 5.6, 1.4],\n",
              "       [7.7, 3. , 6.1, 2.3],\n",
              "       [6.3, 3.4, 5.6, 2.4],\n",
              "       [6.4, 3.1, 5.5, 1.8],\n",
              "       [6. , 3. , 4.8, 1.8],\n",
              "       [6.9, 3.1, 5.4, 2.1],\n",
              "       [6.7, 3.1, 5.6, 2.4],\n",
              "       [6.9, 3.1, 5.1, 2.3],\n",
              "       [5.8, 2.7, 5.1, 1.9],\n",
              "       [6.8, 3.2, 5.9, 2.3],\n",
              "       [6.7, 3.3, 5.7, 2.5],\n",
              "       [6.7, 3. , 5.2, 2.3],\n",
              "       [6.3, 2.5, 5. , 1.9],\n",
              "       [6.5, 3. , 5.2, 2. ],\n",
              "       [6.2, 3.4, 5.4, 2.3],\n",
              "       [5.9, 3. , 5.1, 1.8]])"
            ]
          },
          "metadata": {
            "tags": []
          },
          "execution_count": 130
        }
      ]
    },
    {
      "cell_type": "code",
      "metadata": {
        "id": "y9JfhBdZiWY7",
        "colab_type": "code",
        "colab": {
          "base_uri": "https://localhost:8080/",
          "height": 1000
        },
        "outputId": "02d2f8f7-1686-4d96-c745-d62a6d0e11e9"
      },
      "source": [
        "plt.rcParams['figure.figsize'] = [50, 80]\n",
        "plt.imshow(iris.data, cmap='hot', interpolation='nearest')     "
      ],
      "execution_count": 132,
      "outputs": [
        {
          "output_type": "execute_result",
          "data": {
            "text/plain": [
              "<matplotlib.image.AxesImage at 0x7fdbffbf0e10>"
            ]
          },
          "metadata": {
            "tags": []
          },
          "execution_count": 132
        },
        {
          "output_type": "display_data",
          "data": {
            "image/png": "[encoded data removed]",
            "text/plain": [
              "<Figure size 3600x5760 with 1 Axes>"
            ]
          },
          "metadata": {
            "tags": [],
            "needs_background": "light"
          }
        }
      ]
    },
    {
      "cell_type": "code",
      "metadata": {
        "id": "DIM4gZ50jHtb",
        "colab_type": "code",
        "colab": {
          "base_uri": "https://localhost:8080/",
          "height": 1000
        },
        "outputId": "09e8646d-aa6a-496b-935d-1a4179115fcf"
      },
      "source": [
        "iris"
      ],
      "execution_count": 133,
      "outputs": [
        {
          "output_type": "execute_result",
          "data": {
            "text/plain": [
              "{'DESCR': '.. _iris_dataset:\\n\\nIris plants dataset\\n--------------------\\n\\n**Data Set Characteristics:**\\n\\n    :Number of Instances: 150 (50 in each of three classes)\\n    :Number of Attributes: 4 numeric, predictive attributes and the class\\n    :Attribute Information:\\n        - sepal length in cm\\n        - sepal width in cm\\n        - petal length in cm\\n        - petal width in cm\\n        - class:\\n                - Iris-Setosa\\n                - Iris-Versicolour\\n                - Iris-Virginica\\n                \\n    :Summary Statistics:\\n\\n    ============== ==== ==== ======= ===== ====================\\n                    Min  Max   Mean    SD   Class Correlation\\n    ============== ==== ==== ======= ===== ====================\\n    sepal length:   4.3  7.9   5.84   0.83    0.7826\\n    sepal width:    2.0  4.4   3.05   0.43   -0.4194\\n    petal length:   1.0  6.9   3.76   1.76    0.9490  (high!)\\n    petal width:    0.1  2.5   1.20   0.76    0.9565  (high!)\\n    ============== ==== ==== ======= ===== ====================\\n\\n    :Missing Attribute Values: None\\n    :Class Distribution: 33.3% for each of 3 classes.\\n    :Creator: R.A. Fisher\\n    :Donor: Michael Marshall (MARSHALL%PLU@io.arc.nasa.gov)\\n    :Date: July, 1988\\n\\nThe famous Iris database, first used by Sir R.A. Fisher. The dataset is taken\\nfrom Fisher\\'s paper. Note that it\\'s the same as in R, but not as in the UCI\\nMachine Learning Repository, which has two wrong data points.\\n\\nThis is perhaps the best known database to be found in the\\npattern recognition literature.  Fisher\\'s paper is a classic in the field and\\nis referenced frequently to this day.  (See Duda & Hart, for example.)  The\\ndata set contains 3 classes of 50 instances each, where each class refers to a\\ntype of iris plant.  One class is linearly separable from the other 2; the\\nlatter are NOT linearly separable from each other.\\n\\n.. topic:: References\\n\\n   - Fisher, R.A. \"The use of multiple measurements in taxonomic problems\"\\n     Annual Eugenics, 7, Part II, 179-188 (1936); also in \"Contributions to\\n     Mathematical Statistics\" (John Wiley, NY, 1950).\\n   - Duda, R.O., & Hart, P.E. (1973) Pattern Classification and Scene Analysis.\\n     (Q327.D83) John Wiley & Sons.  ISBN 0-471-22361-1.  See page 218.\\n   - Dasarathy, B.V. (1980) \"Nosing Around the Neighborhood: A New System\\n     Structure and Classification Rule for Recognition in Partially Exposed\\n     Environments\".  IEEE Transactions on Pattern Analysis and Machine\\n     Intelligence, Vol. PAMI-2, No. 1, 67-71.\\n   - Gates, G.W. (1972) \"The Reduced Nearest Neighbor Rule\".  IEEE Transactions\\n     on Information Theory, May 1972, 431-433.\\n   - See also: 1988 MLC Proceedings, 54-64.  Cheeseman et al\"s AUTOCLASS II\\n     conceptual clustering system finds 3 classes in the data.\\n   - Many, many more ...',\n",
              " 'data': array([[5.1, 3.5, 1.4, 0.2],\n",
              "        [4.9, 3. , 1.4, 0.2],\n",
              "        [4.7, 3.2, 1.3, 0.2],\n",
              "        [4.6, 3.1, 1.5, 0.2],\n",
              "        [5. , 3.6, 1.4, 0.2],\n",
              "        [5.4, 3.9, 1.7, 0.4],\n",
              "        [4.6, 3.4, 1.4, 0.3],\n",
              "        [5. , 3.4, 1.5, 0.2],\n",
              "        [4.4, 2.9, 1.4, 0.2],\n",
              "        [4.9, 3.1, 1.5, 0.1],\n",
              "        [5.4, 3.7, 1.5, 0.2],\n",
              "        [4.8, 3.4, 1.6, 0.2],\n",
              "        [4.8, 3. , 1.4, 0.1],\n",
              "        [4.3, 3. , 1.1, 0.1],\n",
              "        [5.8, 4. , 1.2, 0.2],\n",
              "        [5.7, 4.4, 1.5, 0.4],\n",
              "        [5.4, 3.9, 1.3, 0.4],\n",
              "        [5.1, 3.5, 1.4, 0.3],\n",
              "        [5.7, 3.8, 1.7, 0.3],\n",
              "        [5.1, 3.8, 1.5, 0.3],\n",
              "        [5.4, 3.4, 1.7, 0.2],\n",
              "        [5.1, 3.7, 1.5, 0.4],\n",
              "        [4.6, 3.6, 1. , 0.2],\n",
              "        [5.1, 3.3, 1.7, 0.5],\n",
              "        [4.8, 3.4, 1.9, 0.2],\n",
              "        [5. , 3. , 1.6, 0.2],\n",
              "        [5. , 3.4, 1.6, 0.4],\n",
              "        [5.2, 3.5, 1.5, 0.2],\n",
              "        [5.2, 3.4, 1.4, 0.2],\n",
              "        [4.7, 3.2, 1.6, 0.2],\n",
              "        [4.8, 3.1, 1.6, 0.2],\n",
              "        [5.4, 3.4, 1.5, 0.4],\n",
              "        [5.2, 4.1, 1.5, 0.1],\n",
              "        [5.5, 4.2, 1.4, 0.2],\n",
              "        [4.9, 3.1, 1.5, 0.2],\n",
              "        [5. , 3.2, 1.2, 0.2],\n",
              "        [5.5, 3.5, 1.3, 0.2],\n",
              "        [4.9, 3.6, 1.4, 0.1],\n",
              "        [4.4, 3. , 1.3, 0.2],\n",
              "        [5.1, 3.4, 1.5, 0.2],\n",
              "        [5. , 3.5, 1.3, 0.3],\n",
              "        [4.5, 2.3, 1.3, 0.3],\n",
              "        [4.4, 3.2, 1.3, 0.2],\n",
              "        [5. , 3.5, 1.6, 0.6],\n",
              "        [5.1, 3.8, 1.9, 0.4],\n",
              "        [4.8, 3. , 1.4, 0.3],\n",
              "        [5.1, 3.8, 1.6, 0.2],\n",
              "        [4.6, 3.2, 1.4, 0.2],\n",
              "        [5.3, 3.7, 1.5, 0.2],\n",
              "        [5. , 3.3, 1.4, 0.2],\n",
              "        [7. , 3.2, 4.7, 1.4],\n",
              "        [6.4, 3.2, 4.5, 1.5],\n",
              "        [6.9, 3.1, 4.9, 1.5],\n",
              "        [5.5, 2.3, 4. , 1.3],\n",
              "        [6.5, 2.8, 4.6, 1.5],\n",
              "        [5.7, 2.8, 4.5, 1.3],\n",
              "        [6.3, 3.3, 4.7, 1.6],\n",
              "        [4.9, 2.4, 3.3, 1. ],\n",
              "        [6.6, 2.9, 4.6, 1.3],\n",
              "        [5.2, 2.7, 3.9, 1.4],\n",
              "        [5. , 2. , 3.5, 1. ],\n",
              "        [5.9, 3. , 4.2, 1.5],\n",
              "        [6. , 2.2, 4. , 1. ],\n",
              "        [6.1, 2.9, 4.7, 1.4],\n",
              "        [5.6, 2.9, 3.6, 1.3],\n",
              "        [6.7, 3.1, 4.4, 1.4],\n",
              "        [5.6, 3. , 4.5, 1.5],\n",
              "        [5.8, 2.7, 4.1, 1. ],\n",
              "        [6.2, 2.2, 4.5, 1.5],\n",
              "        [5.6, 2.5, 3.9, 1.1],\n",
              "        [5.9, 3.2, 4.8, 1.8],\n",
              "        [6.1, 2.8, 4. , 1.3],\n",
              "        [6.3, 2.5, 4.9, 1.5],\n",
              "        [6.1, 2.8, 4.7, 1.2],\n",
              "        [6.4, 2.9, 4.3, 1.3],\n",
              "        [6.6, 3. , 4.4, 1.4],\n",
              "        [6.8, 2.8, 4.8, 1.4],\n",
              "        [6.7, 3. , 5. , 1.7],\n",
              "        [6. , 2.9, 4.5, 1.5],\n",
              "        [5.7, 2.6, 3.5, 1. ],\n",
              "        [5.5, 2.4, 3.8, 1.1],\n",
              "        [5.5, 2.4, 3.7, 1. ],\n",
              "        [5.8, 2.7, 3.9, 1.2],\n",
              "        [6. , 2.7, 5.1, 1.6],\n",
              "        [5.4, 3. , 4.5, 1.5],\n",
              "        [6. , 3.4, 4.5, 1.6],\n",
              "        [6.7, 3.1, 4.7, 1.5],\n",
              "        [6.3, 2.3, 4.4, 1.3],\n",
              "        [5.6, 3. , 4.1, 1.3],\n",
              "        [5.5, 2.5, 4. , 1.3],\n",
              "        [5.5, 2.6, 4.4, 1.2],\n",
              "        [6.1, 3. , 4.6, 1.4],\n",
              "        [5.8, 2.6, 4. , 1.2],\n",
              "        [5. , 2.3, 3.3, 1. ],\n",
              "        [5.6, 2.7, 4.2, 1.3],\n",
              "        [5.7, 3. , 4.2, 1.2],\n",
              "        [5.7, 2.9, 4.2, 1.3],\n",
              "        [6.2, 2.9, 4.3, 1.3],\n",
              "        [5.1, 2.5, 3. , 1.1],\n",
              "        [5.7, 2.8, 4.1, 1.3],\n",
              "        [6.3, 3.3, 6. , 2.5],\n",
              "        [5.8, 2.7, 5.1, 1.9],\n",
              "        [7.1, 3. , 5.9, 2.1],\n",
              "        [6.3, 2.9, 5.6, 1.8],\n",
              "        [6.5, 3. , 5.8, 2.2],\n",
              "        [7.6, 3. , 6.6, 2.1],\n",
              "        [4.9, 2.5, 4.5, 1.7],\n",
              "        [7.3, 2.9, 6.3, 1.8],\n",
              "        [6.7, 2.5, 5.8, 1.8],\n",
              "        [7.2, 3.6, 6.1, 2.5],\n",
              "        [6.5, 3.2, 5.1, 2. ],\n",
              "        [6.4, 2.7, 5.3, 1.9],\n",
              "        [6.8, 3. , 5.5, 2.1],\n",
              "        [5.7, 2.5, 5. , 2. ],\n",
              "        [5.8, 2.8, 5.1, 2.4],\n",
              "        [6.4, 3.2, 5.3, 2.3],\n",
              "        [6.5, 3. , 5.5, 1.8],\n",
              "        [7.7, 3.8, 6.7, 2.2],\n",
              "        [7.7, 2.6, 6.9, 2.3],\n",
              "        [6. , 2.2, 5. , 1.5],\n",
              "        [6.9, 3.2, 5.7, 2.3],\n",
              "        [5.6, 2.8, 4.9, 2. ],\n",
              "        [7.7, 2.8, 6.7, 2. ],\n",
              "        [6.3, 2.7, 4.9, 1.8],\n",
              "        [6.7, 3.3, 5.7, 2.1],\n",
              "        [7.2, 3.2, 6. , 1.8],\n",
              "        [6.2, 2.8, 4.8, 1.8],\n",
              "        [6.1, 3. , 4.9, 1.8],\n",
              "        [6.4, 2.8, 5.6, 2.1],\n",
              "        [7.2, 3. , 5.8, 1.6],\n",
              "        [7.4, 2.8, 6.1, 1.9],\n",
              "        [7.9, 3.8, 6.4, 2. ],\n",
              "        [6.4, 2.8, 5.6, 2.2],\n",
              "        [6.3, 2.8, 5.1, 1.5],\n",
              "        [6.1, 2.6, 5.6, 1.4],\n",
              "        [7.7, 3. , 6.1, 2.3],\n",
              "        [6.3, 3.4, 5.6, 2.4],\n",
              "        [6.4, 3.1, 5.5, 1.8],\n",
              "        [6. , 3. , 4.8, 1.8],\n",
              "        [6.9, 3.1, 5.4, 2.1],\n",
              "        [6.7, 3.1, 5.6, 2.4],\n",
              "        [6.9, 3.1, 5.1, 2.3],\n",
              "        [5.8, 2.7, 5.1, 1.9],\n",
              "        [6.8, 3.2, 5.9, 2.3],\n",
              "        [6.7, 3.3, 5.7, 2.5],\n",
              "        [6.7, 3. , 5.2, 2.3],\n",
              "        [6.3, 2.5, 5. , 1.9],\n",
              "        [6.5, 3. , 5.2, 2. ],\n",
              "        [6.2, 3.4, 5.4, 2.3],\n",
              "        [5.9, 3. , 5.1, 1.8]]),\n",
              " 'feature_names': ['sepal length (cm)',\n",
              "  'sepal width (cm)',\n",
              "  'petal length (cm)',\n",
              "  'petal width (cm)'],\n",
              " 'filename': '/usr/local/lib/python3.6/dist-packages/sklearn/datasets/data/iris.csv',\n",
              " 'target': array([0, 0, 0, 0, 0, 0, 0, 0, 0, 0, 0, 0, 0, 0, 0, 0, 0, 0, 0, 0, 0, 0,\n",
              "        0, 0, 0, 0, 0, 0, 0, 0, 0, 0, 0, 0, 0, 0, 0, 0, 0, 0, 0, 0, 0, 0,\n",
              "        0, 0, 0, 0, 0, 0, 1, 1, 1, 1, 1, 1, 1, 1, 1, 1, 1, 1, 1, 1, 1, 1,\n",
              "        1, 1, 1, 1, 1, 1, 1, 1, 1, 1, 1, 1, 1, 1, 1, 1, 1, 1, 1, 1, 1, 1,\n",
              "        1, 1, 1, 1, 1, 1, 1, 1, 1, 1, 1, 1, 2, 2, 2, 2, 2, 2, 2, 2, 2, 2,\n",
              "        2, 2, 2, 2, 2, 2, 2, 2, 2, 2, 2, 2, 2, 2, 2, 2, 2, 2, 2, 2, 2, 2,\n",
              "        2, 2, 2, 2, 2, 2, 2, 2, 2, 2, 2, 2, 2, 2, 2, 2, 2, 2]),\n",
              " 'target_names': array(['setosa', 'versicolor', 'virginica'], dtype='<U10')}"
            ]
          },
          "metadata": {
            "tags": []
          },
          "execution_count": 133
        }
      ]
    },
    {
      "cell_type": "code",
      "metadata": {
        "id": "-ZlAZ3tpj_k6",
        "colab_type": "code",
        "colab": {
          "base_uri": "https://localhost:8080/",
          "height": 134
        },
        "outputId": "0446ee9f-0ef4-4882-943a-c93bbb456328"
      },
      "source": [
        "iris.target"
      ],
      "execution_count": 134,
      "outputs": [
        {
          "output_type": "execute_result",
          "data": {
            "text/plain": [
              "array([0, 0, 0, 0, 0, 0, 0, 0, 0, 0, 0, 0, 0, 0, 0, 0, 0, 0, 0, 0, 0, 0,\n",
              "       0, 0, 0, 0, 0, 0, 0, 0, 0, 0, 0, 0, 0, 0, 0, 0, 0, 0, 0, 0, 0, 0,\n",
              "       0, 0, 0, 0, 0, 0, 1, 1, 1, 1, 1, 1, 1, 1, 1, 1, 1, 1, 1, 1, 1, 1,\n",
              "       1, 1, 1, 1, 1, 1, 1, 1, 1, 1, 1, 1, 1, 1, 1, 1, 1, 1, 1, 1, 1, 1,\n",
              "       1, 1, 1, 1, 1, 1, 1, 1, 1, 1, 1, 1, 2, 2, 2, 2, 2, 2, 2, 2, 2, 2,\n",
              "       2, 2, 2, 2, 2, 2, 2, 2, 2, 2, 2, 2, 2, 2, 2, 2, 2, 2, 2, 2, 2, 2,\n",
              "       2, 2, 2, 2, 2, 2, 2, 2, 2, 2, 2, 2, 2, 2, 2, 2, 2, 2])"
            ]
          },
          "metadata": {
            "tags": []
          },
          "execution_count": 134
        }
      ]
    },
    {
      "cell_type": "code",
      "metadata": {
        "id": "S54OFI9SlXdT",
        "colab_type": "code",
        "colab": {}
      },
      "source": [
        "import pandas as pd"
      ],
      "execution_count": 135,
      "outputs": []
    },
    {
      "cell_type": "code",
      "metadata": {
        "id": "bmyCA0vcldSk",
        "colab_type": "code",
        "colab": {
          "base_uri": "https://localhost:8080/",
          "height": 402
        },
        "outputId": "b79e8c48-e48a-45b7-dd62-d1137e984016"
      },
      "source": [
        "iris_data = pd.read_csv('/usr/local/lib/python3.6/dist-packages/sklearn/datasets/data/iris.csv')\n",
        "iris_data"
      ],
      "execution_count": 138,
      "outputs": [
        {
          "output_type": "execute_result",
          "data": {
            "text/html": [
              "<div>\n",
              "<style scoped>\n",
              "    .dataframe tbody tr th:only-of-type {\n",
              "        vertical-align: middle;\n",
              "    }\n",
              "\n",
              "    .dataframe tbody tr th {\n",
              "        vertical-align: top;\n",
              "    }\n",
              "\n",
              "    .dataframe thead th {\n",
              "        text-align: right;\n",
              "    }\n",
              "</style>\n",
              "<table border=\"1\" class=\"dataframe\">\n",
              "  <thead>\n",
              "    <tr style=\"text-align: right;\">\n",
              "      <th></th>\n",
              "      <th>150</th>\n",
              "      <th>4</th>\n",
              "      <th>setosa</th>\n",
              "      <th>versicolor</th>\n",
              "      <th>virginica</th>\n",
              "    </tr>\n",
              "  </thead>\n",
              "  <tbody>\n",
              "    <tr>\n",
              "      <th>0</th>\n",
              "      <td>5.1</td>\n",
              "      <td>3.5</td>\n",
              "      <td>1.4</td>\n",
              "      <td>0.2</td>\n",
              "      <td>0</td>\n",
              "    </tr>\n",
              "    <tr>\n",
              "      <th>1</th>\n",
              "      <td>4.9</td>\n",
              "      <td>3.0</td>\n",
              "      <td>1.4</td>\n",
              "      <td>0.2</td>\n",
              "      <td>0</td>\n",
              "    </tr>\n",
              "    <tr>\n",
              "      <th>2</th>\n",
              "      <td>4.7</td>\n",
              "      <td>3.2</td>\n",
              "      <td>1.3</td>\n",
              "      <td>0.2</td>\n",
              "      <td>0</td>\n",
              "    </tr>\n",
              "    <tr>\n",
              "      <th>3</th>\n",
              "      <td>4.6</td>\n",
              "      <td>3.1</td>\n",
              "      <td>1.5</td>\n",
              "      <td>0.2</td>\n",
              "      <td>0</td>\n",
              "    </tr>\n",
              "    <tr>\n",
              "      <th>4</th>\n",
              "      <td>5.0</td>\n",
              "      <td>3.6</td>\n",
              "      <td>1.4</td>\n",
              "      <td>0.2</td>\n",
              "      <td>0</td>\n",
              "    </tr>\n",
              "    <tr>\n",
              "      <th>...</th>\n",
              "      <td>...</td>\n",
              "      <td>...</td>\n",
              "      <td>...</td>\n",
              "      <td>...</td>\n",
              "      <td>...</td>\n",
              "    </tr>\n",
              "    <tr>\n",
              "      <th>145</th>\n",
              "      <td>6.7</td>\n",
              "      <td>3.0</td>\n",
              "      <td>5.2</td>\n",
              "      <td>2.3</td>\n",
              "      <td>2</td>\n",
              "    </tr>\n",
              "    <tr>\n",
              "      <th>146</th>\n",
              "      <td>6.3</td>\n",
              "      <td>2.5</td>\n",
              "      <td>5.0</td>\n",
              "      <td>1.9</td>\n",
              "      <td>2</td>\n",
              "    </tr>\n",
              "    <tr>\n",
              "      <th>147</th>\n",
              "      <td>6.5</td>\n",
              "      <td>3.0</td>\n",
              "      <td>5.2</td>\n",
              "      <td>2.0</td>\n",
              "      <td>2</td>\n",
              "    </tr>\n",
              "    <tr>\n",
              "      <th>148</th>\n",
              "      <td>6.2</td>\n",
              "      <td>3.4</td>\n",
              "      <td>5.4</td>\n",
              "      <td>2.3</td>\n",
              "      <td>2</td>\n",
              "    </tr>\n",
              "    <tr>\n",
              "      <th>149</th>\n",
              "      <td>5.9</td>\n",
              "      <td>3.0</td>\n",
              "      <td>5.1</td>\n",
              "      <td>1.8</td>\n",
              "      <td>2</td>\n",
              "    </tr>\n",
              "  </tbody>\n",
              "</table>\n",
              "<p>150 rows × 5 columns</p>\n",
              "</div>"
            ],
            "text/plain": [
              "     150    4  setosa  versicolor  virginica\n",
              "0    5.1  3.5     1.4         0.2          0\n",
              "1    4.9  3.0     1.4         0.2          0\n",
              "2    4.7  3.2     1.3         0.2          0\n",
              "3    4.6  3.1     1.5         0.2          0\n",
              "4    5.0  3.6     1.4         0.2          0\n",
              "..   ...  ...     ...         ...        ...\n",
              "145  6.7  3.0     5.2         2.3          2\n",
              "146  6.3  2.5     5.0         1.9          2\n",
              "147  6.5  3.0     5.2         2.0          2\n",
              "148  6.2  3.4     5.4         2.3          2\n",
              "149  5.9  3.0     5.1         1.8          2\n",
              "\n",
              "[150 rows x 5 columns]"
            ]
          },
          "metadata": {
            "tags": []
          },
          "execution_count": 138
        }
      ]
    },
    {
      "cell_type": "code",
      "metadata": {
        "id": "vfTNlixTlhl0",
        "colab_type": "code",
        "colab": {}
      },
      "source": [
        "setosa = iris_data[iris_data['virginica']==0]\n",
        "versicolar = iris_data[iris_data['virginica']==1]\n",
        "verginica = iris_data[iris_data['virginica']==2]"
      ],
      "execution_count": 141,
      "outputs": []
    },
    {
      "cell_type": "code",
      "metadata": {
        "id": "uzedBvscmj3G",
        "colab_type": "code",
        "colab": {
          "base_uri": "https://localhost:8080/",
          "height": 1000
        },
        "outputId": "b2cd2dd6-b900-4309-cad8-393dc02664fa"
      },
      "source": [
        "setosa"
      ],
      "execution_count": 142,
      "outputs": [
        {
          "output_type": "execute_result",
          "data": {
            "text/html": [
              "<div>\n",
              "<style scoped>\n",
              "    .dataframe tbody tr th:only-of-type {\n",
              "        vertical-align: middle;\n",
              "    }\n",
              "\n",
              "    .dataframe tbody tr th {\n",
              "        vertical-align: top;\n",
              "    }\n",
              "\n",
              "    .dataframe thead th {\n",
              "        text-align: right;\n",
              "    }\n",
              "</style>\n",
              "<table border=\"1\" class=\"dataframe\">\n",
              "  <thead>\n",
              "    <tr style=\"text-align: right;\">\n",
              "      <th></th>\n",
              "      <th>150</th>\n",
              "      <th>4</th>\n",
              "      <th>setosa</th>\n",
              "      <th>versicolor</th>\n",
              "      <th>virginica</th>\n",
              "    </tr>\n",
              "  </thead>\n",
              "  <tbody>\n",
              "    <tr>\n",
              "      <th>0</th>\n",
              "      <td>5.1</td>\n",
              "      <td>3.5</td>\n",
              "      <td>1.4</td>\n",
              "      <td>0.2</td>\n",
              "      <td>0</td>\n",
              "    </tr>\n",
              "    <tr>\n",
              "      <th>1</th>\n",
              "      <td>4.9</td>\n",
              "      <td>3.0</td>\n",
              "      <td>1.4</td>\n",
              "      <td>0.2</td>\n",
              "      <td>0</td>\n",
              "    </tr>\n",
              "    <tr>\n",
              "      <th>2</th>\n",
              "      <td>4.7</td>\n",
              "      <td>3.2</td>\n",
              "      <td>1.3</td>\n",
              "      <td>0.2</td>\n",
              "      <td>0</td>\n",
              "    </tr>\n",
              "    <tr>\n",
              "      <th>3</th>\n",
              "      <td>4.6</td>\n",
              "      <td>3.1</td>\n",
              "      <td>1.5</td>\n",
              "      <td>0.2</td>\n",
              "      <td>0</td>\n",
              "    </tr>\n",
              "    <tr>\n",
              "      <th>4</th>\n",
              "      <td>5.0</td>\n",
              "      <td>3.6</td>\n",
              "      <td>1.4</td>\n",
              "      <td>0.2</td>\n",
              "      <td>0</td>\n",
              "    </tr>\n",
              "    <tr>\n",
              "      <th>5</th>\n",
              "      <td>5.4</td>\n",
              "      <td>3.9</td>\n",
              "      <td>1.7</td>\n",
              "      <td>0.4</td>\n",
              "      <td>0</td>\n",
              "    </tr>\n",
              "    <tr>\n",
              "      <th>6</th>\n",
              "      <td>4.6</td>\n",
              "      <td>3.4</td>\n",
              "      <td>1.4</td>\n",
              "      <td>0.3</td>\n",
              "      <td>0</td>\n",
              "    </tr>\n",
              "    <tr>\n",
              "      <th>7</th>\n",
              "      <td>5.0</td>\n",
              "      <td>3.4</td>\n",
              "      <td>1.5</td>\n",
              "      <td>0.2</td>\n",
              "      <td>0</td>\n",
              "    </tr>\n",
              "    <tr>\n",
              "      <th>8</th>\n",
              "      <td>4.4</td>\n",
              "      <td>2.9</td>\n",
              "      <td>1.4</td>\n",
              "      <td>0.2</td>\n",
              "      <td>0</td>\n",
              "    </tr>\n",
              "    <tr>\n",
              "      <th>9</th>\n",
              "      <td>4.9</td>\n",
              "      <td>3.1</td>\n",
              "      <td>1.5</td>\n",
              "      <td>0.1</td>\n",
              "      <td>0</td>\n",
              "    </tr>\n",
              "    <tr>\n",
              "      <th>10</th>\n",
              "      <td>5.4</td>\n",
              "      <td>3.7</td>\n",
              "      <td>1.5</td>\n",
              "      <td>0.2</td>\n",
              "      <td>0</td>\n",
              "    </tr>\n",
              "    <tr>\n",
              "      <th>11</th>\n",
              "      <td>4.8</td>\n",
              "      <td>3.4</td>\n",
              "      <td>1.6</td>\n",
              "      <td>0.2</td>\n",
              "      <td>0</td>\n",
              "    </tr>\n",
              "    <tr>\n",
              "      <th>12</th>\n",
              "      <td>4.8</td>\n",
              "      <td>3.0</td>\n",
              "      <td>1.4</td>\n",
              "      <td>0.1</td>\n",
              "      <td>0</td>\n",
              "    </tr>\n",
              "    <tr>\n",
              "      <th>13</th>\n",
              "      <td>4.3</td>\n",
              "      <td>3.0</td>\n",
              "      <td>1.1</td>\n",
              "      <td>0.1</td>\n",
              "      <td>0</td>\n",
              "    </tr>\n",
              "    <tr>\n",
              "      <th>14</th>\n",
              "      <td>5.8</td>\n",
              "      <td>4.0</td>\n",
              "      <td>1.2</td>\n",
              "      <td>0.2</td>\n",
              "      <td>0</td>\n",
              "    </tr>\n",
              "    <tr>\n",
              "      <th>15</th>\n",
              "      <td>5.7</td>\n",
              "      <td>4.4</td>\n",
              "      <td>1.5</td>\n",
              "      <td>0.4</td>\n",
              "      <td>0</td>\n",
              "    </tr>\n",
              "    <tr>\n",
              "      <th>16</th>\n",
              "      <td>5.4</td>\n",
              "      <td>3.9</td>\n",
              "      <td>1.3</td>\n",
              "      <td>0.4</td>\n",
              "      <td>0</td>\n",
              "    </tr>\n",
              "    <tr>\n",
              "      <th>17</th>\n",
              "      <td>5.1</td>\n",
              "      <td>3.5</td>\n",
              "      <td>1.4</td>\n",
              "      <td>0.3</td>\n",
              "      <td>0</td>\n",
              "    </tr>\n",
              "    <tr>\n",
              "      <th>18</th>\n",
              "      <td>5.7</td>\n",
              "      <td>3.8</td>\n",
              "      <td>1.7</td>\n",
              "      <td>0.3</td>\n",
              "      <td>0</td>\n",
              "    </tr>\n",
              "    <tr>\n",
              "      <th>19</th>\n",
              "      <td>5.1</td>\n",
              "      <td>3.8</td>\n",
              "      <td>1.5</td>\n",
              "      <td>0.3</td>\n",
              "      <td>0</td>\n",
              "    </tr>\n",
              "    <tr>\n",
              "      <th>20</th>\n",
              "      <td>5.4</td>\n",
              "      <td>3.4</td>\n",
              "      <td>1.7</td>\n",
              "      <td>0.2</td>\n",
              "      <td>0</td>\n",
              "    </tr>\n",
              "    <tr>\n",
              "      <th>21</th>\n",
              "      <td>5.1</td>\n",
              "      <td>3.7</td>\n",
              "      <td>1.5</td>\n",
              "      <td>0.4</td>\n",
              "      <td>0</td>\n",
              "    </tr>\n",
              "    <tr>\n",
              "      <th>22</th>\n",
              "      <td>4.6</td>\n",
              "      <td>3.6</td>\n",
              "      <td>1.0</td>\n",
              "      <td>0.2</td>\n",
              "      <td>0</td>\n",
              "    </tr>\n",
              "    <tr>\n",
              "      <th>23</th>\n",
              "      <td>5.1</td>\n",
              "      <td>3.3</td>\n",
              "      <td>1.7</td>\n",
              "      <td>0.5</td>\n",
              "      <td>0</td>\n",
              "    </tr>\n",
              "    <tr>\n",
              "      <th>24</th>\n",
              "      <td>4.8</td>\n",
              "      <td>3.4</td>\n",
              "      <td>1.9</td>\n",
              "      <td>0.2</td>\n",
              "      <td>0</td>\n",
              "    </tr>\n",
              "    <tr>\n",
              "      <th>25</th>\n",
              "      <td>5.0</td>\n",
              "      <td>3.0</td>\n",
              "      <td>1.6</td>\n",
              "      <td>0.2</td>\n",
              "      <td>0</td>\n",
              "    </tr>\n",
              "    <tr>\n",
              "      <th>26</th>\n",
              "      <td>5.0</td>\n",
              "      <td>3.4</td>\n",
              "      <td>1.6</td>\n",
              "      <td>0.4</td>\n",
              "      <td>0</td>\n",
              "    </tr>\n",
              "    <tr>\n",
              "      <th>27</th>\n",
              "      <td>5.2</td>\n",
              "      <td>3.5</td>\n",
              "      <td>1.5</td>\n",
              "      <td>0.2</td>\n",
              "      <td>0</td>\n",
              "    </tr>\n",
              "    <tr>\n",
              "      <th>28</th>\n",
              "      <td>5.2</td>\n",
              "      <td>3.4</td>\n",
              "      <td>1.4</td>\n",
              "      <td>0.2</td>\n",
              "      <td>0</td>\n",
              "    </tr>\n",
              "    <tr>\n",
              "      <th>29</th>\n",
              "      <td>4.7</td>\n",
              "      <td>3.2</td>\n",
              "      <td>1.6</td>\n",
              "      <td>0.2</td>\n",
              "      <td>0</td>\n",
              "    </tr>\n",
              "    <tr>\n",
              "      <th>30</th>\n",
              "      <td>4.8</td>\n",
              "      <td>3.1</td>\n",
              "      <td>1.6</td>\n",
              "      <td>0.2</td>\n",
              "      <td>0</td>\n",
              "    </tr>\n",
              "    <tr>\n",
              "      <th>31</th>\n",
              "      <td>5.4</td>\n",
              "      <td>3.4</td>\n",
              "      <td>1.5</td>\n",
              "      <td>0.4</td>\n",
              "      <td>0</td>\n",
              "    </tr>\n",
              "    <tr>\n",
              "      <th>32</th>\n",
              "      <td>5.2</td>\n",
              "      <td>4.1</td>\n",
              "      <td>1.5</td>\n",
              "      <td>0.1</td>\n",
              "      <td>0</td>\n",
              "    </tr>\n",
              "    <tr>\n",
              "      <th>33</th>\n",
              "      <td>5.5</td>\n",
              "      <td>4.2</td>\n",
              "      <td>1.4</td>\n",
              "      <td>0.2</td>\n",
              "      <td>0</td>\n",
              "    </tr>\n",
              "    <tr>\n",
              "      <th>34</th>\n",
              "      <td>4.9</td>\n",
              "      <td>3.1</td>\n",
              "      <td>1.5</td>\n",
              "      <td>0.2</td>\n",
              "      <td>0</td>\n",
              "    </tr>\n",
              "    <tr>\n",
              "      <th>35</th>\n",
              "      <td>5.0</td>\n",
              "      <td>3.2</td>\n",
              "      <td>1.2</td>\n",
              "      <td>0.2</td>\n",
              "      <td>0</td>\n",
              "    </tr>\n",
              "    <tr>\n",
              "      <th>36</th>\n",
              "      <td>5.5</td>\n",
              "      <td>3.5</td>\n",
              "      <td>1.3</td>\n",
              "      <td>0.2</td>\n",
              "      <td>0</td>\n",
              "    </tr>\n",
              "    <tr>\n",
              "      <th>37</th>\n",
              "      <td>4.9</td>\n",
              "      <td>3.6</td>\n",
              "      <td>1.4</td>\n",
              "      <td>0.1</td>\n",
              "      <td>0</td>\n",
              "    </tr>\n",
              "    <tr>\n",
              "      <th>38</th>\n",
              "      <td>4.4</td>\n",
              "      <td>3.0</td>\n",
              "      <td>1.3</td>\n",
              "      <td>0.2</td>\n",
              "      <td>0</td>\n",
              "    </tr>\n",
              "    <tr>\n",
              "      <th>39</th>\n",
              "      <td>5.1</td>\n",
              "      <td>3.4</td>\n",
              "      <td>1.5</td>\n",
              "      <td>0.2</td>\n",
              "      <td>0</td>\n",
              "    </tr>\n",
              "    <tr>\n",
              "      <th>40</th>\n",
              "      <td>5.0</td>\n",
              "      <td>3.5</td>\n",
              "      <td>1.3</td>\n",
              "      <td>0.3</td>\n",
              "      <td>0</td>\n",
              "    </tr>\n",
              "    <tr>\n",
              "      <th>41</th>\n",
              "      <td>4.5</td>\n",
              "      <td>2.3</td>\n",
              "      <td>1.3</td>\n",
              "      <td>0.3</td>\n",
              "      <td>0</td>\n",
              "    </tr>\n",
              "    <tr>\n",
              "      <th>42</th>\n",
              "      <td>4.4</td>\n",
              "      <td>3.2</td>\n",
              "      <td>1.3</td>\n",
              "      <td>0.2</td>\n",
              "      <td>0</td>\n",
              "    </tr>\n",
              "    <tr>\n",
              "      <th>43</th>\n",
              "      <td>5.0</td>\n",
              "      <td>3.5</td>\n",
              "      <td>1.6</td>\n",
              "      <td>0.6</td>\n",
              "      <td>0</td>\n",
              "    </tr>\n",
              "    <tr>\n",
              "      <th>44</th>\n",
              "      <td>5.1</td>\n",
              "      <td>3.8</td>\n",
              "      <td>1.9</td>\n",
              "      <td>0.4</td>\n",
              "      <td>0</td>\n",
              "    </tr>\n",
              "    <tr>\n",
              "      <th>45</th>\n",
              "      <td>4.8</td>\n",
              "      <td>3.0</td>\n",
              "      <td>1.4</td>\n",
              "      <td>0.3</td>\n",
              "      <td>0</td>\n",
              "    </tr>\n",
              "    <tr>\n",
              "      <th>46</th>\n",
              "      <td>5.1</td>\n",
              "      <td>3.8</td>\n",
              "      <td>1.6</td>\n",
              "      <td>0.2</td>\n",
              "      <td>0</td>\n",
              "    </tr>\n",
              "    <tr>\n",
              "      <th>47</th>\n",
              "      <td>4.6</td>\n",
              "      <td>3.2</td>\n",
              "      <td>1.4</td>\n",
              "      <td>0.2</td>\n",
              "      <td>0</td>\n",
              "    </tr>\n",
              "    <tr>\n",
              "      <th>48</th>\n",
              "      <td>5.3</td>\n",
              "      <td>3.7</td>\n",
              "      <td>1.5</td>\n",
              "      <td>0.2</td>\n",
              "      <td>0</td>\n",
              "    </tr>\n",
              "    <tr>\n",
              "      <th>49</th>\n",
              "      <td>5.0</td>\n",
              "      <td>3.3</td>\n",
              "      <td>1.4</td>\n",
              "      <td>0.2</td>\n",
              "      <td>0</td>\n",
              "    </tr>\n",
              "  </tbody>\n",
              "</table>\n",
              "</div>"
            ],
            "text/plain": [
              "    150    4  setosa  versicolor  virginica\n",
              "0   5.1  3.5     1.4         0.2          0\n",
              "1   4.9  3.0     1.4         0.2          0\n",
              "2   4.7  3.2     1.3         0.2          0\n",
              "3   4.6  3.1     1.5         0.2          0\n",
              "4   5.0  3.6     1.4         0.2          0\n",
              "5   5.4  3.9     1.7         0.4          0\n",
              "6   4.6  3.4     1.4         0.3          0\n",
              "7   5.0  3.4     1.5         0.2          0\n",
              "8   4.4  2.9     1.4         0.2          0\n",
              "9   4.9  3.1     1.5         0.1          0\n",
              "10  5.4  3.7     1.5         0.2          0\n",
              "11  4.8  3.4     1.6         0.2          0\n",
              "12  4.8  3.0     1.4         0.1          0\n",
              "13  4.3  3.0     1.1         0.1          0\n",
              "14  5.8  4.0     1.2         0.2          0\n",
              "15  5.7  4.4     1.5         0.4          0\n",
              "16  5.4  3.9     1.3         0.4          0\n",
              "17  5.1  3.5     1.4         0.3          0\n",
              "18  5.7  3.8     1.7         0.3          0\n",
              "19  5.1  3.8     1.5         0.3          0\n",
              "20  5.4  3.4     1.7         0.2          0\n",
              "21  5.1  3.7     1.5         0.4          0\n",
              "22  4.6  3.6     1.0         0.2          0\n",
              "23  5.1  3.3     1.7         0.5          0\n",
              "24  4.8  3.4     1.9         0.2          0\n",
              "25  5.0  3.0     1.6         0.2          0\n",
              "26  5.0  3.4     1.6         0.4          0\n",
              "27  5.2  3.5     1.5         0.2          0\n",
              "28  5.2  3.4     1.4         0.2          0\n",
              "29  4.7  3.2     1.6         0.2          0\n",
              "30  4.8  3.1     1.6         0.2          0\n",
              "31  5.4  3.4     1.5         0.4          0\n",
              "32  5.2  4.1     1.5         0.1          0\n",
              "33  5.5  4.2     1.4         0.2          0\n",
              "34  4.9  3.1     1.5         0.2          0\n",
              "35  5.0  3.2     1.2         0.2          0\n",
              "36  5.5  3.5     1.3         0.2          0\n",
              "37  4.9  3.6     1.4         0.1          0\n",
              "38  4.4  3.0     1.3         0.2          0\n",
              "39  5.1  3.4     1.5         0.2          0\n",
              "40  5.0  3.5     1.3         0.3          0\n",
              "41  4.5  2.3     1.3         0.3          0\n",
              "42  4.4  3.2     1.3         0.2          0\n",
              "43  5.0  3.5     1.6         0.6          0\n",
              "44  5.1  3.8     1.9         0.4          0\n",
              "45  4.8  3.0     1.4         0.3          0\n",
              "46  5.1  3.8     1.6         0.2          0\n",
              "47  4.6  3.2     1.4         0.2          0\n",
              "48  5.3  3.7     1.5         0.2          0\n",
              "49  5.0  3.3     1.4         0.2          0"
            ]
          },
          "metadata": {
            "tags": []
          },
          "execution_count": 142
        }
      ]
    },
    {
      "cell_type": "code",
      "metadata": {
        "id": "YTXAGGsommR8",
        "colab_type": "code",
        "colab": {}
      },
      "source": [
        "#fig, axs = plt.subplots(1, 3)   # plt.subplot คือจะเอากี่แถวกี่หลัก\n",
        "#.imshow\n",
        "#axs[0].imshow(setosa[['150']], cmap='hot', interpolation='nearest')"
      ],
      "execution_count": null,
      "outputs": []
    }
  ]
}
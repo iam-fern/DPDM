{
  "nbformat": 4,
  "nbformat_minor": 0,
  "metadata": {
    "colab": {
      "name": "Data101.ipynb",
      "provenance": [],
      "authorship_tag": "ABX9TyNHTr7b29is97RsSZxkTdva",
      "include_colab_link": true
    },
    "kernelspec": {
      "name": "python3",
      "display_name": "Python 3"
    }
  },
  "cells": [
    {
      "cell_type": "markdown",
      "metadata": {
        "id": "view-in-github",
        "colab_type": "text"
      },
      "source": [
        "<a href=\"https://colab.research.google.com/github/iam-fern/DPDM/blob/master/Data101.ipynb\" target=\"_parent\"><img src=\"https://colab.research.google.com/assets/colab-badge.svg\" alt=\"Open In Colab\"/></a>"
      ]
    },
    {
      "cell_type": "markdown",
      "metadata": {
        "id": "NRKmPsOPmpCH",
        "colab_type": "text"
      },
      "source": [
        "ตัวอย่างการเรียกใช้ package ที่ชื่อว่า pandas"
      ]
    },
    {
      "cell_type": "markdown",
      "metadata": {
        "id": "6fDlpGDHeNz-",
        "colab_type": "text"
      },
      "source": [
        "pandas คือ library หนึ่งใน Python ที่มีความสามารถในการสำหรับจัดเตรียม ทำความสะอาด เก็บกวาดข้อมูลไว้สำหรับการทำ data visualization และสร้าง model"
      ]
    },
    {
      "cell_type": "code",
      "metadata": {
        "id": "FOxuTd4kl787",
        "colab_type": "code",
        "colab": {}
      },
      "source": [
        "import pandas"
      ],
      "execution_count": 1,
      "outputs": []
    },
    {
      "cell_type": "markdown",
      "metadata": {
        "id": "kwna-52djKY-",
        "colab_type": "text"
      },
      "source": [
        "ย่อ pandas เป็น as pd ทำให้พิมพ์สั้นลง โค้ดดูสั้นลง แต่ไม่จำเป็นต้องย่อก็ได้"
      ]
    },
    {
      "cell_type": "code",
      "metadata": {
        "id": "8bigz3PEm3N1",
        "colab_type": "code",
        "colab": {}
      },
      "source": [
        "import pandas as pd"
      ],
      "execution_count": 2,
      "outputs": []
    },
    {
      "cell_type": "markdown",
      "metadata": {
        "id": "smgS9BOtjiQM",
        "colab_type": "text"
      },
      "source": [
        "นำ drive เข้า แล้วยืนยันตัวตนว่าเราจะเชื่อมโยงกับบัญชีอีเมลไหน"
      ]
    },
    {
      "cell_type": "code",
      "metadata": {
        "id": "zZ4I6KOpm8Lu",
        "colab_type": "code",
        "colab": {}
      },
      "source": [
        "from google.colab import drive"
      ],
      "execution_count": 3,
      "outputs": []
    },
    {
      "cell_type": "code",
      "metadata": {
        "id": "33yzqZpunUvC",
        "colab_type": "code",
        "colab": {
          "base_uri": "https://localhost:8080/",
          "height": 121
        },
        "outputId": "afceed1a-9672-4500-d9ee-496477cdeb4b"
      },
      "source": [
        "drive.mount('/content/drive')"
      ],
      "execution_count": 4,
      "outputs": [
        {
          "output_type": "stream",
          "text": [
            "Go to this URL in a browser: https://accounts.google.com/o/oauth2/auth?client_id=947318989803-6bn6qk8qdgf4n4g3pfee6491hc0brc4i.apps.googleusercontent.com&redirect_uri=urn%3aietf%3awg%3aoauth%3a2.0%3aoob&response_type=code&scope=email%20https%3a%2f%2fwww.googleapis.com%2fauth%2fdocs.test%20https%3a%2f%2fwww.googleapis.com%2fauth%2fdrive%20https%3a%2f%2fwww.googleapis.com%2fauth%2fdrive.photos.readonly%20https%3a%2f%2fwww.googleapis.com%2fauth%2fpeopleapi.readonly\n",
            "\n",
            "Enter your authorization code:\n",
            "··········\n",
            "Mounted at /content/drive\n"
          ],
          "name": "stdout"
        }
      ]
    },
    {
      "cell_type": "markdown",
      "metadata": {
        "id": "GOYnibesntEW",
        "colab_type": "text"
      },
      "source": [
        "เรียกใช้ package os"
      ]
    },
    {
      "cell_type": "code",
      "metadata": {
        "id": "g19O1pMKn1S2",
        "colab_type": "code",
        "colab": {}
      },
      "source": [
        "import os"
      ],
      "execution_count": 5,
      "outputs": []
    },
    {
      "cell_type": "code",
      "metadata": {
        "id": "I0o6qhdvohCt",
        "colab_type": "code",
        "colab": {
          "base_uri": "https://localhost:8080/",
          "height": 34
        },
        "outputId": "b1c6e620-4a4a-418b-9a9e-f3671d30dc9d"
      },
      "source": [
        "os.listdir('/content/drive/My Drive/DWDM_material')"
      ],
      "execution_count": 6,
      "outputs": [
        {
          "output_type": "execute_result",
          "data": {
            "text/plain": [
              "['test.csv']"
            ]
          },
          "metadata": {
            "tags": []
          },
          "execution_count": 6
        }
      ]
    },
    {
      "cell_type": "markdown",
      "metadata": {
        "id": "vi5f784dkJf3",
        "colab_type": "text"
      },
      "source": [
        "เรียกใช้ข้อมูลจากไฟล์ โดยผ่านฟังก์ชัน ที่ชื่อว่า read_csv"
      ]
    },
    {
      "cell_type": "code",
      "metadata": {
        "id": "W__eb3LNp0Pv",
        "colab_type": "code",
        "colab": {
          "base_uri": "https://localhost:8080/",
          "height": 402
        },
        "outputId": "6d7ad56b-65a3-47df-bce0-d65af1867ab8"
      },
      "source": [
        "pd.read_csv('/content/drive/My Drive/DWDM_material/test.csv')"
      ],
      "execution_count": 7,
      "outputs": [
        {
          "output_type": "execute_result",
          "data": {
            "text/html": [
              "<div>\n",
              "<style scoped>\n",
              "    .dataframe tbody tr th:only-of-type {\n",
              "        vertical-align: middle;\n",
              "    }\n",
              "\n",
              "    .dataframe tbody tr th {\n",
              "        vertical-align: top;\n",
              "    }\n",
              "\n",
              "    .dataframe thead th {\n",
              "        text-align: right;\n",
              "    }\n",
              "</style>\n",
              "<table border=\"1\" class=\"dataframe\">\n",
              "  <thead>\n",
              "    <tr style=\"text-align: right;\">\n",
              "      <th></th>\n",
              "      <th>Unnamed: 0</th>\n",
              "      <th>x</th>\n",
              "      <th>y</th>\n",
              "    </tr>\n",
              "  </thead>\n",
              "  <tbody>\n",
              "    <tr>\n",
              "      <th>0</th>\n",
              "      <td>0</td>\n",
              "      <td>55.3846</td>\n",
              "      <td>97.1795</td>\n",
              "    </tr>\n",
              "    <tr>\n",
              "      <th>1</th>\n",
              "      <td>1</td>\n",
              "      <td>51.5385</td>\n",
              "      <td>96.0256</td>\n",
              "    </tr>\n",
              "    <tr>\n",
              "      <th>2</th>\n",
              "      <td>2</td>\n",
              "      <td>46.1538</td>\n",
              "      <td>94.4872</td>\n",
              "    </tr>\n",
              "    <tr>\n",
              "      <th>3</th>\n",
              "      <td>3</td>\n",
              "      <td>42.8205</td>\n",
              "      <td>91.4103</td>\n",
              "    </tr>\n",
              "    <tr>\n",
              "      <th>4</th>\n",
              "      <td>4</td>\n",
              "      <td>40.7692</td>\n",
              "      <td>88.3333</td>\n",
              "    </tr>\n",
              "    <tr>\n",
              "      <th>...</th>\n",
              "      <td>...</td>\n",
              "      <td>...</td>\n",
              "      <td>...</td>\n",
              "    </tr>\n",
              "    <tr>\n",
              "      <th>137</th>\n",
              "      <td>137</td>\n",
              "      <td>39.4872</td>\n",
              "      <td>25.3846</td>\n",
              "    </tr>\n",
              "    <tr>\n",
              "      <th>138</th>\n",
              "      <td>138</td>\n",
              "      <td>91.2821</td>\n",
              "      <td>41.5385</td>\n",
              "    </tr>\n",
              "    <tr>\n",
              "      <th>139</th>\n",
              "      <td>139</td>\n",
              "      <td>50.0000</td>\n",
              "      <td>95.7692</td>\n",
              "    </tr>\n",
              "    <tr>\n",
              "      <th>140</th>\n",
              "      <td>140</td>\n",
              "      <td>47.9487</td>\n",
              "      <td>95.0000</td>\n",
              "    </tr>\n",
              "    <tr>\n",
              "      <th>141</th>\n",
              "      <td>141</td>\n",
              "      <td>44.1026</td>\n",
              "      <td>92.6923</td>\n",
              "    </tr>\n",
              "  </tbody>\n",
              "</table>\n",
              "<p>142 rows × 3 columns</p>\n",
              "</div>"
            ],
            "text/plain": [
              "     Unnamed: 0        x        y\n",
              "0             0  55.3846  97.1795\n",
              "1             1  51.5385  96.0256\n",
              "2             2  46.1538  94.4872\n",
              "3             3  42.8205  91.4103\n",
              "4             4  40.7692  88.3333\n",
              "..          ...      ...      ...\n",
              "137         137  39.4872  25.3846\n",
              "138         138  91.2821  41.5385\n",
              "139         139  50.0000  95.7692\n",
              "140         140  47.9487  95.0000\n",
              "141         141  44.1026  92.6923\n",
              "\n",
              "[142 rows x 3 columns]"
            ]
          },
          "metadata": {
            "tags": []
          },
          "execution_count": 7
        }
      ]
    },
    {
      "cell_type": "code",
      "metadata": {
        "id": "8zOIFTs2rT4Z",
        "colab_type": "code",
        "colab": {}
      },
      "source": [
        ""
      ],
      "execution_count": null,
      "outputs": []
    }
  ]
}
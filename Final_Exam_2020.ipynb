{
  "nbformat": 4,
  "nbformat_minor": 0,
  "metadata": {
    "colab": {
      "name": "Final Exam 2020.ipynb",
      "provenance": [],
      "include_colab_link": true
    },
    "kernelspec": {
      "name": "python3",
      "display_name": "Python 3"
    }
  },
  "cells": [
    {
      "cell_type": "markdown",
      "metadata": {
        "id": "view-in-github",
        "colab_type": "text"
      },
      "source": [
        "<a href=\"https://colab.research.google.com/github/iam-fern/DPDM/blob/master/Final_Exam_2020.ipynb\" target=\"_parent\"><img src=\"https://colab.research.google.com/assets/colab-badge.svg\" alt=\"Open In Colab\"/></a>"
      ]
    },
    {
      "cell_type": "markdown",
      "metadata": {
        "id": "APlaB9l9CeBy"
      },
      "source": [
        "1. จากข้อมูล (```w_restaurant.csv```, ```search_click.csv```, ```search_request.csv```) ใน http://qr.tebs.io/TTGDFf สร้าง model เพื่อทำนาย (Classification) ว่าผลการ search เป็นร้านอาหารหรือไม่(```is_food = = True```) โดยพิจารณาจาก \n",
        "- วันในสัปดาห์ที่ทำการ search (```Monday-Sunday```) \n",
        "- วันในที่ทำการ search (```1-31```)\n",
        "- เวลาที่ทำการ search (```1-24```)\n",
        "\n",
        "หมายเหตุที่ 1 สามารถใช้ function ที่ให้มาช่วยในการทำงานได้\n",
        "1. ```extract_time()``` ซึ่ง input เป็น ```timestamp``` และ output เป็น ```เวลาที่ทำการ search```, ```วันที่ทำการ search```, ```วันในสัปดาห์ที่ทำการ search```\n",
        "\n",
        "2. ```is_food()``` ซึ่ง input เป็น ```category_name``` และ ```output``` เป็น คำตอบว่า ```เป็นร้านอาหารหรือไม่```\n",
        "\n",
        "หมายเหตุที่ 2 ควรเตรียมข้อมูลโดยรวมข้อมูลจาก ตาราง ```w_restaurant.csv```, ```search_click.csv```, ```search_request.csv``` ให้ได้ในรูปแบบ ต่อไปนี้\n",
        "![exam_table.PNG](data:image/png;base64,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)\n",
        "\n",
        "(150 คะแนน)"
      ]
    },
    {
      "cell_type": "code",
      "metadata": {
        "id": "fGoCJVpetVmI",
        "outputId": "450c7c01-3b94-4770-868e-6c1e7d222999",
        "colab": {
          "base_uri": "https://localhost:8080/",
          "height": 366
        }
      },
      "source": [
        "data1 = pd.read_csv(os.path.join(base_path,'w_restaurant.csv'), encoding = 'unicode_escape') \n",
        "data1.head()"
      ],
      "execution_count": 18,
      "outputs": [
        {
          "output_type": "execute_result",
          "data": {
            "text/html": [
              "<div>\n",
              "<style scoped>\n",
              "    .dataframe tbody tr th:only-of-type {\n",
              "        vertical-align: middle;\n",
              "    }\n",
              "\n",
              "    .dataframe tbody tr th {\n",
              "        vertical-align: top;\n",
              "    }\n",
              "\n",
              "    .dataframe thead th {\n",
              "        text-align: right;\n",
              "    }\n",
              "</style>\n",
              "<table border=\"1\" class=\"dataframe\">\n",
              "  <thead>\n",
              "    <tr style=\"text-align: right;\">\n",
              "      <th></th>\n",
              "      <th>id</th>\n",
              "      <th>name</th>\n",
              "      <th>domain_id</th>\n",
              "      <th>closed</th>\n",
              "      <th>city_name</th>\n",
              "      <th>zipcode</th>\n",
              "      <th>geohash</th>\n",
              "      <th>new_open</th>\n",
              "      <th>weighted_average_rating</th>\n",
              "      <th>number_of_chains</th>\n",
              "      <th>number_of_bookmarks</th>\n",
              "      <th>number_of_reviews</th>\n",
              "      <th>number_of_product_tags</th>\n",
              "      <th>total_number_of_views</th>\n",
              "      <th>number_of_checkins</th>\n",
              "      <th>number_of_menu_groups</th>\n",
              "      <th>number_of_menu_photos</th>\n",
              "      <th>category_name</th>\n",
              "      <th>price_range</th>\n",
              "      <th>avg_price</th>\n",
              "      <th>parking</th>\n",
              "      <th>credit_card_accepted</th>\n",
              "      <th>good_for_groups</th>\n",
              "      <th>good_for_kids</th>\n",
              "      <th>bookable</th>\n",
              "      <th>best_of_wongnai</th>\n",
              "      <th>wifi</th>\n",
              "      <th>number_of_seats</th>\n",
              "      <th>music_venue</th>\n",
              "      <th>hotel_restaurant</th>\n",
              "      <th>pet_friendly</th>\n",
              "      <th>delivery</th>\n",
              "    </tr>\n",
              "  </thead>\n",
              "  <tbody>\n",
              "    <tr>\n",
              "      <th>0</th>\n",
              "      <td>2</td>\n",
              "      <td>à¸à¸à¸£à¸´à¸à¸à¸£à¹à¸à¸±à¸à¸à¸à¸£à¸£à¸¡</td>\n",
              "      <td>2</td>\n",
              "      <td>0</td>\n",
              "      <td>Samut Songkhram</td>\n",
              "      <td>75000</td>\n",
              "      <td>w4rh7g3</td>\n",
              "      <td>0</td>\n",
              "      <td>5.000000</td>\n",
              "      <td>NaN</td>\n",
              "      <td>NaN</td>\n",
              "      <td>1</td>\n",
              "      <td>0</td>\n",
              "      <td>3016</td>\n",
              "      <td>0</td>\n",
              "      <td>0</td>\n",
              "      <td>0</td>\n",
              "      <td>Orthodontic</td>\n",
              "      <td>NaN</td>\n",
              "      <td>NaN</td>\n",
              "      <td>3.0</td>\n",
              "      <td>0.0</td>\n",
              "      <td>NaN</td>\n",
              "      <td>NaN</td>\n",
              "      <td>NaN</td>\n",
              "      <td>NaN</td>\n",
              "      <td>NaN</td>\n",
              "      <td>13.0</td>\n",
              "      <td>NaN</td>\n",
              "      <td>NaN</td>\n",
              "      <td>NaN</td>\n",
              "      <td>NaN</td>\n",
              "    </tr>\n",
              "    <tr>\n",
              "      <th>1</th>\n",
              "      <td>4</td>\n",
              "      <td>Corner House</td>\n",
              "      <td>1</td>\n",
              "      <td>0</td>\n",
              "      <td>Bangkok Metropolitan Region</td>\n",
              "      <td>12150</td>\n",
              "      <td>w4rx73h</td>\n",
              "      <td>0</td>\n",
              "      <td>2.000000</td>\n",
              "      <td>NaN</td>\n",
              "      <td>NaN</td>\n",
              "      <td>1</td>\n",
              "      <td>0</td>\n",
              "      <td>321</td>\n",
              "      <td>0</td>\n",
              "      <td>0</td>\n",
              "      <td>1</td>\n",
              "      <td>Quick Meal</td>\n",
              "      <td>1.0</td>\n",
              "      <td>NaN</td>\n",
              "      <td>1.0</td>\n",
              "      <td>NaN</td>\n",
              "      <td>NaN</td>\n",
              "      <td>NaN</td>\n",
              "      <td>NaN</td>\n",
              "      <td>NaN</td>\n",
              "      <td>NaN</td>\n",
              "      <td>NaN</td>\n",
              "      <td>NaN</td>\n",
              "      <td>NaN</td>\n",
              "      <td>NaN</td>\n",
              "      <td>NaN</td>\n",
              "    </tr>\n",
              "    <tr>\n",
              "      <th>2</th>\n",
              "      <td>5</td>\n",
              "      <td>à¸§à¸±à¸à¹à¸¥à¸à¸¢à¸ªà¸¸à¸à¸²à¸£à¸²à¸¡</td>\n",
              "      <td>4</td>\n",
              "      <td>0</td>\n",
              "      <td>Phra Nakhon Si Ayutthaya</td>\n",
              "      <td>13000</td>\n",
              "      <td>w4x98jk</td>\n",
              "      <td>0</td>\n",
              "      <td>4.000000</td>\n",
              "      <td>NaN</td>\n",
              "      <td>1.0</td>\n",
              "      <td>0</td>\n",
              "      <td>0</td>\n",
              "      <td>167</td>\n",
              "      <td>0</td>\n",
              "      <td>0</td>\n",
              "      <td>0</td>\n",
              "      <td>Historical/Religion</td>\n",
              "      <td>NaN</td>\n",
              "      <td>NaN</td>\n",
              "      <td>1.0</td>\n",
              "      <td>NaN</td>\n",
              "      <td>NaN</td>\n",
              "      <td>NaN</td>\n",
              "      <td>NaN</td>\n",
              "      <td>NaN</td>\n",
              "      <td>NaN</td>\n",
              "      <td>NaN</td>\n",
              "      <td>NaN</td>\n",
              "      <td>NaN</td>\n",
              "      <td>NaN</td>\n",
              "      <td>NaN</td>\n",
              "    </tr>\n",
              "    <tr>\n",
              "      <th>3</th>\n",
              "      <td>6</td>\n",
              "      <td>à¸à¸±à¸à¸à¹à¸à¸²à¸£à¸²à¹à¸­à¹à¸à¸°</td>\n",
              "      <td>1</td>\n",
              "      <td>0</td>\n",
              "      <td>Bangkok Metropolitan Region</td>\n",
              "      <td>10700</td>\n",
              "      <td>w4rqw9q</td>\n",
              "      <td>0</td>\n",
              "      <td>0.000000</td>\n",
              "      <td>NaN</td>\n",
              "      <td>NaN</td>\n",
              "      <td>0</td>\n",
              "      <td>0</td>\n",
              "      <td>901</td>\n",
              "      <td>0</td>\n",
              "      <td>0</td>\n",
              "      <td>0</td>\n",
              "      <td>Karaoke</td>\n",
              "      <td>NaN</td>\n",
              "      <td>NaN</td>\n",
              "      <td>NaN</td>\n",
              "      <td>NaN</td>\n",
              "      <td>NaN</td>\n",
              "      <td>NaN</td>\n",
              "      <td>NaN</td>\n",
              "      <td>NaN</td>\n",
              "      <td>NaN</td>\n",
              "      <td>NaN</td>\n",
              "      <td>NaN</td>\n",
              "      <td>NaN</td>\n",
              "      <td>NaN</td>\n",
              "      <td>NaN</td>\n",
              "    </tr>\n",
              "    <tr>\n",
              "      <th>4</th>\n",
              "      <td>7</td>\n",
              "      <td>Buono Caffe</td>\n",
              "      <td>1</td>\n",
              "      <td>0</td>\n",
              "      <td>Bangkok Metropolitan Region</td>\n",
              "      <td>10220</td>\n",
              "      <td>w4rx4gd</td>\n",
              "      <td>0</td>\n",
              "      <td>3.738462</td>\n",
              "      <td>NaN</td>\n",
              "      <td>15.0</td>\n",
              "      <td>3</td>\n",
              "      <td>0</td>\n",
              "      <td>2360</td>\n",
              "      <td>1</td>\n",
              "      <td>0</td>\n",
              "      <td>2</td>\n",
              "      <td>CafÃ©/Coffee Shop</td>\n",
              "      <td>1.0</td>\n",
              "      <td>NaN</td>\n",
              "      <td>1.0</td>\n",
              "      <td>0.0</td>\n",
              "      <td>NaN</td>\n",
              "      <td>NaN</td>\n",
              "      <td>NaN</td>\n",
              "      <td>NaN</td>\n",
              "      <td>1.0</td>\n",
              "      <td>2.0</td>\n",
              "      <td>NaN</td>\n",
              "      <td>NaN</td>\n",
              "      <td>NaN</td>\n",
              "      <td>NaN</td>\n",
              "    </tr>\n",
              "  </tbody>\n",
              "</table>\n",
              "</div>"
            ],
            "text/plain": [
              "   id                                              name  ...  pet_friendly  delivery\n",
              "0   2  à¸à¸à¸£à¸´à¸à¸à¸£à¹à¸à¸±à¸à¸à¸à¸£à¸£à¸¡  ...           NaN       NaN\n",
              "1   4                                      Corner House  ...           NaN       NaN\n",
              "2   5        à¸§à¸±à¸à¹à¸¥à¸à¸¢à¸ªà¸¸à¸à¸²à¸£à¸²à¸¡  ...           NaN       NaN\n",
              "3   6        à¸à¸±à¸à¸à¹à¸à¸²à¸£à¸²à¹à¸­à¹à¸à¸°  ...           NaN       NaN\n",
              "4   7                                       Buono Caffe  ...           NaN       NaN\n",
              "\n",
              "[5 rows x 32 columns]"
            ]
          },
          "metadata": {
            "tags": []
          },
          "execution_count": 18
        }
      ]
    },
    {
      "cell_type": "code",
      "metadata": {
        "id": "Ejij_IYC7p6-"
      },
      "source": [
        "data1 = []"
      ],
      "execution_count": 24,
      "outputs": []
    },
    {
      "cell_type": "code",
      "metadata": {
        "id": "85HMGRm13-yg"
      },
      "source": [
        "# dropna จะทำการลบแถวที่มี NaN (มี missing) อยู่ออก\n",
        "Table_data1 = data1.dropna()"
      ],
      "execution_count": 19,
      "outputs": []
    },
    {
      "cell_type": "code",
      "metadata": {
        "id": "04FYTDAb4XjT",
        "outputId": "c5ad760e-c7e6-47df-c52e-3c61631dee21",
        "colab": {
          "base_uri": "https://localhost:8080/"
        }
      },
      "source": [
        "Table_data1.isnull().any().any()"
      ],
      "execution_count": 20,
      "outputs": [
        {
          "output_type": "execute_result",
          "data": {
            "text/plain": [
              "False"
            ]
          },
          "metadata": {
            "tags": []
          },
          "execution_count": 20
        }
      ]
    },
    {
      "cell_type": "code",
      "metadata": {
        "id": "dZFK2zzV4zyZ",
        "outputId": "c62433cf-1eab-43dc-864d-48ee88a369db",
        "colab": {
          "base_uri": "https://localhost:8080/"
        }
      },
      "source": [
        "print(data1.shape)\n",
        "print(Table_data1.shape)"
      ],
      "execution_count": 21,
      "outputs": [
        {
          "output_type": "stream",
          "text": [
            "(246847, 32)\n",
            "(4, 32)\n"
          ],
          "name": "stdout"
        }
      ]
    },
    {
      "cell_type": "code",
      "metadata": {
        "id": "wG6mwWUS6ACe",
        "outputId": "9bebe818-1f0a-403a-ab00-855d77845c9e",
        "colab": {
          "base_uri": "https://localhost:8080/",
          "height": 166
        }
      },
      "source": [
        "new_table1 = Table_data1[['category_name']]\n",
        "new_table1"
      ],
      "execution_count": 23,
      "outputs": [
        {
          "output_type": "execute_result",
          "data": {
            "text/html": [
              "<div>\n",
              "<style scoped>\n",
              "    .dataframe tbody tr th:only-of-type {\n",
              "        vertical-align: middle;\n",
              "    }\n",
              "\n",
              "    .dataframe tbody tr th {\n",
              "        vertical-align: top;\n",
              "    }\n",
              "\n",
              "    .dataframe thead th {\n",
              "        text-align: right;\n",
              "    }\n",
              "</style>\n",
              "<table border=\"1\" class=\"dataframe\">\n",
              "  <thead>\n",
              "    <tr style=\"text-align: right;\">\n",
              "      <th></th>\n",
              "      <th>category_name</th>\n",
              "    </tr>\n",
              "  </thead>\n",
              "  <tbody>\n",
              "    <tr>\n",
              "      <th>23976</th>\n",
              "      <td>Noodles</td>\n",
              "    </tr>\n",
              "    <tr>\n",
              "      <th>81107</th>\n",
              "      <td>CafÃ©/Coffee Shop</td>\n",
              "    </tr>\n",
              "    <tr>\n",
              "      <th>100828</th>\n",
              "      <td>Cafe</td>\n",
              "    </tr>\n",
              "    <tr>\n",
              "      <th>220216</th>\n",
              "      <td>Thai</td>\n",
              "    </tr>\n",
              "  </tbody>\n",
              "</table>\n",
              "</div>"
            ],
            "text/plain": [
              "            category_name\n",
              "23976             Noodles\n",
              "81107   CafÃ©/Coffee Shop\n",
              "100828               Cafe\n",
              "220216               Thai"
            ]
          },
          "metadata": {
            "tags": []
          },
          "execution_count": 23
        }
      ]
    },
    {
      "cell_type": "code",
      "metadata": {
        "id": "r9IYveFqy8rd",
        "outputId": "0bf91d06-794f-4d66-caf3-f8153a7f5786",
        "colab": {
          "base_uri": "https://localhost:8080/",
          "height": 195
        }
      },
      "source": [
        "data2 = pd.read_csv(os.path.join(base_path,'search_click.csv'), encoding = 'unicode_escape') \n",
        "data2.head()"
      ],
      "execution_count": 25,
      "outputs": [
        {
          "output_type": "execute_result",
          "data": {
            "text/html": [
              "<div>\n",
              "<style scoped>\n",
              "    .dataframe tbody tr th:only-of-type {\n",
              "        vertical-align: middle;\n",
              "    }\n",
              "\n",
              "    .dataframe tbody tr th {\n",
              "        vertical-align: top;\n",
              "    }\n",
              "\n",
              "    .dataframe thead th {\n",
              "        text-align: right;\n",
              "    }\n",
              "</style>\n",
              "<table border=\"1\" class=\"dataframe\">\n",
              "  <thead>\n",
              "    <tr style=\"text-align: right;\">\n",
              "      <th></th>\n",
              "      <th>click_timestamp</th>\n",
              "      <th>search_id</th>\n",
              "      <th>business_id</th>\n",
              "      <th>display_position</th>\n",
              "      <th>time_diff_nanos</th>\n",
              "      <th>ads</th>\n",
              "    </tr>\n",
              "  </thead>\n",
              "  <tbody>\n",
              "    <tr>\n",
              "      <th>0</th>\n",
              "      <td>11:38.9</td>\n",
              "      <td>5c004472-5ecc-4159-9698-9f329b8e26e1</td>\n",
              "      <td>298839.0</td>\n",
              "      <td>0</td>\n",
              "      <td>2.222400e+15</td>\n",
              "      <td>True</td>\n",
              "    </tr>\n",
              "    <tr>\n",
              "      <th>1</th>\n",
              "      <td>30:51.3</td>\n",
              "      <td>5f34eca0-c04e-4c10-b600-54aa447dbd8e</td>\n",
              "      <td>171372.0</td>\n",
              "      <td>0</td>\n",
              "      <td>4.608380e+14</td>\n",
              "      <td>True</td>\n",
              "    </tr>\n",
              "    <tr>\n",
              "      <th>2</th>\n",
              "      <td>32:09.6</td>\n",
              "      <td>8dc6d1f0-11f1-4239-9dd2-5c1674c81224</td>\n",
              "      <td>16157.0</td>\n",
              "      <td>0</td>\n",
              "      <td>2.581490e+15</td>\n",
              "      <td>True</td>\n",
              "    </tr>\n",
              "    <tr>\n",
              "      <th>3</th>\n",
              "      <td>00:59.8</td>\n",
              "      <td>1a5810e9-3d1f-44b9-9a2e-26ede21c524b</td>\n",
              "      <td>89741.0</td>\n",
              "      <td>1</td>\n",
              "      <td>1.404580e+15</td>\n",
              "      <td>True</td>\n",
              "    </tr>\n",
              "    <tr>\n",
              "      <th>4</th>\n",
              "      <td>23:36.8</td>\n",
              "      <td>6bc75e0d-fc65-471e-9926-ff6be6708639</td>\n",
              "      <td>189564.0</td>\n",
              "      <td>1</td>\n",
              "      <td>9.333590e+14</td>\n",
              "      <td>True</td>\n",
              "    </tr>\n",
              "  </tbody>\n",
              "</table>\n",
              "</div>"
            ],
            "text/plain": [
              "  click_timestamp                             search_id  ...  time_diff_nanos   ads\n",
              "0         11:38.9  5c004472-5ecc-4159-9698-9f329b8e26e1  ...     2.222400e+15  True\n",
              "1         30:51.3  5f34eca0-c04e-4c10-b600-54aa447dbd8e  ...     4.608380e+14  True\n",
              "2         32:09.6  8dc6d1f0-11f1-4239-9dd2-5c1674c81224  ...     2.581490e+15  True\n",
              "3         00:59.8  1a5810e9-3d1f-44b9-9a2e-26ede21c524b  ...     1.404580e+15  True\n",
              "4         23:36.8  6bc75e0d-fc65-471e-9926-ff6be6708639  ...     9.333590e+14  True\n",
              "\n",
              "[5 rows x 6 columns]"
            ]
          },
          "metadata": {
            "tags": []
          },
          "execution_count": 25
        }
      ]
    },
    {
      "cell_type": "code",
      "metadata": {
        "id": "VTEThHtm8Y_6"
      },
      "source": [
        "data2 = []"
      ],
      "execution_count": 30,
      "outputs": []
    },
    {
      "cell_type": "code",
      "metadata": {
        "id": "0Ha3vpF47w1g"
      },
      "source": [
        "# dropna จะทำการลบแถวที่มี NaN (มี missing) อยู่ออก\n",
        "Table_data2 = data2.dropna()"
      ],
      "execution_count": 26,
      "outputs": []
    },
    {
      "cell_type": "code",
      "metadata": {
        "id": "EO3T5YqR73ON",
        "outputId": "625f3955-0f4d-466e-c21a-983e56559d68",
        "colab": {
          "base_uri": "https://localhost:8080/"
        }
      },
      "source": [
        "Table_data2.isnull().any().any()"
      ],
      "execution_count": 27,
      "outputs": [
        {
          "output_type": "execute_result",
          "data": {
            "text/plain": [
              "False"
            ]
          },
          "metadata": {
            "tags": []
          },
          "execution_count": 27
        }
      ]
    },
    {
      "cell_type": "code",
      "metadata": {
        "id": "-bAqFKNe770-",
        "outputId": "4c8cc0ab-aa14-45cf-907b-153a165a78fa",
        "colab": {
          "base_uri": "https://localhost:8080/"
        }
      },
      "source": [
        "print(data2.shape)\n",
        "print(Table_data2.shape)"
      ],
      "execution_count": 28,
      "outputs": [
        {
          "output_type": "stream",
          "text": [
            "(1048575, 6)\n",
            "(1048206, 6)\n"
          ],
          "name": "stdout"
        }
      ]
    },
    {
      "cell_type": "code",
      "metadata": {
        "id": "A29W6ALD8DUJ",
        "outputId": "0a4dc080-b588-4e59-8edf-b7e998eaaf9f",
        "colab": {
          "base_uri": "https://localhost:8080/",
          "height": 402
        }
      },
      "source": [
        "new_table2 = Table_data2[['search_id', 'business_id']]\n",
        "new_table2"
      ],
      "execution_count": 29,
      "outputs": [
        {
          "output_type": "execute_result",
          "data": {
            "text/html": [
              "<div>\n",
              "<style scoped>\n",
              "    .dataframe tbody tr th:only-of-type {\n",
              "        vertical-align: middle;\n",
              "    }\n",
              "\n",
              "    .dataframe tbody tr th {\n",
              "        vertical-align: top;\n",
              "    }\n",
              "\n",
              "    .dataframe thead th {\n",
              "        text-align: right;\n",
              "    }\n",
              "</style>\n",
              "<table border=\"1\" class=\"dataframe\">\n",
              "  <thead>\n",
              "    <tr style=\"text-align: right;\">\n",
              "      <th></th>\n",
              "      <th>search_id</th>\n",
              "      <th>business_id</th>\n",
              "    </tr>\n",
              "  </thead>\n",
              "  <tbody>\n",
              "    <tr>\n",
              "      <th>0</th>\n",
              "      <td>5c004472-5ecc-4159-9698-9f329b8e26e1</td>\n",
              "      <td>298839.0</td>\n",
              "    </tr>\n",
              "    <tr>\n",
              "      <th>1</th>\n",
              "      <td>5f34eca0-c04e-4c10-b600-54aa447dbd8e</td>\n",
              "      <td>171372.0</td>\n",
              "    </tr>\n",
              "    <tr>\n",
              "      <th>2</th>\n",
              "      <td>8dc6d1f0-11f1-4239-9dd2-5c1674c81224</td>\n",
              "      <td>16157.0</td>\n",
              "    </tr>\n",
              "    <tr>\n",
              "      <th>3</th>\n",
              "      <td>1a5810e9-3d1f-44b9-9a2e-26ede21c524b</td>\n",
              "      <td>89741.0</td>\n",
              "    </tr>\n",
              "    <tr>\n",
              "      <th>4</th>\n",
              "      <td>6bc75e0d-fc65-471e-9926-ff6be6708639</td>\n",
              "      <td>189564.0</td>\n",
              "    </tr>\n",
              "    <tr>\n",
              "      <th>...</th>\n",
              "      <td>...</td>\n",
              "      <td>...</td>\n",
              "    </tr>\n",
              "    <tr>\n",
              "      <th>1048570</th>\n",
              "      <td>99aab616-6fc5-4fbf-994b-4aebee7bb360</td>\n",
              "      <td>278479.0</td>\n",
              "    </tr>\n",
              "    <tr>\n",
              "      <th>1048571</th>\n",
              "      <td>d70a2c5d-ee94-4e4c-9f7c-c5faac6db12a</td>\n",
              "      <td>321885.0</td>\n",
              "    </tr>\n",
              "    <tr>\n",
              "      <th>1048572</th>\n",
              "      <td>4c1de7fe-300e-41aa-9d01-914344fc3753</td>\n",
              "      <td>221035.0</td>\n",
              "    </tr>\n",
              "    <tr>\n",
              "      <th>1048573</th>\n",
              "      <td>2ec0ddec-e450-4b98-9779-42b77aa7eda5</td>\n",
              "      <td>220572.0</td>\n",
              "    </tr>\n",
              "    <tr>\n",
              "      <th>1048574</th>\n",
              "      <td>5741d9cf-b9f1-441d-aa83-d2b0179bf874</td>\n",
              "      <td>310448.0</td>\n",
              "    </tr>\n",
              "  </tbody>\n",
              "</table>\n",
              "<p>1048206 rows × 2 columns</p>\n",
              "</div>"
            ],
            "text/plain": [
              "                                    search_id  business_id\n",
              "0        5c004472-5ecc-4159-9698-9f329b8e26e1     298839.0\n",
              "1        5f34eca0-c04e-4c10-b600-54aa447dbd8e     171372.0\n",
              "2        8dc6d1f0-11f1-4239-9dd2-5c1674c81224      16157.0\n",
              "3        1a5810e9-3d1f-44b9-9a2e-26ede21c524b      89741.0\n",
              "4        6bc75e0d-fc65-471e-9926-ff6be6708639     189564.0\n",
              "...                                       ...          ...\n",
              "1048570  99aab616-6fc5-4fbf-994b-4aebee7bb360     278479.0\n",
              "1048571  d70a2c5d-ee94-4e4c-9f7c-c5faac6db12a     321885.0\n",
              "1048572  4c1de7fe-300e-41aa-9d01-914344fc3753     221035.0\n",
              "1048573  2ec0ddec-e450-4b98-9779-42b77aa7eda5     220572.0\n",
              "1048574  5741d9cf-b9f1-441d-aa83-d2b0179bf874     310448.0\n",
              "\n",
              "[1048206 rows x 2 columns]"
            ]
          },
          "metadata": {
            "tags": []
          },
          "execution_count": 29
        }
      ]
    },
    {
      "cell_type": "code",
      "metadata": {
        "id": "xe4P5w9XzC_V",
        "outputId": "7aa89539-f0f9-4bb0-883c-9e6bda854715",
        "colab": {
          "base_uri": "https://localhost:8080/",
          "height": 330
        }
      },
      "source": [
        "data3 = pd.read_csv(os.path.join(base_path,'search_request.csv'), encoding = 'unicode_escape') \n",
        "data3.head()"
      ],
      "execution_count": 31,
      "outputs": [
        {
          "output_type": "stream",
          "text": [
            "/usr/local/lib/python3.6/dist-packages/IPython/core/interactiveshell.py:2718: DtypeWarning: Columns (7,8,9) have mixed types.Specify dtype option on import or set low_memory=False.\n",
            "  interactivity=interactivity, compiler=compiler, result=result)\n"
          ],
          "name": "stderr"
        },
        {
          "output_type": "execute_result",
          "data": {
            "text/html": [
              "<div>\n",
              "<style scoped>\n",
              "    .dataframe tbody tr th:only-of-type {\n",
              "        vertical-align: middle;\n",
              "    }\n",
              "\n",
              "    .dataframe tbody tr th {\n",
              "        vertical-align: top;\n",
              "    }\n",
              "\n",
              "    .dataframe thead th {\n",
              "        text-align: right;\n",
              "    }\n",
              "</style>\n",
              "<table border=\"1\" class=\"dataframe\">\n",
              "  <thead>\n",
              "    <tr style=\"text-align: right;\">\n",
              "      <th></th>\n",
              "      <th>Unnamed: 0</th>\n",
              "      <th>search_id</th>\n",
              "      <th>search_timestamp</th>\n",
              "      <th>user_agent</th>\n",
              "      <th>q</th>\n",
              "      <th>user_id</th>\n",
              "      <th>session_id</th>\n",
              "      <th>number_of_result</th>\n",
              "      <th>lat</th>\n",
              "      <th>long</th>\n",
              "    </tr>\n",
              "  </thead>\n",
              "  <tbody>\n",
              "    <tr>\n",
              "      <th>0</th>\n",
              "      <td>0</td>\n",
              "      <td>683de889-f923-494e-9d46-44a3d67b7259</td>\n",
              "      <td>2018-06-14 12:34:35.449</td>\n",
              "      <td>Wongnai/8.17.3 rv:8.17.3.3921 (iPhone5,4; iOS;...</td>\n",
              "      <td>NaN</td>\n",
              "      <td>NaN</td>\n",
              "      <td>5lqjjikta19d296mo7g2h1k86p</td>\n",
              "      <td>18</td>\n",
              "      <td>12.6347</td>\n",
              "      <td>101.463</td>\n",
              "    </tr>\n",
              "    <tr>\n",
              "      <th>1</th>\n",
              "      <td>1</td>\n",
              "      <td>4a811230-ffa4-4631-a4c8-5d0394137d02</td>\n",
              "      <td>2018-06-14 17:11:19.469</td>\n",
              "      <td>Mozilla/5.0 (iPhone; CPU iPhone OS 11_4 like M...</td>\n",
              "      <td>NaN</td>\n",
              "      <td>NaN</td>\n",
              "      <td>1r3iotmp0o9slom91stdt9vivc</td>\n",
              "      <td>10</td>\n",
              "      <td>14.8009</td>\n",
              "      <td>102.534</td>\n",
              "    </tr>\n",
              "    <tr>\n",
              "      <th>2</th>\n",
              "      <td>2</td>\n",
              "      <td>7ad6ee8e-438e-4bea-9183-74dcef9e358e</td>\n",
              "      <td>2018-06-14 13:22:31.736</td>\n",
              "      <td>Mozilla/5.0 (Linux; Android 7.0; SAMSUNG SM-J7...</td>\n",
              "      <td>NaN</td>\n",
              "      <td>NaN</td>\n",
              "      <td>5ci1eo4v5u9dha4ppgu94ue7p6</td>\n",
              "      <td>8</td>\n",
              "      <td>13.7383</td>\n",
              "      <td>100.371</td>\n",
              "    </tr>\n",
              "    <tr>\n",
              "      <th>3</th>\n",
              "      <td>3</td>\n",
              "      <td>0c17a5f5-fa89-40f4-ae94-a8659268f827</td>\n",
              "      <td>2018-06-02 12:37:27.331</td>\n",
              "      <td>Mozilla/5.0 (Linux; Android 7.1.1; SM-N950F Bu...</td>\n",
              "      <td>NaN</td>\n",
              "      <td>NaN</td>\n",
              "      <td>39n535qgje9kpojp0grhfj8umk</td>\n",
              "      <td>12</td>\n",
              "      <td>12.6669</td>\n",
              "      <td>101.861</td>\n",
              "    </tr>\n",
              "    <tr>\n",
              "      <th>4</th>\n",
              "      <td>4</td>\n",
              "      <td>6870dc3a-5602-44fc-80ed-df0a7783df9d</td>\n",
              "      <td>2018-06-02 11:19:22.404</td>\n",
              "      <td>Mozilla/5.0 (iPhone; CPU iPhone OS 11_3_1 like...</td>\n",
              "      <td>NaN</td>\n",
              "      <td>NaN</td>\n",
              "      <td>5pa03h6lj691to60erver1l8o4</td>\n",
              "      <td>14</td>\n",
              "      <td>12.2372</td>\n",
              "      <td>99.88</td>\n",
              "    </tr>\n",
              "  </tbody>\n",
              "</table>\n",
              "</div>"
            ],
            "text/plain": [
              "   Unnamed: 0                             search_id  ...      lat     long\n",
              "0           0  683de889-f923-494e-9d46-44a3d67b7259  ...  12.6347  101.463\n",
              "1           1  4a811230-ffa4-4631-a4c8-5d0394137d02  ...  14.8009  102.534\n",
              "2           2  7ad6ee8e-438e-4bea-9183-74dcef9e358e  ...  13.7383  100.371\n",
              "3           3  0c17a5f5-fa89-40f4-ae94-a8659268f827  ...  12.6669  101.861\n",
              "4           4  6870dc3a-5602-44fc-80ed-df0a7783df9d  ...  12.2372    99.88\n",
              "\n",
              "[5 rows x 10 columns]"
            ]
          },
          "metadata": {
            "tags": []
          },
          "execution_count": 31
        }
      ]
    },
    {
      "cell_type": "code",
      "metadata": {
        "id": "i0hMwvMP-KL-"
      },
      "source": [
        "data3 = []"
      ],
      "execution_count": 38,
      "outputs": []
    },
    {
      "cell_type": "code",
      "metadata": {
        "id": "5ZxLU4ZM8wfM"
      },
      "source": [
        "# dropna จะทำการลบแถวที่มี NaN (มี missing) อยู่ออก\n",
        "Table_data3 = data3.dropna()"
      ],
      "execution_count": 32,
      "outputs": []
    },
    {
      "cell_type": "code",
      "metadata": {
        "id": "PD3L12TT83JM",
        "outputId": "5ec01c21-8669-4983-b055-c69448d15398",
        "colab": {
          "base_uri": "https://localhost:8080/"
        }
      },
      "source": [
        "Table_data3.isnull().any().any()"
      ],
      "execution_count": 33,
      "outputs": [
        {
          "output_type": "execute_result",
          "data": {
            "text/plain": [
              "False"
            ]
          },
          "metadata": {
            "tags": []
          },
          "execution_count": 33
        }
      ]
    },
    {
      "cell_type": "code",
      "metadata": {
        "id": "UfWDyV4c88dD",
        "outputId": "5c8bcd47-89d1-4241-8fb8-84e33f318e18",
        "colab": {
          "base_uri": "https://localhost:8080/"
        }
      },
      "source": [
        "print(data3.shape)\n",
        "print(Table_data3.shape)"
      ],
      "execution_count": 34,
      "outputs": [
        {
          "output_type": "stream",
          "text": [
            "(10004357, 10)\n",
            "(253276, 10)\n"
          ],
          "name": "stdout"
        }
      ]
    },
    {
      "cell_type": "code",
      "metadata": {
        "id": "QXLZlim39C-1",
        "outputId": "54ff336d-2909-4ba2-d354-5f40c33f4285",
        "colab": {
          "base_uri": "https://localhost:8080/",
          "height": 402
        }
      },
      "source": [
        "new_table3 = Table_data3[['search_id', 'search_timestamp', 'lat', 'long']]\n",
        "new_table3"
      ],
      "execution_count": 44,
      "outputs": [
        {
          "output_type": "execute_result",
          "data": {
            "text/html": [
              "<div>\n",
              "<style scoped>\n",
              "    .dataframe tbody tr th:only-of-type {\n",
              "        vertical-align: middle;\n",
              "    }\n",
              "\n",
              "    .dataframe tbody tr th {\n",
              "        vertical-align: top;\n",
              "    }\n",
              "\n",
              "    .dataframe thead th {\n",
              "        text-align: right;\n",
              "    }\n",
              "</style>\n",
              "<table border=\"1\" class=\"dataframe\">\n",
              "  <thead>\n",
              "    <tr style=\"text-align: right;\">\n",
              "      <th></th>\n",
              "      <th>search_id</th>\n",
              "      <th>search_timestamp</th>\n",
              "      <th>lat</th>\n",
              "      <th>long</th>\n",
              "    </tr>\n",
              "  </thead>\n",
              "  <tbody>\n",
              "    <tr>\n",
              "      <th>8</th>\n",
              "      <td>02fedb5c-c9cd-46d7-9354-7613ecb7cfdd</td>\n",
              "      <td>2018-06-22 12:22:17.031</td>\n",
              "      <td>13.7209</td>\n",
              "      <td>100.527</td>\n",
              "    </tr>\n",
              "    <tr>\n",
              "      <th>9</th>\n",
              "      <td>e215d487-0450-4794-830a-ecfc0ab6493b</td>\n",
              "      <td>2018-06-22 12:15:24.769</td>\n",
              "      <td>13.7208</td>\n",
              "      <td>100.527</td>\n",
              "    </tr>\n",
              "    <tr>\n",
              "      <th>10</th>\n",
              "      <td>3a69e702-e54b-497c-9b8f-c3991d4c02ff</td>\n",
              "      <td>2018-06-22 12:12:24.091</td>\n",
              "      <td>13.7209</td>\n",
              "      <td>100.527</td>\n",
              "    </tr>\n",
              "    <tr>\n",
              "      <th>11</th>\n",
              "      <td>03cb2585-738e-4000-afed-e976d123a145</td>\n",
              "      <td>2018-06-22 12:04:43.977</td>\n",
              "      <td>13.7211</td>\n",
              "      <td>100.527</td>\n",
              "    </tr>\n",
              "    <tr>\n",
              "      <th>12</th>\n",
              "      <td>4974a821-2bc0-4efe-9e2d-d602669dc283</td>\n",
              "      <td>2018-06-22 12:07:02.556</td>\n",
              "      <td>13.7208</td>\n",
              "      <td>100.527</td>\n",
              "    </tr>\n",
              "    <tr>\n",
              "      <th>...</th>\n",
              "      <td>...</td>\n",
              "      <td>...</td>\n",
              "      <td>...</td>\n",
              "      <td>...</td>\n",
              "    </tr>\n",
              "    <tr>\n",
              "      <th>9722181</th>\n",
              "      <td>94ec6724-2edf-4e80-a120-af857aa7dbd3</td>\n",
              "      <td>2018-06-19 17:28:48.152</td>\n",
              "      <td>12.9416</td>\n",
              "      <td>100.921</td>\n",
              "    </tr>\n",
              "    <tr>\n",
              "      <th>9722420</th>\n",
              "      <td>819915c4-e398-47ff-836b-37e9b814dc7c</td>\n",
              "      <td>2018-06-30 17:23:37.475</td>\n",
              "      <td>13.878</td>\n",
              "      <td>100.413</td>\n",
              "    </tr>\n",
              "    <tr>\n",
              "      <th>9723069</th>\n",
              "      <td>83cf5597-8554-4d45-aaa4-213f30cd409a</td>\n",
              "      <td>2018-06-26 18:54:07.796</td>\n",
              "      <td>13.7344</td>\n",
              "      <td>100.527</td>\n",
              "    </tr>\n",
              "    <tr>\n",
              "      <th>9723327</th>\n",
              "      <td>a558c025-0279-419e-8e76-dbaee81ea1c5</td>\n",
              "      <td>2018-06-19 15:14:03.872</td>\n",
              "      <td>14.0701</td>\n",
              "      <td>100.595</td>\n",
              "    </tr>\n",
              "    <tr>\n",
              "      <th>9723495</th>\n",
              "      <td>0c71ab76-cc2d-41c4-8cca-7654ead40c51</td>\n",
              "      <td>2018-06-30 15:47:32.588</td>\n",
              "      <td>13.7633</td>\n",
              "      <td>100.536</td>\n",
              "    </tr>\n",
              "  </tbody>\n",
              "</table>\n",
              "<p>253276 rows × 4 columns</p>\n",
              "</div>"
            ],
            "text/plain": [
              "                                    search_id  ...     long\n",
              "8        02fedb5c-c9cd-46d7-9354-7613ecb7cfdd  ...  100.527\n",
              "9        e215d487-0450-4794-830a-ecfc0ab6493b  ...  100.527\n",
              "10       3a69e702-e54b-497c-9b8f-c3991d4c02ff  ...  100.527\n",
              "11       03cb2585-738e-4000-afed-e976d123a145  ...  100.527\n",
              "12       4974a821-2bc0-4efe-9e2d-d602669dc283  ...  100.527\n",
              "...                                       ...  ...      ...\n",
              "9722181  94ec6724-2edf-4e80-a120-af857aa7dbd3  ...  100.921\n",
              "9722420  819915c4-e398-47ff-836b-37e9b814dc7c  ...  100.413\n",
              "9723069  83cf5597-8554-4d45-aaa4-213f30cd409a  ...  100.527\n",
              "9723327  a558c025-0279-419e-8e76-dbaee81ea1c5  ...  100.595\n",
              "9723495  0c71ab76-cc2d-41c4-8cca-7654ead40c51  ...  100.536\n",
              "\n",
              "[253276 rows x 4 columns]"
            ]
          },
          "metadata": {
            "tags": []
          },
          "execution_count": 44
        }
      ]
    },
    {
      "cell_type": "code",
      "metadata": {
        "id": "VSx5tIls0AJB",
        "outputId": "2f0b7f4f-ee29-48e2-96ea-9b35cfffc1ac",
        "colab": {
          "base_uri": "https://localhost:8080/",
          "height": 195
        }
      },
      "source": [
        "# รวมตารางครั้งที่ 1\n",
        "Table_merge1 = new_table2.merge(new_table3, how='left', left_on= 'search_id', right_on= 'search_id')\n",
        "Table_merge1.head()"
      ],
      "execution_count": 45,
      "outputs": [
        {
          "output_type": "execute_result",
          "data": {
            "text/html": [
              "<div>\n",
              "<style scoped>\n",
              "    .dataframe tbody tr th:only-of-type {\n",
              "        vertical-align: middle;\n",
              "    }\n",
              "\n",
              "    .dataframe tbody tr th {\n",
              "        vertical-align: top;\n",
              "    }\n",
              "\n",
              "    .dataframe thead th {\n",
              "        text-align: right;\n",
              "    }\n",
              "</style>\n",
              "<table border=\"1\" class=\"dataframe\">\n",
              "  <thead>\n",
              "    <tr style=\"text-align: right;\">\n",
              "      <th></th>\n",
              "      <th>search_id</th>\n",
              "      <th>business_id</th>\n",
              "      <th>search_timestamp</th>\n",
              "      <th>lat</th>\n",
              "      <th>long</th>\n",
              "    </tr>\n",
              "  </thead>\n",
              "  <tbody>\n",
              "    <tr>\n",
              "      <th>0</th>\n",
              "      <td>5c004472-5ecc-4159-9698-9f329b8e26e1</td>\n",
              "      <td>298839.0</td>\n",
              "      <td>NaN</td>\n",
              "      <td>NaN</td>\n",
              "      <td>NaN</td>\n",
              "    </tr>\n",
              "    <tr>\n",
              "      <th>1</th>\n",
              "      <td>5f34eca0-c04e-4c10-b600-54aa447dbd8e</td>\n",
              "      <td>171372.0</td>\n",
              "      <td>NaN</td>\n",
              "      <td>NaN</td>\n",
              "      <td>NaN</td>\n",
              "    </tr>\n",
              "    <tr>\n",
              "      <th>2</th>\n",
              "      <td>8dc6d1f0-11f1-4239-9dd2-5c1674c81224</td>\n",
              "      <td>16157.0</td>\n",
              "      <td>NaN</td>\n",
              "      <td>NaN</td>\n",
              "      <td>NaN</td>\n",
              "    </tr>\n",
              "    <tr>\n",
              "      <th>3</th>\n",
              "      <td>1a5810e9-3d1f-44b9-9a2e-26ede21c524b</td>\n",
              "      <td>89741.0</td>\n",
              "      <td>NaN</td>\n",
              "      <td>NaN</td>\n",
              "      <td>NaN</td>\n",
              "    </tr>\n",
              "    <tr>\n",
              "      <th>4</th>\n",
              "      <td>6bc75e0d-fc65-471e-9926-ff6be6708639</td>\n",
              "      <td>189564.0</td>\n",
              "      <td>NaN</td>\n",
              "      <td>NaN</td>\n",
              "      <td>NaN</td>\n",
              "    </tr>\n",
              "  </tbody>\n",
              "</table>\n",
              "</div>"
            ],
            "text/plain": [
              "                              search_id  business_id search_timestamp  lat long\n",
              "0  5c004472-5ecc-4159-9698-9f329b8e26e1     298839.0              NaN  NaN  NaN\n",
              "1  5f34eca0-c04e-4c10-b600-54aa447dbd8e     171372.0              NaN  NaN  NaN\n",
              "2  8dc6d1f0-11f1-4239-9dd2-5c1674c81224      16157.0              NaN  NaN  NaN\n",
              "3  1a5810e9-3d1f-44b9-9a2e-26ede21c524b      89741.0              NaN  NaN  NaN\n",
              "4  6bc75e0d-fc65-471e-9926-ff6be6708639     189564.0              NaN  NaN  NaN"
            ]
          },
          "metadata": {
            "tags": []
          },
          "execution_count": 45
        }
      ]
    },
    {
      "cell_type": "code",
      "metadata": {
        "id": "U52eV0Wy1EtU"
      },
      "source": [
        "# รวมตารางครั้งที่ 2 : รวมตาราง Table_merge1 กับ ตาราง data1 เพื่อนำคอลัมน์ category_name มาเพิ่ม\n",
        "# Table_merge2 = Table_merge1.merge(data1, how='left', left_on= 'category_name', right_on= 'category_name')\n",
        "# Table_merge2\n",
        "\n",
        "# หลังจากรวมตารางเสร็จแล้ว ก็ลบแถวที่มี missing ออก\n",
        "# New_Table_merge1 = Table_merge2.dropna()\n",
        "# New_Table_merge1.head()"
      ],
      "execution_count": 48,
      "outputs": []
    },
    {
      "cell_type": "code",
      "metadata": {
        "id": "5ytdD5SUC8TJ",
        "outputId": "f38c5970-7b2d-4dfd-eea0-27617c56c1ec",
        "colab": {
          "base_uri": "https://localhost:8080/",
          "height": 195
        }
      },
      "source": [
        "# หลังจากรวมตารางเสร็จแล้ว ก็ลบแถวที่มี missing ออก\n",
        "New_Table_merge = Table_merge1.dropna()\n",
        "New_Table_merge.head()"
      ],
      "execution_count": 49,
      "outputs": [
        {
          "output_type": "execute_result",
          "data": {
            "text/html": [
              "<div>\n",
              "<style scoped>\n",
              "    .dataframe tbody tr th:only-of-type {\n",
              "        vertical-align: middle;\n",
              "    }\n",
              "\n",
              "    .dataframe tbody tr th {\n",
              "        vertical-align: top;\n",
              "    }\n",
              "\n",
              "    .dataframe thead th {\n",
              "        text-align: right;\n",
              "    }\n",
              "</style>\n",
              "<table border=\"1\" class=\"dataframe\">\n",
              "  <thead>\n",
              "    <tr style=\"text-align: right;\">\n",
              "      <th></th>\n",
              "      <th>search_id</th>\n",
              "      <th>business_id</th>\n",
              "      <th>search_timestamp</th>\n",
              "      <th>lat</th>\n",
              "      <th>long</th>\n",
              "    </tr>\n",
              "  </thead>\n",
              "  <tbody>\n",
              "    <tr>\n",
              "      <th>9673</th>\n",
              "      <td>63d48b44-35d1-4661-ad9e-421ba03c369a</td>\n",
              "      <td>294472.0</td>\n",
              "      <td>2018-06-15 05:33:10.253</td>\n",
              "      <td>18.8229</td>\n",
              "      <td>99.0118</td>\n",
              "    </tr>\n",
              "    <tr>\n",
              "      <th>9711</th>\n",
              "      <td>5f77dec0-8d50-472a-a33e-c9bb58a137ca</td>\n",
              "      <td>257835.0</td>\n",
              "      <td>2018-06-15 06:40:07.439</td>\n",
              "      <td>13.6849</td>\n",
              "      <td>100.544</td>\n",
              "    </tr>\n",
              "    <tr>\n",
              "      <th>9714</th>\n",
              "      <td>5f77dec0-8d50-472a-a33e-c9bb58a137ca</td>\n",
              "      <td>257835.0</td>\n",
              "      <td>2018-06-15 06:40:07.439</td>\n",
              "      <td>13.6849</td>\n",
              "      <td>100.544</td>\n",
              "    </tr>\n",
              "    <tr>\n",
              "      <th>9725</th>\n",
              "      <td>0b04944e-30f2-4c10-86a8-d01a6bd026f0</td>\n",
              "      <td>32351.0</td>\n",
              "      <td>2018-06-15 06:42:00.502</td>\n",
              "      <td>13.8096</td>\n",
              "      <td>100.65</td>\n",
              "    </tr>\n",
              "    <tr>\n",
              "      <th>9729</th>\n",
              "      <td>6fe78775-3763-4eec-a033-2903f3ff7af8</td>\n",
              "      <td>101291.0</td>\n",
              "      <td>2018-06-15 05:41:30.428</td>\n",
              "      <td>7.00501</td>\n",
              "      <td>100.464</td>\n",
              "    </tr>\n",
              "  </tbody>\n",
              "</table>\n",
              "</div>"
            ],
            "text/plain": [
              "                                 search_id  business_id  ...      lat     long\n",
              "9673  63d48b44-35d1-4661-ad9e-421ba03c369a     294472.0  ...  18.8229  99.0118\n",
              "9711  5f77dec0-8d50-472a-a33e-c9bb58a137ca     257835.0  ...  13.6849  100.544\n",
              "9714  5f77dec0-8d50-472a-a33e-c9bb58a137ca     257835.0  ...  13.6849  100.544\n",
              "9725  0b04944e-30f2-4c10-86a8-d01a6bd026f0      32351.0  ...  13.8096   100.65\n",
              "9729  6fe78775-3763-4eec-a033-2903f3ff7af8     101291.0  ...  7.00501  100.464\n",
              "\n",
              "[5 rows x 5 columns]"
            ]
          },
          "metadata": {
            "tags": []
          },
          "execution_count": 49
        }
      ]
    },
    {
      "cell_type": "code",
      "metadata": {
        "id": "W_2FTN-IDjZl",
        "outputId": "77cd14c2-b861-49a1-ab81-d7bc006a3d88",
        "colab": {
          "base_uri": "https://localhost:8080/"
        }
      },
      "source": [
        "New_Table_merge.shape"
      ],
      "execution_count": 50,
      "outputs": [
        {
          "output_type": "execute_result",
          "data": {
            "text/plain": [
              "(17130, 5)"
            ]
          },
          "metadata": {
            "tags": []
          },
          "execution_count": 50
        }
      ]
    },
    {
      "cell_type": "code",
      "metadata": {
        "id": "5v725P23EGZE"
      },
      "source": [
        "# list ของชื่อในคอลัมน์ category_name ค่าไหนเท่ากับ is_food ก็จะเป็น true\n",
        "# selected_list = New_Table_merge['category_name'] == 'is_food'\n",
        "# selected_list"
      ],
      "execution_count": null,
      "outputs": []
    },
    {
      "cell_type": "code",
      "metadata": {
        "id": "OkZ3ty_kFdLV",
        "outputId": "66e60185-53cb-4e3d-9bfb-d26a1b64e4d9",
        "colab": {
          "base_uri": "https://localhost:8080/"
        }
      },
      "source": [
        "# เช่น\n",
        "selected_list = New_Table_merge['business_id'] == 32351.0\n",
        "selected_list"
      ],
      "execution_count": 52,
      "outputs": [
        {
          "output_type": "execute_result",
          "data": {
            "text/plain": [
              "9673       False\n",
              "9711       False\n",
              "9714       False\n",
              "9725        True\n",
              "9729       False\n",
              "           ...  \n",
              "1045634    False\n",
              "1045724    False\n",
              "1045830    False\n",
              "1046331    False\n",
              "1046686    False\n",
              "Name: business_id, Length: 17130, dtype: bool"
            ]
          },
          "metadata": {
            "tags": []
          },
          "execution_count": 52
        }
      ]
    },
    {
      "cell_type": "code",
      "metadata": {
        "id": "iyGHJ6JHFrtj",
        "outputId": "d4334ec2-9e3d-471e-814b-759f5276119e",
        "colab": {
          "base_uri": "https://localhost:8080/",
          "height": 195
        }
      },
      "source": [
        "New_Table_merge[selected_list].head()"
      ],
      "execution_count": 53,
      "outputs": [
        {
          "output_type": "execute_result",
          "data": {
            "text/html": [
              "<div>\n",
              "<style scoped>\n",
              "    .dataframe tbody tr th:only-of-type {\n",
              "        vertical-align: middle;\n",
              "    }\n",
              "\n",
              "    .dataframe tbody tr th {\n",
              "        vertical-align: top;\n",
              "    }\n",
              "\n",
              "    .dataframe thead th {\n",
              "        text-align: right;\n",
              "    }\n",
              "</style>\n",
              "<table border=\"1\" class=\"dataframe\">\n",
              "  <thead>\n",
              "    <tr style=\"text-align: right;\">\n",
              "      <th></th>\n",
              "      <th>search_id</th>\n",
              "      <th>business_id</th>\n",
              "      <th>search_timestamp</th>\n",
              "      <th>lat</th>\n",
              "      <th>long</th>\n",
              "    </tr>\n",
              "  </thead>\n",
              "  <tbody>\n",
              "    <tr>\n",
              "      <th>9725</th>\n",
              "      <td>0b04944e-30f2-4c10-86a8-d01a6bd026f0</td>\n",
              "      <td>32351.0</td>\n",
              "      <td>2018-06-15 06:42:00.502</td>\n",
              "      <td>13.8096</td>\n",
              "      <td>100.65</td>\n",
              "    </tr>\n",
              "    <tr>\n",
              "      <th>97288</th>\n",
              "      <td>df0e6a2d-b5b1-4ecc-9e8b-61d12d350e2a</td>\n",
              "      <td>32351.0</td>\n",
              "      <td>2018-06-29 11:43:45.159</td>\n",
              "      <td>13.7209</td>\n",
              "      <td>100.53</td>\n",
              "    </tr>\n",
              "    <tr>\n",
              "      <th>431079</th>\n",
              "      <td>ef5f84d5-0fd1-413b-9859-9c6fbd35989f</td>\n",
              "      <td>32351.0</td>\n",
              "      <td>2018-06-01 19:20:33.636</td>\n",
              "      <td>12.4127</td>\n",
              "      <td>99.9087</td>\n",
              "    </tr>\n",
              "    <tr>\n",
              "      <th>671036</th>\n",
              "      <td>2d984dc6-597f-4cc4-aa5f-4b4817114c87</td>\n",
              "      <td>32351.0</td>\n",
              "      <td>2018-06-02 05:18:09.085</td>\n",
              "      <td>13.9982</td>\n",
              "      <td>100.554</td>\n",
              "    </tr>\n",
              "    <tr>\n",
              "      <th>674958</th>\n",
              "      <td>3fc33156-2cce-4940-bba3-94cdf1ed87c6</td>\n",
              "      <td>32351.0</td>\n",
              "      <td>2018-06-01 19:13:40.394</td>\n",
              "      <td>13.762</td>\n",
              "      <td>100.65</td>\n",
              "    </tr>\n",
              "  </tbody>\n",
              "</table>\n",
              "</div>"
            ],
            "text/plain": [
              "                                   search_id  business_id  ...      lat     long\n",
              "9725    0b04944e-30f2-4c10-86a8-d01a6bd026f0      32351.0  ...  13.8096   100.65\n",
              "97288   df0e6a2d-b5b1-4ecc-9e8b-61d12d350e2a      32351.0  ...  13.7209   100.53\n",
              "431079  ef5f84d5-0fd1-413b-9859-9c6fbd35989f      32351.0  ...  12.4127  99.9087\n",
              "671036  2d984dc6-597f-4cc4-aa5f-4b4817114c87      32351.0  ...  13.9982  100.554\n",
              "674958  3fc33156-2cce-4940-bba3-94cdf1ed87c6      32351.0  ...   13.762   100.65\n",
              "\n",
              "[5 rows x 5 columns]"
            ]
          },
          "metadata": {
            "tags": []
          },
          "execution_count": 53
        }
      ]
    },
    {
      "cell_type": "code",
      "metadata": {
        "id": "212B1ztJIgtU"
      },
      "source": [
        "import datetime\n",
        "def extract_time(datetime_s):\n",
        "    EX_date = datetime.datetime.strptime(datetime_s, \"%Y-%m-%d %H:%M:%S.%f\")\n",
        "    return EX_date.hour, EX_date.day, get_day(EX_date.weekday()) \n",
        "\n",
        "def get_day(D):\n",
        "    weekdays = ['Monday','Tuesday','Wednesday','Thursday','Friday','Saturday','Sunday']\n",
        "    return weekdays[D] \n",
        "\n",
        "def is_food(inp):\n",
        "    food_list = ['Vegeterian','Sushi','Sukiyaki/Shabu','Street Food/Food Stands','Steak House/Barbeque','Southern Food','Seafood','Ramen','Quick Meal','Pizza','Northern Food','Noodles','Mexican','Korean',\n",
        "             'Japanese','Italian','Izakaya','Healthy Food','German Food','Fusion Food','French','Food Truck','Fastfood','Dim Sum','Delivery Only','Chinese','Cafe','Café/Coffee Shop','Buffet',\n",
        "             'Breakfast/Brunch','Bakery/Cake','Barbeque/Grill','American']\n",
        "    return inp in food_list"
      ],
      "execution_count": 51,
      "outputs": []
    },
    {
      "cell_type": "markdown",
      "metadata": {
        "id": "zm8mN3OAIpJE"
      },
      "source": [
        "2. จากข้อมูล (```reduced_marketbasket.csv```) ใน http://qr.tebs.io/TTGDFf ให้เปรียบเทียบ รูปแบบ การซื้อที่น่าสนใจเป็นราย Transaction ของประชากรใน ประเทศ ```United Kingdom``` กับ ประเทศอื่นๆ (```'Country'!='United Kingdom'```)\n",
        "\n",
        "(40 คะแนน)"
      ]
    },
    {
      "cell_type": "code",
      "metadata": {
        "id": "O4q2dYN4eV3E"
      },
      "source": [
        "import pandas\n",
        "import pandas as pd\n",
        "import os"
      ],
      "execution_count": 3,
      "outputs": []
    },
    {
      "cell_type": "code",
      "metadata": {
        "id": "JBkA276sgYSD",
        "outputId": "d7cb9877-f47a-416a-d832-a6cfa310f8dc",
        "colab": {
          "base_uri": "https://localhost:8080/"
        }
      },
      "source": [
        "import pandas as pd\n",
        "from google.colab import drive\n",
        "drive.mount('/content/drive')\n",
        "import os\n",
        "base_path = '/content/drive/My Drive/DWDM_material'\n",
        "os.listdir(base_path)"
      ],
      "execution_count": 4,
      "outputs": [
        {
          "output_type": "stream",
          "text": [
            "Drive already mounted at /content/drive; to attempt to forcibly remount, call drive.mount(\"/content/drive\", force_remount=True).\n"
          ],
          "name": "stdout"
        },
        {
          "output_type": "execute_result",
          "data": {
            "text/plain": [
              "['test.csv',\n",
              " 'metadata.xlsx',\n",
              " 'search_click.csv',\n",
              " 'w_restaurant.csv',\n",
              " 'Copy of search_click.csv',\n",
              " '03 สังคม.xls',\n",
              " '52835793_259306464964511_3851804852342489088_n.png',\n",
              " 'Copy of w_restaurant.csv',\n",
              " 'Preprocessing02.html',\n",
              " 'teach02.csv',\n",
              " 'teach.csv',\n",
              " 'baboon.jpg',\n",
              " 'data2.csv',\n",
              " 'data1.gsheet',\n",
              " 'data3.gsheet',\n",
              " 'data3.xlsx',\n",
              " 'data3.csv',\n",
              " 'data1.xlsx',\n",
              " 'data1.csv',\n",
              " 'Local.xlsx',\n",
              " 'reduced_marketbasket.csv',\n",
              " 'search_request.csv']"
            ]
          },
          "metadata": {
            "tags": []
          },
          "execution_count": 4
        }
      ]
    },
    {
      "cell_type": "code",
      "metadata": {
        "id": "vPVrfAEagfto",
        "outputId": "433f9844-dedb-4562-f33c-7b8b24545255",
        "colab": {
          "base_uri": "https://localhost:8080/",
          "height": 402
        }
      },
      "source": [
        "data = pd.read_csv(os.path.join(base_path,'reduced_marketbasket.csv'), encoding = 'unicode_escape') \n",
        "data"
      ],
      "execution_count": 117,
      "outputs": [
        {
          "output_type": "execute_result",
          "data": {
            "text/html": [
              "<div>\n",
              "<style scoped>\n",
              "    .dataframe tbody tr th:only-of-type {\n",
              "        vertical-align: middle;\n",
              "    }\n",
              "\n",
              "    .dataframe tbody tr th {\n",
              "        vertical-align: top;\n",
              "    }\n",
              "\n",
              "    .dataframe thead th {\n",
              "        text-align: right;\n",
              "    }\n",
              "</style>\n",
              "<table border=\"1\" class=\"dataframe\">\n",
              "  <thead>\n",
              "    <tr style=\"text-align: right;\">\n",
              "      <th></th>\n",
              "      <th>InvoiceNo</th>\n",
              "      <th>StockCode</th>\n",
              "      <th>Description</th>\n",
              "      <th>Quantity</th>\n",
              "      <th>InvoiceDate</th>\n",
              "      <th>UnitPrice</th>\n",
              "      <th>CustomerID</th>\n",
              "      <th>Country</th>\n",
              "    </tr>\n",
              "  </thead>\n",
              "  <tbody>\n",
              "    <tr>\n",
              "      <th>0</th>\n",
              "      <td>536365</td>\n",
              "      <td>85123A</td>\n",
              "      <td>WHITE HANGING HEART T-LIGHT HOLDER</td>\n",
              "      <td>6</td>\n",
              "      <td>12/01/2010 08:26</td>\n",
              "      <td>2.55</td>\n",
              "      <td>17850.0</td>\n",
              "      <td>United Kingdom</td>\n",
              "    </tr>\n",
              "    <tr>\n",
              "      <th>1</th>\n",
              "      <td>536365</td>\n",
              "      <td>71053</td>\n",
              "      <td>WHITE METAL LANTERN</td>\n",
              "      <td>6</td>\n",
              "      <td>12/01/2010 08:26</td>\n",
              "      <td>3.39</td>\n",
              "      <td>17850.0</td>\n",
              "      <td>United Kingdom</td>\n",
              "    </tr>\n",
              "    <tr>\n",
              "      <th>2</th>\n",
              "      <td>536365</td>\n",
              "      <td>84406B</td>\n",
              "      <td>CREAM CUPID HEARTS COAT HANGER</td>\n",
              "      <td>8</td>\n",
              "      <td>12/01/2010 08:26</td>\n",
              "      <td>2.75</td>\n",
              "      <td>17850.0</td>\n",
              "      <td>United Kingdom</td>\n",
              "    </tr>\n",
              "    <tr>\n",
              "      <th>3</th>\n",
              "      <td>536365</td>\n",
              "      <td>84029G</td>\n",
              "      <td>KNITTED UNION FLAG HOT WATER BOTTLE</td>\n",
              "      <td>6</td>\n",
              "      <td>12/01/2010 08:26</td>\n",
              "      <td>3.39</td>\n",
              "      <td>17850.0</td>\n",
              "      <td>United Kingdom</td>\n",
              "    </tr>\n",
              "    <tr>\n",
              "      <th>4</th>\n",
              "      <td>536365</td>\n",
              "      <td>84029E</td>\n",
              "      <td>RED WOOLLY HOTTIE WHITE HEART.</td>\n",
              "      <td>6</td>\n",
              "      <td>12/01/2010 08:26</td>\n",
              "      <td>3.39</td>\n",
              "      <td>17850.0</td>\n",
              "      <td>United Kingdom</td>\n",
              "    </tr>\n",
              "    <tr>\n",
              "      <th>...</th>\n",
              "      <td>...</td>\n",
              "      <td>...</td>\n",
              "      <td>...</td>\n",
              "      <td>...</td>\n",
              "      <td>...</td>\n",
              "      <td>...</td>\n",
              "      <td>...</td>\n",
              "      <td>...</td>\n",
              "    </tr>\n",
              "    <tr>\n",
              "      <th>541904</th>\n",
              "      <td>581587</td>\n",
              "      <td>22613</td>\n",
              "      <td>PACK OF 20 SPACEBOY NAPKINS</td>\n",
              "      <td>12</td>\n",
              "      <td>12/09/2011 12:50</td>\n",
              "      <td>0.85</td>\n",
              "      <td>12680.0</td>\n",
              "      <td>France</td>\n",
              "    </tr>\n",
              "    <tr>\n",
              "      <th>541905</th>\n",
              "      <td>581587</td>\n",
              "      <td>22899</td>\n",
              "      <td>CHILDREN'S APRON DOLLY GIRL</td>\n",
              "      <td>6</td>\n",
              "      <td>12/09/2011 12:50</td>\n",
              "      <td>2.10</td>\n",
              "      <td>12680.0</td>\n",
              "      <td>France</td>\n",
              "    </tr>\n",
              "    <tr>\n",
              "      <th>541906</th>\n",
              "      <td>581587</td>\n",
              "      <td>23254</td>\n",
              "      <td>CHILDRENS CUTLERY DOLLY GIRL</td>\n",
              "      <td>4</td>\n",
              "      <td>12/09/2011 12:50</td>\n",
              "      <td>4.15</td>\n",
              "      <td>12680.0</td>\n",
              "      <td>France</td>\n",
              "    </tr>\n",
              "    <tr>\n",
              "      <th>541907</th>\n",
              "      <td>581587</td>\n",
              "      <td>23255</td>\n",
              "      <td>CHILDRENS CUTLERY CIRCUS PARADE</td>\n",
              "      <td>4</td>\n",
              "      <td>12/09/2011 12:50</td>\n",
              "      <td>4.15</td>\n",
              "      <td>12680.0</td>\n",
              "      <td>France</td>\n",
              "    </tr>\n",
              "    <tr>\n",
              "      <th>541908</th>\n",
              "      <td>581587</td>\n",
              "      <td>22138</td>\n",
              "      <td>BAKING SET 9 PIECE RETROSPOT</td>\n",
              "      <td>3</td>\n",
              "      <td>12/09/2011 12:50</td>\n",
              "      <td>4.95</td>\n",
              "      <td>12680.0</td>\n",
              "      <td>France</td>\n",
              "    </tr>\n",
              "  </tbody>\n",
              "</table>\n",
              "<p>541909 rows × 8 columns</p>\n",
              "</div>"
            ],
            "text/plain": [
              "       InvoiceNo StockCode  ... CustomerID         Country\n",
              "0         536365    85123A  ...    17850.0  United Kingdom\n",
              "1         536365     71053  ...    17850.0  United Kingdom\n",
              "2         536365    84406B  ...    17850.0  United Kingdom\n",
              "3         536365    84029G  ...    17850.0  United Kingdom\n",
              "4         536365    84029E  ...    17850.0  United Kingdom\n",
              "...          ...       ...  ...        ...             ...\n",
              "541904    581587     22613  ...    12680.0          France\n",
              "541905    581587     22899  ...    12680.0          France\n",
              "541906    581587     23254  ...    12680.0          France\n",
              "541907    581587     23255  ...    12680.0          France\n",
              "541908    581587     22138  ...    12680.0          France\n",
              "\n",
              "[541909 rows x 8 columns]"
            ]
          },
          "metadata": {
            "tags": []
          },
          "execution_count": 117
        }
      ]
    },
    {
      "cell_type": "code",
      "metadata": {
        "id": "kq_cxQOr2uKm"
      },
      "source": [
        "data = []"
      ],
      "execution_count": 1,
      "outputs": []
    },
    {
      "cell_type": "code",
      "metadata": {
        "id": "K98pqSemjfEi",
        "outputId": "f982e948-459e-4d92-a20f-0239b1fa5d7f",
        "colab": {
          "base_uri": "https://localhost:8080/",
          "height": 402
        }
      },
      "source": [
        "# หา Missing Value\n",
        "data.isnull()"
      ],
      "execution_count": 80,
      "outputs": [
        {
          "output_type": "execute_result",
          "data": {
            "text/html": [
              "<div>\n",
              "<style scoped>\n",
              "    .dataframe tbody tr th:only-of-type {\n",
              "        vertical-align: middle;\n",
              "    }\n",
              "\n",
              "    .dataframe tbody tr th {\n",
              "        vertical-align: top;\n",
              "    }\n",
              "\n",
              "    .dataframe thead th {\n",
              "        text-align: right;\n",
              "    }\n",
              "</style>\n",
              "<table border=\"1\" class=\"dataframe\">\n",
              "  <thead>\n",
              "    <tr style=\"text-align: right;\">\n",
              "      <th></th>\n",
              "      <th>InvoiceNo</th>\n",
              "      <th>StockCode</th>\n",
              "      <th>Description</th>\n",
              "      <th>Quantity</th>\n",
              "      <th>InvoiceDate</th>\n",
              "      <th>UnitPrice</th>\n",
              "      <th>CustomerID</th>\n",
              "      <th>Country</th>\n",
              "    </tr>\n",
              "  </thead>\n",
              "  <tbody>\n",
              "    <tr>\n",
              "      <th>0</th>\n",
              "      <td>False</td>\n",
              "      <td>False</td>\n",
              "      <td>False</td>\n",
              "      <td>False</td>\n",
              "      <td>False</td>\n",
              "      <td>False</td>\n",
              "      <td>False</td>\n",
              "      <td>False</td>\n",
              "    </tr>\n",
              "    <tr>\n",
              "      <th>1</th>\n",
              "      <td>False</td>\n",
              "      <td>False</td>\n",
              "      <td>False</td>\n",
              "      <td>False</td>\n",
              "      <td>False</td>\n",
              "      <td>False</td>\n",
              "      <td>False</td>\n",
              "      <td>False</td>\n",
              "    </tr>\n",
              "    <tr>\n",
              "      <th>2</th>\n",
              "      <td>False</td>\n",
              "      <td>False</td>\n",
              "      <td>False</td>\n",
              "      <td>False</td>\n",
              "      <td>False</td>\n",
              "      <td>False</td>\n",
              "      <td>False</td>\n",
              "      <td>False</td>\n",
              "    </tr>\n",
              "    <tr>\n",
              "      <th>3</th>\n",
              "      <td>False</td>\n",
              "      <td>False</td>\n",
              "      <td>False</td>\n",
              "      <td>False</td>\n",
              "      <td>False</td>\n",
              "      <td>False</td>\n",
              "      <td>False</td>\n",
              "      <td>False</td>\n",
              "    </tr>\n",
              "    <tr>\n",
              "      <th>4</th>\n",
              "      <td>False</td>\n",
              "      <td>False</td>\n",
              "      <td>False</td>\n",
              "      <td>False</td>\n",
              "      <td>False</td>\n",
              "      <td>False</td>\n",
              "      <td>False</td>\n",
              "      <td>False</td>\n",
              "    </tr>\n",
              "    <tr>\n",
              "      <th>...</th>\n",
              "      <td>...</td>\n",
              "      <td>...</td>\n",
              "      <td>...</td>\n",
              "      <td>...</td>\n",
              "      <td>...</td>\n",
              "      <td>...</td>\n",
              "      <td>...</td>\n",
              "      <td>...</td>\n",
              "    </tr>\n",
              "    <tr>\n",
              "      <th>541904</th>\n",
              "      <td>False</td>\n",
              "      <td>False</td>\n",
              "      <td>False</td>\n",
              "      <td>False</td>\n",
              "      <td>False</td>\n",
              "      <td>False</td>\n",
              "      <td>False</td>\n",
              "      <td>False</td>\n",
              "    </tr>\n",
              "    <tr>\n",
              "      <th>541905</th>\n",
              "      <td>False</td>\n",
              "      <td>False</td>\n",
              "      <td>False</td>\n",
              "      <td>False</td>\n",
              "      <td>False</td>\n",
              "      <td>False</td>\n",
              "      <td>False</td>\n",
              "      <td>False</td>\n",
              "    </tr>\n",
              "    <tr>\n",
              "      <th>541906</th>\n",
              "      <td>False</td>\n",
              "      <td>False</td>\n",
              "      <td>False</td>\n",
              "      <td>False</td>\n",
              "      <td>False</td>\n",
              "      <td>False</td>\n",
              "      <td>False</td>\n",
              "      <td>False</td>\n",
              "    </tr>\n",
              "    <tr>\n",
              "      <th>541907</th>\n",
              "      <td>False</td>\n",
              "      <td>False</td>\n",
              "      <td>False</td>\n",
              "      <td>False</td>\n",
              "      <td>False</td>\n",
              "      <td>False</td>\n",
              "      <td>False</td>\n",
              "      <td>False</td>\n",
              "    </tr>\n",
              "    <tr>\n",
              "      <th>541908</th>\n",
              "      <td>False</td>\n",
              "      <td>False</td>\n",
              "      <td>False</td>\n",
              "      <td>False</td>\n",
              "      <td>False</td>\n",
              "      <td>False</td>\n",
              "      <td>False</td>\n",
              "      <td>False</td>\n",
              "    </tr>\n",
              "  </tbody>\n",
              "</table>\n",
              "<p>541909 rows × 8 columns</p>\n",
              "</div>"
            ],
            "text/plain": [
              "        InvoiceNo  StockCode  Description  ...  UnitPrice  CustomerID  Country\n",
              "0           False      False        False  ...      False       False    False\n",
              "1           False      False        False  ...      False       False    False\n",
              "2           False      False        False  ...      False       False    False\n",
              "3           False      False        False  ...      False       False    False\n",
              "4           False      False        False  ...      False       False    False\n",
              "...           ...        ...          ...  ...        ...         ...      ...\n",
              "541904      False      False        False  ...      False       False    False\n",
              "541905      False      False        False  ...      False       False    False\n",
              "541906      False      False        False  ...      False       False    False\n",
              "541907      False      False        False  ...      False       False    False\n",
              "541908      False      False        False  ...      False       False    False\n",
              "\n",
              "[541909 rows x 8 columns]"
            ]
          },
          "metadata": {
            "tags": []
          },
          "execution_count": 80
        }
      ]
    },
    {
      "cell_type": "code",
      "metadata": {
        "id": "D_2W8zgxjr1Z",
        "outputId": "ff58fdd0-aa80-4391-c259-58dd103f07b4",
        "colab": {
          "base_uri": "https://localhost:8080/"
        }
      },
      "source": [
        "data.isnull().any()"
      ],
      "execution_count": 81,
      "outputs": [
        {
          "output_type": "execute_result",
          "data": {
            "text/plain": [
              "InvoiceNo      False\n",
              "StockCode      False\n",
              "Description     True\n",
              "Quantity       False\n",
              "InvoiceDate    False\n",
              "UnitPrice      False\n",
              "CustomerID      True\n",
              "Country        False\n",
              "dtype: bool"
            ]
          },
          "metadata": {
            "tags": []
          },
          "execution_count": 81
        }
      ]
    },
    {
      "cell_type": "code",
      "metadata": {
        "id": "8U46fFDvjxN6",
        "outputId": "2313c68f-1753-4ee3-c9db-813c1365e811",
        "colab": {
          "base_uri": "https://localhost:8080/"
        }
      },
      "source": [
        "data.isnull().any().any()"
      ],
      "execution_count": 82,
      "outputs": [
        {
          "output_type": "execute_result",
          "data": {
            "text/plain": [
              "True"
            ]
          },
          "metadata": {
            "tags": []
          },
          "execution_count": 82
        }
      ]
    },
    {
      "cell_type": "code",
      "metadata": {
        "id": "1e4YsD3Mj2Pr"
      },
      "source": [
        "# Handling missing values (จัดการกับ missing value)\n",
        "# dropna จะทำการลบแถวที่มี NaN (มี missing) อยู่ออก\n",
        "Table_merge = data.dropna()"
      ],
      "execution_count": 83,
      "outputs": []
    },
    {
      "cell_type": "code",
      "metadata": {
        "id": "AUlp0H6JkJsm",
        "outputId": "4d293cea-ea17-44c7-88ce-4e2548e540e6",
        "colab": {
          "base_uri": "https://localhost:8080/"
        }
      },
      "source": [
        "Table_merge.isnull().any().any()"
      ],
      "execution_count": 84,
      "outputs": [
        {
          "output_type": "execute_result",
          "data": {
            "text/plain": [
              "False"
            ]
          },
          "metadata": {
            "tags": []
          },
          "execution_count": 84
        }
      ]
    },
    {
      "cell_type": "code",
      "metadata": {
        "id": "ybSWhv_gkO4o",
        "outputId": "31550e0d-602b-4108-f0cc-504843b6fba4",
        "colab": {
          "base_uri": "https://localhost:8080/"
        }
      },
      "source": [
        "print(data.shape)\n",
        "print(Table_merge.shape)"
      ],
      "execution_count": 85,
      "outputs": [
        {
          "output_type": "stream",
          "text": [
            "(541909, 8)\n",
            "(406829, 8)\n"
          ],
          "name": "stdout"
        }
      ]
    },
    {
      "cell_type": "code",
      "metadata": {
        "id": "oqVZOl1CkeGZ",
        "outputId": "3395ca17-f10e-4284-86d1-565fac9de881",
        "colab": {
          "base_uri": "https://localhost:8080/",
          "height": 402
        }
      },
      "source": [
        "# United Kingdom\n",
        "New_table = Table_merge[Table_merge['Country']=='United Kingdom']\n",
        "New_table"
      ],
      "execution_count": 98,
      "outputs": [
        {
          "output_type": "execute_result",
          "data": {
            "text/html": [
              "<div>\n",
              "<style scoped>\n",
              "    .dataframe tbody tr th:only-of-type {\n",
              "        vertical-align: middle;\n",
              "    }\n",
              "\n",
              "    .dataframe tbody tr th {\n",
              "        vertical-align: top;\n",
              "    }\n",
              "\n",
              "    .dataframe thead th {\n",
              "        text-align: right;\n",
              "    }\n",
              "</style>\n",
              "<table border=\"1\" class=\"dataframe\">\n",
              "  <thead>\n",
              "    <tr style=\"text-align: right;\">\n",
              "      <th></th>\n",
              "      <th>InvoiceNo</th>\n",
              "      <th>StockCode</th>\n",
              "      <th>Description</th>\n",
              "      <th>Quantity</th>\n",
              "      <th>InvoiceDate</th>\n",
              "      <th>UnitPrice</th>\n",
              "      <th>CustomerID</th>\n",
              "      <th>Country</th>\n",
              "    </tr>\n",
              "  </thead>\n",
              "  <tbody>\n",
              "    <tr>\n",
              "      <th>0</th>\n",
              "      <td>536365</td>\n",
              "      <td>85123A</td>\n",
              "      <td>WHITE HANGING HEART T-LIGHT HOLDER</td>\n",
              "      <td>6</td>\n",
              "      <td>12/01/2010 08:26</td>\n",
              "      <td>2.55</td>\n",
              "      <td>17850.0</td>\n",
              "      <td>United Kingdom</td>\n",
              "    </tr>\n",
              "    <tr>\n",
              "      <th>1</th>\n",
              "      <td>536365</td>\n",
              "      <td>71053</td>\n",
              "      <td>WHITE METAL LANTERN</td>\n",
              "      <td>6</td>\n",
              "      <td>12/01/2010 08:26</td>\n",
              "      <td>3.39</td>\n",
              "      <td>17850.0</td>\n",
              "      <td>United Kingdom</td>\n",
              "    </tr>\n",
              "    <tr>\n",
              "      <th>2</th>\n",
              "      <td>536365</td>\n",
              "      <td>84406B</td>\n",
              "      <td>CREAM CUPID HEARTS COAT HANGER</td>\n",
              "      <td>8</td>\n",
              "      <td>12/01/2010 08:26</td>\n",
              "      <td>2.75</td>\n",
              "      <td>17850.0</td>\n",
              "      <td>United Kingdom</td>\n",
              "    </tr>\n",
              "    <tr>\n",
              "      <th>3</th>\n",
              "      <td>536365</td>\n",
              "      <td>84029G</td>\n",
              "      <td>KNITTED UNION FLAG HOT WATER BOTTLE</td>\n",
              "      <td>6</td>\n",
              "      <td>12/01/2010 08:26</td>\n",
              "      <td>3.39</td>\n",
              "      <td>17850.0</td>\n",
              "      <td>United Kingdom</td>\n",
              "    </tr>\n",
              "    <tr>\n",
              "      <th>4</th>\n",
              "      <td>536365</td>\n",
              "      <td>84029E</td>\n",
              "      <td>RED WOOLLY HOTTIE WHITE HEART.</td>\n",
              "      <td>6</td>\n",
              "      <td>12/01/2010 08:26</td>\n",
              "      <td>3.39</td>\n",
              "      <td>17850.0</td>\n",
              "      <td>United Kingdom</td>\n",
              "    </tr>\n",
              "    <tr>\n",
              "      <th>...</th>\n",
              "      <td>...</td>\n",
              "      <td>...</td>\n",
              "      <td>...</td>\n",
              "      <td>...</td>\n",
              "      <td>...</td>\n",
              "      <td>...</td>\n",
              "      <td>...</td>\n",
              "      <td>...</td>\n",
              "    </tr>\n",
              "    <tr>\n",
              "      <th>541889</th>\n",
              "      <td>581585</td>\n",
              "      <td>22466</td>\n",
              "      <td>FAIRY TALE COTTAGE NIGHT LIGHT</td>\n",
              "      <td>12</td>\n",
              "      <td>12/09/2011 12:31</td>\n",
              "      <td>1.95</td>\n",
              "      <td>15804.0</td>\n",
              "      <td>United Kingdom</td>\n",
              "    </tr>\n",
              "    <tr>\n",
              "      <th>541890</th>\n",
              "      <td>581586</td>\n",
              "      <td>22061</td>\n",
              "      <td>LARGE CAKE STAND  HANGING STRAWBERY</td>\n",
              "      <td>8</td>\n",
              "      <td>12/09/2011 12:49</td>\n",
              "      <td>2.95</td>\n",
              "      <td>13113.0</td>\n",
              "      <td>United Kingdom</td>\n",
              "    </tr>\n",
              "    <tr>\n",
              "      <th>541891</th>\n",
              "      <td>581586</td>\n",
              "      <td>23275</td>\n",
              "      <td>SET OF 3 HANGING OWLS OLLIE BEAK</td>\n",
              "      <td>24</td>\n",
              "      <td>12/09/2011 12:49</td>\n",
              "      <td>1.25</td>\n",
              "      <td>13113.0</td>\n",
              "      <td>United Kingdom</td>\n",
              "    </tr>\n",
              "    <tr>\n",
              "      <th>541892</th>\n",
              "      <td>581586</td>\n",
              "      <td>21217</td>\n",
              "      <td>RED RETROSPOT ROUND CAKE TINS</td>\n",
              "      <td>24</td>\n",
              "      <td>12/09/2011 12:49</td>\n",
              "      <td>8.95</td>\n",
              "      <td>13113.0</td>\n",
              "      <td>United Kingdom</td>\n",
              "    </tr>\n",
              "    <tr>\n",
              "      <th>541893</th>\n",
              "      <td>581586</td>\n",
              "      <td>20685</td>\n",
              "      <td>DOORMAT RED RETROSPOT</td>\n",
              "      <td>10</td>\n",
              "      <td>12/09/2011 12:49</td>\n",
              "      <td>7.08</td>\n",
              "      <td>13113.0</td>\n",
              "      <td>United Kingdom</td>\n",
              "    </tr>\n",
              "  </tbody>\n",
              "</table>\n",
              "<p>361878 rows × 8 columns</p>\n",
              "</div>"
            ],
            "text/plain": [
              "       InvoiceNo StockCode  ... CustomerID         Country\n",
              "0         536365    85123A  ...    17850.0  United Kingdom\n",
              "1         536365     71053  ...    17850.0  United Kingdom\n",
              "2         536365    84406B  ...    17850.0  United Kingdom\n",
              "3         536365    84029G  ...    17850.0  United Kingdom\n",
              "4         536365    84029E  ...    17850.0  United Kingdom\n",
              "...          ...       ...  ...        ...             ...\n",
              "541889    581585     22466  ...    15804.0  United Kingdom\n",
              "541890    581586     22061  ...    13113.0  United Kingdom\n",
              "541891    581586     23275  ...    13113.0  United Kingdom\n",
              "541892    581586     21217  ...    13113.0  United Kingdom\n",
              "541893    581586     20685  ...    13113.0  United Kingdom\n",
              "\n",
              "[361878 rows x 8 columns]"
            ]
          },
          "metadata": {
            "tags": []
          },
          "execution_count": 98
        }
      ]
    },
    {
      "cell_type": "code",
      "metadata": {
        "id": "Vc2eh4qwlHuk",
        "outputId": "8971cb00-42c9-432a-f680-346f5f8154ab",
        "colab": {
          "base_uri": "https://localhost:8080/"
        }
      },
      "source": [
        "New_table.shape"
      ],
      "execution_count": 99,
      "outputs": [
        {
          "output_type": "execute_result",
          "data": {
            "text/plain": [
              "(361878, 8)"
            ]
          },
          "metadata": {
            "tags": []
          },
          "execution_count": 99
        }
      ]
    },
    {
      "cell_type": "code",
      "metadata": {
        "id": "tkDzqxWwyYqU"
      },
      "source": [
        "New_table = []"
      ],
      "execution_count": 2,
      "outputs": []
    },
    {
      "cell_type": "code",
      "metadata": {
        "id": "_vocM8SZpHBf",
        "outputId": "081a6cf9-34f0-4e89-a97e-8ad44a3bd931",
        "colab": {
          "base_uri": "https://localhost:8080/",
          "height": 402
        }
      },
      "source": [
        "New_table_merge = New_table[['Country', 'StockCode', 'Quantity', 'UnitPrice']]\n",
        "New_table_merge"
      ],
      "execution_count": 100,
      "outputs": [
        {
          "output_type": "execute_result",
          "data": {
            "text/html": [
              "<div>\n",
              "<style scoped>\n",
              "    .dataframe tbody tr th:only-of-type {\n",
              "        vertical-align: middle;\n",
              "    }\n",
              "\n",
              "    .dataframe tbody tr th {\n",
              "        vertical-align: top;\n",
              "    }\n",
              "\n",
              "    .dataframe thead th {\n",
              "        text-align: right;\n",
              "    }\n",
              "</style>\n",
              "<table border=\"1\" class=\"dataframe\">\n",
              "  <thead>\n",
              "    <tr style=\"text-align: right;\">\n",
              "      <th></th>\n",
              "      <th>Country</th>\n",
              "      <th>StockCode</th>\n",
              "      <th>Quantity</th>\n",
              "      <th>UnitPrice</th>\n",
              "    </tr>\n",
              "  </thead>\n",
              "  <tbody>\n",
              "    <tr>\n",
              "      <th>0</th>\n",
              "      <td>United Kingdom</td>\n",
              "      <td>85123A</td>\n",
              "      <td>6</td>\n",
              "      <td>2.55</td>\n",
              "    </tr>\n",
              "    <tr>\n",
              "      <th>1</th>\n",
              "      <td>United Kingdom</td>\n",
              "      <td>71053</td>\n",
              "      <td>6</td>\n",
              "      <td>3.39</td>\n",
              "    </tr>\n",
              "    <tr>\n",
              "      <th>2</th>\n",
              "      <td>United Kingdom</td>\n",
              "      <td>84406B</td>\n",
              "      <td>8</td>\n",
              "      <td>2.75</td>\n",
              "    </tr>\n",
              "    <tr>\n",
              "      <th>3</th>\n",
              "      <td>United Kingdom</td>\n",
              "      <td>84029G</td>\n",
              "      <td>6</td>\n",
              "      <td>3.39</td>\n",
              "    </tr>\n",
              "    <tr>\n",
              "      <th>4</th>\n",
              "      <td>United Kingdom</td>\n",
              "      <td>84029E</td>\n",
              "      <td>6</td>\n",
              "      <td>3.39</td>\n",
              "    </tr>\n",
              "    <tr>\n",
              "      <th>...</th>\n",
              "      <td>...</td>\n",
              "      <td>...</td>\n",
              "      <td>...</td>\n",
              "      <td>...</td>\n",
              "    </tr>\n",
              "    <tr>\n",
              "      <th>541889</th>\n",
              "      <td>United Kingdom</td>\n",
              "      <td>22466</td>\n",
              "      <td>12</td>\n",
              "      <td>1.95</td>\n",
              "    </tr>\n",
              "    <tr>\n",
              "      <th>541890</th>\n",
              "      <td>United Kingdom</td>\n",
              "      <td>22061</td>\n",
              "      <td>8</td>\n",
              "      <td>2.95</td>\n",
              "    </tr>\n",
              "    <tr>\n",
              "      <th>541891</th>\n",
              "      <td>United Kingdom</td>\n",
              "      <td>23275</td>\n",
              "      <td>24</td>\n",
              "      <td>1.25</td>\n",
              "    </tr>\n",
              "    <tr>\n",
              "      <th>541892</th>\n",
              "      <td>United Kingdom</td>\n",
              "      <td>21217</td>\n",
              "      <td>24</td>\n",
              "      <td>8.95</td>\n",
              "    </tr>\n",
              "    <tr>\n",
              "      <th>541893</th>\n",
              "      <td>United Kingdom</td>\n",
              "      <td>20685</td>\n",
              "      <td>10</td>\n",
              "      <td>7.08</td>\n",
              "    </tr>\n",
              "  </tbody>\n",
              "</table>\n",
              "<p>361878 rows × 4 columns</p>\n",
              "</div>"
            ],
            "text/plain": [
              "               Country StockCode  Quantity  UnitPrice\n",
              "0       United Kingdom    85123A         6       2.55\n",
              "1       United Kingdom     71053         6       3.39\n",
              "2       United Kingdom    84406B         8       2.75\n",
              "3       United Kingdom    84029G         6       3.39\n",
              "4       United Kingdom    84029E         6       3.39\n",
              "...                ...       ...       ...        ...\n",
              "541889  United Kingdom     22466        12       1.95\n",
              "541890  United Kingdom     22061         8       2.95\n",
              "541891  United Kingdom     23275        24       1.25\n",
              "541892  United Kingdom     21217        24       8.95\n",
              "541893  United Kingdom     20685        10       7.08\n",
              "\n",
              "[361878 rows x 4 columns]"
            ]
          },
          "metadata": {
            "tags": []
          },
          "execution_count": 100
        }
      ]
    },
    {
      "cell_type": "code",
      "metadata": {
        "id": "NrEBephmyS9M"
      },
      "source": [
        "New_table_merge = []"
      ],
      "execution_count": 3,
      "outputs": []
    },
    {
      "cell_type": "code",
      "metadata": {
        "id": "afBUF3j8lMGI",
        "outputId": "199c84d1-364a-43ee-c9f3-a9bffd1c8cb4",
        "colab": {
          "base_uri": "https://localhost:8080/",
          "height": 402
        }
      },
      "source": [
        "# 'Country'!='United Kingdom'\n",
        "New_table1 = Table_merge[Table_merge['Country']!='United Kingdom']\n",
        "New_table1"
      ],
      "execution_count": 101,
      "outputs": [
        {
          "output_type": "execute_result",
          "data": {
            "text/html": [
              "<div>\n",
              "<style scoped>\n",
              "    .dataframe tbody tr th:only-of-type {\n",
              "        vertical-align: middle;\n",
              "    }\n",
              "\n",
              "    .dataframe tbody tr th {\n",
              "        vertical-align: top;\n",
              "    }\n",
              "\n",
              "    .dataframe thead th {\n",
              "        text-align: right;\n",
              "    }\n",
              "</style>\n",
              "<table border=\"1\" class=\"dataframe\">\n",
              "  <thead>\n",
              "    <tr style=\"text-align: right;\">\n",
              "      <th></th>\n",
              "      <th>InvoiceNo</th>\n",
              "      <th>StockCode</th>\n",
              "      <th>Description</th>\n",
              "      <th>Quantity</th>\n",
              "      <th>InvoiceDate</th>\n",
              "      <th>UnitPrice</th>\n",
              "      <th>CustomerID</th>\n",
              "      <th>Country</th>\n",
              "    </tr>\n",
              "  </thead>\n",
              "  <tbody>\n",
              "    <tr>\n",
              "      <th>26</th>\n",
              "      <td>536370</td>\n",
              "      <td>22728</td>\n",
              "      <td>ALARM CLOCK BAKELIKE PINK</td>\n",
              "      <td>24</td>\n",
              "      <td>12/01/2010 08:45</td>\n",
              "      <td>3.75</td>\n",
              "      <td>12583.0</td>\n",
              "      <td>France</td>\n",
              "    </tr>\n",
              "    <tr>\n",
              "      <th>27</th>\n",
              "      <td>536370</td>\n",
              "      <td>22727</td>\n",
              "      <td>ALARM CLOCK BAKELIKE RED</td>\n",
              "      <td>24</td>\n",
              "      <td>12/01/2010 08:45</td>\n",
              "      <td>3.75</td>\n",
              "      <td>12583.0</td>\n",
              "      <td>France</td>\n",
              "    </tr>\n",
              "    <tr>\n",
              "      <th>28</th>\n",
              "      <td>536370</td>\n",
              "      <td>22726</td>\n",
              "      <td>ALARM CLOCK BAKELIKE GREEN</td>\n",
              "      <td>12</td>\n",
              "      <td>12/01/2010 08:45</td>\n",
              "      <td>3.75</td>\n",
              "      <td>12583.0</td>\n",
              "      <td>France</td>\n",
              "    </tr>\n",
              "    <tr>\n",
              "      <th>29</th>\n",
              "      <td>536370</td>\n",
              "      <td>21724</td>\n",
              "      <td>PANDA AND BUNNIES STICKER SHEET</td>\n",
              "      <td>12</td>\n",
              "      <td>12/01/2010 08:45</td>\n",
              "      <td>0.85</td>\n",
              "      <td>12583.0</td>\n",
              "      <td>France</td>\n",
              "    </tr>\n",
              "    <tr>\n",
              "      <th>30</th>\n",
              "      <td>536370</td>\n",
              "      <td>21883</td>\n",
              "      <td>STARS GIFT TAPE</td>\n",
              "      <td>24</td>\n",
              "      <td>12/01/2010 08:45</td>\n",
              "      <td>0.65</td>\n",
              "      <td>12583.0</td>\n",
              "      <td>France</td>\n",
              "    </tr>\n",
              "    <tr>\n",
              "      <th>...</th>\n",
              "      <td>...</td>\n",
              "      <td>...</td>\n",
              "      <td>...</td>\n",
              "      <td>...</td>\n",
              "      <td>...</td>\n",
              "      <td>...</td>\n",
              "      <td>...</td>\n",
              "      <td>...</td>\n",
              "    </tr>\n",
              "    <tr>\n",
              "      <th>541904</th>\n",
              "      <td>581587</td>\n",
              "      <td>22613</td>\n",
              "      <td>PACK OF 20 SPACEBOY NAPKINS</td>\n",
              "      <td>12</td>\n",
              "      <td>12/09/2011 12:50</td>\n",
              "      <td>0.85</td>\n",
              "      <td>12680.0</td>\n",
              "      <td>France</td>\n",
              "    </tr>\n",
              "    <tr>\n",
              "      <th>541905</th>\n",
              "      <td>581587</td>\n",
              "      <td>22899</td>\n",
              "      <td>CHILDREN'S APRON DOLLY GIRL</td>\n",
              "      <td>6</td>\n",
              "      <td>12/09/2011 12:50</td>\n",
              "      <td>2.10</td>\n",
              "      <td>12680.0</td>\n",
              "      <td>France</td>\n",
              "    </tr>\n",
              "    <tr>\n",
              "      <th>541906</th>\n",
              "      <td>581587</td>\n",
              "      <td>23254</td>\n",
              "      <td>CHILDRENS CUTLERY DOLLY GIRL</td>\n",
              "      <td>4</td>\n",
              "      <td>12/09/2011 12:50</td>\n",
              "      <td>4.15</td>\n",
              "      <td>12680.0</td>\n",
              "      <td>France</td>\n",
              "    </tr>\n",
              "    <tr>\n",
              "      <th>541907</th>\n",
              "      <td>581587</td>\n",
              "      <td>23255</td>\n",
              "      <td>CHILDRENS CUTLERY CIRCUS PARADE</td>\n",
              "      <td>4</td>\n",
              "      <td>12/09/2011 12:50</td>\n",
              "      <td>4.15</td>\n",
              "      <td>12680.0</td>\n",
              "      <td>France</td>\n",
              "    </tr>\n",
              "    <tr>\n",
              "      <th>541908</th>\n",
              "      <td>581587</td>\n",
              "      <td>22138</td>\n",
              "      <td>BAKING SET 9 PIECE RETROSPOT</td>\n",
              "      <td>3</td>\n",
              "      <td>12/09/2011 12:50</td>\n",
              "      <td>4.95</td>\n",
              "      <td>12680.0</td>\n",
              "      <td>France</td>\n",
              "    </tr>\n",
              "  </tbody>\n",
              "</table>\n",
              "<p>44951 rows × 8 columns</p>\n",
              "</div>"
            ],
            "text/plain": [
              "       InvoiceNo StockCode  ... CustomerID  Country\n",
              "26        536370     22728  ...    12583.0   France\n",
              "27        536370     22727  ...    12583.0   France\n",
              "28        536370     22726  ...    12583.0   France\n",
              "29        536370     21724  ...    12583.0   France\n",
              "30        536370     21883  ...    12583.0   France\n",
              "...          ...       ...  ...        ...      ...\n",
              "541904    581587     22613  ...    12680.0   France\n",
              "541905    581587     22899  ...    12680.0   France\n",
              "541906    581587     23254  ...    12680.0   France\n",
              "541907    581587     23255  ...    12680.0   France\n",
              "541908    581587     22138  ...    12680.0   France\n",
              "\n",
              "[44951 rows x 8 columns]"
            ]
          },
          "metadata": {
            "tags": []
          },
          "execution_count": 101
        }
      ]
    },
    {
      "cell_type": "code",
      "metadata": {
        "id": "3Jub67HjlZaC",
        "outputId": "bde99e15-a0c4-4ff2-905f-2b52fe86e667",
        "colab": {
          "base_uri": "https://localhost:8080/"
        }
      },
      "source": [
        "New_table1.shape"
      ],
      "execution_count": 102,
      "outputs": [
        {
          "output_type": "execute_result",
          "data": {
            "text/plain": [
              "(44951, 8)"
            ]
          },
          "metadata": {
            "tags": []
          },
          "execution_count": 102
        }
      ]
    },
    {
      "cell_type": "code",
      "metadata": {
        "id": "-0cBAFdTyEFR"
      },
      "source": [
        "New_table1 = []"
      ],
      "execution_count": 4,
      "outputs": []
    },
    {
      "cell_type": "code",
      "metadata": {
        "id": "8vYu_YlfpkI2",
        "outputId": "f5f0a057-f800-4d46-abaa-55c6221b070e",
        "colab": {
          "base_uri": "https://localhost:8080/",
          "height": 402
        }
      },
      "source": [
        "New_table_merge1 = New_table1[['Country', 'StockCode', 'Quantity', 'UnitPrice']]\n",
        "New_table_merge1"
      ],
      "execution_count": 105,
      "outputs": [
        {
          "output_type": "execute_result",
          "data": {
            "text/html": [
              "<div>\n",
              "<style scoped>\n",
              "    .dataframe tbody tr th:only-of-type {\n",
              "        vertical-align: middle;\n",
              "    }\n",
              "\n",
              "    .dataframe tbody tr th {\n",
              "        vertical-align: top;\n",
              "    }\n",
              "\n",
              "    .dataframe thead th {\n",
              "        text-align: right;\n",
              "    }\n",
              "</style>\n",
              "<table border=\"1\" class=\"dataframe\">\n",
              "  <thead>\n",
              "    <tr style=\"text-align: right;\">\n",
              "      <th></th>\n",
              "      <th>Country</th>\n",
              "      <th>StockCode</th>\n",
              "      <th>Quantity</th>\n",
              "      <th>UnitPrice</th>\n",
              "    </tr>\n",
              "  </thead>\n",
              "  <tbody>\n",
              "    <tr>\n",
              "      <th>26</th>\n",
              "      <td>France</td>\n",
              "      <td>22728</td>\n",
              "      <td>24</td>\n",
              "      <td>3.75</td>\n",
              "    </tr>\n",
              "    <tr>\n",
              "      <th>27</th>\n",
              "      <td>France</td>\n",
              "      <td>22727</td>\n",
              "      <td>24</td>\n",
              "      <td>3.75</td>\n",
              "    </tr>\n",
              "    <tr>\n",
              "      <th>28</th>\n",
              "      <td>France</td>\n",
              "      <td>22726</td>\n",
              "      <td>12</td>\n",
              "      <td>3.75</td>\n",
              "    </tr>\n",
              "    <tr>\n",
              "      <th>29</th>\n",
              "      <td>France</td>\n",
              "      <td>21724</td>\n",
              "      <td>12</td>\n",
              "      <td>0.85</td>\n",
              "    </tr>\n",
              "    <tr>\n",
              "      <th>30</th>\n",
              "      <td>France</td>\n",
              "      <td>21883</td>\n",
              "      <td>24</td>\n",
              "      <td>0.65</td>\n",
              "    </tr>\n",
              "    <tr>\n",
              "      <th>...</th>\n",
              "      <td>...</td>\n",
              "      <td>...</td>\n",
              "      <td>...</td>\n",
              "      <td>...</td>\n",
              "    </tr>\n",
              "    <tr>\n",
              "      <th>541904</th>\n",
              "      <td>France</td>\n",
              "      <td>22613</td>\n",
              "      <td>12</td>\n",
              "      <td>0.85</td>\n",
              "    </tr>\n",
              "    <tr>\n",
              "      <th>541905</th>\n",
              "      <td>France</td>\n",
              "      <td>22899</td>\n",
              "      <td>6</td>\n",
              "      <td>2.10</td>\n",
              "    </tr>\n",
              "    <tr>\n",
              "      <th>541906</th>\n",
              "      <td>France</td>\n",
              "      <td>23254</td>\n",
              "      <td>4</td>\n",
              "      <td>4.15</td>\n",
              "    </tr>\n",
              "    <tr>\n",
              "      <th>541907</th>\n",
              "      <td>France</td>\n",
              "      <td>23255</td>\n",
              "      <td>4</td>\n",
              "      <td>4.15</td>\n",
              "    </tr>\n",
              "    <tr>\n",
              "      <th>541908</th>\n",
              "      <td>France</td>\n",
              "      <td>22138</td>\n",
              "      <td>3</td>\n",
              "      <td>4.95</td>\n",
              "    </tr>\n",
              "  </tbody>\n",
              "</table>\n",
              "<p>44951 rows × 4 columns</p>\n",
              "</div>"
            ],
            "text/plain": [
              "       Country StockCode  Quantity  UnitPrice\n",
              "26      France     22728        24       3.75\n",
              "27      France     22727        24       3.75\n",
              "28      France     22726        12       3.75\n",
              "29      France     21724        12       0.85\n",
              "30      France     21883        24       0.65\n",
              "...        ...       ...       ...        ...\n",
              "541904  France     22613        12       0.85\n",
              "541905  France     22899         6       2.10\n",
              "541906  France     23254         4       4.15\n",
              "541907  France     23255         4       4.15\n",
              "541908  France     22138         3       4.95\n",
              "\n",
              "[44951 rows x 4 columns]"
            ]
          },
          "metadata": {
            "tags": []
          },
          "execution_count": 105
        }
      ]
    },
    {
      "cell_type": "code",
      "metadata": {
        "id": "hEFU7Qayyg4E"
      },
      "source": [
        "New_table_merge1 = []"
      ],
      "execution_count": 5,
      "outputs": []
    },
    {
      "cell_type": "code",
      "metadata": {
        "id": "Vl-NzYFcn5h3",
        "outputId": "c4aec0a9-4bbe-47d2-fdd9-a7ded29636a8",
        "colab": {
          "base_uri": "https://localhost:8080/"
        }
      },
      "source": [
        "transacs = data.groupby([New_table_merge['Country']])['UnitPrice'].apply(list)\n",
        "transacs"
      ],
      "execution_count": 106,
      "outputs": [
        {
          "output_type": "execute_result",
          "data": {
            "text/plain": [
              "Country\n",
              "United Kingdom    [2.55, 3.39, 2.75, 3.39, 3.39, 7.65, 4.25, 1.8...\n",
              "Name: UnitPrice, dtype: object"
            ]
          },
          "metadata": {
            "tags": []
          },
          "execution_count": 106
        }
      ]
    },
    {
      "cell_type": "code",
      "metadata": {
        "id": "_QASiNoXqoM9",
        "outputId": "6c77872a-bb6e-43b4-be77-4584c38f3f1c",
        "colab": {
          "base_uri": "https://localhost:8080/"
        }
      },
      "source": [
        "transacs1 = data.groupby([New_table_merge1['Country']])['UnitPrice'].apply(list)\n",
        "transacs1"
      ],
      "execution_count": 107,
      "outputs": [
        {
          "output_type": "execute_result",
          "data": {
            "text/plain": [
              "Country\n",
              "Australia               [8.5, 4.95, 1.25, 5.45, 6.35, 5.95, 5.95, 8.5,...\n",
              "Austria                 [0.42, 8.5, 1.45, 0.85, 4.25, 3.75, 2.95, 2.95...\n",
              "Bahrain                 [1.25, 1.25, 1.25, 9.95, 4.95, 12.75, 1.65, 2....\n",
              "Belgium                 [2.1, 9.95, 0.42, 0.42, 0.42, 0.55, 0.55, 1.65...\n",
              "Brazil                  [10.95, 2.55, 2.55, 2.55, 6.75, 3.39, 1.95, 1....\n",
              "Canada                  [1.95, 1.65, 4.25, 1.69, 0.65, 2.1, 0.85, 1.69...\n",
              "Channel Islands         [7.95, 7.95, 7.95, 7.95, 1.69, 4.95, 4.95, 2.5...\n",
              "Cyprus                  [2.55, 1.25, 1.25, 1.25, 1.25, 1.25, 1.25, 2.9...\n",
              "Czech Republic          [2.55, 0.65, 0.85, 1.25, 1.45, 0.85, 1.49, 1.2...\n",
              "Denmark                 [14.95, 3.75, 1.65, 7.95, 1.25, 1.25, 2.1, 3.7...\n",
              "EIRE                    [9.95, 2.95, 2.55, 0.85, 2.25, 2.25, 1.45, 1.9...\n",
              "European Community      [14.95, 7.95, 7.95, 2.95, 2.95, 2.95, 6.75, 6....\n",
              "Finland                 [0.55, 0.55, 0.55, 0.42, 0.55, 0.42, 0.29, 0.2...\n",
              "France                  [3.75, 3.75, 3.75, 0.85, 0.65, 0.85, 1.25, 2.9...\n",
              "Germany                 [2.95, 2.55, 0.85, 1.65, 1.95, 1.65, 0.42, 1.9...\n",
              "Greece                  [2.55, 2.55, 2.95, 4.25, 8.49, 8.5, 12.75, 2.9...\n",
              "Iceland                 [2.1, 4.25, 3.25, 0.65, 1.25, 1.25, 1.25, 1.25...\n",
              "Israel                  [3.81, 4.25, 0.85, 1.95, 1.65, 1.25, 1.95, 1.9...\n",
              "Italy                   [1.25, 1.25, 1.65, 1.25, 2.1, 2.95, 2.95, 1.25...\n",
              "Japan                   [2.55, 0.42, 0.42, 0.42, 0.42, 0.42, 2.55, 1.6...\n",
              "Lebanon                 [1.45, 1.69, 2.1, 5.95, 5.95, 2.55, 2.95, 8.5,...\n",
              "Lithuania               [1.25, 1.25, 5.95, 5.95, 5.95, 3.25, 3.25, 3.2...\n",
              "Malta                   [4.95, 2.95, 2.95, 1.25, 0.85, 4.25, 4.25, 4.2...\n",
              "Netherlands             [1.85, 15.0, 0.29, 0.29, 4.95, 1.95, 0.85, 2.1...\n",
              "Norway                  [0.42, 1.06, 2.1, 1.95, 1.65, 1.65, 1.65, 1.65...\n",
              "Poland                  [2.55, 1.25, 1.45, 1.49, 0.85, 8.5, 1.45, 1.45...\n",
              "Portugal                [2.95, 1.65, 1.65, 1.25, 1.25, 28.0, 1.65, 1.9...\n",
              "RSA                     [0.85, 1.69, 4.15, 1.65, 2.08, 0.85, 2.95, 1.4...\n",
              "Saudi Arabia            [0.42, 2.95, 2.95, 2.95, 1.65, 1.65, 1.65, 5.4...\n",
              "Singapore               [0.36, 2.95, 2.95, 0.21, 0.21, 0.21, 0.21, 3.7...\n",
              "Spain                   [1.65, 1.45, 1.65, 1.65, 1.45, 29.95, 2.1, 1.2...\n",
              "Sweden                  [4.95, 4.95, 0.29, 0.55, 0.55, 0.55, 0.55, 0.5...\n",
              "Switzerland             [2.95, 1.65, 1.65, 1.25, 7.95, 40.0, 4.65, 4.9...\n",
              "USA                     [3.95, 1.45, 1.45, 4.95, 1.25, 2.55, 3.25, 3.2...\n",
              "United Arab Emirates    [4.95, 7.95, 2.55, 1.45, 1.45, 2.1, 2.95, 2.08...\n",
              "Unspecified             [7.95, 7.95, 7.95, 0.55, 0.55, 0.55, 0.55, 0.5...\n",
              "Name: UnitPrice, dtype: object"
            ]
          },
          "metadata": {
            "tags": []
          },
          "execution_count": 107
        }
      ]
    },
    {
      "cell_type": "code",
      "metadata": {
        "id": "zp7DVYQbqwW9",
        "outputId": "507aef2e-0fd0-4b02-e57b-ad144387a516",
        "colab": {
          "base_uri": "https://localhost:8080/"
        }
      },
      "source": [
        "!pip install apyori"
      ],
      "execution_count": 112,
      "outputs": [
        {
          "output_type": "stream",
          "text": [
            "Requirement already satisfied: apyori in /usr/local/lib/python3.6/dist-packages (1.1.2)\n"
          ],
          "name": "stdout"
        }
      ]
    },
    {
      "cell_type": "code",
      "metadata": {
        "id": "oeKrLm2wq0Nw"
      },
      "source": [
        "from apyori import apriori"
      ],
      "execution_count": 113,
      "outputs": []
    },
    {
      "cell_type": "code",
      "metadata": {
        "id": "jdAHUvaqyrm3"
      },
      "source": [
        "out = list(apriori(transacs, min_support = 0.07, min_confidence = 0.7))\n",
        "out"
      ],
      "execution_count": null,
      "outputs": []
    },
    {
      "cell_type": "markdown",
      "metadata": {
        "id": "20URqtcl_d2C"
      },
      "source": [
        "เนื่องจากคนที่จะซื้อสินค้า {'...', '...'} มีความน่าจะเป็นคือ ...\n",
        "และถ้า lift > 1 ทุกคู่ ดังนั้นจะมีโปรโมชั่นให้ ถ้าลูกค้าซื้อสินค้าคู่ดังกล่าวสะสมครบ 10 ครั้ง ทางร้านจะแถมสินค้า 1 คู่ให้ โดยลูกค้าสามารถเลือกคู่ใดคู่หนึ่งได้ฟรี"
      ]
    },
    {
      "cell_type": "code",
      "metadata": {
        "id": "bZbHIZP1satE",
        "outputId": "745e64bb-ebfe-403b-fc07-d853cab42a71",
        "colab": {
          "base_uri": "https://localhost:8080/",
          "height": 387
        }
      },
      "source": [
        "out1 = list(apriori(transacs1, min_support = 0.01, min_confidence = 0.7))\n",
        "out1"
      ],
      "execution_count": 114,
      "outputs": [
        {
          "output_type": "error",
          "ename": "KeyboardInterrupt",
          "evalue": "ignored",
          "traceback": [
            "\u001b[0;31m---------------------------------------------------------------------------\u001b[0m",
            "\u001b[0;31mKeyboardInterrupt\u001b[0m                         Traceback (most recent call last)",
            "\u001b[0;32m/usr/local/lib/python3.6/dist-packages/IPython/core/interactiveshell.py\u001b[0m in \u001b[0;36mrun_code\u001b[0;34m(self, code_obj, result)\u001b[0m\n\u001b[1;32m   2881\u001b[0m                 \u001b[0;31m#rprint('Running code', repr(code_obj)) # dbg\u001b[0m\u001b[0;34m\u001b[0m\u001b[0;34m\u001b[0m\u001b[0;34m\u001b[0m\u001b[0m\n\u001b[0;32m-> 2882\u001b[0;31m                 \u001b[0mexec\u001b[0m\u001b[0;34m(\u001b[0m\u001b[0mcode_obj\u001b[0m\u001b[0;34m,\u001b[0m \u001b[0mself\u001b[0m\u001b[0;34m.\u001b[0m\u001b[0muser_global_ns\u001b[0m\u001b[0;34m,\u001b[0m \u001b[0mself\u001b[0m\u001b[0;34m.\u001b[0m\u001b[0muser_ns\u001b[0m\u001b[0;34m)\u001b[0m\u001b[0;34m\u001b[0m\u001b[0;34m\u001b[0m\u001b[0m\n\u001b[0m\u001b[1;32m   2883\u001b[0m             \u001b[0;32mfinally\u001b[0m\u001b[0;34m:\u001b[0m\u001b[0;34m\u001b[0m\u001b[0;34m\u001b[0m\u001b[0m\n",
            "\u001b[0;32m<ipython-input-114-ae8cc54f748a>\u001b[0m in \u001b[0;36m<module>\u001b[0;34m()\u001b[0m\n\u001b[0;32m----> 1\u001b[0;31m \u001b[0mout1\u001b[0m \u001b[0;34m=\u001b[0m \u001b[0mlist\u001b[0m\u001b[0;34m(\u001b[0m\u001b[0mapriori\u001b[0m\u001b[0;34m(\u001b[0m\u001b[0mtransacs1\u001b[0m\u001b[0;34m,\u001b[0m \u001b[0mmin_support\u001b[0m \u001b[0;34m=\u001b[0m \u001b[0;36m0.01\u001b[0m\u001b[0;34m,\u001b[0m \u001b[0mmin_confidence\u001b[0m \u001b[0;34m=\u001b[0m \u001b[0;36m0.7\u001b[0m\u001b[0;34m)\u001b[0m\u001b[0;34m)\u001b[0m\u001b[0;34m\u001b[0m\u001b[0;34m\u001b[0m\u001b[0m\n\u001b[0m\u001b[1;32m      2\u001b[0m \u001b[0mout1\u001b[0m\u001b[0;34m\u001b[0m\u001b[0;34m\u001b[0m\u001b[0m\n",
            "\u001b[0;32m/usr/local/lib/python3.6/dist-packages/apyori.py\u001b[0m in \u001b[0;36mapriori\u001b[0;34m(transactions, **kwargs)\u001b[0m\n\u001b[1;32m    285\u001b[0m     \u001b[0;31m# Calculate ordered stats.\u001b[0m\u001b[0;34m\u001b[0m\u001b[0;34m\u001b[0m\u001b[0;34m\u001b[0m\u001b[0m\n\u001b[0;32m--> 286\u001b[0;31m     \u001b[0;32mfor\u001b[0m \u001b[0msupport_record\u001b[0m \u001b[0;32min\u001b[0m \u001b[0msupport_records\u001b[0m\u001b[0;34m:\u001b[0m\u001b[0;34m\u001b[0m\u001b[0;34m\u001b[0m\u001b[0m\n\u001b[0m\u001b[1;32m    287\u001b[0m         ordered_statistics = list(\n",
            "\u001b[0;32m/usr/local/lib/python3.6/dist-packages/apyori.py\u001b[0m in \u001b[0;36mgen_support_records\u001b[0;34m(transaction_manager, min_support, **kwargs)\u001b[0m\n\u001b[1;32m    198\u001b[0m             \u001b[0;32mbreak\u001b[0m\u001b[0;34m\u001b[0m\u001b[0;34m\u001b[0m\u001b[0m\n\u001b[0;32m--> 199\u001b[0;31m         \u001b[0mcandidates\u001b[0m \u001b[0;34m=\u001b[0m \u001b[0m_create_next_candidates\u001b[0m\u001b[0;34m(\u001b[0m\u001b[0mrelations\u001b[0m\u001b[0;34m,\u001b[0m \u001b[0mlength\u001b[0m\u001b[0;34m)\u001b[0m\u001b[0;34m\u001b[0m\u001b[0;34m\u001b[0m\u001b[0m\n\u001b[0m\u001b[1;32m    200\u001b[0m \u001b[0;34m\u001b[0m\u001b[0m\n",
            "\u001b[0;32m/usr/local/lib/python3.6/dist-packages/apyori.py\u001b[0m in \u001b[0;36mcreate_next_candidates\u001b[0;34m(prev_candidates, length)\u001b[0m\n\u001b[1;32m    157\u001b[0m     next_candidates = [\n\u001b[0;32m--> 158\u001b[0;31m         \u001b[0mcandidate\u001b[0m \u001b[0;32mfor\u001b[0m \u001b[0mcandidate\u001b[0m \u001b[0;32min\u001b[0m \u001b[0mtmp_next_candidates\u001b[0m\u001b[0;34m\u001b[0m\u001b[0;34m\u001b[0m\u001b[0m\n\u001b[0m\u001b[1;32m    159\u001b[0m         if all(\n",
            "\u001b[0;32m/usr/local/lib/python3.6/dist-packages/apyori.py\u001b[0m in \u001b[0;36m<listcomp>\u001b[0;34m(.0)\u001b[0m\n\u001b[1;32m    160\u001b[0m             \u001b[0mfrozenset\u001b[0m\u001b[0;34m(\u001b[0m\u001b[0mx\u001b[0m\u001b[0;34m)\u001b[0m \u001b[0;32min\u001b[0m \u001b[0mprev_candidates\u001b[0m\u001b[0;34m\u001b[0m\u001b[0;34m\u001b[0m\u001b[0m\n\u001b[0;32m--> 161\u001b[0;31m             for x in combinations(candidate, length - 1))\n\u001b[0m\u001b[1;32m    162\u001b[0m     ]\n",
            "\u001b[0;32m/usr/local/lib/python3.6/dist-packages/apyori.py\u001b[0m in \u001b[0;36m<genexpr>\u001b[0;34m(.0)\u001b[0m\n\u001b[1;32m    160\u001b[0m             \u001b[0mfrozenset\u001b[0m\u001b[0;34m(\u001b[0m\u001b[0mx\u001b[0m\u001b[0;34m)\u001b[0m \u001b[0;32min\u001b[0m \u001b[0mprev_candidates\u001b[0m\u001b[0;34m\u001b[0m\u001b[0;34m\u001b[0m\u001b[0m\n\u001b[0;32m--> 161\u001b[0;31m             for x in combinations(candidate, length - 1))\n\u001b[0m\u001b[1;32m    162\u001b[0m     ]\n",
            "\u001b[0;31mKeyboardInterrupt\u001b[0m: ",
            "\nDuring handling of the above exception, another exception occurred:\n",
            "\u001b[0;31mKeyboardInterrupt\u001b[0m                         Traceback (most recent call last)",
            "\u001b[0;31mKeyboardInterrupt\u001b[0m: "
          ]
        }
      ]
    },
    {
      "cell_type": "markdown",
      "metadata": {
        "id": "7gV1772R_FXC"
      },
      "source": [
        "เนื่องจากคนที่จะซื้อสินค้า {'...', '...'} มีความน่าจะเป็นคือ ...\n",
        "และถ้า lift > 1 ทุกคู่ ดังนั้นจะมีโปรโมชั่นให้ ถ้าลูกค้าซื้อสินค้าคู่ดังกล่าวสะสมครบ 10 ครั้ง ทางร้านจะแถมสินค้า 1 คู่ให้ โดยลูกค้าสามารถเลือกคู่ใดคู่หนึ่งได้ฟรี"
      ]
    },
    {
      "cell_type": "markdown",
      "metadata": {
        "id": "uhgCU6TcKX9v"
      },
      "source": [
        "3. เขียนคำศัพท์ที่ได้เรียนในวิชาพร้อมทั้งคำนิยามที่เป็นคำพูดของนักศึกษาเอง (ห้าม search google) 20 คำ\n",
        "\n",
        "(คำละ 0.5 คะแนน)"
      ]
    },
    {
      "cell_type": "markdown",
      "metadata": {
        "id": "VvwPsREzbkrU"
      },
      "source": [
        "#### 1) Data Mining คือ การทำเหมืองข้อมูล สกัดเอาความรู้ที่ซ่อนอยู่ในข้อมูลออกมา\n",
        "#### 2) Mining คือการทำเหมืองแร่\n",
        "#### 3) data base คือเก็บข้อมูลไม่ให้มัน้ำซ้อน ไม่ให้ข้อมูลหายไป\n",
        "#### 4) search กับ query คือการหาการสอบถามเหมือนกัน ไม่ถือว่าเป็น data mining\n",
        "#### 5) data intergration เอาข้อมูลจากหลายๆแหล่งมารวมกัน สามารถเอาข้อมูลมารวมกันได้ เช่น ดูจากเลขบัตรประชาชนของแต่ละบุคคล จัดให้ข้อมูลเป็นรูปแบบเดียวกัน\n",
        "#### 6) data warehouse คือเก็บข้อมูลเอาไว้ตอบโจทย์ทางธุรกิจ ผู้บริหารสามารถเข้ามาดูได้ จะโชว์ข้อมูลในมุมต่างๆ\n",
        "#### 7) Classficaation : ทำนายโดยที่เรารู้ผลอยู่แล้ว คือเรารู้ว่าอยู่กลุ่มไหน จะแยกอย่างไรว่าอันไหนอยู่กลุ่มไหน\n",
        "#### 8) Clustering : จัดกลุ่มที่มีลักษณะเหมือนกันให้อยู่ร่วมกัน เหมือนกันอยู่ด้วยกัน คือมีความสัมพันธ์กัน\n",
        "#### 9) data streams : ข้อมูลที่เป็นกระแสที่ไหลไปเรื่อยๆ\n",
        "#### 10) Spatial data : ข้อมูลเชิงพื้นที่ เช่น แผนที่มีแกน X กับแกน Y และรูปภาพ\n",
        "#### 11) Text database : ข้อมูลที่เป็นข้อความ เช่น ค้นหาข้อมูลใน wiki แล้วข้อมูลถูกอธิบายด้วยข้อความยาวๆ\n",
        "#### 12) Outlier หาข้อมูลที่หายไป ผิดปกติ เช่น การกรอกข้อมูลผิดพลาด\n",
        "#### 13) Sparsity : จุดไหนที่ไม่มีข้อมูลก็จะเป็นช่องว่าง\n",
        "#### 14) Resolution : สเกลมีการแปลผลของข้อมูล สเกล (scale) มีความสำคัญ\n",
        "#### 15) Distribution : สามารถอธิบายข้อมูลด้วยค่ากลาง\n",
        "#### 16) Transaction data เป็นการเก็บข้อมูลที่ไม่มีหัวข้อ แค่เรียงๆ ขั้นด้วย comma\n",
        "#### 17) Data matrix เป็นการเก็บข้อมูลที่ตารางมีหัวข้อสองฝั่ง\n",
        "#### 18) Relational records เป็นการใช้ Index หรือ ID ใช้เชื่อมข้อมูลของตารางนึงไปยังตารางนึง เช่น เลขบัตรประชาชน\n",
        "#### 19) Document data เป็นการเก็บข้อมูลที่มี attributes ด้านบน และ ตัวบอกตัวตนด้านข้าง เหมือน ตารางทั่วไป\n",
        "#### 20) Boxplot ใช้แสดงสาระที่สำคัญของข้อมูลคือ ค่ากลาง ค่าการกระจาย สัดส่วนข้อมูลที่มากหรือน้อยกว่าค่ากลาง ( Symmetry ) รวมทั้งข้อมูลที่อยู่ห่างจากกลุ่มมากๆ (Outlier) จะแสดงข้อมูลทั้งหมดออกมา 3 Quartiles โดยมีการจัดเรียงอันดับของข้อมูลแล้ว ข้อมูลที่ตกอยู่ภายใต้ Q1 (Quartile 1) คือข้อมูล 25% แรกจากค่าต่ำขึ้นมา"
      ]
    }
  ]
}
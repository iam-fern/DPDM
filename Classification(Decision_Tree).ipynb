{
  "nbformat": 4,
  "nbformat_minor": 0,
  "metadata": {
    "colab": {
      "name": "Classification(Decision Tree).ipynb",
      "provenance": [],
      "authorship_tag": "ABX9TyPBVwX5ZUbMpPdiaNhnij8Z",
      "include_colab_link": true
    },
    "kernelspec": {
      "name": "python3",
      "display_name": "Python 3"
    }
  },
  "cells": [
    {
      "cell_type": "markdown",
      "metadata": {
        "id": "view-in-github",
        "colab_type": "text"
      },
      "source": [
        "<a href=\"https://colab.research.google.com/github/iam-fern/DPDM/blob/master/Classification(Decision_Tree).ipynb\" target=\"_parent\"><img src=\"https://colab.research.google.com/assets/colab-badge.svg\" alt=\"Open In Colab\"/></a>"
      ]
    },
    {
      "cell_type": "markdown",
      "metadata": {
        "id": "tyMaDt3bq8Oi"
      },
      "source": [
        "## Load Data"
      ]
    },
    {
      "cell_type": "code",
      "metadata": {
        "id": "48eUHTmVNzlY"
      },
      "source": [
        "from sklearn import datasets\n",
        "iris_data = datasets.load_iris()\n",
        "X = iris_data['data']\n",
        "y = iris_data['target']"
      ],
      "execution_count": 2,
      "outputs": []
    },
    {
      "cell_type": "markdown",
      "metadata": {
        "id": "bTh7zLyePcMm"
      },
      "source": [
        "## Import"
      ]
    },
    {
      "cell_type": "code",
      "metadata": {
        "id": "agDGduIOPSIJ"
      },
      "source": [
        "from sklearn.tree import DecisionTreeClassifier"
      ],
      "execution_count": 3,
      "outputs": []
    },
    {
      "cell_type": "markdown",
      "metadata": {
        "id": "D1D18QfIQGXo"
      },
      "source": [
        "## Define : ตั้งค่าว่าต้องมีต้นไม้เป็นเท่าไหร่"
      ]
    },
    {
      "cell_type": "code",
      "metadata": {
        "id": "m_WbUeZfPbIz"
      },
      "source": [
        "mytree = DecisionTreeClassifier(criterion='entropy', max_depth=2)"
      ],
      "execution_count": 4,
      "outputs": []
    },
    {
      "cell_type": "markdown",
      "metadata": {
        "id": "oOE0cGCOQPz-"
      },
      "source": [
        "## Train"
      ]
    },
    {
      "cell_type": "code",
      "metadata": {
        "id": "5xKUGnkjQJXP",
        "colab": {
          "base_uri": "https://localhost:8080/"
        },
        "outputId": "f68d3e44-aa7e-46c1-900b-e9ffee1d68f4"
      },
      "source": [
        "mytree.fit(X[:-2,:], y[:-2])"
      ],
      "execution_count": 5,
      "outputs": [
        {
          "output_type": "execute_result",
          "data": {
            "text/plain": [
              "DecisionTreeClassifier(ccp_alpha=0.0, class_weight=None, criterion='entropy',\n",
              "                       max_depth=2, max_features=None, max_leaf_nodes=None,\n",
              "                       min_impurity_decrease=0.0, min_impurity_split=None,\n",
              "                       min_samples_leaf=1, min_samples_split=2,\n",
              "                       min_weight_fraction_leaf=0.0, presort='deprecated',\n",
              "                       random_state=None, splitter='best')"
            ]
          },
          "metadata": {
            "tags": []
          },
          "execution_count": 5
        }
      ]
    },
    {
      "cell_type": "markdown",
      "metadata": {
        "id": "QB6TtKsPQrV4"
      },
      "source": [
        "## Test"
      ]
    },
    {
      "cell_type": "code",
      "metadata": {
        "id": "Pnl5XUI3Qido",
        "colab": {
          "base_uri": "https://localhost:8080/"
        },
        "outputId": "744add08-e34a-4d05-c74c-bc9234add3f8"
      },
      "source": [
        "mytree.predict(X[-2:,:])"
      ],
      "execution_count": 6,
      "outputs": [
        {
          "output_type": "execute_result",
          "data": {
            "text/plain": [
              "array([2, 2])"
            ]
          },
          "metadata": {
            "tags": []
          },
          "execution_count": 6
        }
      ]
    },
    {
      "cell_type": "markdown",
      "metadata": {
        "id": "ewoqqiuOQyX-"
      },
      "source": [
        "## Draw Tree"
      ]
    },
    {
      "cell_type": "code",
      "metadata": {
        "id": "PZ4mbbJ1Qp-R"
      },
      "source": [
        "from sklearn.tree import plot_tree"
      ],
      "execution_count": 7,
      "outputs": []
    },
    {
      "cell_type": "code",
      "metadata": {
        "id": "sCvR0jiKQ7C5",
        "colab": {
          "base_uri": "https://localhost:8080/",
          "height": 332
        },
        "outputId": "56aaab62-15c3-4088-e5a7-8601b7cf22f6"
      },
      "source": [
        "plot_tree(mytree)     #กรอบสี่เหลี่ยมด้านล่างซ้ายมือคือ Yes ขวามือคือ No"
      ],
      "execution_count": 8,
      "outputs": [
        {
          "output_type": "execute_result",
          "data": {
            "text/plain": [
              "[Text(133.92000000000002, 181.2, 'X[3] <= 0.8\\nentropy = 1.585\\nsamples = 148\\nvalue = [50, 50, 48]'),\n",
              " Text(66.96000000000001, 108.72, 'entropy = 0.0\\nsamples = 50\\nvalue = [50, 0, 0]'),\n",
              " Text(200.88000000000002, 108.72, 'X[3] <= 1.75\\nentropy = 1.0\\nsamples = 98\\nvalue = [0, 50, 48]'),\n",
              " Text(133.92000000000002, 36.23999999999998, 'entropy = 0.445\\nsamples = 54\\nvalue = [0, 49, 5]'),\n",
              " Text(267.84000000000003, 36.23999999999998, 'entropy = 0.156\\nsamples = 44\\nvalue = [0, 1, 43]')]"
            ]
          },
          "metadata": {
            "tags": []
          },
          "execution_count": 8
        },
        {
          "output_type": "display_data",
          "data": {
            "image/png": "[encoded data removed]",
            "text/plain": [
              "<Figure size 432x288 with 1 Axes>"
            ]
          },
          "metadata": {
            "tags": [],
            "needs_background": "light"
          }
        }
      ]
    },
    {
      "cell_type": "code",
      "metadata": {
        "id": "QXrIj0T5Q-Hp",
        "colab": {
          "base_uri": "https://localhost:8080/"
        },
        "outputId": "c721ea37-4bb8-4698-f88b-ebf8f2d427e0"
      },
      "source": [
        "X[-2:,:]      #ถ้าเอาข้อมูลด้านล่างนี้แถวแรกไปใส่ในกล่องการวิเคราะห์ด้านบน แถวที่ 1 จะได้ว่า 5.4 > 2.45 ดังนั้นบรรทัดที่ 2 ได้กล่องฝั่งขวามือ จากนั้นในบรรทัดที่ 2 ของกล่องขวามือระบุว่า X[3]<=1.75 \n",
        "              #แต่แถวที่ 1 X[3]=2.3 ไม่น้อยกว่าหรือเท่ากับ 1.75 ดังนั้นจะได้บรรทัดที่ 3 คือกล่องขวามือ และอ่านค่า value = [0,1,43] หมายความว่า มีคลาส 0 อยู่ 1 คลาส 1 อยู่ 1 และคลาส 2 อยู่ 43"
      ],
      "execution_count": 9,
      "outputs": [
        {
          "output_type": "execute_result",
          "data": {
            "text/plain": [
              "array([[6.2, 3.4, 5.4, 2.3],\n",
              "       [5.9, 3. , 5.1, 1.8]])"
            ]
          },
          "metadata": {
            "tags": []
          },
          "execution_count": 9
        }
      ]
    },
    {
      "cell_type": "code",
      "metadata": {
        "id": "q_GamzIJRLG_"
      },
      "source": [
        "myTree = DecisionTreeClassifier()     #criterion='entropy',max_depth=2"
      ],
      "execution_count": 10,
      "outputs": []
    },
    {
      "cell_type": "code",
      "metadata": {
        "id": "KZDYkSp9r-F1",
        "outputId": "93790e67-dcb8-47c0-a9af-5e9a8f2f6e34",
        "colab": {
          "base_uri": "https://localhost:8080/"
        }
      },
      "source": [
        "myTree.fit(X[:-2,:], y[:-2])"
      ],
      "execution_count": 12,
      "outputs": [
        {
          "output_type": "execute_result",
          "data": {
            "text/plain": [
              "DecisionTreeClassifier(ccp_alpha=0.0, class_weight=None, criterion='gini',\n",
              "                       max_depth=None, max_features=None, max_leaf_nodes=None,\n",
              "                       min_impurity_decrease=0.0, min_impurity_split=None,\n",
              "                       min_samples_leaf=1, min_samples_split=2,\n",
              "                       min_weight_fraction_leaf=0.0, presort='deprecated',\n",
              "                       random_state=None, splitter='best')"
            ]
          },
          "metadata": {
            "tags": []
          },
          "execution_count": 12
        }
      ]
    },
    {
      "cell_type": "code",
      "metadata": {
        "id": "oxcoyyT0st7r",
        "outputId": "5c08fac4-102c-4f60-b366-acdd05b6d764",
        "colab": {
          "base_uri": "https://localhost:8080/"
        }
      },
      "source": [
        "myTree.predict(X[-2:,:])"
      ],
      "execution_count": 13,
      "outputs": [
        {
          "output_type": "execute_result",
          "data": {
            "text/plain": [
              "array([2, 2])"
            ]
          },
          "metadata": {
            "tags": []
          },
          "execution_count": 13
        }
      ]
    },
    {
      "cell_type": "code",
      "metadata": {
        "id": "vhoWiS9_szFs"
      },
      "source": [
        "from sklearn.tree import plot_tree"
      ],
      "execution_count": 14,
      "outputs": []
    },
    {
      "cell_type": "code",
      "metadata": {
        "id": "OOcR54F4s3B7",
        "outputId": "f40696e9-a985-40ed-fdc7-bab00740d648",
        "colab": {
          "base_uri": "https://localhost:8080/",
          "height": 248
        }
      },
      "source": [
        "plot_tree(myTree);      #sample คือ ข้อมูลหลุดมากี่ตัว, value คือ คลาส 1 50 คลาส 2 50 คลาส 3 50, entropy คือ ค่าที่เราคำนวณ gain"
      ],
      "execution_count": 15,
      "outputs": [
        {
          "output_type": "display_data",
          "data": {
            "image/png": "[encoded data removed]",
            "text/plain": [
              "<Figure size 432x288 with 1 Axes>"
            ]
          },
          "metadata": {
            "tags": [],
            "needs_background": "light"
          }
        }
      ]
    },
    {
      "cell_type": "code",
      "metadata": {
        "id": "ZTQ-5JFSs7b_"
      },
      "source": [
        ""
      ],
      "execution_count": null,
      "outputs": []
    }
  ]
}
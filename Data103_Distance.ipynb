{
  "nbformat": 4,
  "nbformat_minor": 0,
  "metadata": {
    "colab": {
      "name": "Data103 Distance.ipynb",
      "provenance": [],
      "authorship_tag": "ABX9TyNG8tVU7Vy7lt5k6lAWs5FI",
      "include_colab_link": true
    },
    "kernelspec": {
      "name": "python3",
      "display_name": "Python 3"
    }
  },
  "cells": [
    {
      "cell_type": "markdown",
      "metadata": {
        "id": "view-in-github",
        "colab_type": "text"
      },
      "source": [
        "<a href=\"https://colab.research.google.com/github/iam-fern/DPDM/blob/master/Data103_Distance.ipynb\" target=\"_parent\"><img src=\"https://colab.research.google.com/assets/colab-badge.svg\" alt=\"Open In Colab\"/></a>"
      ]
    },
    {
      "cell_type": "code",
      "metadata": {
        "id": "LI3i6hcRvrLZ",
        "colab_type": "code",
        "colab": {}
      },
      "source": [
        "import numpy as np      #libraly ที่ทำงานเกี่ยวกับตัวเลข เป็น data arrray นั่นก็คือเมทริกซ์"
      ],
      "execution_count": null,
      "outputs": []
    },
    {
      "cell_type": "code",
      "metadata": {
        "id": "2wRipyumv9Q4",
        "colab_type": "code",
        "colab": {
          "base_uri": "https://localhost:8080/",
          "height": 50
        },
        "outputId": "2d710af5-38f2-4e62-8cd4-d2f75c24e7c8"
      },
      "source": [
        "A = np.array([[1, 2, 3], [4, 5, 6]])\n",
        "A"
      ],
      "execution_count": null,
      "outputs": [
        {
          "output_type": "execute_result",
          "data": {
            "text/plain": [
              "array([[1, 2, 3],\n",
              "       [4, 5, 6]])"
            ]
          },
          "metadata": {
            "tags": []
          },
          "execution_count": 4
        }
      ]
    },
    {
      "cell_type": "code",
      "metadata": {
        "id": "pwPaL-2AwHE2",
        "colab_type": "code",
        "colab": {
          "base_uri": "https://localhost:8080/",
          "height": 67
        },
        "outputId": "0805c1c2-b95f-408d-9ac5-ab909a688e2b"
      },
      "source": [
        "A.T                    "
      ],
      "execution_count": null,
      "outputs": [
        {
          "output_type": "execute_result",
          "data": {
            "text/plain": [
              "array([[1, 4],\n",
              "       [2, 5],\n",
              "       [3, 6]])"
            ]
          },
          "metadata": {
            "tags": []
          },
          "execution_count": 5
        }
      ]
    },
    {
      "cell_type": "code",
      "metadata": {
        "id": "BkrNWduEwZk3",
        "colab_type": "code",
        "colab": {
          "base_uri": "https://localhost:8080/",
          "height": 50
        },
        "outputId": "a498a36c-02cc-4172-a8c9-8da0df416091"
      },
      "source": [
        "A.dot(A.T)"
      ],
      "execution_count": null,
      "outputs": [
        {
          "output_type": "execute_result",
          "data": {
            "text/plain": [
              "array([[14, 32],\n",
              "       [32, 77]])"
            ]
          },
          "metadata": {
            "tags": []
          },
          "execution_count": 6
        }
      ]
    },
    {
      "cell_type": "markdown",
      "metadata": {
        "id": "vAV43MiDxZTT",
        "colab_type": "text"
      },
      "source": [
        "# Array slicing"
      ]
    },
    {
      "cell_type": "code",
      "metadata": {
        "id": "oLQVsjuOwvfV",
        "colab_type": "code",
        "colab": {
          "base_uri": "https://localhost:8080/",
          "height": 34
        },
        "outputId": "684f6864-b461-47f1-941e-626cfa7b37dd"
      },
      "source": [
        "A[0, 1]                     #ค่าที่อยู่แถวที่ 0 หลักที่ 1 อันนี้คือชี้ 1 ค่า"
      ],
      "execution_count": null,
      "outputs": [
        {
          "output_type": "execute_result",
          "data": {
            "text/plain": [
              "2"
            ]
          },
          "metadata": {
            "tags": []
          },
          "execution_count": 8
        }
      ]
    },
    {
      "cell_type": "code",
      "metadata": {
        "id": "zYsJtxKiyaSA",
        "colab_type": "code",
        "colab": {
          "base_uri": "https://localhost:8080/",
          "height": 50
        },
        "outputId": "830a1798-24d9-420e-ffe6-9b968a87c3cc"
      },
      "source": [
        "A"
      ],
      "execution_count": null,
      "outputs": [
        {
          "output_type": "execute_result",
          "data": {
            "text/plain": [
              "array([[1, 2, 3],\n",
              "       [4, 5, 6]])"
            ]
          },
          "metadata": {
            "tags": []
          },
          "execution_count": 10
        }
      ]
    },
    {
      "cell_type": "code",
      "metadata": {
        "id": "RD8aB9Y0w7dn",
        "colab_type": "code",
        "colab": {
          "base_uri": "https://localhost:8080/",
          "height": 50
        },
        "outputId": "33447989-aac0-4b76-872e-c8364f897cb4"
      },
      "source": [
        "A[:, :2]                     #ข้างหน้าคือแถว หลังคือหลัก อันนี้คือเอาทุกแถว จากตัวแรก และจากหลักแรกถึงหลักที่ 2"
      ],
      "execution_count": null,
      "outputs": [
        {
          "output_type": "execute_result",
          "data": {
            "text/plain": [
              "array([[1, 2],\n",
              "       [4, 5]])"
            ]
          },
          "metadata": {
            "tags": []
          },
          "execution_count": 14
        }
      ]
    },
    {
      "cell_type": "code",
      "metadata": {
        "id": "GrACHu-yxvcD",
        "colab_type": "code",
        "colab": {
          "base_uri": "https://localhost:8080/",
          "height": 34
        },
        "outputId": "b2f4e2c0-b230-44a9-b03e-4aaafbe539b4"
      },
      "source": [
        "A[1, 1:] "
      ],
      "execution_count": null,
      "outputs": [
        {
          "output_type": "execute_result",
          "data": {
            "text/plain": [
              "array([5, 6])"
            ]
          },
          "metadata": {
            "tags": []
          },
          "execution_count": 15
        }
      ]
    },
    {
      "cell_type": "markdown",
      "metadata": {
        "id": "gtyPym5R0Snu",
        "colab_type": "text"
      },
      "source": [
        "# Distance matrix (Manhattan)"
      ]
    },
    {
      "cell_type": "code",
      "metadata": {
        "id": "_HoL-yesyzfj",
        "colab_type": "code",
        "colab": {
          "base_uri": "https://localhost:8080/",
          "height": 84
        },
        "outputId": "dd569b05-aa0a-44d7-90a2-244977ff650c"
      },
      "source": [
        "data = np.array([[1, 2], [3, 5], [2, 0], [4, 5]])\n",
        "data"
      ],
      "execution_count": null,
      "outputs": [
        {
          "output_type": "execute_result",
          "data": {
            "text/plain": [
              "array([[1, 2],\n",
              "       [3, 5],\n",
              "       [2, 0],\n",
              "       [4, 5]])"
            ]
          },
          "metadata": {
            "tags": []
          },
          "execution_count": 19
        }
      ]
    },
    {
      "cell_type": "code",
      "metadata": {
        "id": "m9m4uGUG0eb4",
        "colab_type": "code",
        "colab": {}
      },
      "source": [
        "def Manhattan_dist(dp1, dp2):\n",
        "  distX = abs(dp1[0]-dp2[0])\n",
        "  distY = abs(dp1[1]-dp2[1])\n",
        "  return distX + distY"
      ],
      "execution_count": null,
      "outputs": []
    },
    {
      "cell_type": "code",
      "metadata": {
        "id": "M_m-DYSa1EXp",
        "colab_type": "code",
        "colab": {
          "base_uri": "https://localhost:8080/",
          "height": 84
        },
        "outputId": "7314ac41-d596-4746-f28d-0bfde1f99076"
      },
      "source": [
        "np.zeros((4,4))           #zeros คือการสร้าง array ขนาด 4*4"
      ],
      "execution_count": null,
      "outputs": [
        {
          "output_type": "execute_result",
          "data": {
            "text/plain": [
              "array([[0., 0., 0., 0.],\n",
              "       [0., 0., 0., 0.],\n",
              "       [0., 0., 0., 0.],\n",
              "       [0., 0., 0., 0.]])"
            ]
          },
          "metadata": {
            "tags": []
          },
          "execution_count": 22
        }
      ]
    },
    {
      "cell_type": "code",
      "metadata": {
        "id": "H7vEVr8x10Xr",
        "colab_type": "code",
        "colab": {
          "base_uri": "https://localhost:8080/",
          "height": 84
        },
        "outputId": "195776e3-0228-491e-b544-317c1025ff4c"
      },
      "source": [
        "7*np.ones((4,4))          #ones คือสามารถเปลี่ยนเป็นอะไรก็ได้"
      ],
      "execution_count": null,
      "outputs": [
        {
          "output_type": "execute_result",
          "data": {
            "text/plain": [
              "array([[7., 7., 7., 7.],\n",
              "       [7., 7., 7., 7.],\n",
              "       [7., 7., 7., 7.],\n",
              "       [7., 7., 7., 7.]])"
            ]
          },
          "metadata": {
            "tags": []
          },
          "execution_count": 25
        }
      ]
    },
    {
      "cell_type": "code",
      "metadata": {
        "id": "KF9u60Yz2LTQ",
        "colab_type": "code",
        "colab": {
          "base_uri": "https://localhost:8080/",
          "height": 84
        },
        "outputId": "1afbe1d4-a400-49df-bb47-0c98094132ce"
      },
      "source": [
        "dist_mat_man = np.zeros((4,4))\n",
        "dist_mat_man"
      ],
      "execution_count": null,
      "outputs": [
        {
          "output_type": "execute_result",
          "data": {
            "text/plain": [
              "array([[0., 0., 0., 0.],\n",
              "       [0., 0., 0., 0.],\n",
              "       [0., 0., 0., 0.],\n",
              "       [0., 0., 0., 0.]])"
            ]
          },
          "metadata": {
            "tags": []
          },
          "execution_count": 26
        }
      ]
    },
    {
      "cell_type": "code",
      "metadata": {
        "id": "7zApIPVJ2X3b",
        "colab_type": "code",
        "colab": {
          "base_uri": "https://localhost:8080/",
          "height": 84
        },
        "outputId": "b6aadd03-abd1-40bc-c1ec-925231af7549"
      },
      "source": [
        "for i in range(4):\n",
        "  for j in range(4):\n",
        "    dist_mat_man[i,j] = Manhattan_dist(data[i,:], data[j,:])\n",
        "\n",
        "dist_mat_man"
      ],
      "execution_count": null,
      "outputs": [
        {
          "output_type": "execute_result",
          "data": {
            "text/plain": [
              "array([[0., 5., 3., 6.],\n",
              "       [5., 0., 6., 1.],\n",
              "       [3., 6., 0., 7.],\n",
              "       [6., 1., 7., 0.]])"
            ]
          },
          "metadata": {
            "tags": []
          },
          "execution_count": 27
        }
      ]
    },
    {
      "cell_type": "markdown",
      "metadata": {
        "id": "GVFdiP7ezAWE",
        "colab_type": "text"
      },
      "source": [
        "## HW6 : สร้าง Distance metrix (Euclidean) ของ data matrix ใน slides โดยสร้าง function สำหรับคำนวณ Euclidean Distance"
      ]
    },
    {
      "cell_type": "code",
      "metadata": {
        "id": "ShQOru7Z4Tqa",
        "colab_type": "code",
        "colab": {}
      },
      "source": [
        "import math\n",
        "import numpy as np"
      ],
      "execution_count": null,
      "outputs": []
    },
    {
      "cell_type": "code",
      "metadata": {
        "id": "bKzgYvshz5Fe",
        "colab_type": "code",
        "colab": {
          "base_uri": "https://localhost:8080/",
          "height": 84
        },
        "outputId": "a5eef8e7-f705-4f74-c7a4-a5dce5159210"
      },
      "source": [
        "data1 = np.array([[1,2], [3,5], [2,0], [4,5]])\n",
        "data1"
      ],
      "execution_count": null,
      "outputs": [
        {
          "output_type": "execute_result",
          "data": {
            "text/plain": [
              "array([[1, 2],\n",
              "       [3, 5],\n",
              "       [2, 0],\n",
              "       [4, 5]])"
            ]
          },
          "metadata": {
            "tags": []
          },
          "execution_count": 10
        }
      ]
    },
    {
      "cell_type": "code",
      "metadata": {
        "id": "WmfpxMzM4eN8",
        "colab_type": "code",
        "colab": {}
      },
      "source": [
        "def Euclidean_dist(dp1, dp2):\n",
        "  distX = abs(dp1[0]-dp2[0])\n",
        "  distY = abs(dp1[1]-dp2[1])\n",
        "  return math.sqrt(distX**2 + distY**2)"
      ],
      "execution_count": null,
      "outputs": []
    },
    {
      "cell_type": "code",
      "metadata": {
        "id": "TIbFXayG5cFt",
        "colab_type": "code",
        "colab": {
          "base_uri": "https://localhost:8080/",
          "height": 84
        },
        "outputId": "b2f6087b-4ee2-4337-c72e-65b4ed6291fa"
      },
      "source": [
        "np.zeros((4,4))                    #zeros คือการสร้าง array เปล่าขนาด 4*4"
      ],
      "execution_count": null,
      "outputs": [
        {
          "output_type": "execute_result",
          "data": {
            "text/plain": [
              "array([[0., 0., 0., 0.],\n",
              "       [0., 0., 0., 0.],\n",
              "       [0., 0., 0., 0.],\n",
              "       [0., 0., 0., 0.]])"
            ]
          },
          "metadata": {
            "tags": []
          },
          "execution_count": 18
        }
      ]
    },
    {
      "cell_type": "code",
      "metadata": {
        "id": "irbaqGZW5lXP",
        "colab_type": "code",
        "colab": {
          "base_uri": "https://localhost:8080/",
          "height": 84
        },
        "outputId": "8bbb444b-bedf-4f9e-d53b-853e5e44aeaa"
      },
      "source": [
        "dist_euclidean = np.zeros((4,4))\n",
        "dist_euclidean"
      ],
      "execution_count": null,
      "outputs": [
        {
          "output_type": "execute_result",
          "data": {
            "text/plain": [
              "array([[0., 0., 0., 0.],\n",
              "       [0., 0., 0., 0.],\n",
              "       [0., 0., 0., 0.],\n",
              "       [0., 0., 0., 0.]])"
            ]
          },
          "metadata": {
            "tags": []
          },
          "execution_count": 19
        }
      ]
    },
    {
      "cell_type": "code",
      "metadata": {
        "id": "FKCxDpTD6Lu0",
        "colab_type": "code",
        "colab": {
          "base_uri": "https://localhost:8080/",
          "height": 84
        },
        "outputId": "63fa4ac8-50a6-4836-c3a4-f18212fe8344"
      },
      "source": [
        "for i in range(4):\n",
        "    for j in range(4):\n",
        "        dist_euclidean[i,j] = Euclidean_dist(data1[i,:],data1[j,:]) \n",
        "\n",
        "dist_euclidean"
      ],
      "execution_count": null,
      "outputs": [
        {
          "output_type": "execute_result",
          "data": {
            "text/plain": [
              "array([[0.        , 3.60555128, 2.23606798, 4.24264069],\n",
              "       [3.60555128, 0.        , 5.09901951, 1.        ],\n",
              "       [2.23606798, 5.09901951, 0.        , 5.38516481],\n",
              "       [4.24264069, 1.        , 5.38516481, 0.        ]])"
            ]
          },
          "metadata": {
            "tags": []
          },
          "execution_count": 20
        }
      ]
    },
    {
      "cell_type": "markdown",
      "metadata": {
        "id": "K5HJpPKer6z9",
        "colab_type": "text"
      },
      "source": [
        "## Distance of nominal or categorical features\n",
        "(extra) Python data structure (Dictionary)\n",
        "\n",
        "ตัวข้างหน้าคือ index ตัวข้างหลังคือ จะเก็บอะไร"
      ]
    },
    {
      "cell_type": "code",
      "metadata": {
        "id": "4sQg-wMRt-Vj",
        "colab_type": "code",
        "colab": {
          "base_uri": "https://localhost:8080/",
          "height": 34
        },
        "outputId": "911cd815-79ae-4df2-beba-74ca2ff43178"
      },
      "source": [
        "d_A = {'a':1,2:3,3:5,'cat':6}\n",
        "d_A"
      ],
      "execution_count": 1,
      "outputs": [
        {
          "output_type": "execute_result",
          "data": {
            "text/plain": [
              "{2: 3, 3: 5, 'a': 1, 'cat': 6}"
            ]
          },
          "metadata": {
            "tags": []
          },
          "execution_count": 1
        }
      ]
    },
    {
      "cell_type": "code",
      "metadata": {
        "id": "leZQpsB1uNe3",
        "colab_type": "code",
        "colab": {
          "base_uri": "https://localhost:8080/",
          "height": 34
        },
        "outputId": "0cfdc2cc-6b51-4ffa-916f-151d446b6226"
      },
      "source": [
        "d_A['cat']              #index cat"
      ],
      "execution_count": 2,
      "outputs": [
        {
          "output_type": "execute_result",
          "data": {
            "text/plain": [
              "6"
            ]
          },
          "metadata": {
            "tags": []
          },
          "execution_count": 2
        }
      ]
    },
    {
      "cell_type": "code",
      "metadata": {
        "id": "P7yh_QEBuWkW",
        "colab_type": "code",
        "colab": {}
      },
      "source": [
        "d_A['dag'] = [1,2,3,4,5]              #เพิ่มค่าใน dictionary ชื่อ = [ค่าที่จะเพิ่มเข้าไป]"
      ],
      "execution_count": 3,
      "outputs": []
    },
    {
      "cell_type": "code",
      "metadata": {
        "id": "0BvWTlhpunrq",
        "colab_type": "code",
        "colab": {
          "base_uri": "https://localhost:8080/",
          "height": 34
        },
        "outputId": "1bafb3e3-6fa5-4d09-bb15-640ad8bad007"
      },
      "source": [
        "d_A"
      ],
      "execution_count": 4,
      "outputs": [
        {
          "output_type": "execute_result",
          "data": {
            "text/plain": [
              "{2: 3, 3: 5, 'a': 1, 'cat': 6, 'dag': [1, 2, 3, 4, 5]}"
            ]
          },
          "metadata": {
            "tags": []
          },
          "execution_count": 4
        }
      ]
    },
    {
      "cell_type": "markdown",
      "metadata": {
        "id": "G73CPolXuz5z",
        "colab_type": "text"
      },
      "source": [
        "สร้างตาราง Datafrema โดยใช้ pandas"
      ]
    },
    {
      "cell_type": "code",
      "metadata": {
        "id": "ocOWpsJfuwhN",
        "colab_type": "code",
        "colab": {}
      },
      "source": [
        "import pandas as pd"
      ],
      "execution_count": 6,
      "outputs": []
    },
    {
      "cell_type": "code",
      "metadata": {
        "id": "JEKiMbFZvBRQ",
        "colab_type": "code",
        "colab": {
          "base_uri": "https://localhost:8080/",
          "height": 34
        },
        "outputId": "c4015fe8-59d0-452f-fc6c-e8e7e2a917f5"
      },
      "source": [
        "data_dict = {'color':['red','red','green'],                 #color = {'red','green','blue'}\n",
        "             'status':['single','married','single']}        #status = {'single','married','divorced'}\n",
        "data_dict"
      ],
      "execution_count": 7,
      "outputs": [
        {
          "output_type": "execute_result",
          "data": {
            "text/plain": [
              "{'color': ['red', 'red', 'green'], 'status': ['single', 'married', 'single']}"
            ]
          },
          "metadata": {
            "tags": []
          },
          "execution_count": 7
        }
      ]
    },
    {
      "cell_type": "code",
      "metadata": {
        "id": "oaNpWMRyvINS",
        "colab_type": "code",
        "colab": {
          "base_uri": "https://localhost:8080/",
          "height": 136
        },
        "outputId": "fea66029-49a6-4ecd-89ee-0a91063838b6"
      },
      "source": [
        "data_pd = pd.DataFrame.from_dict(data_dict)\n",
        "data_pd"
      ],
      "execution_count": 8,
      "outputs": [
        {
          "output_type": "execute_result",
          "data": {
            "text/html": [
              "<div>\n",
              "<style scoped>\n",
              "    .dataframe tbody tr th:only-of-type {\n",
              "        vertical-align: middle;\n",
              "    }\n",
              "\n",
              "    .dataframe tbody tr th {\n",
              "        vertical-align: top;\n",
              "    }\n",
              "\n",
              "    .dataframe thead th {\n",
              "        text-align: right;\n",
              "    }\n",
              "</style>\n",
              "<table border=\"1\" class=\"dataframe\">\n",
              "  <thead>\n",
              "    <tr style=\"text-align: right;\">\n",
              "      <th></th>\n",
              "      <th>color</th>\n",
              "      <th>status</th>\n",
              "    </tr>\n",
              "  </thead>\n",
              "  <tbody>\n",
              "    <tr>\n",
              "      <th>0</th>\n",
              "      <td>red</td>\n",
              "      <td>single</td>\n",
              "    </tr>\n",
              "    <tr>\n",
              "      <th>1</th>\n",
              "      <td>red</td>\n",
              "      <td>married</td>\n",
              "    </tr>\n",
              "    <tr>\n",
              "      <th>2</th>\n",
              "      <td>green</td>\n",
              "      <td>single</td>\n",
              "    </tr>\n",
              "  </tbody>\n",
              "</table>\n",
              "</div>"
            ],
            "text/plain": [
              "   color   status\n",
              "0    red   single\n",
              "1    red  married\n",
              "2  green   single"
            ]
          },
          "metadata": {
            "tags": []
          },
          "execution_count": 8
        }
      ]
    },
    {
      "cell_type": "markdown",
      "metadata": {
        "id": "Tt0IAQHyvV8Z",
        "colab_type": "text"
      },
      "source": [
        "\n",
        "## Categorical feature distance method #1"
      ]
    },
    {
      "cell_type": "code",
      "metadata": {
        "id": "7GwzGRBjvP6Y",
        "colab_type": "code",
        "colab": {
          "base_uri": "https://localhost:8080/",
          "height": 34
        },
        "outputId": "94fd665a-3afe-441e-8c38-511a299c6f89"
      },
      "source": [
        "list(data_pd.iloc[1,:])                   #[1,:] แถวที่ 1 ทุกหลัก"
      ],
      "execution_count": 9,
      "outputs": [
        {
          "output_type": "execute_result",
          "data": {
            "text/plain": [
              "['red', 'married']"
            ]
          },
          "metadata": {
            "tags": []
          },
          "execution_count": 9
        }
      ]
    },
    {
      "cell_type": "code",
      "metadata": {
        "id": "0wo_Ghpvv7uD",
        "colab_type": "code",
        "colab": {}
      },
      "source": [
        "def meth1_dist(data1,data2):\n",
        "    N = 0\n",
        "    print(f'data1 is {data1} and data2 is {data2}')\n",
        "    for i in range(len(data1)):\n",
        "        print(f'feature{i} of data1 is {data1[i]} , feature{i} of data2 is {data2[i]}')\n",
        "        if data1[i] != data2[i]:\n",
        "            N = N+1\n",
        "            print(f'   {data1[i]} is not equal {data2[i]} : updated ({N})')\n",
        "        else:\n",
        "            print(f'   {data1[i]} is equal {data2[i]}')\n",
        "    return N/len(data1)"
      ],
      "execution_count": 10,
      "outputs": []
    },
    {
      "cell_type": "code",
      "metadata": {
        "id": "SQSmPUAVwA4R",
        "colab_type": "code",
        "colab": {
          "base_uri": "https://localhost:8080/",
          "height": 118
        },
        "outputId": "dd40ca3f-8112-45e5-d1d5-ce14828e30b0"
      },
      "source": [
        "meth1_dist(list(data_pd.iloc[0,:]),list(data_pd.iloc[1,:]))"
      ],
      "execution_count": 11,
      "outputs": [
        {
          "output_type": "stream",
          "text": [
            "data1 is ['red', 'single'] and data2 is ['red', 'married']\n",
            "feature0 of data1 is red , feature0 of data2 is red\n",
            "   red is equal red\n",
            "feature1 of data1 is single , feature1 of data2 is married\n",
            "   single is not equal married : updated (1)\n"
          ],
          "name": "stdout"
        },
        {
          "output_type": "execute_result",
          "data": {
            "text/plain": [
              "0.5"
            ]
          },
          "metadata": {
            "tags": []
          },
          "execution_count": 11
        }
      ]
    },
    {
      "cell_type": "markdown",
      "metadata": {
        "id": "g2VYf6yLwOlZ",
        "colab_type": "text"
      },
      "source": [
        "## EX7 calculate distance matrix of data_pd using meth1_dist()\n",
        "หา distance metrix"
      ]
    },
    {
      "cell_type": "code",
      "metadata": {
        "id": "SYVjxVZxwbjE",
        "colab_type": "code",
        "colab": {
          "base_uri": "https://localhost:8080/",
          "height": 67
        },
        "outputId": "013db82a-5402-4ccd-d18a-13a70637e51d"
      },
      "source": [
        "dist_data_pd = np.ones((3, 3))             #วิธีที่2\n",
        "dist_data_pd"
      ],
      "execution_count": 15,
      "outputs": [
        {
          "output_type": "execute_result",
          "data": {
            "text/plain": [
              "array([[1., 1., 1.],\n",
              "       [1., 1., 1.],\n",
              "       [1., 1., 1.]])"
            ]
          },
          "metadata": {
            "tags": []
          },
          "execution_count": 15
        }
      ]
    },
    {
      "cell_type": "code",
      "metadata": {
        "id": "fcUBvSwfwu-w",
        "colab_type": "code",
        "colab": {
          "base_uri": "https://localhost:8080/",
          "height": 823
        },
        "outputId": "2ddefb34-bcfd-4d80-9e41-eecdb7361196"
      },
      "source": [
        "for i in range(3):\n",
        "  for j in range(3):\n",
        "    dist_data_pd[i,j] = meth1_dist(list(data_pd.iloc[i,:]),list(data_pd.iloc[j,:]))\n",
        "\n",
        "dist_data_pd"
      ],
      "execution_count": 16,
      "outputs": [
        {
          "output_type": "stream",
          "text": [
            "data1 is ['red', 'single'] and data2 is ['red', 'single']\n",
            "feature0 of data1 is red , feature0 of data2 is red\n",
            "   red is equal red\n",
            "feature1 of data1 is single , feature1 of data2 is single\n",
            "   single is equal single\n",
            "data1 is ['red', 'single'] and data2 is ['red', 'married']\n",
            "feature0 of data1 is red , feature0 of data2 is red\n",
            "   red is equal red\n",
            "feature1 of data1 is single , feature1 of data2 is married\n",
            "   single is not equal married : updated (1)\n",
            "data1 is ['red', 'single'] and data2 is ['green', 'single']\n",
            "feature0 of data1 is red , feature0 of data2 is green\n",
            "   red is not equal green : updated (1)\n",
            "feature1 of data1 is single , feature1 of data2 is single\n",
            "   single is equal single\n",
            "data1 is ['red', 'married'] and data2 is ['red', 'single']\n",
            "feature0 of data1 is red , feature0 of data2 is red\n",
            "   red is equal red\n",
            "feature1 of data1 is married , feature1 of data2 is single\n",
            "   married is not equal single : updated (1)\n",
            "data1 is ['red', 'married'] and data2 is ['red', 'married']\n",
            "feature0 of data1 is red , feature0 of data2 is red\n",
            "   red is equal red\n",
            "feature1 of data1 is married , feature1 of data2 is married\n",
            "   married is equal married\n",
            "data1 is ['red', 'married'] and data2 is ['green', 'single']\n",
            "feature0 of data1 is red , feature0 of data2 is green\n",
            "   red is not equal green : updated (1)\n",
            "feature1 of data1 is married , feature1 of data2 is single\n",
            "   married is not equal single : updated (2)\n",
            "data1 is ['green', 'single'] and data2 is ['red', 'single']\n",
            "feature0 of data1 is green , feature0 of data2 is red\n",
            "   green is not equal red : updated (1)\n",
            "feature1 of data1 is single , feature1 of data2 is single\n",
            "   single is equal single\n",
            "data1 is ['green', 'single'] and data2 is ['red', 'married']\n",
            "feature0 of data1 is green , feature0 of data2 is red\n",
            "   green is not equal red : updated (1)\n",
            "feature1 of data1 is single , feature1 of data2 is married\n",
            "   single is not equal married : updated (2)\n",
            "data1 is ['green', 'single'] and data2 is ['green', 'single']\n",
            "feature0 of data1 is green , feature0 of data2 is green\n",
            "   green is equal green\n",
            "feature1 of data1 is single , feature1 of data2 is single\n",
            "   single is equal single\n"
          ],
          "name": "stdout"
        },
        {
          "output_type": "execute_result",
          "data": {
            "text/plain": [
              "array([[0. , 0.5, 0.5],\n",
              "       [0.5, 0. , 1. ],\n",
              "       [0.5, 1. , 0. ]])"
            ]
          },
          "metadata": {
            "tags": []
          },
          "execution_count": 16
        }
      ]
    },
    {
      "cell_type": "markdown",
      "metadata": {
        "id": "d8KHsomGsEmi",
        "colab_type": "text"
      },
      "source": [
        "## Categorical feature distance method #2"
      ]
    },
    {
      "cell_type": "code",
      "metadata": {
        "id": "9EA9AYiGuDM7",
        "colab_type": "code",
        "colab": {}
      },
      "source": [
        "import math\n",
        "import numpy as np\n",
        "import pandas as pd"
      ],
      "execution_count": 14,
      "outputs": []
    },
    {
      "cell_type": "code",
      "metadata": {
        "id": "Qpjr5Z4ysv3v",
        "colab_type": "code",
        "colab": {
          "base_uri": "https://localhost:8080/",
          "height": 166
        },
        "outputId": "18f0d626-0923-4032-cd01-f991e3d56e49"
      },
      "source": [
        "data_dict2 = {'color' : ['red','red','green', 'blue'],\n",
        "             'status' : ['single','married','single', 'divorced']}\n",
        "data_pd2 = pd.DataFrame.from_dict(data_dict2)\n",
        "data_pd2"
      ],
      "execution_count": 17,
      "outputs": [
        {
          "output_type": "execute_result",
          "data": {
            "text/html": [
              "<div>\n",
              "<style scoped>\n",
              "    .dataframe tbody tr th:only-of-type {\n",
              "        vertical-align: middle;\n",
              "    }\n",
              "\n",
              "    .dataframe tbody tr th {\n",
              "        vertical-align: top;\n",
              "    }\n",
              "\n",
              "    .dataframe thead th {\n",
              "        text-align: right;\n",
              "    }\n",
              "</style>\n",
              "<table border=\"1\" class=\"dataframe\">\n",
              "  <thead>\n",
              "    <tr style=\"text-align: right;\">\n",
              "      <th></th>\n",
              "      <th>color</th>\n",
              "      <th>status</th>\n",
              "    </tr>\n",
              "  </thead>\n",
              "  <tbody>\n",
              "    <tr>\n",
              "      <th>0</th>\n",
              "      <td>red</td>\n",
              "      <td>single</td>\n",
              "    </tr>\n",
              "    <tr>\n",
              "      <th>1</th>\n",
              "      <td>red</td>\n",
              "      <td>married</td>\n",
              "    </tr>\n",
              "    <tr>\n",
              "      <th>2</th>\n",
              "      <td>green</td>\n",
              "      <td>single</td>\n",
              "    </tr>\n",
              "    <tr>\n",
              "      <th>3</th>\n",
              "      <td>blue</td>\n",
              "      <td>divorced</td>\n",
              "    </tr>\n",
              "  </tbody>\n",
              "</table>\n",
              "</div>"
            ],
            "text/plain": [
              "   color    status\n",
              "0    red    single\n",
              "1    red   married\n",
              "2  green    single\n",
              "3   blue  divorced"
            ]
          },
          "metadata": {
            "tags": []
          },
          "execution_count": 17
        }
      ]
    },
    {
      "cell_type": "code",
      "metadata": {
        "id": "9-kcB0rw6XuE",
        "colab_type": "code",
        "colab": {
          "base_uri": "https://localhost:8080/",
          "height": 136
        },
        "outputId": "0d6b45f2-efaf-4db9-9efe-6723702dbc5f"
      },
      "source": [
        "data_pd_binary = pd.get_dummies(data_pd2)\n",
        "data_pd_binary = data_pd_binary.iloc[:3, :]\n",
        "data_pd_binary"
      ],
      "execution_count": 18,
      "outputs": [
        {
          "output_type": "execute_result",
          "data": {
            "text/html": [
              "<div>\n",
              "<style scoped>\n",
              "    .dataframe tbody tr th:only-of-type {\n",
              "        vertical-align: middle;\n",
              "    }\n",
              "\n",
              "    .dataframe tbody tr th {\n",
              "        vertical-align: top;\n",
              "    }\n",
              "\n",
              "    .dataframe thead th {\n",
              "        text-align: right;\n",
              "    }\n",
              "</style>\n",
              "<table border=\"1\" class=\"dataframe\">\n",
              "  <thead>\n",
              "    <tr style=\"text-align: right;\">\n",
              "      <th></th>\n",
              "      <th>color_blue</th>\n",
              "      <th>color_green</th>\n",
              "      <th>color_red</th>\n",
              "      <th>status_divorced</th>\n",
              "      <th>status_married</th>\n",
              "      <th>status_single</th>\n",
              "    </tr>\n",
              "  </thead>\n",
              "  <tbody>\n",
              "    <tr>\n",
              "      <th>0</th>\n",
              "      <td>0</td>\n",
              "      <td>0</td>\n",
              "      <td>1</td>\n",
              "      <td>0</td>\n",
              "      <td>0</td>\n",
              "      <td>1</td>\n",
              "    </tr>\n",
              "    <tr>\n",
              "      <th>1</th>\n",
              "      <td>0</td>\n",
              "      <td>0</td>\n",
              "      <td>1</td>\n",
              "      <td>0</td>\n",
              "      <td>1</td>\n",
              "      <td>0</td>\n",
              "    </tr>\n",
              "    <tr>\n",
              "      <th>2</th>\n",
              "      <td>0</td>\n",
              "      <td>1</td>\n",
              "      <td>0</td>\n",
              "      <td>0</td>\n",
              "      <td>0</td>\n",
              "      <td>1</td>\n",
              "    </tr>\n",
              "  </tbody>\n",
              "</table>\n",
              "</div>"
            ],
            "text/plain": [
              "   color_blue  color_green  ...  status_married  status_single\n",
              "0           0            0  ...               0              1\n",
              "1           0            0  ...               1              0\n",
              "2           0            1  ...               0              1\n",
              "\n",
              "[3 rows x 6 columns]"
            ]
          },
          "metadata": {
            "tags": []
          },
          "execution_count": 18
        }
      ]
    },
    {
      "cell_type": "code",
      "metadata": {
        "id": "mW-2LlGHr0f3",
        "colab_type": "code",
        "colab": {}
      },
      "source": [
        "def binary_sym_dist(data1, data2):\n",
        "  r = 0\n",
        "  s = 0\n",
        "  t = 0\n",
        "  q = 0\n",
        "  for i in range(len(data1)):\n",
        "    if data1[i] != data2[i]:\n",
        "      if data1[i] == 0:\n",
        "        s = s + 1\n",
        "      else:\n",
        "        r = r + 1\n",
        "    else:\n",
        "      if data1[i] == 0:\n",
        "        t = t + 1\n",
        "      else:\n",
        "        q = q + 1\n",
        "  return (r+s)/(r+s+t+q)"
      ],
      "execution_count": 19,
      "outputs": []
    },
    {
      "cell_type": "code",
      "metadata": {
        "id": "1TwapmAaybGx",
        "colab_type": "code",
        "colab": {
          "base_uri": "https://localhost:8080/",
          "height": 34
        },
        "outputId": "6d77bc67-3da8-436d-8241-4f686dca6f88"
      },
      "source": [
        "binary_sym_dist(list(data_pd_binary.iloc[0, :]), list(data_pd_binary.iloc[1, :]))"
      ],
      "execution_count": 20,
      "outputs": [
        {
          "output_type": "execute_result",
          "data": {
            "text/plain": [
              "0.3333333333333333"
            ]
          },
          "metadata": {
            "tags": []
          },
          "execution_count": 20
        }
      ]
    },
    {
      "cell_type": "markdown",
      "metadata": {
        "id": "nAYi7x2By2bJ",
        "colab_type": "text"
      },
      "source": [
        "## HW8 : Calculate distance matrix of data_pd_binary using binary_sym_dist()"
      ]
    },
    {
      "cell_type": "code",
      "metadata": {
        "id": "64rXvym60rdC",
        "colab_type": "code",
        "colab": {
          "base_uri": "https://localhost:8080/",
          "height": 67
        },
        "outputId": "2185b2d4-3f32-40f2-ab78-b264e5b3985d"
      },
      "source": [
        "dist_data_pd2 = np.zeros((3,3)) \n",
        "dist_data_pd2"
      ],
      "execution_count": 21,
      "outputs": [
        {
          "output_type": "execute_result",
          "data": {
            "text/plain": [
              "array([[0., 0., 0.],\n",
              "       [0., 0., 0.],\n",
              "       [0., 0., 0.]])"
            ]
          },
          "metadata": {
            "tags": []
          },
          "execution_count": 21
        }
      ]
    },
    {
      "cell_type": "code",
      "metadata": {
        "id": "l-guYVcPywzL",
        "colab_type": "code",
        "colab": {
          "base_uri": "https://localhost:8080/",
          "height": 67
        },
        "outputId": "b2b8192a-22be-4bd9-99a5-33b016a14e62"
      },
      "source": [
        "for i in range(3):\n",
        "  for j in range(3):\n",
        "    dist_data_pd2[i,j] = binary_sym_dist(list(data_pd_binary.iloc[i, :]), list(data_pd_binary.iloc[j, :]))\n",
        "dist_data_pd2"
      ],
      "execution_count": 22,
      "outputs": [
        {
          "output_type": "execute_result",
          "data": {
            "text/plain": [
              "array([[0.        , 0.33333333, 0.33333333],\n",
              "       [0.33333333, 0.        , 0.66666667],\n",
              "       [0.33333333, 0.66666667, 0.        ]])"
            ]
          },
          "metadata": {
            "tags": []
          },
          "execution_count": 22
        }
      ]
    },
    {
      "cell_type": "code",
      "metadata": {
        "id": "1X4z0Mv40mcc",
        "colab_type": "code",
        "colab": {}
      },
      "source": [
        ""
      ],
      "execution_count": null,
      "outputs": []
    }
  ]
}
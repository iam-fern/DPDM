{
  "nbformat": 4,
  "nbformat_minor": 0,
  "metadata": {
    "colab": {
      "name": "Data103 Distance.ipynb",
      "provenance": [],
      "authorship_tag": "ABX9TyNPNjAqSzBYjNvAtxlzKTOE",
      "include_colab_link": true
    },
    "kernelspec": {
      "name": "python3",
      "display_name": "Python 3"
    }
  },
  "cells": [
    {
      "cell_type": "markdown",
      "metadata": {
        "id": "view-in-github",
        "colab_type": "text"
      },
      "source": [
        "<a href=\"https://colab.research.google.com/github/iam-fern/DPDM/blob/master/Data103_Distance.ipynb\" target=\"_parent\"><img src=\"https://colab.research.google.com/assets/colab-badge.svg\" alt=\"Open In Colab\"/></a>"
      ]
    },
    {
      "cell_type": "code",
      "metadata": {
        "id": "LI3i6hcRvrLZ",
        "colab_type": "code",
        "colab": {}
      },
      "source": [
        "import numpy as np      #libraly ที่ทำงานเกี่ยวกับตัวเลข เป็น data arrray นั่นก็คือเมทริกซ์"
      ],
      "execution_count": null,
      "outputs": []
    },
    {
      "cell_type": "code",
      "metadata": {
        "id": "2wRipyumv9Q4",
        "colab_type": "code",
        "colab": {
          "base_uri": "https://localhost:8080/",
          "height": 50
        },
        "outputId": "2d710af5-38f2-4e62-8cd4-d2f75c24e7c8"
      },
      "source": [
        "A = np.array([[1, 2, 3], [4, 5, 6]])\n",
        "A"
      ],
      "execution_count": null,
      "outputs": [
        {
          "output_type": "execute_result",
          "data": {
            "text/plain": [
              "array([[1, 2, 3],\n",
              "       [4, 5, 6]])"
            ]
          },
          "metadata": {
            "tags": []
          },
          "execution_count": 4
        }
      ]
    },
    {
      "cell_type": "code",
      "metadata": {
        "id": "pwPaL-2AwHE2",
        "colab_type": "code",
        "colab": {
          "base_uri": "https://localhost:8080/",
          "height": 67
        },
        "outputId": "0805c1c2-b95f-408d-9ac5-ab909a688e2b"
      },
      "source": [
        "A.T                    "
      ],
      "execution_count": null,
      "outputs": [
        {
          "output_type": "execute_result",
          "data": {
            "text/plain": [
              "array([[1, 4],\n",
              "       [2, 5],\n",
              "       [3, 6]])"
            ]
          },
          "metadata": {
            "tags": []
          },
          "execution_count": 5
        }
      ]
    },
    {
      "cell_type": "code",
      "metadata": {
        "id": "BkrNWduEwZk3",
        "colab_type": "code",
        "colab": {
          "base_uri": "https://localhost:8080/",
          "height": 50
        },
        "outputId": "a498a36c-02cc-4172-a8c9-8da0df416091"
      },
      "source": [
        "A.dot(A.T)"
      ],
      "execution_count": null,
      "outputs": [
        {
          "output_type": "execute_result",
          "data": {
            "text/plain": [
              "array([[14, 32],\n",
              "       [32, 77]])"
            ]
          },
          "metadata": {
            "tags": []
          },
          "execution_count": 6
        }
      ]
    },
    {
      "cell_type": "markdown",
      "metadata": {
        "id": "vAV43MiDxZTT",
        "colab_type": "text"
      },
      "source": [
        "# Array slicing"
      ]
    },
    {
      "cell_type": "code",
      "metadata": {
        "id": "oLQVsjuOwvfV",
        "colab_type": "code",
        "colab": {
          "base_uri": "https://localhost:8080/",
          "height": 34
        },
        "outputId": "684f6864-b461-47f1-941e-626cfa7b37dd"
      },
      "source": [
        "A[0, 1]                     #ค่าที่อยู่แถวที่ 0 หลักที่ 1 อันนี้คือชี้ 1 ค่า"
      ],
      "execution_count": null,
      "outputs": [
        {
          "output_type": "execute_result",
          "data": {
            "text/plain": [
              "2"
            ]
          },
          "metadata": {
            "tags": []
          },
          "execution_count": 8
        }
      ]
    },
    {
      "cell_type": "code",
      "metadata": {
        "id": "zYsJtxKiyaSA",
        "colab_type": "code",
        "colab": {
          "base_uri": "https://localhost:8080/",
          "height": 50
        },
        "outputId": "830a1798-24d9-420e-ffe6-9b968a87c3cc"
      },
      "source": [
        "A"
      ],
      "execution_count": null,
      "outputs": [
        {
          "output_type": "execute_result",
          "data": {
            "text/plain": [
              "array([[1, 2, 3],\n",
              "       [4, 5, 6]])"
            ]
          },
          "metadata": {
            "tags": []
          },
          "execution_count": 10
        }
      ]
    },
    {
      "cell_type": "code",
      "metadata": {
        "id": "RD8aB9Y0w7dn",
        "colab_type": "code",
        "colab": {
          "base_uri": "https://localhost:8080/",
          "height": 50
        },
        "outputId": "33447989-aac0-4b76-872e-c8364f897cb4"
      },
      "source": [
        "A[:, :2]                     #ข้างหน้าคือแถว หลังคือหลัก อันนี้คือเอาทุกแถว จากตัวแรก และจากหลักแรกถึงหลักที่ 2"
      ],
      "execution_count": null,
      "outputs": [
        {
          "output_type": "execute_result",
          "data": {
            "text/plain": [
              "array([[1, 2],\n",
              "       [4, 5]])"
            ]
          },
          "metadata": {
            "tags": []
          },
          "execution_count": 14
        }
      ]
    },
    {
      "cell_type": "code",
      "metadata": {
        "id": "GrACHu-yxvcD",
        "colab_type": "code",
        "colab": {
          "base_uri": "https://localhost:8080/",
          "height": 34
        },
        "outputId": "b2f4e2c0-b230-44a9-b03e-4aaafbe539b4"
      },
      "source": [
        "A[1, 1:] "
      ],
      "execution_count": null,
      "outputs": [
        {
          "output_type": "execute_result",
          "data": {
            "text/plain": [
              "array([5, 6])"
            ]
          },
          "metadata": {
            "tags": []
          },
          "execution_count": 15
        }
      ]
    },
    {
      "cell_type": "markdown",
      "metadata": {
        "id": "gtyPym5R0Snu",
        "colab_type": "text"
      },
      "source": [
        "# Distance matrix (Manhattan)"
      ]
    },
    {
      "cell_type": "code",
      "metadata": {
        "id": "_HoL-yesyzfj",
        "colab_type": "code",
        "colab": {
          "base_uri": "https://localhost:8080/",
          "height": 84
        },
        "outputId": "dd569b05-aa0a-44d7-90a2-244977ff650c"
      },
      "source": [
        "data = np.array([[1, 2], [3, 5], [2, 0], [4, 5]])\n",
        "data"
      ],
      "execution_count": null,
      "outputs": [
        {
          "output_type": "execute_result",
          "data": {
            "text/plain": [
              "array([[1, 2],\n",
              "       [3, 5],\n",
              "       [2, 0],\n",
              "       [4, 5]])"
            ]
          },
          "metadata": {
            "tags": []
          },
          "execution_count": 19
        }
      ]
    },
    {
      "cell_type": "code",
      "metadata": {
        "id": "m9m4uGUG0eb4",
        "colab_type": "code",
        "colab": {}
      },
      "source": [
        "def Manhattan_dist(dp1, dp2):\n",
        "  distX = abs(dp1[0]-dp2[0])\n",
        "  distY = abs(dp1[1]-dp2[1])\n",
        "  return distX + distY"
      ],
      "execution_count": null,
      "outputs": []
    },
    {
      "cell_type": "code",
      "metadata": {
        "id": "M_m-DYSa1EXp",
        "colab_type": "code",
        "colab": {
          "base_uri": "https://localhost:8080/",
          "height": 84
        },
        "outputId": "7314ac41-d596-4746-f28d-0bfde1f99076"
      },
      "source": [
        "np.zeros((4,4))           #zeros คือการสร้าง array ขนาด 4*4"
      ],
      "execution_count": null,
      "outputs": [
        {
          "output_type": "execute_result",
          "data": {
            "text/plain": [
              "array([[0., 0., 0., 0.],\n",
              "       [0., 0., 0., 0.],\n",
              "       [0., 0., 0., 0.],\n",
              "       [0., 0., 0., 0.]])"
            ]
          },
          "metadata": {
            "tags": []
          },
          "execution_count": 22
        }
      ]
    },
    {
      "cell_type": "code",
      "metadata": {
        "id": "H7vEVr8x10Xr",
        "colab_type": "code",
        "colab": {
          "base_uri": "https://localhost:8080/",
          "height": 84
        },
        "outputId": "195776e3-0228-491e-b544-317c1025ff4c"
      },
      "source": [
        "7*np.ones((4,4))          #ones คือสามารถเปลี่ยนเป็นอะไรก็ได้"
      ],
      "execution_count": null,
      "outputs": [
        {
          "output_type": "execute_result",
          "data": {
            "text/plain": [
              "array([[7., 7., 7., 7.],\n",
              "       [7., 7., 7., 7.],\n",
              "       [7., 7., 7., 7.],\n",
              "       [7., 7., 7., 7.]])"
            ]
          },
          "metadata": {
            "tags": []
          },
          "execution_count": 25
        }
      ]
    },
    {
      "cell_type": "code",
      "metadata": {
        "id": "KF9u60Yz2LTQ",
        "colab_type": "code",
        "colab": {
          "base_uri": "https://localhost:8080/",
          "height": 84
        },
        "outputId": "1afbe1d4-a400-49df-bb47-0c98094132ce"
      },
      "source": [
        "dist_mat_man = np.zeros((4,4))\n",
        "dist_mat_man"
      ],
      "execution_count": null,
      "outputs": [
        {
          "output_type": "execute_result",
          "data": {
            "text/plain": [
              "array([[0., 0., 0., 0.],\n",
              "       [0., 0., 0., 0.],\n",
              "       [0., 0., 0., 0.],\n",
              "       [0., 0., 0., 0.]])"
            ]
          },
          "metadata": {
            "tags": []
          },
          "execution_count": 26
        }
      ]
    },
    {
      "cell_type": "code",
      "metadata": {
        "id": "7zApIPVJ2X3b",
        "colab_type": "code",
        "colab": {
          "base_uri": "https://localhost:8080/",
          "height": 84
        },
        "outputId": "b6aadd03-abd1-40bc-c1ec-925231af7549"
      },
      "source": [
        "for i in range(4):\n",
        "  for j in range(4):\n",
        "    dist_mat_man[i,j] = Manhattan_dist(data[i,:], data[j,:])\n",
        "\n",
        "dist_mat_man"
      ],
      "execution_count": null,
      "outputs": [
        {
          "output_type": "execute_result",
          "data": {
            "text/plain": [
              "array([[0., 5., 3., 6.],\n",
              "       [5., 0., 6., 1.],\n",
              "       [3., 6., 0., 7.],\n",
              "       [6., 1., 7., 0.]])"
            ]
          },
          "metadata": {
            "tags": []
          },
          "execution_count": 27
        }
      ]
    },
    {
      "cell_type": "markdown",
      "metadata": {
        "id": "GVFdiP7ezAWE",
        "colab_type": "text"
      },
      "source": [
        "## HW6 : สร้าง Distance metrix (Euclidean) ของ data matrix ใน slides โดยสร้าง function สำหรับคำนวณ Euclidean Distance"
      ]
    },
    {
      "cell_type": "code",
      "metadata": {
        "id": "ShQOru7Z4Tqa",
        "colab_type": "code",
        "colab": {}
      },
      "source": [
        "import math\n",
        "import numpy as np"
      ],
      "execution_count": null,
      "outputs": []
    },
    {
      "cell_type": "code",
      "metadata": {
        "id": "bKzgYvshz5Fe",
        "colab_type": "code",
        "colab": {
          "base_uri": "https://localhost:8080/",
          "height": 84
        },
        "outputId": "a5eef8e7-f705-4f74-c7a4-a5dce5159210"
      },
      "source": [
        "data1 = np.array([[1,2], [3,5], [2,0], [4,5]])\n",
        "data1"
      ],
      "execution_count": null,
      "outputs": [
        {
          "output_type": "execute_result",
          "data": {
            "text/plain": [
              "array([[1, 2],\n",
              "       [3, 5],\n",
              "       [2, 0],\n",
              "       [4, 5]])"
            ]
          },
          "metadata": {
            "tags": []
          },
          "execution_count": 10
        }
      ]
    },
    {
      "cell_type": "code",
      "metadata": {
        "id": "WmfpxMzM4eN8",
        "colab_type": "code",
        "colab": {}
      },
      "source": [
        "def Euclidean_dist(dp1, dp2):\n",
        "  distX = abs(dp1[0]-dp2[0])\n",
        "  distY = abs(dp1[1]-dp2[1])\n",
        "  return math.sqrt(distX**2 + distY**2)"
      ],
      "execution_count": null,
      "outputs": []
    },
    {
      "cell_type": "code",
      "metadata": {
        "id": "TIbFXayG5cFt",
        "colab_type": "code",
        "colab": {
          "base_uri": "https://localhost:8080/",
          "height": 84
        },
        "outputId": "b2f6087b-4ee2-4337-c72e-65b4ed6291fa"
      },
      "source": [
        "np.zeros((4,4))                    #zeros คือการสร้าง array เปล่าขนาด 4*4"
      ],
      "execution_count": null,
      "outputs": [
        {
          "output_type": "execute_result",
          "data": {
            "text/plain": [
              "array([[0., 0., 0., 0.],\n",
              "       [0., 0., 0., 0.],\n",
              "       [0., 0., 0., 0.],\n",
              "       [0., 0., 0., 0.]])"
            ]
          },
          "metadata": {
            "tags": []
          },
          "execution_count": 18
        }
      ]
    },
    {
      "cell_type": "code",
      "metadata": {
        "id": "irbaqGZW5lXP",
        "colab_type": "code",
        "colab": {
          "base_uri": "https://localhost:8080/",
          "height": 84
        },
        "outputId": "8bbb444b-bedf-4f9e-d53b-853e5e44aeaa"
      },
      "source": [
        "dist_euclidean = np.zeros((4,4))\n",
        "dist_euclidean"
      ],
      "execution_count": null,
      "outputs": [
        {
          "output_type": "execute_result",
          "data": {
            "text/plain": [
              "array([[0., 0., 0., 0.],\n",
              "       [0., 0., 0., 0.],\n",
              "       [0., 0., 0., 0.],\n",
              "       [0., 0., 0., 0.]])"
            ]
          },
          "metadata": {
            "tags": []
          },
          "execution_count": 19
        }
      ]
    },
    {
      "cell_type": "code",
      "metadata": {
        "id": "FKCxDpTD6Lu0",
        "colab_type": "code",
        "colab": {
          "base_uri": "https://localhost:8080/",
          "height": 84
        },
        "outputId": "63fa4ac8-50a6-4836-c3a4-f18212fe8344"
      },
      "source": [
        "for i in range(4):\n",
        "    for j in range(4):\n",
        "        dist_euclidean[i,j] = Euclidean_dist(data1[i,:],data1[j,:]) \n",
        "\n",
        "dist_euclidean"
      ],
      "execution_count": null,
      "outputs": [
        {
          "output_type": "execute_result",
          "data": {
            "text/plain": [
              "array([[0.        , 3.60555128, 2.23606798, 4.24264069],\n",
              "       [3.60555128, 0.        , 5.09901951, 1.        ],\n",
              "       [2.23606798, 5.09901951, 0.        , 5.38516481],\n",
              "       [4.24264069, 1.        , 5.38516481, 0.        ]])"
            ]
          },
          "metadata": {
            "tags": []
          },
          "execution_count": 20
        }
      ]
    },
    {
      "cell_type": "markdown",
      "metadata": {
        "id": "K5HJpPKer6z9",
        "colab_type": "text"
      },
      "source": [
        "# ไปพิมเพิ่ม"
      ]
    },
    {
      "cell_type": "markdown",
      "metadata": {
        "id": "d8KHsomGsEmi",
        "colab_type": "text"
      },
      "source": [
        "## Categorical feature distance method #2"
      ]
    },
    {
      "cell_type": "code",
      "metadata": {
        "id": "9EA9AYiGuDM7",
        "colab_type": "code",
        "colab": {}
      },
      "source": [
        "import math\n",
        "import numpy as np\n",
        "import pandas as pd"
      ],
      "execution_count": 13,
      "outputs": []
    },
    {
      "cell_type": "code",
      "metadata": {
        "id": "Qpjr5Z4ysv3v",
        "colab_type": "code",
        "colab": {
          "base_uri": "https://localhost:8080/",
          "height": 166
        },
        "outputId": "e98c9b61-0b40-42fc-a267-86bff5e9b807"
      },
      "source": [
        "data_dict2 = {'color' : ['red','red','green', 'blue'],\n",
        "             'status' : ['single','married','single', 'divorced']}\n",
        "data_pd2 = pd.DataFrame.from_dict(data_dict2)\n",
        "data_pd2"
      ],
      "execution_count": 15,
      "outputs": [
        {
          "output_type": "execute_result",
          "data": {
            "text/html": [
              "<div>\n",
              "<style scoped>\n",
              "    .dataframe tbody tr th:only-of-type {\n",
              "        vertical-align: middle;\n",
              "    }\n",
              "\n",
              "    .dataframe tbody tr th {\n",
              "        vertical-align: top;\n",
              "    }\n",
              "\n",
              "    .dataframe thead th {\n",
              "        text-align: right;\n",
              "    }\n",
              "</style>\n",
              "<table border=\"1\" class=\"dataframe\">\n",
              "  <thead>\n",
              "    <tr style=\"text-align: right;\">\n",
              "      <th></th>\n",
              "      <th>color</th>\n",
              "      <th>status</th>\n",
              "    </tr>\n",
              "  </thead>\n",
              "  <tbody>\n",
              "    <tr>\n",
              "      <th>0</th>\n",
              "      <td>red</td>\n",
              "      <td>single</td>\n",
              "    </tr>\n",
              "    <tr>\n",
              "      <th>1</th>\n",
              "      <td>red</td>\n",
              "      <td>married</td>\n",
              "    </tr>\n",
              "    <tr>\n",
              "      <th>2</th>\n",
              "      <td>green</td>\n",
              "      <td>single</td>\n",
              "    </tr>\n",
              "    <tr>\n",
              "      <th>3</th>\n",
              "      <td>blue</td>\n",
              "      <td>divorced</td>\n",
              "    </tr>\n",
              "  </tbody>\n",
              "</table>\n",
              "</div>"
            ],
            "text/plain": [
              "   color    status\n",
              "0    red    single\n",
              "1    red   married\n",
              "2  green    single\n",
              "3   blue  divorced"
            ]
          },
          "metadata": {
            "tags": []
          },
          "execution_count": 15
        }
      ]
    },
    {
      "cell_type": "code",
      "metadata": {
        "id": "9-kcB0rw6XuE",
        "colab_type": "code",
        "colab": {
          "base_uri": "https://localhost:8080/",
          "height": 136
        },
        "outputId": "868f0cc1-e002-4aed-d386-b6ebe2adce26"
      },
      "source": [
        "data_pd_binary = pd.get_dummies(data_pd2)\n",
        "data_pd_binary = data_pd_binary.iloc[:3, :]\n",
        "data_pd_binary"
      ],
      "execution_count": 21,
      "outputs": [
        {
          "output_type": "execute_result",
          "data": {
            "text/html": [
              "<div>\n",
              "<style scoped>\n",
              "    .dataframe tbody tr th:only-of-type {\n",
              "        vertical-align: middle;\n",
              "    }\n",
              "\n",
              "    .dataframe tbody tr th {\n",
              "        vertical-align: top;\n",
              "    }\n",
              "\n",
              "    .dataframe thead th {\n",
              "        text-align: right;\n",
              "    }\n",
              "</style>\n",
              "<table border=\"1\" class=\"dataframe\">\n",
              "  <thead>\n",
              "    <tr style=\"text-align: right;\">\n",
              "      <th></th>\n",
              "      <th>color_blue</th>\n",
              "      <th>color_green</th>\n",
              "      <th>color_red</th>\n",
              "      <th>status_divorced</th>\n",
              "      <th>status_married</th>\n",
              "      <th>status_single</th>\n",
              "    </tr>\n",
              "  </thead>\n",
              "  <tbody>\n",
              "    <tr>\n",
              "      <th>0</th>\n",
              "      <td>0</td>\n",
              "      <td>0</td>\n",
              "      <td>1</td>\n",
              "      <td>0</td>\n",
              "      <td>0</td>\n",
              "      <td>1</td>\n",
              "    </tr>\n",
              "    <tr>\n",
              "      <th>1</th>\n",
              "      <td>0</td>\n",
              "      <td>0</td>\n",
              "      <td>1</td>\n",
              "      <td>0</td>\n",
              "      <td>1</td>\n",
              "      <td>0</td>\n",
              "    </tr>\n",
              "    <tr>\n",
              "      <th>2</th>\n",
              "      <td>0</td>\n",
              "      <td>1</td>\n",
              "      <td>0</td>\n",
              "      <td>0</td>\n",
              "      <td>0</td>\n",
              "      <td>1</td>\n",
              "    </tr>\n",
              "  </tbody>\n",
              "</table>\n",
              "</div>"
            ],
            "text/plain": [
              "   color_blue  color_green  ...  status_married  status_single\n",
              "0           0            0  ...               0              1\n",
              "1           0            0  ...               1              0\n",
              "2           0            1  ...               0              1\n",
              "\n",
              "[3 rows x 6 columns]"
            ]
          },
          "metadata": {
            "tags": []
          },
          "execution_count": 21
        }
      ]
    },
    {
      "cell_type": "code",
      "metadata": {
        "id": "mW-2LlGHr0f3",
        "colab_type": "code",
        "colab": {}
      },
      "source": [
        "def binary_sym_dist(data1, data2):\n",
        "  r = 0\n",
        "  s = 0\n",
        "  t = 0\n",
        "  q = 0\n",
        "  for i in range(len(data1)):\n",
        "    if data1[i] != data2[i]:\n",
        "      if data1[i] == 0:\n",
        "        s = s + 1\n",
        "      else:\n",
        "        r = r + 1\n",
        "    else:\n",
        "      if data1[i] == 0:\n",
        "        t = t + 1\n",
        "      else:\n",
        "        q = q + 1\n",
        "  return (r+s)/(r+s+t+q)"
      ],
      "execution_count": 22,
      "outputs": []
    },
    {
      "cell_type": "code",
      "metadata": {
        "id": "1TwapmAaybGx",
        "colab_type": "code",
        "colab": {
          "base_uri": "https://localhost:8080/",
          "height": 34
        },
        "outputId": "e04269e3-9c67-4508-b40c-5de1231df8fa"
      },
      "source": [
        "binary_sym_dist(list(data_pd_binary.iloc[0, :]), list(data_pd_binary.iloc[1, :]))"
      ],
      "execution_count": 23,
      "outputs": [
        {
          "output_type": "execute_result",
          "data": {
            "text/plain": [
              "0.3333333333333333"
            ]
          },
          "metadata": {
            "tags": []
          },
          "execution_count": 23
        }
      ]
    },
    {
      "cell_type": "markdown",
      "metadata": {
        "id": "nAYi7x2By2bJ",
        "colab_type": "text"
      },
      "source": [
        "## HW8 : Calculate distance matrix of data_pd_binary using binary_sym_dist()"
      ]
    },
    {
      "cell_type": "code",
      "metadata": {
        "id": "64rXvym60rdC",
        "colab_type": "code",
        "colab": {
          "base_uri": "https://localhost:8080/",
          "height": 67
        },
        "outputId": "f0fb8b83-d9cb-4e4c-976b-f1283caf982b"
      },
      "source": [
        "dist_data_pd2 = np.zeros((3,3)) \n",
        "dist_data_pd2"
      ],
      "execution_count": 31,
      "outputs": [
        {
          "output_type": "execute_result",
          "data": {
            "text/plain": [
              "array([[0., 0., 0.],\n",
              "       [0., 0., 0.],\n",
              "       [0., 0., 0.]])"
            ]
          },
          "metadata": {
            "tags": []
          },
          "execution_count": 31
        }
      ]
    },
    {
      "cell_type": "code",
      "metadata": {
        "id": "l-guYVcPywzL",
        "colab_type": "code",
        "colab": {
          "base_uri": "https://localhost:8080/",
          "height": 67
        },
        "outputId": "639d36a9-3f6b-4514-b63d-3f80b622ae84"
      },
      "source": [
        "for i in range(3):\n",
        "  for j in range(3):\n",
        "    dist_data_pd2[i,j] = binary_sym_dist(list(data_pd_binary.iloc[i, :]), list(data_pd_binary.iloc[j, :]))\n",
        "dist_data_pd2"
      ],
      "execution_count": 32,
      "outputs": [
        {
          "output_type": "execute_result",
          "data": {
            "text/plain": [
              "array([[0.        , 0.33333333, 0.33333333],\n",
              "       [0.33333333, 0.        , 0.66666667],\n",
              "       [0.33333333, 0.66666667, 0.        ]])"
            ]
          },
          "metadata": {
            "tags": []
          },
          "execution_count": 32
        }
      ]
    },
    {
      "cell_type": "code",
      "metadata": {
        "id": "1X4z0Mv40mcc",
        "colab_type": "code",
        "colab": {}
      },
      "source": [
        ""
      ],
      "execution_count": null,
      "outputs": []
    }
  ]
}